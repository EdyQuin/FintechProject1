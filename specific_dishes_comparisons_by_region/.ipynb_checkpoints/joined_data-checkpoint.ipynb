{
 "cells": [
  {
   "cell_type": "code",
   "execution_count": 135,
   "id": "8efd9032",
   "metadata": {},
   "outputs": [],
   "source": [
    "# Imports\n",
    "import panel as pn\n",
    "pn.extension (\"plotly\")\n",
    "import plotly.express as px\n",
    "import pandas as pd\n",
    "import hvplot.pandas as plt\n",
    "import numpy as np\n",
    "import os\n",
    "from pathlib import Path\n",
    "from dotenv import load_dotenv"
   ]
  },
  {
   "cell_type": "code",
   "execution_count": 136,
   "id": "ade72ff1",
   "metadata": {},
   "outputs": [],
   "source": [
    "# Read the census data into a Pandas DataFrame\n",
    "file_path = Path(\"miami/SEAFOODMiami.csv\")\n",
    "seafood_data = pd.read_csv(file_path)\n",
    "\n",
    "# Read the census data into a Pandas DataFrame\n",
    "file_path = Path(\"miami/SUSHIROLLSMiami.csv\")\n",
    "sushi_rolls_data = pd.read_csv(file_path)\n",
    "\n",
    "# Read the census data into a Pandas DataFrame\n",
    "file_path = Path(\"miami/VEGGIEMiami.csv\")\n",
    "veggie_data = pd.read_csv(file_path)\n",
    "\n",
    "# Read the census data into a Pandas DataFrame\n",
    "file_path = Path(\"miami/pasta_miami.csv\")\n",
    "pasta_data = pd.read_csv(file_path)\n",
    "\n",
    "# Read the census data into a Pandas DataFrame\n",
    "file_path = Path(\"miami/pizza_miami.csv\")\n",
    "pizza_data = pd.read_csv(file_path)"
   ]
  },
  {
   "cell_type": "code",
   "execution_count": 137,
   "id": "ba4c703d",
   "metadata": {},
   "outputs": [
    {
     "data": {
      "text/html": [
       "<div>\n",
       "<style scoped>\n",
       "    .dataframe tbody tr th:only-of-type {\n",
       "        vertical-align: middle;\n",
       "    }\n",
       "\n",
       "    .dataframe tbody tr th {\n",
       "        vertical-align: top;\n",
       "    }\n",
       "\n",
       "    .dataframe thead th {\n",
       "        text-align: right;\n",
       "    }\n",
       "</style>\n",
       "<table border=\"1\" class=\"dataframe\">\n",
       "  <thead>\n",
       "    <tr style=\"text-align: right;\">\n",
       "      <th></th>\n",
       "      <th>Week</th>\n",
       "      <th>ceviche_Miami_Ft_Lauderdale_FL</th>\n",
       "      <th>salmon_Miami_Ft_Lauderdale_FL</th>\n",
       "    </tr>\n",
       "  </thead>\n",
       "  <tbody>\n",
       "    <tr>\n",
       "      <th>0</th>\n",
       "      <td>2/5/2017</td>\n",
       "      <td>35</td>\n",
       "      <td>56</td>\n",
       "    </tr>\n",
       "    <tr>\n",
       "      <th>1</th>\n",
       "      <td>2/12/2017</td>\n",
       "      <td>21</td>\n",
       "      <td>50</td>\n",
       "    </tr>\n",
       "    <tr>\n",
       "      <th>2</th>\n",
       "      <td>2/19/2017</td>\n",
       "      <td>19</td>\n",
       "      <td>45</td>\n",
       "    </tr>\n",
       "    <tr>\n",
       "      <th>3</th>\n",
       "      <td>2/26/2017</td>\n",
       "      <td>20</td>\n",
       "      <td>45</td>\n",
       "    </tr>\n",
       "    <tr>\n",
       "      <th>4</th>\n",
       "      <td>3/5/2017</td>\n",
       "      <td>39</td>\n",
       "      <td>54</td>\n",
       "    </tr>\n",
       "  </tbody>\n",
       "</table>\n",
       "</div>"
      ],
      "text/plain": [
       "        Week  ceviche_Miami_Ft_Lauderdale_FL  salmon_Miami_Ft_Lauderdale_FL\n",
       "0   2/5/2017                              35                             56\n",
       "1  2/12/2017                              21                             50\n",
       "2  2/19/2017                              19                             45\n",
       "3  2/26/2017                              20                             45\n",
       "4   3/5/2017                              39                             54"
      ]
     },
     "execution_count": 137,
     "metadata": {},
     "output_type": "execute_result"
    }
   ],
   "source": [
    "seafood_data.head()"
   ]
  },
  {
   "cell_type": "code",
   "execution_count": 138,
   "id": "1aa5449c",
   "metadata": {},
   "outputs": [
    {
     "data": {},
     "metadata": {},
     "output_type": "display_data"
    },
    {
     "data": {},
     "metadata": {},
     "output_type": "display_data"
    },
    {
     "data": {
      "application/vnd.holoviews_exec.v0+json": "",
      "text/html": [
       "<div id='7169'>\n",
       "\n",
       "\n",
       "\n",
       "\n",
       "\n",
       "  <div class=\"bk-root\" id=\"676650f0-be55-47d5-aaad-2fbb3a1fa350\" data-root-id=\"7169\"></div>\n",
       "</div>\n",
       "<script type=\"application/javascript\">(function(root) {\n",
       "  function embed_document(root) {\n",
       "    var docs_json = {\"9a0b8919-60b0-49d4-8c03-5f9318df664e\":{\"defs\":[{\"extends\":null,\"module\":null,\"name\":\"ReactiveHTML1\",\"overrides\":[],\"properties\":[]},{\"extends\":null,\"module\":null,\"name\":\"FlexBox1\",\"overrides\":[],\"properties\":[{\"default\":\"flex-start\",\"kind\":null,\"name\":\"align_content\"},{\"default\":\"flex-start\",\"kind\":null,\"name\":\"align_items\"},{\"default\":\"row\",\"kind\":null,\"name\":\"flex_direction\"},{\"default\":\"wrap\",\"kind\":null,\"name\":\"flex_wrap\"},{\"default\":\"flex-start\",\"kind\":null,\"name\":\"justify_content\"}]},{\"extends\":null,\"module\":null,\"name\":\"TemplateActions1\",\"overrides\":[],\"properties\":[{\"default\":0,\"kind\":null,\"name\":\"open_modal\"},{\"default\":0,\"kind\":null,\"name\":\"close_modal\"}]},{\"extends\":null,\"module\":null,\"name\":\"MaterialTemplateActions1\",\"overrides\":[],\"properties\":[{\"default\":0,\"kind\":null,\"name\":\"open_modal\"},{\"default\":0,\"kind\":null,\"name\":\"close_modal\"}]}],\"roots\":{\"references\":[{\"attributes\":{},\"id\":\"7180\",\"type\":\"LinearScale\"},{\"attributes\":{},\"id\":\"7217\",\"type\":\"AllLabels\"},{\"attributes\":{},\"id\":\"7189\",\"type\":\"SaveTool\"},{\"attributes\":{},\"id\":\"7191\",\"type\":\"WheelZoomTool\"},{\"attributes\":{\"children\":[{\"id\":\"7246\"}],\"css_classes\":[\"panel-widget-box\"],\"margin\":[5,5,5,5],\"name\":\"WidgetBox19451\"},\"id\":\"7245\",\"type\":\"Column\"},{\"attributes\":{\"overlay\":{\"id\":\"7194\"}},\"id\":\"7192\",\"type\":\"BoxZoomTool\"},{\"attributes\":{\"axis_label\":\"\",\"coordinates\":null,\"formatter\":{\"id\":\"7216\"},\"group\":null,\"major_label_policy\":{\"id\":\"7217\"},\"ticker\":{\"id\":\"7186\"}},\"id\":\"7185\",\"type\":\"LinearAxis\"},{\"attributes\":{\"below\":[{\"id\":\"7182\"}],\"center\":[{\"id\":\"7184\"},{\"id\":\"7188\"}],\"height\":800,\"left\":[{\"id\":\"7185\"}],\"margin\":[5,5,5,5],\"min_border_bottom\":10,\"min_border_left\":10,\"min_border_right\":10,\"min_border_top\":10,\"renderers\":[{\"id\":\"7209\"}],\"sizing_mode\":\"fixed\",\"title\":{\"id\":\"7174\"},\"toolbar\":{\"id\":\"7195\"},\"x_range\":{\"id\":\"7170\"},\"x_scale\":{\"id\":\"7178\"},\"y_range\":{\"id\":\"7171\"},\"y_scale\":{\"id\":\"7180\"}},\"id\":\"7173\",\"subtype\":\"Figure\",\"type\":\"Plot\"},{\"attributes\":{},\"id\":\"7193\",\"type\":\"ResetTool\"},{\"attributes\":{\"source\":{\"id\":\"7203\"}},\"id\":\"7210\",\"type\":\"CDSView\"},{\"attributes\":{\"bottom\":{\"value\":0},\"fill_alpha\":{\"value\":1.0},\"fill_color\":{\"field\":\"Variable\",\"transform\":{\"id\":\"7202\"}},\"hatch_alpha\":{\"value\":1.0},\"hatch_color\":{\"field\":\"Variable\",\"transform\":{\"id\":\"7202\"}},\"hatch_scale\":{\"value\":12.0},\"hatch_weight\":{\"value\":1.0},\"line_alpha\":{\"value\":1.0},\"line_cap\":{\"value\":\"butt\"},\"line_color\":{\"value\":\"black\"},\"line_dash\":{\"value\":[]},\"line_dash_offset\":{\"value\":0},\"line_join\":{\"value\":\"bevel\"},\"line_width\":{\"value\":1},\"top\":{\"field\":\"value\"},\"width\":{\"value\":0.8},\"x\":{\"field\":\"xoffsets\"}},\"id\":\"7211\",\"type\":\"VBar\"},{\"attributes\":{\"end\":58.1,\"reset_end\":58.1,\"reset_start\":0.0,\"tags\":[[[\"value\",\"value\",null]]]},\"id\":\"7171\",\"type\":\"Range1d\"},{\"attributes\":{},\"id\":\"7178\",\"type\":\"CategoricalScale\"},{\"attributes\":{\"data\":{\"Variable\":[\"ceviche_Miami_Ft_Lauderdale_FL\",\"salmon_Miami_Ft_Lauderdale_FL\"],\"index\":[\"0\",\"0\"],\"value\":[35,56],\"xoffsets\":[[\"0\",\"ceviche_Miami_Ft_Lauderdale_FL\"],[\"0\",\"salmon_Miami_Ft_Lauderdale_FL\"]]},\"selected\":{\"id\":\"7204\"},\"selection_policy\":{\"id\":\"7231\"}},\"id\":\"7203\",\"type\":\"ColumnDataSource\"},{\"attributes\":{},\"id\":\"7186\",\"type\":\"BasicTicker\"},{\"attributes\":{\"coordinates\":null,\"data_source\":{\"id\":\"7203\"},\"glyph\":{\"id\":\"7206\"},\"group\":null,\"hover_glyph\":null,\"muted_glyph\":{\"id\":\"7208\"},\"nonselection_glyph\":{\"id\":\"7207\"},\"selection_glyph\":{\"id\":\"7211\"},\"view\":{\"id\":\"7210\"}},\"id\":\"7209\",\"type\":\"GlyphRenderer\"},{\"attributes\":{\"fill_alpha\":{\"value\":0.1},\"fill_color\":{\"field\":\"Variable\",\"transform\":{\"id\":\"7202\"}},\"hatch_alpha\":{\"value\":0.1},\"hatch_color\":{\"field\":\"Variable\",\"transform\":{\"id\":\"7202\"}},\"line_alpha\":{\"value\":0.1},\"top\":{\"field\":\"value\"},\"width\":{\"value\":0.8},\"x\":{\"field\":\"xoffsets\"}},\"id\":\"7207\",\"type\":\"VBar\"},{\"attributes\":{\"axis_label\":\"\",\"coordinates\":null,\"formatter\":{\"id\":\"7213\"},\"group\":null,\"major_label_orientation\":0.7853981633974483,\"major_label_policy\":{\"id\":\"7214\"},\"ticker\":{\"id\":\"7183\"}},\"id\":\"7182\",\"type\":\"CategoricalAxis\"},{\"attributes\":{\"axis\":{\"id\":\"7185\"},\"coordinates\":null,\"dimension\":1,\"grid_line_color\":null,\"group\":null,\"ticker\":null},\"id\":\"7188\",\"type\":\"Grid\"},{\"attributes\":{\"children\":[{\"id\":\"7245\"},{\"id\":\"7247\"}],\"margin\":[0,0,0,0],\"name\":\"Column19457\"},\"id\":\"7244\",\"type\":\"Column\"},{\"attributes\":{},\"id\":\"7216\",\"type\":\"BasicTickFormatter\"},{\"attributes\":{\"children\":[{\"id\":\"7173\"},{\"id\":\"7244\"}],\"margin\":[0,0,0,0],\"name\":\"Row19450\"},\"id\":\"7169\",\"type\":\"Row\"},{\"attributes\":{},\"id\":\"7204\",\"type\":\"Selection\"},{\"attributes\":{\"coordinates\":null,\"group\":null,\"text\":\"Week: 2/5/2017\",\"text_color\":\"black\",\"text_font_size\":\"12pt\"},\"id\":\"7174\",\"type\":\"Title\"},{\"attributes\":{},\"id\":\"7183\",\"type\":\"CategoricalTicker\"},{\"attributes\":{\"fill_color\":{\"field\":\"Variable\",\"transform\":{\"id\":\"7202\"}},\"hatch_color\":{\"field\":\"Variable\",\"transform\":{\"id\":\"7202\"}},\"top\":{\"field\":\"value\"},\"width\":{\"value\":0.8},\"x\":{\"field\":\"xoffsets\"}},\"id\":\"7206\",\"type\":\"VBar\"},{\"attributes\":{\"axis\":{\"id\":\"7182\"},\"coordinates\":null,\"grid_line_color\":null,\"group\":null,\"ticker\":null},\"id\":\"7184\",\"type\":\"Grid\"},{\"attributes\":{\"tools\":[{\"id\":\"7172\"},{\"id\":\"7189\"},{\"id\":\"7190\"},{\"id\":\"7191\"},{\"id\":\"7192\"},{\"id\":\"7193\"}]},\"id\":\"7195\",\"type\":\"Toolbar\"},{\"attributes\":{\"callback\":null,\"renderers\":[{\"id\":\"7209\"}],\"tags\":[\"hv_created\"],\"tooltips\":[[\"index\",\"@{index}\"],[\"Variable\",\"@{Variable}\"],[\"value\",\"@{value}\"]]},\"id\":\"7172\",\"type\":\"HoverTool\"},{\"attributes\":{},\"id\":\"7213\",\"type\":\"CategoricalTickFormatter\"},{\"attributes\":{\"margin\":[20,20,20,20],\"min_width\":250,\"options\":[\"2/5/2017\",\"2/12/2017\",\"2/19/2017\",\"2/26/2017\",\"3/5/2017\",\"3/12/2017\",\"3/19/2017\",\"3/26/2017\",\"4/2/2017\",\"4/9/2017\",\"4/16/2017\",\"4/23/2017\",\"4/30/2017\",\"5/7/2017\",\"5/14/2017\",\"5/21/2017\",\"5/28/2017\",\"6/4/2017\",\"6/11/2017\",\"6/18/2017\",\"6/25/2017\",\"7/2/2017\",\"7/9/2017\",\"7/16/2017\",\"7/23/2017\",\"7/30/2017\",\"8/6/2017\",\"8/13/2017\",\"8/20/2017\",\"8/27/2017\",\"9/3/2017\",\"9/10/2017\",\"9/17/2017\",\"9/24/2017\",\"10/1/2017\",\"10/8/2017\",\"10/15/2017\",\"10/22/2017\",\"10/29/2017\",\"11/5/2017\",\"11/12/2017\",\"11/19/2017\",\"11/26/2017\",\"12/3/2017\",\"12/10/2017\",\"12/17/2017\",\"12/24/2017\",\"12/31/2017\",\"1/7/2018\",\"1/14/2018\",\"1/21/2018\",\"1/28/2018\",\"2/4/2018\",\"2/11/2018\",\"2/18/2018\",\"2/25/2018\",\"3/4/2018\",\"3/11/2018\",\"3/18/2018\",\"3/25/2018\",\"4/1/2018\",\"4/8/2018\",\"4/15/2018\",\"4/22/2018\",\"4/29/2018\",\"5/6/2018\",\"5/13/2018\",\"5/20/2018\",\"5/27/2018\",\"6/3/2018\",\"6/10/2018\",\"6/17/2018\",\"6/24/2018\",\"7/1/2018\",\"7/8/2018\",\"7/15/2018\",\"7/22/2018\",\"7/29/2018\",\"8/5/2018\",\"8/12/2018\",\"8/19/2018\",\"8/26/2018\",\"9/2/2018\",\"9/9/2018\",\"9/16/2018\",\"9/23/2018\",\"9/30/2018\",\"10/7/2018\",\"10/14/2018\",\"10/21/2018\",\"10/28/2018\",\"11/4/2018\",\"11/11/2018\",\"11/18/2018\",\"11/25/2018\",\"12/2/2018\",\"12/9/2018\",\"12/16/2018\",\"12/23/2018\",\"12/30/2018\",\"1/6/2019\",\"1/13/2019\",\"1/20/2019\",\"1/27/2019\",\"2/3/2019\",\"2/10/2019\",\"2/17/2019\",\"2/24/2019\",\"3/3/2019\",\"3/10/2019\",\"3/17/2019\",\"3/24/2019\",\"3/31/2019\",\"4/7/2019\",\"4/14/2019\",\"4/21/2019\",\"4/28/2019\",\"5/5/2019\",\"5/12/2019\",\"5/19/2019\",\"5/26/2019\",\"6/2/2019\",\"6/9/2019\",\"6/16/2019\",\"6/23/2019\",\"6/30/2019\",\"7/7/2019\",\"7/14/2019\",\"7/21/2019\",\"7/28/2019\",\"8/4/2019\",\"8/11/2019\",\"8/18/2019\",\"8/25/2019\",\"9/1/2019\",\"9/8/2019\",\"9/15/2019\",\"9/22/2019\",\"9/29/2019\",\"10/6/2019\",\"10/13/2019\",\"10/20/2019\",\"10/27/2019\",\"11/3/2019\",\"11/10/2019\",\"11/17/2019\",\"11/24/2019\",\"12/1/2019\",\"12/8/2019\",\"12/15/2019\",\"12/22/2019\",\"12/29/2019\",\"1/5/2020\",\"1/12/2020\",\"1/19/2020\",\"1/26/2020\",\"2/2/2020\",\"2/9/2020\",\"2/16/2020\",\"2/23/2020\",\"3/1/2020\",\"3/8/2020\",\"3/15/2020\",\"3/22/2020\",\"3/29/2020\",\"4/5/2020\",\"4/12/2020\",\"4/19/2020\",\"4/26/2020\",\"5/3/2020\",\"5/10/2020\",\"5/17/2020\",\"5/24/2020\",\"5/31/2020\",\"6/7/2020\",\"6/14/2020\",\"6/21/2020\",\"6/28/2020\",\"7/5/2020\",\"7/12/2020\",\"7/19/2020\",\"7/26/2020\",\"8/2/2020\",\"8/9/2020\",\"8/16/2020\",\"8/23/2020\",\"8/30/2020\",\"9/6/2020\",\"9/13/2020\",\"9/20/2020\",\"9/27/2020\",\"10/4/2020\",\"10/11/2020\",\"10/18/2020\",\"10/25/2020\",\"11/1/2020\",\"11/8/2020\",\"11/15/2020\",\"11/22/2020\",\"11/29/2020\",\"12/6/2020\",\"12/13/2020\",\"12/20/2020\",\"12/27/2020\",\"1/3/2021\",\"1/10/2021\",\"1/17/2021\",\"1/24/2021\",\"1/31/2021\",\"2/7/2021\",\"2/14/2021\",\"2/21/2021\",\"2/28/2021\",\"3/7/2021\",\"3/14/2021\",\"3/21/2021\",\"3/28/2021\",\"4/4/2021\",\"4/11/2021\",\"4/18/2021\",\"4/25/2021\",\"5/2/2021\",\"5/9/2021\",\"5/16/2021\",\"5/23/2021\",\"5/30/2021\",\"6/6/2021\",\"6/13/2021\",\"6/20/2021\",\"6/27/2021\",\"7/4/2021\",\"7/11/2021\",\"7/18/2021\",\"7/25/2021\",\"8/1/2021\",\"8/8/2021\",\"8/15/2021\",\"8/22/2021\",\"8/29/2021\",\"9/5/2021\",\"9/12/2021\",\"9/19/2021\",\"9/26/2021\",\"10/3/2021\",\"10/10/2021\",\"10/17/2021\",\"10/24/2021\",\"10/31/2021\",\"11/7/2021\",\"11/14/2021\",\"11/21/2021\",\"11/28/2021\",\"12/5/2021\",\"12/12/2021\",\"12/19/2021\",\"12/26/2021\",\"1/2/2022\",\"1/9/2022\",\"1/16/2022\",\"1/23/2022\"],\"title\":\"Week\",\"value\":\"2/5/2017\",\"width\":250},\"id\":\"7246\",\"type\":\"Select\"},{\"attributes\":{\"bottom_units\":\"screen\",\"coordinates\":null,\"fill_alpha\":0.5,\"fill_color\":\"lightgrey\",\"group\":null,\"left_units\":\"screen\",\"level\":\"overlay\",\"line_alpha\":1.0,\"line_color\":\"black\",\"line_dash\":[4,4],\"line_width\":2,\"right_units\":\"screen\",\"syncable\":false,\"top_units\":\"screen\"},\"id\":\"7194\",\"type\":\"BoxAnnotation\"},{\"attributes\":{\"client_comm_id\":\"4124bf98497d4f39bd23f44f15e192b1\",\"comm_id\":\"c2fff72219dc4e6a899cbb9099f8c9f7\",\"plot_id\":\"7169\"},\"id\":\"7278\",\"type\":\"panel.models.comm_manager.CommManager\"},{\"attributes\":{\"margin\":[5,5,5,5],\"name\":\"VSpacer19456\",\"sizing_mode\":\"stretch_height\"},\"id\":\"7247\",\"type\":\"Spacer\"},{\"attributes\":{},\"id\":\"7190\",\"type\":\"PanTool\"},{\"attributes\":{\"factors\":[\"ceviche_Miami_Ft_Lauderdale_FL\",\"salmon_Miami_Ft_Lauderdale_FL\"],\"palette\":[\"#30a2da\",\"#fc4f30\"]},\"id\":\"7202\",\"type\":\"CategoricalColorMapper\"},{\"attributes\":{},\"id\":\"7231\",\"type\":\"UnionRenderers\"},{\"attributes\":{},\"id\":\"7214\",\"type\":\"AllLabels\"},{\"attributes\":{\"fill_alpha\":{\"value\":0.2},\"fill_color\":{\"field\":\"Variable\",\"transform\":{\"id\":\"7202\"}},\"hatch_alpha\":{\"value\":0.2},\"hatch_color\":{\"field\":\"Variable\",\"transform\":{\"id\":\"7202\"}},\"line_alpha\":{\"value\":0.2},\"top\":{\"field\":\"value\"},\"width\":{\"value\":0.8},\"x\":{\"field\":\"xoffsets\"}},\"id\":\"7208\",\"type\":\"VBar\"},{\"attributes\":{\"factors\":[[\"0\",\"ceviche_Miami_Ft_Lauderdale_FL\"],[\"0\",\"salmon_Miami_Ft_Lauderdale_FL\"]],\"tags\":[[[\"index\",\"index\",null],[\"Variable\",\"Variable\",null]]]},\"id\":\"7170\",\"type\":\"FactorRange\"}],\"root_ids\":[\"7169\",\"7278\"]},\"title\":\"Bokeh Application\",\"version\":\"2.4.2\"}};\n",
       "    var render_items = [{\"docid\":\"9a0b8919-60b0-49d4-8c03-5f9318df664e\",\"root_ids\":[\"7169\"],\"roots\":{\"7169\":\"676650f0-be55-47d5-aaad-2fbb3a1fa350\"}}];\n",
       "    root.Bokeh.embed.embed_items_notebook(docs_json, render_items);\n",
       "  }\n",
       "  if (root.Bokeh !== undefined && root.Bokeh.Panel !== undefined && ( root['Plotly'] !== undefined)) {\n",
       "    embed_document(root);\n",
       "  } else {\n",
       "    var attempts = 0;\n",
       "    var timer = setInterval(function(root) {\n",
       "      if (root.Bokeh !== undefined && root.Bokeh.Panel !== undefined && (root['Plotly'] !== undefined)) {\n",
       "        clearInterval(timer);\n",
       "        embed_document(root);\n",
       "      } else if (document.readyState == \"complete\") {\n",
       "        attempts++;\n",
       "        if (attempts > 200) {\n",
       "          clearInterval(timer);\n",
       "          console.log(\"Bokeh: ERROR: Unable to run BokehJS code because BokehJS library is missing\");\n",
       "        }\n",
       "      }\n",
       "    }, 25, root)\n",
       "  }\n",
       "})(window);</script>"
      ],
      "text/plain": [
       "Row\n",
       "    [0] HoloViews(DynamicMap)\n",
       "    [1] Column\n",
       "        [0] WidgetBox\n",
       "            [0] Select(margin=(20, 20, 20, 20), name='Week', options=['2/5/2017', '2/12/2017', ...], value='2/5/2017', width=250)\n",
       "        [1] VSpacer()"
      ]
     },
     "execution_count": 138,
     "metadata": {
      "application/vnd.holoviews_exec.v0+json": {
       "id": "7169"
      }
     },
     "output_type": "execute_result"
    }
   ],
   "source": [
    "seafood_data.hvplot.bar(\n",
    "    rot=45, \n",
    "    width=600,\n",
    "    height=800, \n",
    "    widget_location='right_top', \n",
    "    groupby='Week'\n",
    ")"
   ]
  },
  {
   "cell_type": "code",
   "execution_count": 139,
   "id": "2fda6617",
   "metadata": {},
   "outputs": [
    {
     "data": {},
     "metadata": {},
     "output_type": "display_data"
    },
    {
     "data": {},
     "metadata": {},
     "output_type": "display_data"
    },
    {
     "data": {
      "application/vnd.holoviews_exec.v0+json": "",
      "text/html": [
       "<div id='7329'>\n",
       "\n",
       "\n",
       "\n",
       "\n",
       "\n",
       "  <div class=\"bk-root\" id=\"40ece0b3-734e-4f2f-8d11-fdc2d4c3481a\" data-root-id=\"7329\"></div>\n",
       "</div>\n",
       "<script type=\"application/javascript\">(function(root) {\n",
       "  function embed_document(root) {\n",
       "    var docs_json = {\"ec0a237f-e8ea-49e9-b8c5-1d44ab19ad7c\":{\"defs\":[{\"extends\":null,\"module\":null,\"name\":\"ReactiveHTML1\",\"overrides\":[],\"properties\":[]},{\"extends\":null,\"module\":null,\"name\":\"FlexBox1\",\"overrides\":[],\"properties\":[{\"default\":\"flex-start\",\"kind\":null,\"name\":\"align_content\"},{\"default\":\"flex-start\",\"kind\":null,\"name\":\"align_items\"},{\"default\":\"row\",\"kind\":null,\"name\":\"flex_direction\"},{\"default\":\"wrap\",\"kind\":null,\"name\":\"flex_wrap\"},{\"default\":\"flex-start\",\"kind\":null,\"name\":\"justify_content\"}]},{\"extends\":null,\"module\":null,\"name\":\"TemplateActions1\",\"overrides\":[],\"properties\":[{\"default\":0,\"kind\":null,\"name\":\"open_modal\"},{\"default\":0,\"kind\":null,\"name\":\"close_modal\"}]},{\"extends\":null,\"module\":null,\"name\":\"MaterialTemplateActions1\",\"overrides\":[],\"properties\":[{\"default\":0,\"kind\":null,\"name\":\"open_modal\"},{\"default\":0,\"kind\":null,\"name\":\"close_modal\"}]}],\"roots\":{\"references\":[{\"attributes\":{\"callback\":null,\"renderers\":[{\"id\":\"7369\"}],\"tags\":[\"hv_created\"],\"tooltips\":[[\"index\",\"@{index}\"],[\"Variable\",\"@{Variable}\"],[\"value\",\"@{value}\"]]},\"id\":\"7332\",\"type\":\"HoverTool\"},{\"attributes\":{},\"id\":\"7350\",\"type\":\"PanTool\"},{\"attributes\":{},\"id\":\"7376\",\"type\":\"BasicTickFormatter\"},{\"attributes\":{},\"id\":\"7373\",\"type\":\"CategoricalTickFormatter\"},{\"attributes\":{\"fill_alpha\":{\"value\":0.1},\"fill_color\":{\"field\":\"Variable\",\"transform\":{\"id\":\"7362\"}},\"hatch_alpha\":{\"value\":0.1},\"hatch_color\":{\"field\":\"Variable\",\"transform\":{\"id\":\"7362\"}},\"line_alpha\":{\"value\":0.1},\"top\":{\"field\":\"value\"},\"width\":{\"value\":0.8},\"x\":{\"field\":\"xoffsets\"}},\"id\":\"7367\",\"type\":\"VBar\"},{\"attributes\":{},\"id\":\"7391\",\"type\":\"UnionRenderers\"},{\"attributes\":{\"client_comm_id\":\"ea507084d6274752aa92230512eb1a51\",\"comm_id\":\"4553c15a3d9942fa895c6e6a1e87ed35\",\"plot_id\":\"7329\"},\"id\":\"7438\",\"type\":\"panel.models.comm_manager.CommManager\"},{\"attributes\":{\"coordinates\":null,\"group\":null,\"text\":\"Week: 2/5/2017\",\"text_color\":\"black\",\"text_font_size\":\"12pt\"},\"id\":\"7334\",\"type\":\"Title\"},{\"attributes\":{\"bottom\":{\"value\":0},\"fill_alpha\":{\"value\":1.0},\"fill_color\":{\"field\":\"Variable\",\"transform\":{\"id\":\"7362\"}},\"hatch_alpha\":{\"value\":1.0},\"hatch_color\":{\"field\":\"Variable\",\"transform\":{\"id\":\"7362\"}},\"hatch_scale\":{\"value\":12.0},\"hatch_weight\":{\"value\":1.0},\"line_alpha\":{\"value\":1.0},\"line_cap\":{\"value\":\"butt\"},\"line_color\":{\"value\":\"black\"},\"line_dash\":{\"value\":[]},\"line_dash_offset\":{\"value\":0},\"line_join\":{\"value\":\"bevel\"},\"line_width\":{\"value\":1},\"top\":{\"field\":\"value\"},\"width\":{\"value\":0.8},\"x\":{\"field\":\"xoffsets\"}},\"id\":\"7371\",\"type\":\"VBar\"},{\"attributes\":{\"children\":[{\"id\":\"7405\"},{\"id\":\"7407\"}],\"margin\":[0,0,0,0],\"name\":\"Column19733\"},\"id\":\"7404\",\"type\":\"Column\"},{\"attributes\":{\"fill_alpha\":{\"value\":0.2},\"fill_color\":{\"field\":\"Variable\",\"transform\":{\"id\":\"7362\"}},\"hatch_alpha\":{\"value\":0.2},\"hatch_color\":{\"field\":\"Variable\",\"transform\":{\"id\":\"7362\"}},\"line_alpha\":{\"value\":0.2},\"top\":{\"field\":\"value\"},\"width\":{\"value\":0.8},\"x\":{\"field\":\"xoffsets\"}},\"id\":\"7368\",\"type\":\"VBar\"},{\"attributes\":{\"overlay\":{\"id\":\"7354\"}},\"id\":\"7352\",\"type\":\"BoxZoomTool\"},{\"attributes\":{\"source\":{\"id\":\"7363\"}},\"id\":\"7370\",\"type\":\"CDSView\"},{\"attributes\":{\"children\":[{\"id\":\"7333\"},{\"id\":\"7404\"}],\"margin\":[0,0,0,0],\"name\":\"Row19726\"},\"id\":\"7329\",\"type\":\"Row\"},{\"attributes\":{},\"id\":\"7343\",\"type\":\"CategoricalTicker\"},{\"attributes\":{\"bottom_units\":\"screen\",\"coordinates\":null,\"fill_alpha\":0.5,\"fill_color\":\"lightgrey\",\"group\":null,\"left_units\":\"screen\",\"level\":\"overlay\",\"line_alpha\":1.0,\"line_color\":\"black\",\"line_dash\":[4,4],\"line_width\":2,\"right_units\":\"screen\",\"syncable\":false,\"top_units\":\"screen\"},\"id\":\"7354\",\"type\":\"BoxAnnotation\"},{\"attributes\":{},\"id\":\"7338\",\"type\":\"CategoricalScale\"},{\"attributes\":{},\"id\":\"7353\",\"type\":\"ResetTool\"},{\"attributes\":{},\"id\":\"7374\",\"type\":\"AllLabels\"},{\"attributes\":{\"below\":[{\"id\":\"7342\"}],\"center\":[{\"id\":\"7344\"},{\"id\":\"7348\"}],\"height\":800,\"left\":[{\"id\":\"7345\"}],\"margin\":[5,5,5,5],\"min_border_bottom\":10,\"min_border_left\":10,\"min_border_right\":10,\"min_border_top\":10,\"renderers\":[{\"id\":\"7369\"}],\"sizing_mode\":\"fixed\",\"title\":{\"id\":\"7334\"},\"toolbar\":{\"id\":\"7355\"},\"x_range\":{\"id\":\"7330\"},\"x_scale\":{\"id\":\"7338\"},\"y_range\":{\"id\":\"7331\"},\"y_scale\":{\"id\":\"7340\"}},\"id\":\"7333\",\"subtype\":\"Figure\",\"type\":\"Plot\"},{\"attributes\":{},\"id\":\"7349\",\"type\":\"SaveTool\"},{\"attributes\":{\"axis\":{\"id\":\"7342\"},\"coordinates\":null,\"grid_line_color\":null,\"group\":null,\"ticker\":null},\"id\":\"7344\",\"type\":\"Grid\"},{\"attributes\":{\"children\":[{\"id\":\"7406\"}],\"css_classes\":[\"panel-widget-box\"],\"margin\":[5,5,5,5],\"name\":\"WidgetBox19727\"},\"id\":\"7405\",\"type\":\"Column\"},{\"attributes\":{},\"id\":\"7346\",\"type\":\"BasicTicker\"},{\"attributes\":{},\"id\":\"7340\",\"type\":\"LinearScale\"},{\"attributes\":{\"axis\":{\"id\":\"7345\"},\"coordinates\":null,\"dimension\":1,\"grid_line_color\":null,\"group\":null,\"ticker\":null},\"id\":\"7348\",\"type\":\"Grid\"},{\"attributes\":{},\"id\":\"7364\",\"type\":\"Selection\"},{\"attributes\":{},\"id\":\"7351\",\"type\":\"WheelZoomTool\"},{\"attributes\":{\"factors\":[\"Spicy_tuna_roll_Miami_Ft_Lauderdale_FL\",\"california_sushiroll_Miami_Ft_Lauderdale_FL\"],\"palette\":[\"#30a2da\",\"#fc4f30\"]},\"id\":\"7362\",\"type\":\"CategoricalColorMapper\"},{\"attributes\":{\"coordinates\":null,\"data_source\":{\"id\":\"7363\"},\"glyph\":{\"id\":\"7366\"},\"group\":null,\"hover_glyph\":null,\"muted_glyph\":{\"id\":\"7368\"},\"nonselection_glyph\":{\"id\":\"7367\"},\"selection_glyph\":{\"id\":\"7371\"},\"view\":{\"id\":\"7370\"}},\"id\":\"7369\",\"type\":\"GlyphRenderer\"},{\"attributes\":{},\"id\":\"7377\",\"type\":\"AllLabels\"},{\"attributes\":{\"axis_label\":\"\",\"coordinates\":null,\"formatter\":{\"id\":\"7376\"},\"group\":null,\"major_label_policy\":{\"id\":\"7377\"},\"ticker\":{\"id\":\"7346\"}},\"id\":\"7345\",\"type\":\"LinearAxis\"},{\"attributes\":{\"margin\":[5,5,5,5],\"name\":\"VSpacer19732\",\"sizing_mode\":\"stretch_height\"},\"id\":\"7407\",\"type\":\"Spacer\"},{\"attributes\":{\"tools\":[{\"id\":\"7332\"},{\"id\":\"7349\"},{\"id\":\"7350\"},{\"id\":\"7351\"},{\"id\":\"7352\"},{\"id\":\"7353\"}]},\"id\":\"7355\",\"type\":\"Toolbar\"},{\"attributes\":{\"data\":{\"Variable\":[\"Spicy_tuna_roll_Miami_Ft_Lauderdale_FL\",\"california_sushiroll_Miami_Ft_Lauderdale_FL\"],\"index\":[\"0\",\"0\"],\"value\":[0,0],\"xoffsets\":[[\"0\",\"Spicy_tuna_roll_Miami_Ft_Lauderdale_FL\"],[\"0\",\"california_sushiroll_Miami_Ft_Lauderdale_FL\"]]},\"selected\":{\"id\":\"7364\"},\"selection_policy\":{\"id\":\"7391\"}},\"id\":\"7363\",\"type\":\"ColumnDataSource\"},{\"attributes\":{\"margin\":[20,20,20,20],\"min_width\":250,\"options\":[\"2/5/2017\",\"2/12/2017\",\"2/19/2017\",\"2/26/2017\",\"3/5/2017\",\"3/12/2017\",\"3/19/2017\",\"3/26/2017\",\"4/2/2017\",\"4/9/2017\",\"4/16/2017\",\"4/23/2017\",\"4/30/2017\",\"5/7/2017\",\"5/14/2017\",\"5/21/2017\",\"5/28/2017\",\"6/4/2017\",\"6/11/2017\",\"6/18/2017\",\"6/25/2017\",\"7/2/2017\",\"7/9/2017\",\"7/16/2017\",\"7/23/2017\",\"7/30/2017\",\"8/6/2017\",\"8/13/2017\",\"8/20/2017\",\"8/27/2017\",\"9/3/2017\",\"9/10/2017\",\"9/17/2017\",\"9/24/2017\",\"10/1/2017\",\"10/8/2017\",\"10/15/2017\",\"10/22/2017\",\"10/29/2017\",\"11/5/2017\",\"11/12/2017\",\"11/19/2017\",\"11/26/2017\",\"12/3/2017\",\"12/10/2017\",\"12/17/2017\",\"12/24/2017\",\"12/31/2017\",\"1/7/2018\",\"1/14/2018\",\"1/21/2018\",\"1/28/2018\",\"2/4/2018\",\"2/11/2018\",\"2/18/2018\",\"2/25/2018\",\"3/4/2018\",\"3/11/2018\",\"3/18/2018\",\"3/25/2018\",\"4/1/2018\",\"4/8/2018\",\"4/15/2018\",\"4/22/2018\",\"4/29/2018\",\"5/6/2018\",\"5/13/2018\",\"5/20/2018\",\"5/27/2018\",\"6/3/2018\",\"6/10/2018\",\"6/17/2018\",\"6/24/2018\",\"7/1/2018\",\"7/8/2018\",\"7/15/2018\",\"7/22/2018\",\"7/29/2018\",\"8/5/2018\",\"8/12/2018\",\"8/19/2018\",\"8/26/2018\",\"9/2/2018\",\"9/9/2018\",\"9/16/2018\",\"9/23/2018\",\"9/30/2018\",\"10/7/2018\",\"10/14/2018\",\"10/21/2018\",\"10/28/2018\",\"11/4/2018\",\"11/11/2018\",\"11/18/2018\",\"11/25/2018\",\"12/2/2018\",\"12/9/2018\",\"12/16/2018\",\"12/23/2018\",\"12/30/2018\",\"1/6/2019\",\"1/13/2019\",\"1/20/2019\",\"1/27/2019\",\"2/3/2019\",\"2/10/2019\",\"2/17/2019\",\"2/24/2019\",\"3/3/2019\",\"3/10/2019\",\"3/17/2019\",\"3/24/2019\",\"3/31/2019\",\"4/7/2019\",\"4/14/2019\",\"4/21/2019\",\"4/28/2019\",\"5/5/2019\",\"5/12/2019\",\"5/19/2019\",\"5/26/2019\",\"6/2/2019\",\"6/9/2019\",\"6/16/2019\",\"6/23/2019\",\"6/30/2019\",\"7/7/2019\",\"7/14/2019\",\"7/21/2019\",\"7/28/2019\",\"8/4/2019\",\"8/11/2019\",\"8/18/2019\",\"8/25/2019\",\"9/1/2019\",\"9/8/2019\",\"9/15/2019\",\"9/22/2019\",\"9/29/2019\",\"10/6/2019\",\"10/13/2019\",\"10/20/2019\",\"10/27/2019\",\"11/3/2019\",\"11/10/2019\",\"11/17/2019\",\"11/24/2019\",\"12/1/2019\",\"12/8/2019\",\"12/15/2019\",\"12/22/2019\",\"12/29/2019\",\"1/5/2020\",\"1/12/2020\",\"1/19/2020\",\"1/26/2020\",\"2/2/2020\",\"2/9/2020\",\"2/16/2020\",\"2/23/2020\",\"3/1/2020\",\"3/8/2020\",\"3/15/2020\",\"3/22/2020\",\"3/29/2020\",\"4/5/2020\",\"4/12/2020\",\"4/19/2020\",\"4/26/2020\",\"5/3/2020\",\"5/10/2020\",\"5/17/2020\",\"5/24/2020\",\"5/31/2020\",\"6/7/2020\",\"6/14/2020\",\"6/21/2020\",\"6/28/2020\",\"7/5/2020\",\"7/12/2020\",\"7/19/2020\",\"7/26/2020\",\"8/2/2020\",\"8/9/2020\",\"8/16/2020\",\"8/23/2020\",\"8/30/2020\",\"9/6/2020\",\"9/13/2020\",\"9/20/2020\",\"9/27/2020\",\"10/4/2020\",\"10/11/2020\",\"10/18/2020\",\"10/25/2020\",\"11/1/2020\",\"11/8/2020\",\"11/15/2020\",\"11/22/2020\",\"11/29/2020\",\"12/6/2020\",\"12/13/2020\",\"12/20/2020\",\"12/27/2020\",\"1/3/2021\",\"1/10/2021\",\"1/17/2021\",\"1/24/2021\",\"1/31/2021\",\"2/7/2021\",\"2/14/2021\",\"2/21/2021\",\"2/28/2021\",\"3/7/2021\",\"3/14/2021\",\"3/21/2021\",\"3/28/2021\",\"4/4/2021\",\"4/11/2021\",\"4/18/2021\",\"4/25/2021\",\"5/2/2021\",\"5/9/2021\",\"5/16/2021\",\"5/23/2021\",\"5/30/2021\",\"6/6/2021\",\"6/13/2021\",\"6/20/2021\",\"6/27/2021\",\"7/4/2021\",\"7/11/2021\",\"7/18/2021\",\"7/25/2021\",\"8/1/2021\",\"8/8/2021\",\"8/15/2021\",\"8/22/2021\",\"8/29/2021\",\"9/5/2021\",\"9/12/2021\",\"9/19/2021\",\"9/26/2021\",\"10/3/2021\",\"10/10/2021\",\"10/17/2021\",\"10/24/2021\",\"10/31/2021\",\"11/7/2021\",\"11/14/2021\",\"11/21/2021\",\"11/28/2021\",\"12/5/2021\",\"12/12/2021\",\"12/19/2021\",\"12/26/2021\",\"1/2/2022\",\"1/9/2022\",\"1/16/2022\",\"1/23/2022\"],\"title\":\"Week\",\"value\":\"2/5/2017\",\"width\":250},\"id\":\"7406\",\"type\":\"Select\"},{\"attributes\":{\"end\":0.5,\"reset_end\":0.5,\"reset_start\":-0.5,\"start\":-0.5,\"tags\":[[[\"value\",\"value\",null]]]},\"id\":\"7331\",\"type\":\"Range1d\"},{\"attributes\":{\"axis_label\":\"\",\"coordinates\":null,\"formatter\":{\"id\":\"7373\"},\"group\":null,\"major_label_orientation\":1.5707963267948966,\"major_label_policy\":{\"id\":\"7374\"},\"ticker\":{\"id\":\"7343\"}},\"id\":\"7342\",\"type\":\"CategoricalAxis\"},{\"attributes\":{\"factors\":[[\"0\",\"Spicy_tuna_roll_Miami_Ft_Lauderdale_FL\"],[\"0\",\"california_sushiroll_Miami_Ft_Lauderdale_FL\"]],\"tags\":[[[\"index\",\"index\",null],[\"Variable\",\"Variable\",null]]]},\"id\":\"7330\",\"type\":\"FactorRange\"},{\"attributes\":{\"fill_color\":{\"field\":\"Variable\",\"transform\":{\"id\":\"7362\"}},\"hatch_color\":{\"field\":\"Variable\",\"transform\":{\"id\":\"7362\"}},\"top\":{\"field\":\"value\"},\"width\":{\"value\":0.8},\"x\":{\"field\":\"xoffsets\"}},\"id\":\"7366\",\"type\":\"VBar\"}],\"root_ids\":[\"7329\",\"7438\"]},\"title\":\"Bokeh Application\",\"version\":\"2.4.2\"}};\n",
       "    var render_items = [{\"docid\":\"ec0a237f-e8ea-49e9-b8c5-1d44ab19ad7c\",\"root_ids\":[\"7329\"],\"roots\":{\"7329\":\"40ece0b3-734e-4f2f-8d11-fdc2d4c3481a\"}}];\n",
       "    root.Bokeh.embed.embed_items_notebook(docs_json, render_items);\n",
       "  }\n",
       "  if (root.Bokeh !== undefined && root.Bokeh.Panel !== undefined && ( root['Plotly'] !== undefined)) {\n",
       "    embed_document(root);\n",
       "  } else {\n",
       "    var attempts = 0;\n",
       "    var timer = setInterval(function(root) {\n",
       "      if (root.Bokeh !== undefined && root.Bokeh.Panel !== undefined && (root['Plotly'] !== undefined)) {\n",
       "        clearInterval(timer);\n",
       "        embed_document(root);\n",
       "      } else if (document.readyState == \"complete\") {\n",
       "        attempts++;\n",
       "        if (attempts > 200) {\n",
       "          clearInterval(timer);\n",
       "          console.log(\"Bokeh: ERROR: Unable to run BokehJS code because BokehJS library is missing\");\n",
       "        }\n",
       "      }\n",
       "    }, 25, root)\n",
       "  }\n",
       "})(window);</script>"
      ],
      "text/plain": [
       "Row\n",
       "    [0] HoloViews(DynamicMap)\n",
       "    [1] Column\n",
       "        [0] WidgetBox\n",
       "            [0] Select(margin=(20, 20, 20, 20), name='Week', options=['2/5/2017', '2/12/2017', ...], value='2/5/2017', width=250)\n",
       "        [1] VSpacer()"
      ]
     },
     "execution_count": 139,
     "metadata": {
      "application/vnd.holoviews_exec.v0+json": {
       "id": "7329"
      }
     },
     "output_type": "execute_result"
    }
   ],
   "source": [
    "sushi_rolls_data.hvplot.bar(\n",
    "    rot=90, width=600, \n",
    "    height=800, \n",
    "    widget_location='right_top', \n",
    "    groupby='Week'\n",
    "\n",
    ")"
   ]
  },
  {
   "cell_type": "code",
   "execution_count": 140,
   "id": "991587ed",
   "metadata": {},
   "outputs": [
    {
     "data": {},
     "metadata": {},
     "output_type": "display_data"
    },
    {
     "data": {},
     "metadata": {},
     "output_type": "display_data"
    },
    {
     "data": {
      "application/vnd.holoviews_exec.v0+json": "",
      "text/html": [
       "<div id='7489'>\n",
       "\n",
       "\n",
       "\n",
       "\n",
       "\n",
       "  <div class=\"bk-root\" id=\"a74f2f52-11c8-46f6-8ee0-0210f9504437\" data-root-id=\"7489\"></div>\n",
       "</div>\n",
       "<script type=\"application/javascript\">(function(root) {\n",
       "  function embed_document(root) {\n",
       "    var docs_json = {\"2432a4b1-9550-4428-a74b-5861964aefa6\":{\"defs\":[{\"extends\":null,\"module\":null,\"name\":\"ReactiveHTML1\",\"overrides\":[],\"properties\":[]},{\"extends\":null,\"module\":null,\"name\":\"FlexBox1\",\"overrides\":[],\"properties\":[{\"default\":\"flex-start\",\"kind\":null,\"name\":\"align_content\"},{\"default\":\"flex-start\",\"kind\":null,\"name\":\"align_items\"},{\"default\":\"row\",\"kind\":null,\"name\":\"flex_direction\"},{\"default\":\"wrap\",\"kind\":null,\"name\":\"flex_wrap\"},{\"default\":\"flex-start\",\"kind\":null,\"name\":\"justify_content\"}]},{\"extends\":null,\"module\":null,\"name\":\"TemplateActions1\",\"overrides\":[],\"properties\":[{\"default\":0,\"kind\":null,\"name\":\"open_modal\"},{\"default\":0,\"kind\":null,\"name\":\"close_modal\"}]},{\"extends\":null,\"module\":null,\"name\":\"MaterialTemplateActions1\",\"overrides\":[],\"properties\":[{\"default\":0,\"kind\":null,\"name\":\"open_modal\"},{\"default\":0,\"kind\":null,\"name\":\"close_modal\"}]}],\"roots\":{\"references\":[{\"attributes\":{},\"id\":\"7513\",\"type\":\"ResetTool\"},{\"attributes\":{\"tools\":[{\"id\":\"7492\"},{\"id\":\"7509\"},{\"id\":\"7510\"},{\"id\":\"7511\"},{\"id\":\"7512\"},{\"id\":\"7513\"}]},\"id\":\"7515\",\"type\":\"Toolbar\"},{\"attributes\":{},\"id\":\"7533\",\"type\":\"AllLabels\"},{\"attributes\":{\"end\":75.0,\"reset_end\":75.0,\"reset_start\":0.0,\"tags\":[[[\"salad_Miami_Ft_Lauderdale_FL\",\"salad_Miami_Ft_Lauderdale_FL\",null]]]},\"id\":\"7491\",\"type\":\"Range1d\"},{\"attributes\":{\"coordinates\":null,\"data_source\":{\"id\":\"7522\"},\"glyph\":{\"id\":\"7525\"},\"group\":null,\"hover_glyph\":null,\"muted_glyph\":{\"id\":\"7527\"},\"nonselection_glyph\":{\"id\":\"7526\"},\"selection_glyph\":{\"id\":\"7530\"},\"view\":{\"id\":\"7529\"}},\"id\":\"7528\",\"type\":\"GlyphRenderer\"},{\"attributes\":{\"axis\":{\"id\":\"7505\"},\"coordinates\":null,\"dimension\":1,\"grid_line_color\":null,\"group\":null,\"ticker\":null},\"id\":\"7508\",\"type\":\"Grid\"},{\"attributes\":{},\"id\":\"7536\",\"type\":\"AllLabels\"},{\"attributes\":{\"bottom_units\":\"screen\",\"coordinates\":null,\"fill_alpha\":0.5,\"fill_color\":\"lightgrey\",\"group\":null,\"left_units\":\"screen\",\"level\":\"overlay\",\"line_alpha\":1.0,\"line_color\":\"black\",\"line_dash\":[4,4],\"line_width\":2,\"right_units\":\"screen\",\"syncable\":false,\"top_units\":\"screen\"},\"id\":\"7514\",\"type\":\"BoxAnnotation\"},{\"attributes\":{\"client_comm_id\":\"df0818ee512b4346a69918603ec76413\",\"comm_id\":\"689463c73abc4bfab48796e3b38c962a\",\"plot_id\":\"7489\"},\"id\":\"7597\",\"type\":\"panel.models.comm_manager.CommManager\"},{\"attributes\":{\"axis_label\":\"\",\"coordinates\":null,\"formatter\":{\"id\":\"7532\"},\"group\":null,\"major_label_orientation\":0.7853981633974483,\"major_label_policy\":{\"id\":\"7533\"},\"ticker\":{\"id\":\"7503\"}},\"id\":\"7502\",\"type\":\"CategoricalAxis\"},{\"attributes\":{\"data\":{\"index\":[\"0\"],\"salad_Miami_Ft_Lauderdale_FL\":{\"__ndarray__\":\"AAAAAADAUkA=\",\"dtype\":\"float64\",\"order\":\"little\",\"shape\":[1]}},\"selected\":{\"id\":\"7523\"},\"selection_policy\":{\"id\":\"7550\"}},\"id\":\"7522\",\"type\":\"ColumnDataSource\"},{\"attributes\":{},\"id\":\"7509\",\"type\":\"SaveTool\"},{\"attributes\":{\"children\":[{\"id\":\"7493\"},{\"id\":\"7563\"}],\"margin\":[0,0,0,0],\"name\":\"Row20002\"},\"id\":\"7489\",\"type\":\"Row\"},{\"attributes\":{\"axis\":{\"id\":\"7502\"},\"coordinates\":null,\"grid_line_color\":null,\"group\":null,\"ticker\":null},\"id\":\"7504\",\"type\":\"Grid\"},{\"attributes\":{\"bottom\":{\"value\":0},\"fill_alpha\":{\"value\":1.0},\"fill_color\":{\"value\":\"#30a2da\"},\"hatch_alpha\":{\"value\":1.0},\"hatch_color\":{\"value\":\"#30a2da\"},\"hatch_scale\":{\"value\":12.0},\"hatch_weight\":{\"value\":1.0},\"line_alpha\":{\"value\":1.0},\"line_cap\":{\"value\":\"butt\"},\"line_color\":{\"value\":\"black\"},\"line_dash\":{\"value\":[]},\"line_dash_offset\":{\"value\":0},\"line_join\":{\"value\":\"bevel\"},\"line_width\":{\"value\":1},\"top\":{\"field\":\"salad_Miami_Ft_Lauderdale_FL\"},\"width\":{\"value\":0.8},\"x\":{\"field\":\"index\"}},\"id\":\"7530\",\"type\":\"VBar\"},{\"attributes\":{},\"id\":\"7503\",\"type\":\"CategoricalTicker\"},{\"attributes\":{\"source\":{\"id\":\"7522\"}},\"id\":\"7529\",\"type\":\"CDSView\"},{\"attributes\":{},\"id\":\"7510\",\"type\":\"PanTool\"},{\"attributes\":{},\"id\":\"7511\",\"type\":\"WheelZoomTool\"},{\"attributes\":{\"coordinates\":null,\"group\":null,\"text\":\"Week: 2/5/2017\",\"text_color\":\"black\",\"text_font_size\":\"12pt\"},\"id\":\"7494\",\"type\":\"Title\"},{\"attributes\":{\"axis_label\":\"salad_Miami_Ft_Lauderdale_FL\",\"coordinates\":null,\"formatter\":{\"id\":\"7535\"},\"group\":null,\"major_label_policy\":{\"id\":\"7536\"},\"ticker\":{\"id\":\"7506\"}},\"id\":\"7505\",\"type\":\"LinearAxis\"},{\"attributes\":{\"fill_alpha\":{\"value\":0.1},\"fill_color\":{\"value\":\"#30a2da\"},\"hatch_alpha\":{\"value\":0.1},\"hatch_color\":{\"value\":\"#30a2da\"},\"line_alpha\":{\"value\":0.1},\"top\":{\"field\":\"salad_Miami_Ft_Lauderdale_FL\"},\"width\":{\"value\":0.8},\"x\":{\"field\":\"index\"}},\"id\":\"7526\",\"type\":\"VBar\"},{\"attributes\":{\"overlay\":{\"id\":\"7514\"}},\"id\":\"7512\",\"type\":\"BoxZoomTool\"},{\"attributes\":{},\"id\":\"7535\",\"type\":\"BasicTickFormatter\"},{\"attributes\":{\"factors\":[\"0\"],\"tags\":[[[\"index\",\"index\",null]]]},\"id\":\"7490\",\"type\":\"FactorRange\"},{\"attributes\":{},\"id\":\"7532\",\"type\":\"CategoricalTickFormatter\"},{\"attributes\":{\"fill_color\":{\"value\":\"#30a2da\"},\"hatch_color\":{\"value\":\"#30a2da\"},\"top\":{\"field\":\"salad_Miami_Ft_Lauderdale_FL\"},\"width\":{\"value\":0.8},\"x\":{\"field\":\"index\"}},\"id\":\"7525\",\"type\":\"VBar\"},{\"attributes\":{},\"id\":\"7498\",\"type\":\"CategoricalScale\"},{\"attributes\":{},\"id\":\"7500\",\"type\":\"LinearScale\"},{\"attributes\":{\"children\":[{\"id\":\"7564\"},{\"id\":\"7566\"}],\"margin\":[0,0,0,0],\"name\":\"Column20009\"},\"id\":\"7563\",\"type\":\"Column\"},{\"attributes\":{\"below\":[{\"id\":\"7502\"}],\"center\":[{\"id\":\"7504\"},{\"id\":\"7508\"}],\"height\":800,\"left\":[{\"id\":\"7505\"}],\"margin\":[5,5,5,5],\"min_border_bottom\":10,\"min_border_left\":10,\"min_border_right\":10,\"min_border_top\":10,\"renderers\":[{\"id\":\"7528\"}],\"sizing_mode\":\"fixed\",\"title\":{\"id\":\"7494\"},\"toolbar\":{\"id\":\"7515\"},\"x_range\":{\"id\":\"7490\"},\"x_scale\":{\"id\":\"7498\"},\"y_range\":{\"id\":\"7491\"},\"y_scale\":{\"id\":\"7500\"}},\"id\":\"7493\",\"subtype\":\"Figure\",\"type\":\"Plot\"},{\"attributes\":{\"callback\":null,\"renderers\":[{\"id\":\"7528\"}],\"tags\":[\"hv_created\"],\"tooltips\":[[\"index\",\"@{index}\"],[\"salad_Miami_Ft_Lauderdale_FL\",\"@{salad_Miami_Ft_Lauderdale_FL}\"]]},\"id\":\"7492\",\"type\":\"HoverTool\"},{\"attributes\":{\"margin\":[5,5,5,5],\"name\":\"VSpacer20008\",\"sizing_mode\":\"stretch_height\"},\"id\":\"7566\",\"type\":\"Spacer\"},{\"attributes\":{\"margin\":[20,20,20,20],\"min_width\":250,\"options\":[\"2/5/2017\",\"2/12/2017\",\"2/19/2017\",\"2/26/2017\",\"3/5/2017\",\"3/12/2017\",\"3/19/2017\",\"3/26/2017\",\"4/2/2017\",\"4/9/2017\",\"4/16/2017\",\"4/23/2017\",\"4/30/2017\",\"5/7/2017\",\"5/14/2017\",\"5/21/2017\",\"5/28/2017\",\"6/4/2017\",\"6/11/2017\",\"6/18/2017\",\"6/25/2017\",\"7/2/2017\",\"7/9/2017\",\"7/16/2017\",\"7/23/2017\",\"7/30/2017\",\"8/6/2017\",\"8/13/2017\",\"8/20/2017\",\"8/27/2017\",\"9/3/2017\",\"9/10/2017\",\"9/17/2017\",\"9/24/2017\",\"10/1/2017\",\"10/8/2017\",\"10/15/2017\",\"10/22/2017\",\"10/29/2017\",\"11/5/2017\",\"11/12/2017\",\"11/19/2017\",\"11/26/2017\",\"12/3/2017\",\"12/10/2017\",\"12/17/2017\",\"12/24/2017\",\"12/31/2017\",\"1/7/2018\",\"1/14/2018\",\"1/21/2018\",\"1/28/2018\",\"2/4/2018\",\"2/11/2018\",\"2/18/2018\",\"2/25/2018\",\"3/4/2018\",\"3/11/2018\",\"3/18/2018\",\"3/25/2018\",\"4/1/2018\",\"4/8/2018\",\"4/15/2018\",\"4/22/2018\",\"4/29/2018\",\"5/6/2018\",\"5/13/2018\",\"5/20/2018\",\"5/27/2018\",\"6/3/2018\",\"6/10/2018\",\"6/17/2018\",\"6/24/2018\",\"7/1/2018\",\"7/8/2018\",\"7/15/2018\",\"7/22/2018\",\"7/29/2018\",\"8/5/2018\",\"8/12/2018\",\"8/19/2018\",\"8/26/2018\",\"9/2/2018\",\"9/9/2018\",\"9/16/2018\",\"9/23/2018\",\"9/30/2018\",\"10/7/2018\",\"10/14/2018\",\"10/21/2018\",\"10/28/2018\",\"11/4/2018\",\"11/11/2018\",\"11/18/2018\",\"11/25/2018\",\"12/2/2018\",\"12/9/2018\",\"12/16/2018\",\"12/23/2018\",\"12/30/2018\",\"1/6/2019\",\"1/13/2019\",\"1/20/2019\",\"1/27/2019\",\"2/3/2019\",\"2/10/2019\",\"2/17/2019\",\"2/24/2019\",\"3/3/2019\",\"3/10/2019\",\"3/17/2019\",\"3/24/2019\",\"3/31/2019\",\"4/7/2019\",\"4/14/2019\",\"4/21/2019\",\"4/28/2019\",\"5/5/2019\",\"5/12/2019\",\"5/19/2019\",\"5/26/2019\",\"6/2/2019\",\"6/9/2019\",\"6/16/2019\",\"6/23/2019\",\"6/30/2019\",\"7/7/2019\",\"7/14/2019\",\"7/21/2019\",\"7/28/2019\",\"8/4/2019\",\"8/11/2019\",\"8/18/2019\",\"8/25/2019\",\"9/1/2019\",\"9/8/2019\",\"9/15/2019\",\"9/22/2019\",\"9/29/2019\",\"10/6/2019\",\"10/13/2019\",\"10/20/2019\",\"10/27/2019\",\"11/3/2019\",\"11/10/2019\",\"11/17/2019\",\"11/24/2019\",\"12/1/2019\",\"12/8/2019\",\"12/15/2019\",\"12/22/2019\",\"12/29/2019\",\"1/5/2020\",\"1/12/2020\",\"1/19/2020\",\"1/26/2020\",\"2/2/2020\",\"2/9/2020\",\"2/16/2020\",\"2/23/2020\",\"3/1/2020\",\"3/8/2020\",\"3/15/2020\",\"3/22/2020\",\"3/29/2020\",\"4/5/2020\",\"4/12/2020\",\"4/19/2020\",\"4/26/2020\",\"5/3/2020\",\"5/10/2020\",\"5/17/2020\",\"5/24/2020\",\"5/31/2020\",\"6/7/2020\",\"6/14/2020\",\"6/21/2020\",\"6/28/2020\",\"7/5/2020\",\"7/12/2020\",\"7/19/2020\",\"7/26/2020\",\"8/2/2020\",\"8/9/2020\",\"8/16/2020\",\"8/23/2020\",\"8/30/2020\",\"9/6/2020\",\"9/13/2020\",\"9/20/2020\",\"9/27/2020\",\"10/4/2020\",\"10/11/2020\",\"10/18/2020\",\"10/25/2020\",\"11/1/2020\",\"11/8/2020\",\"11/15/2020\",\"11/22/2020\",\"11/29/2020\",\"12/6/2020\",\"12/13/2020\",\"12/20/2020\",\"12/27/2020\",\"1/3/2021\",\"1/10/2021\",\"1/17/2021\",\"1/24/2021\",\"1/31/2021\",\"2/7/2021\",\"2/14/2021\",\"2/21/2021\",\"2/28/2021\",\"3/7/2021\",\"3/14/2021\",\"3/21/2021\",\"3/28/2021\",\"4/4/2021\",\"4/11/2021\",\"4/18/2021\",\"4/25/2021\",\"5/2/2021\",\"5/9/2021\",\"5/16/2021\",\"5/23/2021\",\"5/30/2021\",\"6/6/2021\",\"6/13/2021\",\"6/20/2021\",\"6/27/2021\",\"7/4/2021\",\"7/11/2021\",\"7/18/2021\",\"7/25/2021\",\"8/1/2021\",\"8/8/2021\",\"8/15/2021\",\"8/22/2021\",\"8/29/2021\",\"9/5/2021\",\"9/12/2021\",\"9/19/2021\",\"9/26/2021\",\"10/3/2021\",\"10/10/2021\",\"10/17/2021\",\"10/24/2021\",\"10/31/2021\",\"11/7/2021\",\"11/14/2021\",\"11/21/2021\",\"11/28/2021\",\"12/5/2021\",\"12/12/2021\",\"12/19/2021\",\"12/26/2021\",\"1/2/2022\",\"1/9/2022\",\"1/16/2022\",\"1/23/2022\",\"nan\",\"aloo gobi: (Miami-Ft. Lauderdale FL)\",\"0\",\"2\",\"1\",\"3\"],\"title\":\"Week\",\"value\":\"2/5/2017\",\"width\":250},\"id\":\"7565\",\"type\":\"Select\"},{\"attributes\":{\"children\":[{\"id\":\"7565\"}],\"css_classes\":[\"panel-widget-box\"],\"margin\":[5,5,5,5],\"name\":\"WidgetBox20003\"},\"id\":\"7564\",\"type\":\"Column\"},{\"attributes\":{},\"id\":\"7506\",\"type\":\"BasicTicker\"},{\"attributes\":{},\"id\":\"7523\",\"type\":\"Selection\"},{\"attributes\":{},\"id\":\"7550\",\"type\":\"UnionRenderers\"},{\"attributes\":{\"fill_alpha\":{\"value\":0.2},\"fill_color\":{\"value\":\"#30a2da\"},\"hatch_alpha\":{\"value\":0.2},\"hatch_color\":{\"value\":\"#30a2da\"},\"line_alpha\":{\"value\":0.2},\"top\":{\"field\":\"salad_Miami_Ft_Lauderdale_FL\"},\"width\":{\"value\":0.8},\"x\":{\"field\":\"index\"}},\"id\":\"7527\",\"type\":\"VBar\"}],\"root_ids\":[\"7489\",\"7597\"]},\"title\":\"Bokeh Application\",\"version\":\"2.4.2\"}};\n",
       "    var render_items = [{\"docid\":\"2432a4b1-9550-4428-a74b-5861964aefa6\",\"root_ids\":[\"7489\"],\"roots\":{\"7489\":\"a74f2f52-11c8-46f6-8ee0-0210f9504437\"}}];\n",
       "    root.Bokeh.embed.embed_items_notebook(docs_json, render_items);\n",
       "  }\n",
       "  if (root.Bokeh !== undefined && root.Bokeh.Panel !== undefined && ( root['Plotly'] !== undefined)) {\n",
       "    embed_document(root);\n",
       "  } else {\n",
       "    var attempts = 0;\n",
       "    var timer = setInterval(function(root) {\n",
       "      if (root.Bokeh !== undefined && root.Bokeh.Panel !== undefined && (root['Plotly'] !== undefined)) {\n",
       "        clearInterval(timer);\n",
       "        embed_document(root);\n",
       "      } else if (document.readyState == \"complete\") {\n",
       "        attempts++;\n",
       "        if (attempts > 200) {\n",
       "          clearInterval(timer);\n",
       "          console.log(\"Bokeh: ERROR: Unable to run BokehJS code because BokehJS library is missing\");\n",
       "        }\n",
       "      }\n",
       "    }, 25, root)\n",
       "  }\n",
       "})(window);</script>"
      ],
      "text/plain": [
       "Row\n",
       "    [0] HoloViews(DynamicMap)\n",
       "    [1] Column\n",
       "        [0] WidgetBox\n",
       "            [0] Select(margin=(20, 20, 20, 20), name='Week', options=['2/5/2017', '2/12/2017', ...], value='2/5/2017', width=250)\n",
       "        [1] VSpacer()"
      ]
     },
     "execution_count": 140,
     "metadata": {
      "application/vnd.holoviews_exec.v0+json": {
       "id": "7489"
      }
     },
     "output_type": "execute_result"
    }
   ],
   "source": [
    "veggie_data.hvplot.bar(\n",
    "    rot=45, \n",
    "    width=600,\n",
    "    height=800, \n",
    "    widget_location='right_top', \n",
    "    groupby='Week'\n",
    ")"
   ]
  },
  {
   "cell_type": "code",
   "execution_count": 141,
   "id": "e1ad3c27",
   "metadata": {},
   "outputs": [
    {
     "data": {},
     "metadata": {},
     "output_type": "display_data"
    },
    {
     "data": {},
     "metadata": {},
     "output_type": "display_data"
    },
    {
     "data": {
      "application/vnd.holoviews_exec.v0+json": "",
      "text/html": [
       "<div id='7648'>\n",
       "\n",
       "\n",
       "\n",
       "\n",
       "\n",
       "  <div class=\"bk-root\" id=\"21cd31c5-5b03-40d2-967f-1061b6ce6e27\" data-root-id=\"7648\"></div>\n",
       "</div>\n",
       "<script type=\"application/javascript\">(function(root) {\n",
       "  function embed_document(root) {\n",
       "    var docs_json = {\"511dfb26-261b-4187-ae07-d6543cf0394e\":{\"defs\":[{\"extends\":null,\"module\":null,\"name\":\"ReactiveHTML1\",\"overrides\":[],\"properties\":[]},{\"extends\":null,\"module\":null,\"name\":\"FlexBox1\",\"overrides\":[],\"properties\":[{\"default\":\"flex-start\",\"kind\":null,\"name\":\"align_content\"},{\"default\":\"flex-start\",\"kind\":null,\"name\":\"align_items\"},{\"default\":\"row\",\"kind\":null,\"name\":\"flex_direction\"},{\"default\":\"wrap\",\"kind\":null,\"name\":\"flex_wrap\"},{\"default\":\"flex-start\",\"kind\":null,\"name\":\"justify_content\"}]},{\"extends\":null,\"module\":null,\"name\":\"TemplateActions1\",\"overrides\":[],\"properties\":[{\"default\":0,\"kind\":null,\"name\":\"open_modal\"},{\"default\":0,\"kind\":null,\"name\":\"close_modal\"}]},{\"extends\":null,\"module\":null,\"name\":\"MaterialTemplateActions1\",\"overrides\":[],\"properties\":[{\"default\":0,\"kind\":null,\"name\":\"open_modal\"},{\"default\":0,\"kind\":null,\"name\":\"close_modal\"}]}],\"roots\":{\"references\":[{\"attributes\":{\"axis\":{\"id\":\"7664\"},\"coordinates\":null,\"dimension\":1,\"grid_line_color\":null,\"group\":null,\"ticker\":null},\"id\":\"7667\",\"type\":\"Grid\"},{\"attributes\":{\"overlay\":{\"id\":\"7673\"}},\"id\":\"7671\",\"type\":\"BoxZoomTool\"},{\"attributes\":{},\"id\":\"7692\",\"type\":\"CategoricalTickFormatter\"},{\"attributes\":{\"factors\":[[\"0\",\"Spaghetti_and meatballs_Miami_Ft_Lauderdale_FL\"],[\"0\",\"alfredo_pasta_Miami_Ft_Lauderdale_FL\"]],\"tags\":[[[\"index\",\"index\",null],[\"Variable\",\"Variable\",null]]]},\"id\":\"7649\",\"type\":\"FactorRange\"},{\"attributes\":{\"end\":16.5,\"reset_end\":16.5,\"reset_start\":0.0,\"tags\":[[[\"value\",\"value\",null]]]},\"id\":\"7650\",\"type\":\"Range1d\"},{\"attributes\":{},\"id\":\"7657\",\"type\":\"CategoricalScale\"},{\"attributes\":{\"axis\":{\"id\":\"7661\"},\"coordinates\":null,\"grid_line_color\":null,\"group\":null,\"ticker\":null},\"id\":\"7663\",\"type\":\"Grid\"},{\"attributes\":{\"tools\":[{\"id\":\"7651\"},{\"id\":\"7668\"},{\"id\":\"7669\"},{\"id\":\"7670\"},{\"id\":\"7671\"},{\"id\":\"7672\"}]},\"id\":\"7674\",\"type\":\"Toolbar\"},{\"attributes\":{\"margin\":[20,20,20,20],\"min_width\":250,\"options\":[\"2/5/2017\",\"2/12/2017\",\"2/19/2017\",\"2/26/2017\",\"3/5/2017\",\"3/12/2017\",\"3/19/2017\",\"3/26/2017\",\"4/2/2017\",\"4/9/2017\",\"4/16/2017\",\"4/23/2017\",\"4/30/2017\",\"5/7/2017\",\"5/14/2017\",\"5/21/2017\",\"5/28/2017\",\"6/4/2017\",\"6/11/2017\",\"6/18/2017\",\"6/25/2017\",\"7/2/2017\",\"7/9/2017\",\"7/16/2017\",\"7/23/2017\",\"7/30/2017\",\"8/6/2017\",\"8/13/2017\",\"8/20/2017\",\"8/27/2017\",\"9/3/2017\",\"9/10/2017\",\"9/17/2017\",\"9/24/2017\",\"10/1/2017\",\"10/8/2017\",\"10/15/2017\",\"10/22/2017\",\"10/29/2017\",\"11/5/2017\",\"11/12/2017\",\"11/19/2017\",\"11/26/2017\",\"12/3/2017\",\"12/10/2017\",\"12/17/2017\",\"12/24/2017\",\"12/31/2017\",\"1/7/2018\",\"1/14/2018\",\"1/21/2018\",\"1/28/2018\",\"2/4/2018\",\"2/11/2018\",\"2/18/2018\",\"2/25/2018\",\"3/4/2018\",\"3/11/2018\",\"3/18/2018\",\"3/25/2018\",\"4/1/2018\",\"4/8/2018\",\"4/15/2018\",\"4/22/2018\",\"4/29/2018\",\"5/6/2018\",\"5/13/2018\",\"5/20/2018\",\"5/27/2018\",\"6/3/2018\",\"6/10/2018\",\"6/17/2018\",\"6/24/2018\",\"7/1/2018\",\"7/8/2018\",\"7/15/2018\",\"7/22/2018\",\"7/29/2018\",\"8/5/2018\",\"8/12/2018\",\"8/19/2018\",\"8/26/2018\",\"9/2/2018\",\"9/9/2018\",\"9/16/2018\",\"9/23/2018\",\"9/30/2018\",\"10/7/2018\",\"10/14/2018\",\"10/21/2018\",\"10/28/2018\",\"11/4/2018\",\"11/11/2018\",\"11/18/2018\",\"11/25/2018\",\"12/2/2018\",\"12/9/2018\",\"12/16/2018\",\"12/23/2018\",\"12/30/2018\",\"1/6/2019\",\"1/13/2019\",\"1/20/2019\",\"1/27/2019\",\"2/3/2019\",\"2/10/2019\",\"2/17/2019\",\"2/24/2019\",\"3/3/2019\",\"3/10/2019\",\"3/17/2019\",\"3/24/2019\",\"3/31/2019\",\"4/7/2019\",\"4/14/2019\",\"4/21/2019\",\"4/28/2019\",\"5/5/2019\",\"5/12/2019\",\"5/19/2019\",\"5/26/2019\",\"6/2/2019\",\"6/9/2019\",\"6/16/2019\",\"6/23/2019\",\"6/30/2019\",\"7/7/2019\",\"7/14/2019\",\"7/21/2019\",\"7/28/2019\",\"8/4/2019\",\"8/11/2019\",\"8/18/2019\",\"8/25/2019\",\"9/1/2019\",\"9/8/2019\",\"9/15/2019\",\"9/22/2019\",\"9/29/2019\",\"10/6/2019\",\"10/13/2019\",\"10/20/2019\",\"10/27/2019\",\"11/3/2019\",\"11/10/2019\",\"11/17/2019\",\"11/24/2019\",\"12/1/2019\",\"12/8/2019\",\"12/15/2019\",\"12/22/2019\",\"12/29/2019\",\"1/5/2020\",\"1/12/2020\",\"1/19/2020\",\"1/26/2020\",\"2/2/2020\",\"2/9/2020\",\"2/16/2020\",\"2/23/2020\",\"3/1/2020\",\"3/8/2020\",\"3/15/2020\",\"3/22/2020\",\"3/29/2020\",\"4/5/2020\",\"4/12/2020\",\"4/19/2020\",\"4/26/2020\",\"5/3/2020\",\"5/10/2020\",\"5/17/2020\",\"5/24/2020\",\"5/31/2020\",\"6/7/2020\",\"6/14/2020\",\"6/21/2020\",\"6/28/2020\",\"7/5/2020\",\"7/12/2020\",\"7/19/2020\",\"7/26/2020\",\"8/2/2020\",\"8/9/2020\",\"8/16/2020\",\"8/23/2020\",\"8/30/2020\",\"9/6/2020\",\"9/13/2020\",\"9/20/2020\",\"9/27/2020\",\"10/4/2020\",\"10/11/2020\",\"10/18/2020\",\"10/25/2020\",\"11/1/2020\",\"11/8/2020\",\"11/15/2020\",\"11/22/2020\",\"11/29/2020\",\"12/6/2020\",\"12/13/2020\",\"12/20/2020\",\"12/27/2020\",\"1/3/2021\",\"1/10/2021\",\"1/17/2021\",\"1/24/2021\",\"1/31/2021\",\"2/7/2021\",\"2/14/2021\",\"2/21/2021\",\"2/28/2021\",\"3/7/2021\",\"3/14/2021\",\"3/21/2021\",\"3/28/2021\",\"4/4/2021\",\"4/11/2021\",\"4/18/2021\",\"4/25/2021\",\"5/2/2021\",\"5/9/2021\",\"5/16/2021\",\"5/23/2021\",\"5/30/2021\",\"6/6/2021\",\"6/13/2021\",\"6/20/2021\",\"6/27/2021\",\"7/4/2021\",\"7/11/2021\",\"7/18/2021\",\"7/25/2021\",\"8/1/2021\",\"8/8/2021\",\"8/15/2021\",\"8/22/2021\",\"8/29/2021\",\"9/5/2021\",\"9/12/2021\",\"9/19/2021\",\"9/26/2021\",\"10/3/2021\",\"10/10/2021\",\"10/17/2021\",\"10/24/2021\",\"10/31/2021\",\"11/7/2021\",\"11/14/2021\",\"11/21/2021\",\"11/28/2021\",\"12/5/2021\",\"12/12/2021\",\"12/19/2021\",\"12/26/2021\",\"1/2/2022\",\"1/9/2022\",\"1/16/2022\",\"1/23/2022\"],\"title\":\"Week\",\"value\":\"2/5/2017\",\"width\":250},\"id\":\"7725\",\"type\":\"Select\"},{\"attributes\":{},\"id\":\"7683\",\"type\":\"Selection\"},{\"attributes\":{\"bottom_units\":\"screen\",\"coordinates\":null,\"fill_alpha\":0.5,\"fill_color\":\"lightgrey\",\"group\":null,\"left_units\":\"screen\",\"level\":\"overlay\",\"line_alpha\":1.0,\"line_color\":\"black\",\"line_dash\":[4,4],\"line_width\":2,\"right_units\":\"screen\",\"syncable\":false,\"top_units\":\"screen\"},\"id\":\"7673\",\"type\":\"BoxAnnotation\"},{\"attributes\":{\"bottom\":{\"value\":0},\"fill_alpha\":{\"value\":1.0},\"fill_color\":{\"field\":\"Variable\",\"transform\":{\"id\":\"7681\"}},\"hatch_alpha\":{\"value\":1.0},\"hatch_color\":{\"field\":\"Variable\",\"transform\":{\"id\":\"7681\"}},\"hatch_scale\":{\"value\":12.0},\"hatch_weight\":{\"value\":1.0},\"line_alpha\":{\"value\":1.0},\"line_cap\":{\"value\":\"butt\"},\"line_color\":{\"value\":\"black\"},\"line_dash\":{\"value\":[]},\"line_dash_offset\":{\"value\":0},\"line_join\":{\"value\":\"bevel\"},\"line_width\":{\"value\":1},\"top\":{\"field\":\"value\"},\"width\":{\"value\":0.8},\"x\":{\"field\":\"xoffsets\"}},\"id\":\"7690\",\"type\":\"VBar\"},{\"attributes\":{},\"id\":\"7670\",\"type\":\"WheelZoomTool\"},{\"attributes\":{},\"id\":\"7659\",\"type\":\"LinearScale\"},{\"attributes\":{\"axis_label\":\"\",\"coordinates\":null,\"formatter\":{\"id\":\"7695\"},\"group\":null,\"major_label_policy\":{\"id\":\"7696\"},\"ticker\":{\"id\":\"7665\"}},\"id\":\"7664\",\"type\":\"LinearAxis\"},{\"attributes\":{\"source\":{\"id\":\"7682\"}},\"id\":\"7689\",\"type\":\"CDSView\"},{\"attributes\":{\"data\":{\"Variable\":[\"alfredo_pasta_Miami_Ft_Lauderdale_FL\",\"Spaghetti_and meatballs_Miami_Ft_Lauderdale_FL\"],\"index\":[\"0\",\"0\"],\"value\":[15,0],\"xoffsets\":[[\"0\",\"alfredo_pasta_Miami_Ft_Lauderdale_FL\"],[\"0\",\"Spaghetti_and meatballs_Miami_Ft_Lauderdale_FL\"]]},\"selected\":{\"id\":\"7683\"},\"selection_policy\":{\"id\":\"7710\"}},\"id\":\"7682\",\"type\":\"ColumnDataSource\"},{\"attributes\":{},\"id\":\"7672\",\"type\":\"ResetTool\"},{\"attributes\":{\"children\":[{\"id\":\"7724\"},{\"id\":\"7726\"}],\"margin\":[0,0,0,0],\"name\":\"Column20222\"},\"id\":\"7723\",\"type\":\"Column\"},{\"attributes\":{},\"id\":\"7668\",\"type\":\"SaveTool\"},{\"attributes\":{},\"id\":\"7669\",\"type\":\"PanTool\"},{\"attributes\":{},\"id\":\"7695\",\"type\":\"BasicTickFormatter\"},{\"attributes\":{},\"id\":\"7696\",\"type\":\"AllLabels\"},{\"attributes\":{},\"id\":\"7662\",\"type\":\"CategoricalTicker\"},{\"attributes\":{\"children\":[{\"id\":\"7725\"}],\"css_classes\":[\"panel-widget-box\"],\"margin\":[5,5,5,5],\"name\":\"WidgetBox20216\"},\"id\":\"7724\",\"type\":\"Column\"},{\"attributes\":{\"client_comm_id\":\"badff5b5b87740a8860760dfb99afe53\",\"comm_id\":\"0f626163928149059f1ebfd8a8dcd5a9\",\"plot_id\":\"7648\"},\"id\":\"7757\",\"type\":\"panel.models.comm_manager.CommManager\"},{\"attributes\":{\"axis_label\":\"\",\"coordinates\":null,\"formatter\":{\"id\":\"7692\"},\"group\":null,\"major_label_orientation\":1.5707963267948966,\"major_label_policy\":{\"id\":\"7693\"},\"ticker\":{\"id\":\"7662\"}},\"id\":\"7661\",\"type\":\"CategoricalAxis\"},{\"attributes\":{\"callback\":null,\"renderers\":[{\"id\":\"7688\"}],\"tags\":[\"hv_created\"],\"tooltips\":[[\"index\",\"@{index}\"],[\"Variable\",\"@{Variable}\"],[\"value\",\"@{value}\"]]},\"id\":\"7651\",\"type\":\"HoverTool\"},{\"attributes\":{\"children\":[{\"id\":\"7652\"},{\"id\":\"7723\"}],\"margin\":[0,0,0,0],\"name\":\"Row20215\"},\"id\":\"7648\",\"type\":\"Row\"},{\"attributes\":{\"fill_alpha\":{\"value\":0.2},\"fill_color\":{\"field\":\"Variable\",\"transform\":{\"id\":\"7681\"}},\"hatch_alpha\":{\"value\":0.2},\"hatch_color\":{\"field\":\"Variable\",\"transform\":{\"id\":\"7681\"}},\"line_alpha\":{\"value\":0.2},\"top\":{\"field\":\"value\"},\"width\":{\"value\":0.8},\"x\":{\"field\":\"xoffsets\"}},\"id\":\"7687\",\"type\":\"VBar\"},{\"attributes\":{\"coordinates\":null,\"group\":null,\"text\":\"Week: 2/5/2017\",\"text_color\":\"black\",\"text_font_size\":\"12pt\"},\"id\":\"7653\",\"type\":\"Title\"},{\"attributes\":{\"coordinates\":null,\"data_source\":{\"id\":\"7682\"},\"glyph\":{\"id\":\"7685\"},\"group\":null,\"hover_glyph\":null,\"muted_glyph\":{\"id\":\"7687\"},\"nonselection_glyph\":{\"id\":\"7686\"},\"selection_glyph\":{\"id\":\"7690\"},\"view\":{\"id\":\"7689\"}},\"id\":\"7688\",\"type\":\"GlyphRenderer\"},{\"attributes\":{\"fill_color\":{\"field\":\"Variable\",\"transform\":{\"id\":\"7681\"}},\"hatch_color\":{\"field\":\"Variable\",\"transform\":{\"id\":\"7681\"}},\"top\":{\"field\":\"value\"},\"width\":{\"value\":0.8},\"x\":{\"field\":\"xoffsets\"}},\"id\":\"7685\",\"type\":\"VBar\"},{\"attributes\":{},\"id\":\"7665\",\"type\":\"BasicTicker\"},{\"attributes\":{\"factors\":[\"alfredo_pasta_Miami_Ft_Lauderdale_FL\",\"Spaghetti_and meatballs_Miami_Ft_Lauderdale_FL\"],\"palette\":[\"#30a2da\",\"#fc4f30\"]},\"id\":\"7681\",\"type\":\"CategoricalColorMapper\"},{\"attributes\":{\"margin\":[5,5,5,5],\"name\":\"VSpacer20221\",\"sizing_mode\":\"stretch_height\"},\"id\":\"7726\",\"type\":\"Spacer\"},{\"attributes\":{\"fill_alpha\":{\"value\":0.1},\"fill_color\":{\"field\":\"Variable\",\"transform\":{\"id\":\"7681\"}},\"hatch_alpha\":{\"value\":0.1},\"hatch_color\":{\"field\":\"Variable\",\"transform\":{\"id\":\"7681\"}},\"line_alpha\":{\"value\":0.1},\"top\":{\"field\":\"value\"},\"width\":{\"value\":0.8},\"x\":{\"field\":\"xoffsets\"}},\"id\":\"7686\",\"type\":\"VBar\"},{\"attributes\":{},\"id\":\"7710\",\"type\":\"UnionRenderers\"},{\"attributes\":{},\"id\":\"7693\",\"type\":\"AllLabels\"},{\"attributes\":{\"below\":[{\"id\":\"7661\"}],\"center\":[{\"id\":\"7663\"},{\"id\":\"7667\"}],\"height\":800,\"left\":[{\"id\":\"7664\"}],\"margin\":[5,5,5,5],\"min_border_bottom\":10,\"min_border_left\":10,\"min_border_right\":10,\"min_border_top\":10,\"renderers\":[{\"id\":\"7688\"}],\"sizing_mode\":\"fixed\",\"title\":{\"id\":\"7653\"},\"toolbar\":{\"id\":\"7674\"},\"x_range\":{\"id\":\"7649\"},\"x_scale\":{\"id\":\"7657\"},\"y_range\":{\"id\":\"7650\"},\"y_scale\":{\"id\":\"7659\"}},\"id\":\"7652\",\"subtype\":\"Figure\",\"type\":\"Plot\"}],\"root_ids\":[\"7648\",\"7757\"]},\"title\":\"Bokeh Application\",\"version\":\"2.4.2\"}};\n",
       "    var render_items = [{\"docid\":\"511dfb26-261b-4187-ae07-d6543cf0394e\",\"root_ids\":[\"7648\"],\"roots\":{\"7648\":\"21cd31c5-5b03-40d2-967f-1061b6ce6e27\"}}];\n",
       "    root.Bokeh.embed.embed_items_notebook(docs_json, render_items);\n",
       "  }\n",
       "  if (root.Bokeh !== undefined && root.Bokeh.Panel !== undefined && ( root['Plotly'] !== undefined)) {\n",
       "    embed_document(root);\n",
       "  } else {\n",
       "    var attempts = 0;\n",
       "    var timer = setInterval(function(root) {\n",
       "      if (root.Bokeh !== undefined && root.Bokeh.Panel !== undefined && (root['Plotly'] !== undefined)) {\n",
       "        clearInterval(timer);\n",
       "        embed_document(root);\n",
       "      } else if (document.readyState == \"complete\") {\n",
       "        attempts++;\n",
       "        if (attempts > 200) {\n",
       "          clearInterval(timer);\n",
       "          console.log(\"Bokeh: ERROR: Unable to run BokehJS code because BokehJS library is missing\");\n",
       "        }\n",
       "      }\n",
       "    }, 25, root)\n",
       "  }\n",
       "})(window);</script>"
      ],
      "text/plain": [
       "Row\n",
       "    [0] HoloViews(DynamicMap)\n",
       "    [1] Column\n",
       "        [0] WidgetBox\n",
       "            [0] Select(margin=(20, 20, 20, 20), name='Week', options=['2/5/2017', '2/12/2017', ...], value='2/5/2017', width=250)\n",
       "        [1] VSpacer()"
      ]
     },
     "execution_count": 141,
     "metadata": {
      "application/vnd.holoviews_exec.v0+json": {
       "id": "7648"
      }
     },
     "output_type": "execute_result"
    }
   ],
   "source": [
    "pasta_data.hvplot.bar(\n",
    "    rot=90, width=600, \n",
    "    height=800, \n",
    "    widget_location='right_top', \n",
    "    groupby='Week'\n",
    ")"
   ]
  },
  {
   "cell_type": "code",
   "execution_count": 142,
   "id": "7c3687ee",
   "metadata": {},
   "outputs": [
    {
     "data": {},
     "metadata": {},
     "output_type": "display_data"
    },
    {
     "data": {},
     "metadata": {},
     "output_type": "display_data"
    },
    {
     "data": {
      "application/vnd.holoviews_exec.v0+json": "",
      "text/html": [
       "<div id='7808'>\n",
       "\n",
       "\n",
       "\n",
       "\n",
       "\n",
       "  <div class=\"bk-root\" id=\"1fc94bcf-e345-479a-8cab-31d8b6689575\" data-root-id=\"7808\"></div>\n",
       "</div>\n",
       "<script type=\"application/javascript\">(function(root) {\n",
       "  function embed_document(root) {\n",
       "    var docs_json = {\"bc3fd3c0-13f2-40b7-9ebf-f19ace7ac73a\":{\"defs\":[{\"extends\":null,\"module\":null,\"name\":\"ReactiveHTML1\",\"overrides\":[],\"properties\":[]},{\"extends\":null,\"module\":null,\"name\":\"FlexBox1\",\"overrides\":[],\"properties\":[{\"default\":\"flex-start\",\"kind\":null,\"name\":\"align_content\"},{\"default\":\"flex-start\",\"kind\":null,\"name\":\"align_items\"},{\"default\":\"row\",\"kind\":null,\"name\":\"flex_direction\"},{\"default\":\"wrap\",\"kind\":null,\"name\":\"flex_wrap\"},{\"default\":\"flex-start\",\"kind\":null,\"name\":\"justify_content\"}]},{\"extends\":null,\"module\":null,\"name\":\"TemplateActions1\",\"overrides\":[],\"properties\":[{\"default\":0,\"kind\":null,\"name\":\"open_modal\"},{\"default\":0,\"kind\":null,\"name\":\"close_modal\"}]},{\"extends\":null,\"module\":null,\"name\":\"MaterialTemplateActions1\",\"overrides\":[],\"properties\":[{\"default\":0,\"kind\":null,\"name\":\"open_modal\"},{\"default\":0,\"kind\":null,\"name\":\"close_modal\"}]}],\"roots\":{\"references\":[{\"attributes\":{},\"id\":\"7855\",\"type\":\"BasicTickFormatter\"},{\"attributes\":{},\"id\":\"7828\",\"type\":\"SaveTool\"},{\"attributes\":{},\"id\":\"7825\",\"type\":\"BasicTicker\"},{\"attributes\":{\"fill_color\":{\"field\":\"Variable\",\"transform\":{\"id\":\"7841\"}},\"hatch_color\":{\"field\":\"Variable\",\"transform\":{\"id\":\"7841\"}},\"top\":{\"field\":\"value\"},\"width\":{\"value\":0.8},\"x\":{\"field\":\"xoffsets\"}},\"id\":\"7845\",\"type\":\"VBar\"},{\"attributes\":{},\"id\":\"7822\",\"type\":\"CategoricalTicker\"},{\"attributes\":{},\"id\":\"7843\",\"type\":\"Selection\"},{\"attributes\":{\"margin\":[5,5,5,5],\"name\":\"VSpacer20497\",\"sizing_mode\":\"stretch_height\"},\"id\":\"7886\",\"type\":\"Spacer\"},{\"attributes\":{\"children\":[{\"id\":\"7885\"}],\"css_classes\":[\"panel-widget-box\"],\"margin\":[5,5,5,5],\"name\":\"WidgetBox20492\"},\"id\":\"7884\",\"type\":\"Column\"},{\"attributes\":{\"bottom\":{\"value\":0},\"fill_alpha\":{\"value\":1.0},\"fill_color\":{\"field\":\"Variable\",\"transform\":{\"id\":\"7841\"}},\"hatch_alpha\":{\"value\":1.0},\"hatch_color\":{\"field\":\"Variable\",\"transform\":{\"id\":\"7841\"}},\"hatch_scale\":{\"value\":12.0},\"hatch_weight\":{\"value\":1.0},\"line_alpha\":{\"value\":1.0},\"line_cap\":{\"value\":\"butt\"},\"line_color\":{\"value\":\"black\"},\"line_dash\":{\"value\":[]},\"line_dash_offset\":{\"value\":0},\"line_join\":{\"value\":\"bevel\"},\"line_width\":{\"value\":1},\"top\":{\"field\":\"value\"},\"width\":{\"value\":0.8},\"x\":{\"field\":\"xoffsets\"}},\"id\":\"7850\",\"type\":\"VBar\"},{\"attributes\":{},\"id\":\"7870\",\"type\":\"UnionRenderers\"},{\"attributes\":{},\"id\":\"7819\",\"type\":\"LinearScale\"},{\"attributes\":{\"end\":22.0,\"reset_end\":22.0,\"reset_start\":0.0,\"tags\":[[[\"value\",\"value\",null]]]},\"id\":\"7810\",\"type\":\"Range1d\"},{\"attributes\":{\"coordinates\":null,\"group\":null,\"text\":\"Week: 2/5/2017\",\"text_color\":\"black\",\"text_font_size\":\"12pt\"},\"id\":\"7813\",\"type\":\"Title\"},{\"attributes\":{\"tools\":[{\"id\":\"7811\"},{\"id\":\"7828\"},{\"id\":\"7829\"},{\"id\":\"7830\"},{\"id\":\"7831\"},{\"id\":\"7832\"}]},\"id\":\"7834\",\"type\":\"Toolbar\"},{\"attributes\":{\"children\":[{\"id\":\"7812\"},{\"id\":\"7883\"}],\"margin\":[0,0,0,0],\"name\":\"Row20491\"},\"id\":\"7808\",\"type\":\"Row\"},{\"attributes\":{\"bottom_units\":\"screen\",\"coordinates\":null,\"fill_alpha\":0.5,\"fill_color\":\"lightgrey\",\"group\":null,\"left_units\":\"screen\",\"level\":\"overlay\",\"line_alpha\":1.0,\"line_color\":\"black\",\"line_dash\":[4,4],\"line_width\":2,\"right_units\":\"screen\",\"syncable\":false,\"top_units\":\"screen\"},\"id\":\"7833\",\"type\":\"BoxAnnotation\"},{\"attributes\":{},\"id\":\"7832\",\"type\":\"ResetTool\"},{\"attributes\":{\"source\":{\"id\":\"7842\"}},\"id\":\"7849\",\"type\":\"CDSView\"},{\"attributes\":{\"factors\":[[\"0\",\"Pepperoni_pizza_Miami_Ft_Lauderdale_FL\"],[\"0\",\"supreme_pizza_Miami_Ft_Lauderdale_FL\"]],\"tags\":[[[\"index\",\"index\",null],[\"Variable\",\"Variable\",null]]]},\"id\":\"7809\",\"type\":\"FactorRange\"},{\"attributes\":{\"coordinates\":null,\"data_source\":{\"id\":\"7842\"},\"glyph\":{\"id\":\"7845\"},\"group\":null,\"hover_glyph\":null,\"muted_glyph\":{\"id\":\"7847\"},\"nonselection_glyph\":{\"id\":\"7846\"},\"selection_glyph\":{\"id\":\"7850\"},\"view\":{\"id\":\"7849\"}},\"id\":\"7848\",\"type\":\"GlyphRenderer\"},{\"attributes\":{\"axis\":{\"id\":\"7821\"},\"coordinates\":null,\"grid_line_color\":null,\"group\":null,\"ticker\":null},\"id\":\"7823\",\"type\":\"Grid\"},{\"attributes\":{\"fill_alpha\":{\"value\":0.1},\"fill_color\":{\"field\":\"Variable\",\"transform\":{\"id\":\"7841\"}},\"hatch_alpha\":{\"value\":0.1},\"hatch_color\":{\"field\":\"Variable\",\"transform\":{\"id\":\"7841\"}},\"line_alpha\":{\"value\":0.1},\"top\":{\"field\":\"value\"},\"width\":{\"value\":0.8},\"x\":{\"field\":\"xoffsets\"}},\"id\":\"7846\",\"type\":\"VBar\"},{\"attributes\":{},\"id\":\"7817\",\"type\":\"CategoricalScale\"},{\"attributes\":{},\"id\":\"7853\",\"type\":\"AllLabels\"},{\"attributes\":{\"margin\":[20,20,20,20],\"min_width\":250,\"options\":[\"2/5/2017\",\"2/12/2017\",\"2/19/2017\",\"2/26/2017\",\"3/5/2017\",\"3/12/2017\",\"3/19/2017\",\"3/26/2017\",\"4/2/2017\",\"4/9/2017\",\"4/16/2017\",\"4/23/2017\",\"4/30/2017\",\"5/7/2017\",\"5/14/2017\",\"5/21/2017\",\"5/28/2017\",\"6/4/2017\",\"6/11/2017\",\"6/18/2017\",\"6/25/2017\",\"7/2/2017\",\"7/9/2017\",\"7/16/2017\",\"7/23/2017\",\"7/30/2017\",\"8/6/2017\",\"8/13/2017\",\"8/20/2017\",\"8/27/2017\",\"9/3/2017\",\"9/10/2017\",\"9/17/2017\",\"9/24/2017\",\"10/1/2017\",\"10/8/2017\",\"10/15/2017\",\"10/22/2017\",\"10/29/2017\",\"11/5/2017\",\"11/12/2017\",\"11/19/2017\",\"11/26/2017\",\"12/3/2017\",\"12/10/2017\",\"12/17/2017\",\"12/24/2017\",\"12/31/2017\",\"1/7/2018\",\"1/14/2018\",\"1/21/2018\",\"1/28/2018\",\"2/4/2018\",\"2/11/2018\",\"2/18/2018\",\"2/25/2018\",\"3/4/2018\",\"3/11/2018\",\"3/18/2018\",\"3/25/2018\",\"4/1/2018\",\"4/8/2018\",\"4/15/2018\",\"4/22/2018\",\"4/29/2018\",\"5/6/2018\",\"5/13/2018\",\"5/20/2018\",\"5/27/2018\",\"6/3/2018\",\"6/10/2018\",\"6/17/2018\",\"6/24/2018\",\"7/1/2018\",\"7/8/2018\",\"7/15/2018\",\"7/22/2018\",\"7/29/2018\",\"8/5/2018\",\"8/12/2018\",\"8/19/2018\",\"8/26/2018\",\"9/2/2018\",\"9/9/2018\",\"9/16/2018\",\"9/23/2018\",\"9/30/2018\",\"10/7/2018\",\"10/14/2018\",\"10/21/2018\",\"10/28/2018\",\"11/4/2018\",\"11/11/2018\",\"11/18/2018\",\"11/25/2018\",\"12/2/2018\",\"12/9/2018\",\"12/16/2018\",\"12/23/2018\",\"12/30/2018\",\"1/6/2019\",\"1/13/2019\",\"1/20/2019\",\"1/27/2019\",\"2/3/2019\",\"2/10/2019\",\"2/17/2019\",\"2/24/2019\",\"3/3/2019\",\"3/10/2019\",\"3/17/2019\",\"3/24/2019\",\"3/31/2019\",\"4/7/2019\",\"4/14/2019\",\"4/21/2019\",\"4/28/2019\",\"5/5/2019\",\"5/12/2019\",\"5/19/2019\",\"5/26/2019\",\"6/2/2019\",\"6/9/2019\",\"6/16/2019\",\"6/23/2019\",\"6/30/2019\",\"7/7/2019\",\"7/14/2019\",\"7/21/2019\",\"7/28/2019\",\"8/4/2019\",\"8/11/2019\",\"8/18/2019\",\"8/25/2019\",\"9/1/2019\",\"9/8/2019\",\"9/15/2019\",\"9/22/2019\",\"9/29/2019\",\"10/6/2019\",\"10/13/2019\",\"10/20/2019\",\"10/27/2019\",\"11/3/2019\",\"11/10/2019\",\"11/17/2019\",\"11/24/2019\",\"12/1/2019\",\"12/8/2019\",\"12/15/2019\",\"12/22/2019\",\"12/29/2019\",\"1/5/2020\",\"1/12/2020\",\"1/19/2020\",\"1/26/2020\",\"2/2/2020\",\"2/9/2020\",\"2/16/2020\",\"2/23/2020\",\"3/1/2020\",\"3/8/2020\",\"3/15/2020\",\"3/22/2020\",\"3/29/2020\",\"4/5/2020\",\"4/12/2020\",\"4/19/2020\",\"4/26/2020\",\"5/3/2020\",\"5/10/2020\",\"5/17/2020\",\"5/24/2020\",\"5/31/2020\",\"6/7/2020\",\"6/14/2020\",\"6/21/2020\",\"6/28/2020\",\"7/5/2020\",\"7/12/2020\",\"7/19/2020\",\"7/26/2020\",\"8/2/2020\",\"8/9/2020\",\"8/16/2020\",\"8/23/2020\",\"8/30/2020\",\"9/6/2020\",\"9/13/2020\",\"9/20/2020\",\"9/27/2020\",\"10/4/2020\",\"10/11/2020\",\"10/18/2020\",\"10/25/2020\",\"11/1/2020\",\"11/8/2020\",\"11/15/2020\",\"11/22/2020\",\"11/29/2020\",\"12/6/2020\",\"12/13/2020\",\"12/20/2020\",\"12/27/2020\",\"1/3/2021\",\"1/10/2021\",\"1/17/2021\",\"1/24/2021\",\"1/31/2021\",\"2/7/2021\",\"2/14/2021\",\"2/21/2021\",\"2/28/2021\",\"3/7/2021\",\"3/14/2021\",\"3/21/2021\",\"3/28/2021\",\"4/4/2021\",\"4/11/2021\",\"4/18/2021\",\"4/25/2021\",\"5/2/2021\",\"5/9/2021\",\"5/16/2021\",\"5/23/2021\",\"5/30/2021\",\"6/6/2021\",\"6/13/2021\",\"6/20/2021\",\"6/27/2021\",\"7/4/2021\",\"7/11/2021\",\"7/18/2021\",\"7/25/2021\",\"8/1/2021\",\"8/8/2021\",\"8/15/2021\",\"8/22/2021\",\"8/29/2021\",\"9/5/2021\",\"9/12/2021\",\"9/19/2021\",\"9/26/2021\",\"10/3/2021\",\"10/10/2021\",\"10/17/2021\",\"10/24/2021\",\"10/31/2021\",\"11/7/2021\",\"11/14/2021\",\"11/21/2021\",\"11/28/2021\",\"12/5/2021\",\"12/12/2021\",\"12/19/2021\",\"12/26/2021\",\"1/2/2022\",\"1/9/2022\",\"1/16/2022\",\"1/23/2022\"],\"title\":\"Week\",\"value\":\"2/5/2017\",\"width\":250},\"id\":\"7885\",\"type\":\"Select\"},{\"attributes\":{\"client_comm_id\":\"b5e6041cefea45d1822e067f9c2c4191\",\"comm_id\":\"7b72bc9579584acb974ee81f7121384b\",\"plot_id\":\"7808\"},\"id\":\"7917\",\"type\":\"panel.models.comm_manager.CommManager\"},{\"attributes\":{},\"id\":\"7852\",\"type\":\"CategoricalTickFormatter\"},{\"attributes\":{\"axis_label\":\"\",\"coordinates\":null,\"formatter\":{\"id\":\"7852\"},\"group\":null,\"major_label_orientation\":1.5707963267948966,\"major_label_policy\":{\"id\":\"7853\"},\"ticker\":{\"id\":\"7822\"}},\"id\":\"7821\",\"type\":\"CategoricalAxis\"},{\"attributes\":{},\"id\":\"7830\",\"type\":\"WheelZoomTool\"},{\"attributes\":{\"children\":[{\"id\":\"7884\"},{\"id\":\"7886\"}],\"margin\":[0,0,0,0],\"name\":\"Column20498\"},\"id\":\"7883\",\"type\":\"Column\"},{\"attributes\":{},\"id\":\"7856\",\"type\":\"AllLabels\"},{\"attributes\":{\"fill_alpha\":{\"value\":0.2},\"fill_color\":{\"field\":\"Variable\",\"transform\":{\"id\":\"7841\"}},\"hatch_alpha\":{\"value\":0.2},\"hatch_color\":{\"field\":\"Variable\",\"transform\":{\"id\":\"7841\"}},\"line_alpha\":{\"value\":0.2},\"top\":{\"field\":\"value\"},\"width\":{\"value\":0.8},\"x\":{\"field\":\"xoffsets\"}},\"id\":\"7847\",\"type\":\"VBar\"},{\"attributes\":{\"callback\":null,\"renderers\":[{\"id\":\"7848\"}],\"tags\":[\"hv_created\"],\"tooltips\":[[\"index\",\"@{index}\"],[\"Variable\",\"@{Variable}\"],[\"value\",\"@{value}\"]]},\"id\":\"7811\",\"type\":\"HoverTool\"},{\"attributes\":{\"factors\":[\"Pepperoni_pizza_Miami_Ft_Lauderdale_FL\",\"supreme_pizza_Miami_Ft_Lauderdale_FL\"],\"palette\":[\"#30a2da\",\"#fc4f30\"]},\"id\":\"7841\",\"type\":\"CategoricalColorMapper\"},{\"attributes\":{\"below\":[{\"id\":\"7821\"}],\"center\":[{\"id\":\"7823\"},{\"id\":\"7827\"}],\"height\":800,\"left\":[{\"id\":\"7824\"}],\"margin\":[5,5,5,5],\"min_border_bottom\":10,\"min_border_left\":10,\"min_border_right\":10,\"min_border_top\":10,\"renderers\":[{\"id\":\"7848\"}],\"sizing_mode\":\"fixed\",\"title\":{\"id\":\"7813\"},\"toolbar\":{\"id\":\"7834\"},\"x_range\":{\"id\":\"7809\"},\"x_scale\":{\"id\":\"7817\"},\"y_range\":{\"id\":\"7810\"},\"y_scale\":{\"id\":\"7819\"}},\"id\":\"7812\",\"subtype\":\"Figure\",\"type\":\"Plot\"},{\"attributes\":{\"axis_label\":\"\",\"coordinates\":null,\"formatter\":{\"id\":\"7855\"},\"group\":null,\"major_label_policy\":{\"id\":\"7856\"},\"ticker\":{\"id\":\"7825\"}},\"id\":\"7824\",\"type\":\"LinearAxis\"},{\"attributes\":{\"overlay\":{\"id\":\"7833\"}},\"id\":\"7831\",\"type\":\"BoxZoomTool\"},{\"attributes\":{\"axis\":{\"id\":\"7824\"},\"coordinates\":null,\"dimension\":1,\"grid_line_color\":null,\"group\":null,\"ticker\":null},\"id\":\"7827\",\"type\":\"Grid\"},{\"attributes\":{},\"id\":\"7829\",\"type\":\"PanTool\"},{\"attributes\":{\"data\":{\"Variable\":[\"Pepperoni_pizza_Miami_Ft_Lauderdale_FL\",\"supreme_pizza_Miami_Ft_Lauderdale_FL\"],\"index\":[\"0\",\"0\"],\"value\":[20,0],\"xoffsets\":[[\"0\",\"Pepperoni_pizza_Miami_Ft_Lauderdale_FL\"],[\"0\",\"supreme_pizza_Miami_Ft_Lauderdale_FL\"]]},\"selected\":{\"id\":\"7843\"},\"selection_policy\":{\"id\":\"7870\"}},\"id\":\"7842\",\"type\":\"ColumnDataSource\"}],\"root_ids\":[\"7808\",\"7917\"]},\"title\":\"Bokeh Application\",\"version\":\"2.4.2\"}};\n",
       "    var render_items = [{\"docid\":\"bc3fd3c0-13f2-40b7-9ebf-f19ace7ac73a\",\"root_ids\":[\"7808\"],\"roots\":{\"7808\":\"1fc94bcf-e345-479a-8cab-31d8b6689575\"}}];\n",
       "    root.Bokeh.embed.embed_items_notebook(docs_json, render_items);\n",
       "  }\n",
       "  if (root.Bokeh !== undefined && root.Bokeh.Panel !== undefined && ( root['Plotly'] !== undefined)) {\n",
       "    embed_document(root);\n",
       "  } else {\n",
       "    var attempts = 0;\n",
       "    var timer = setInterval(function(root) {\n",
       "      if (root.Bokeh !== undefined && root.Bokeh.Panel !== undefined && (root['Plotly'] !== undefined)) {\n",
       "        clearInterval(timer);\n",
       "        embed_document(root);\n",
       "      } else if (document.readyState == \"complete\") {\n",
       "        attempts++;\n",
       "        if (attempts > 200) {\n",
       "          clearInterval(timer);\n",
       "          console.log(\"Bokeh: ERROR: Unable to run BokehJS code because BokehJS library is missing\");\n",
       "        }\n",
       "      }\n",
       "    }, 25, root)\n",
       "  }\n",
       "})(window);</script>"
      ],
      "text/plain": [
       "Row\n",
       "    [0] HoloViews(DynamicMap)\n",
       "    [1] Column\n",
       "        [0] WidgetBox\n",
       "            [0] Select(margin=(20, 20, 20, 20), name='Week', options=['2/5/2017', '2/12/2017', ...], value='2/5/2017', width=250)\n",
       "        [1] VSpacer()"
      ]
     },
     "execution_count": 142,
     "metadata": {
      "application/vnd.holoviews_exec.v0+json": {
       "id": "7808"
      }
     },
     "output_type": "execute_result"
    }
   ],
   "source": [
    "pizza_data.hvplot.bar(\n",
    "    rot=90, \n",
    "    width=600, \n",
    "    height=800, \n",
    "    widget_location='right_top', \n",
    "    groupby='Week'\n",
    ")"
   ]
  },
  {
   "cell_type": "code",
   "execution_count": null,
   "id": "4cd9d087",
   "metadata": {},
   "outputs": [],
   "source": []
  }
 ],
 "metadata": {
  "kernelspec": {
   "display_name": "Python [conda env:pyvizenv] *",
   "language": "python",
   "name": "conda-env-pyvizenv-py"
  },
  "language_info": {
   "codemirror_mode": {
    "name": "ipython",
    "version": 3
   },
   "file_extension": ".py",
   "mimetype": "text/x-python",
   "name": "python",
   "nbconvert_exporter": "python",
   "pygments_lexer": "ipython3",
   "version": "3.7.11"
  }
 },
 "nbformat": 4,
 "nbformat_minor": 5
}
