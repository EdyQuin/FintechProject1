{
 "cells": [
  {
   "cell_type": "code",
   "execution_count": 366,
   "id": "0612190f",
   "metadata": {},
   "outputs": [],
   "source": [
    "# Imports\n",
    "import panel as pn\n",
    "pn.extension (\"plotly\")\n",
    "import plotly.express as px\n",
    "import pandas as pd\n",
    "import hvplot.pandas as plt\n",
    "import numpy as np\n",
    "import os\n",
    "from pathlib import Path\n",
    "from dotenv import load_dotenv"
   ]
  },
  {
   "cell_type": "code",
   "execution_count": 403,
   "id": "4fdbf546",
   "metadata": {},
   "outputs": [],
   "source": [
    "# MIAMI REGION DATA\n",
    "# Read the  seafood data into a Pandas DataFrame\n",
    "file_path = Path(\"miami/SEAFOODMiami.csv\")\n",
    "miami_seafood_data = pd.read_csv(file_path)\n",
    "\n",
    "# Read the sushi data into a Pandas DataFrame\n",
    "file_path = Path(\"miami/SUSHIROLLSMiami.csv\")\n",
    "miami_sushi_rolls_data = pd.read_csv(file_path)\n",
    "\n",
    "# Read the veggie data into a Pandas DataFrame\n",
    "file_path = Path(\"miami/VEGGIEMiami.csv\")\n",
    "miami_veggie_data = pd.read_csv(file_path)\n",
    "\n",
    "# Read the pasta into a Pandas DataFrame\n",
    "file_path = Path(\"miami/pasta_miami.csv\")\n",
    "miami_pasta_data = pd.read_csv(file_path)\n",
    "\n",
    "# Read the pizza data into a Pandas DataFrame\n",
    "file_path = Path(\"miami/pizza_miami.csv\")\n",
    "miami_pizza_data = pd.read_csv(file_path)\n",
    "\n",
    "# ORLANDO REGION DATA\n",
    "# Read the pasta data into a Pandas DataFrame\n",
    "file_path = Path(\"orlando/pasta_orlando.csv\")\n",
    "orlando_pasta_data = pd.read_csv(file_path)\n",
    "\n",
    "# Read the pizza data into a Pandas DataFrame\n",
    "file_path = Path(\"orlando/pizza_orlando.csv\")\n",
    "orlando_pizza_data = pd.read_csv(file_path)\n",
    "\n",
    "# Read the seafood data into a Pandas DataFrame\n",
    "file_path = Path(\"orlando/SEAFOODOrlando.csv\")\n",
    "orlando_seafood_data = pd.read_csv(file_path)\n",
    "\n",
    "# Read the sushi rolls data into a Pandas DataFrame\n",
    "file_path = Path(\"orlando/SUSHIROLLSOrlando.csv\")\n",
    "orlando_sushi_data = pd.read_csv(file_path)\n",
    "\n",
    "# Read the veggie data into a Pandas DataFrame\n",
    "file_path = Path(\"orlando/VEGGIEOrlando.csv\")\n",
    "orlando_veggie_data = pd.read_csv(file_path)\n",
    "\n",
    "# TAMPA REGION DATA\n",
    "# Read the pasta data into a Pandas DataFrame\n",
    "file_path = Path(\"tampa/pasta_tampa.csv\")\n",
    "tampa_pasta_data = pd.read_csv(file_path)\n",
    "\n",
    "# Read the pizza data into a Pandas DataFrame\n",
    "file_path = Path(\"tampa/pizza_tampa.csv\")\n",
    "tampa_pizza_data = pd.read_csv(file_path)\n",
    "\n",
    "# Read the seafood data into a Pandas DataFrame\n",
    "file_path = Path(\"tampa/SEAFOODTampa.csv\")\n",
    "tampa_seafood_data = pd.read_csv(file_path)\n",
    "\n",
    "# Read the sushi data into a Pandas DataFrame\n",
    "file_path = Path(\"tampa/SUSHIROLLSTampa.csv\")\n",
    "tampa_sushi_data = pd.read_csv(file_path)\n",
    "\n",
    "# Read the veggie data into a Pandas DataFrame\n",
    "file_path = Path(\"tampa/VEGGIESTampa.csv\")\n",
    "tampa_veggies_data = pd.read_csv(file_path)"
   ]
  },
  {
   "cell_type": "code",
   "execution_count": 381,
   "id": "eb7798c4",
   "metadata": {},
   "outputs": [
    {
     "data": {},
     "metadata": {},
     "output_type": "display_data"
    },
    {
     "data": {},
     "metadata": {},
     "output_type": "display_data"
    },
    {
     "data": {
      "application/vnd.holoviews_exec.v0+json": "",
      "text/html": [
       "<div id='53434'>\n",
       "\n",
       "\n",
       "\n",
       "\n",
       "\n",
       "  <div class=\"bk-root\" id=\"3168ba82-0713-4125-a047-3eec0ba01777\" data-root-id=\"53434\"></div>\n",
       "</div>\n",
       "<script type=\"application/javascript\">(function(root) {\n",
       "  function embed_document(root) {\n",
       "    var docs_json = {\"424dc9b8-5b5c-418b-a6ef-bc349efaa772\":{\"defs\":[{\"extends\":null,\"module\":null,\"name\":\"ReactiveHTML1\",\"overrides\":[],\"properties\":[]},{\"extends\":null,\"module\":null,\"name\":\"FlexBox1\",\"overrides\":[],\"properties\":[{\"default\":\"flex-start\",\"kind\":null,\"name\":\"align_content\"},{\"default\":\"flex-start\",\"kind\":null,\"name\":\"align_items\"},{\"default\":\"row\",\"kind\":null,\"name\":\"flex_direction\"},{\"default\":\"wrap\",\"kind\":null,\"name\":\"flex_wrap\"},{\"default\":\"flex-start\",\"kind\":null,\"name\":\"justify_content\"}]},{\"extends\":null,\"module\":null,\"name\":\"TemplateActions1\",\"overrides\":[],\"properties\":[{\"default\":0,\"kind\":null,\"name\":\"open_modal\"},{\"default\":0,\"kind\":null,\"name\":\"close_modal\"}]},{\"extends\":null,\"module\":null,\"name\":\"MaterialTemplateActions1\",\"overrides\":[],\"properties\":[{\"default\":0,\"kind\":null,\"name\":\"open_modal\"},{\"default\":0,\"kind\":null,\"name\":\"close_modal\"}]}],\"roots\":{\"references\":[{\"attributes\":{},\"id\":\"53448\",\"type\":\"CategoricalTicker\"},{\"attributes\":{\"margin\":[5,5,5,5],\"name\":\"VSpacer120762\",\"sizing_mode\":\"stretch_height\"},\"id\":\"53512\",\"type\":\"Spacer\"},{\"attributes\":{\"bottom\":{\"value\":0},\"fill_alpha\":{\"value\":1.0},\"fill_color\":{\"field\":\"Variable\",\"transform\":{\"id\":\"53467\"}},\"hatch_alpha\":{\"value\":1.0},\"hatch_color\":{\"field\":\"Variable\",\"transform\":{\"id\":\"53467\"}},\"hatch_scale\":{\"value\":12.0},\"hatch_weight\":{\"value\":1.0},\"line_alpha\":{\"value\":1.0},\"line_cap\":{\"value\":\"butt\"},\"line_color\":{\"value\":\"black\"},\"line_dash\":{\"value\":[]},\"line_dash_offset\":{\"value\":0},\"line_join\":{\"value\":\"bevel\"},\"line_width\":{\"value\":1},\"top\":{\"field\":\"value\"},\"width\":{\"value\":0.8},\"x\":{\"field\":\"xoffsets\"}},\"id\":\"53476\",\"type\":\"VBar\"},{\"attributes\":{\"factors\":[[\"0\",\"Alfredo\"],[\"0\",\"Spaghetti_Meatballs\"]],\"tags\":[[[\"index\",\"index\",null],[\"Variable\",\"Variable\",null]]]},\"id\":\"53435\",\"type\":\"FactorRange\"},{\"attributes\":{\"tools\":[{\"id\":\"53437\"},{\"id\":\"53454\"},{\"id\":\"53455\"},{\"id\":\"53456\"},{\"id\":\"53457\"},{\"id\":\"53458\"}]},\"id\":\"53460\",\"type\":\"Toolbar\"},{\"attributes\":{\"axis\":{\"id\":\"53450\"},\"coordinates\":null,\"dimension\":1,\"grid_line_color\":null,\"group\":null,\"ticker\":null},\"id\":\"53453\",\"type\":\"Grid\"},{\"attributes\":{\"source\":{\"id\":\"53468\"}},\"id\":\"53475\",\"type\":\"CDSView\"},{\"attributes\":{},\"id\":\"53496\",\"type\":\"UnionRenderers\"},{\"attributes\":{},\"id\":\"53451\",\"type\":\"BasicTicker\"},{\"attributes\":{\"axis_label\":\"Searches Per Week\",\"coordinates\":null,\"formatter\":{\"id\":\"53481\"},\"group\":null,\"major_label_policy\":{\"id\":\"53482\"},\"ticker\":{\"id\":\"53451\"}},\"id\":\"53450\",\"type\":\"LinearAxis\"},{\"attributes\":{\"callback\":null,\"renderers\":[{\"id\":\"53474\"}],\"tags\":[\"hv_created\"],\"tooltips\":[[\"index\",\"@{index}\"],[\"Variable\",\"@{Variable}\"],[\"value\",\"@{value}\"]]},\"id\":\"53437\",\"type\":\"HoverTool\"},{\"attributes\":{\"fill_alpha\":{\"value\":0.2},\"fill_color\":{\"field\":\"Variable\",\"transform\":{\"id\":\"53467\"}},\"hatch_alpha\":{\"value\":0.2},\"hatch_color\":{\"field\":\"Variable\",\"transform\":{\"id\":\"53467\"}},\"line_alpha\":{\"value\":0.2},\"top\":{\"field\":\"value\"},\"width\":{\"value\":0.8},\"x\":{\"field\":\"xoffsets\"}},\"id\":\"53473\",\"type\":\"VBar\"},{\"attributes\":{\"client_comm_id\":\"f43657c2fcec420897e1377ecb9b3e79\",\"comm_id\":\"d14d825e5f134959976fc93504a79d81\",\"plot_id\":\"53434\"},\"id\":\"53543\",\"type\":\"panel.models.comm_manager.CommManager\"},{\"attributes\":{\"children\":[{\"id\":\"53510\"},{\"id\":\"53512\"}],\"margin\":[0,0,0,0],\"name\":\"Column120763\"},\"id\":\"53509\",\"type\":\"Column\"},{\"attributes\":{\"fill_color\":{\"field\":\"Variable\",\"transform\":{\"id\":\"53467\"}},\"hatch_color\":{\"field\":\"Variable\",\"transform\":{\"id\":\"53467\"}},\"top\":{\"field\":\"value\"},\"width\":{\"value\":0.8},\"x\":{\"field\":\"xoffsets\"}},\"id\":\"53471\",\"type\":\"VBar\"},{\"attributes\":{},\"id\":\"53443\",\"type\":\"CategoricalScale\"},{\"attributes\":{\"children\":[{\"id\":\"53438\"},{\"id\":\"53509\"}],\"margin\":[0,0,0,0],\"name\":\"Row120756\"},\"id\":\"53434\",\"type\":\"Row\"},{\"attributes\":{\"fill_alpha\":{\"value\":0.1},\"fill_color\":{\"field\":\"Variable\",\"transform\":{\"id\":\"53467\"}},\"hatch_alpha\":{\"value\":0.1},\"hatch_color\":{\"field\":\"Variable\",\"transform\":{\"id\":\"53467\"}},\"line_alpha\":{\"value\":0.1},\"top\":{\"field\":\"value\"},\"width\":{\"value\":0.8},\"x\":{\"field\":\"xoffsets\"}},\"id\":\"53472\",\"type\":\"VBar\"},{\"attributes\":{\"axis_label\":\"Food/Dish\",\"coordinates\":null,\"formatter\":{\"id\":\"53478\"},\"group\":null,\"major_label_orientation\":0.7853981633974483,\"major_label_policy\":{\"id\":\"53479\"},\"ticker\":{\"id\":\"53448\"}},\"id\":\"53447\",\"type\":\"CategoricalAxis\"},{\"attributes\":{},\"id\":\"53454\",\"type\":\"SaveTool\"},{\"attributes\":{\"children\":[{\"id\":\"53511\"}],\"css_classes\":[\"panel-widget-box\"],\"margin\":[5,5,5,5],\"name\":\"WidgetBox120757\"},\"id\":\"53510\",\"type\":\"Column\"},{\"attributes\":{\"data\":{\"Variable\":[\"Alfredo\",\"Spaghetti_Meatballs\"],\"index\":[\"0\",\"0\"],\"value\":[30,15],\"xoffsets\":[[\"0\",\"Alfredo\"],[\"0\",\"Spaghetti_Meatballs\"]]},\"selected\":{\"id\":\"53469\"},\"selection_policy\":{\"id\":\"53496\"}},\"id\":\"53468\",\"type\":\"ColumnDataSource\"},{\"attributes\":{},\"id\":\"53455\",\"type\":\"PanTool\"},{\"attributes\":{\"below\":[{\"id\":\"53447\"}],\"center\":[{\"id\":\"53449\"},{\"id\":\"53453\"}],\"height\":500,\"left\":[{\"id\":\"53450\"}],\"margin\":[5,5,5,5],\"min_border_bottom\":10,\"min_border_left\":10,\"min_border_right\":10,\"min_border_top\":10,\"renderers\":[{\"id\":\"53474\"}],\"sizing_mode\":\"fixed\",\"title\":{\"id\":\"53439\"},\"toolbar\":{\"id\":\"53460\"},\"width\":200,\"x_range\":{\"id\":\"53435\"},\"x_scale\":{\"id\":\"53443\"},\"y_range\":{\"id\":\"53436\"},\"y_scale\":{\"id\":\"53445\"}},\"id\":\"53438\",\"subtype\":\"Figure\",\"type\":\"Plot\"},{\"attributes\":{},\"id\":\"53458\",\"type\":\"ResetTool\"},{\"attributes\":{},\"id\":\"53456\",\"type\":\"WheelZoomTool\"},{\"attributes\":{},\"id\":\"53479\",\"type\":\"AllLabels\"},{\"attributes\":{\"coordinates\":null,\"data_source\":{\"id\":\"53468\"},\"glyph\":{\"id\":\"53471\"},\"group\":null,\"hover_glyph\":null,\"muted_glyph\":{\"id\":\"53473\"},\"nonselection_glyph\":{\"id\":\"53472\"},\"selection_glyph\":{\"id\":\"53476\"},\"view\":{\"id\":\"53475\"}},\"id\":\"53474\",\"type\":\"GlyphRenderer\"},{\"attributes\":{\"overlay\":{\"id\":\"53459\"}},\"id\":\"53457\",\"type\":\"BoxZoomTool\"},{\"attributes\":{},\"id\":\"53469\",\"type\":\"Selection\"},{\"attributes\":{\"factors\":[\"Alfredo\",\"Spaghetti_Meatballs\"],\"palette\":[\"#30a2da\",\"#fc4f30\"]},\"id\":\"53467\",\"type\":\"CategoricalColorMapper\"},{\"attributes\":{\"coordinates\":null,\"group\":null,\"text\":\"Week: 2/5/2017\",\"text_color\":\"black\",\"text_font_size\":\"12pt\"},\"id\":\"53439\",\"type\":\"Title\"},{\"attributes\":{\"margin\":[20,20,20,20],\"min_width\":250,\"options\":[\"2/5/2017\",\"2/12/2017\",\"2/19/2017\",\"2/26/2017\",\"3/5/2017\",\"3/12/2017\",\"3/19/2017\",\"3/26/2017\",\"4/2/2017\",\"4/9/2017\",\"4/16/2017\",\"4/23/2017\",\"4/30/2017\",\"5/7/2017\",\"5/14/2017\",\"5/21/2017\",\"5/28/2017\",\"6/4/2017\",\"6/11/2017\",\"6/18/2017\",\"6/25/2017\",\"7/2/2017\",\"7/9/2017\",\"7/16/2017\",\"7/23/2017\",\"7/30/2017\",\"8/6/2017\",\"8/13/2017\",\"8/20/2017\",\"8/27/2017\",\"9/3/2017\",\"9/10/2017\",\"9/17/2017\",\"9/24/2017\",\"10/1/2017\",\"10/8/2017\",\"10/15/2017\",\"10/22/2017\",\"10/29/2017\",\"11/5/2017\",\"11/12/2017\",\"11/19/2017\",\"11/26/2017\",\"12/3/2017\",\"12/10/2017\",\"12/17/2017\",\"12/24/2017\",\"12/31/2017\",\"1/7/2018\",\"1/14/2018\",\"1/21/2018\",\"1/28/2018\",\"2/4/2018\",\"2/11/2018\",\"2/18/2018\",\"2/25/2018\",\"3/4/2018\",\"3/11/2018\",\"3/18/2018\",\"3/25/2018\",\"4/1/2018\",\"4/8/2018\",\"4/15/2018\",\"4/22/2018\",\"4/29/2018\",\"5/6/2018\",\"5/13/2018\",\"5/20/2018\",\"5/27/2018\",\"6/3/2018\",\"6/10/2018\",\"6/17/2018\",\"6/24/2018\",\"7/1/2018\",\"7/8/2018\",\"7/15/2018\",\"7/22/2018\",\"7/29/2018\",\"8/5/2018\",\"8/12/2018\",\"8/19/2018\",\"8/26/2018\",\"9/2/2018\",\"9/9/2018\",\"9/16/2018\",\"9/23/2018\",\"9/30/2018\",\"10/7/2018\",\"10/14/2018\",\"10/21/2018\",\"10/28/2018\",\"11/4/2018\",\"11/11/2018\",\"11/18/2018\",\"11/25/2018\",\"12/2/2018\",\"12/9/2018\",\"12/16/2018\",\"12/23/2018\",\"12/30/2018\",\"1/6/2019\",\"1/13/2019\",\"1/20/2019\",\"1/27/2019\",\"2/3/2019\",\"2/10/2019\",\"2/17/2019\",\"2/24/2019\",\"3/3/2019\",\"3/10/2019\",\"3/17/2019\",\"3/24/2019\",\"3/31/2019\",\"4/7/2019\",\"4/14/2019\",\"4/21/2019\",\"4/28/2019\",\"5/5/2019\",\"5/12/2019\",\"5/19/2019\",\"5/26/2019\",\"6/2/2019\",\"6/9/2019\",\"6/16/2019\",\"6/23/2019\",\"6/30/2019\",\"7/7/2019\",\"7/14/2019\",\"7/21/2019\",\"7/28/2019\",\"8/4/2019\",\"8/11/2019\",\"8/18/2019\",\"8/25/2019\",\"9/1/2019\",\"9/8/2019\",\"9/15/2019\",\"9/22/2019\",\"9/29/2019\",\"10/6/2019\",\"10/13/2019\",\"10/20/2019\",\"10/27/2019\",\"11/3/2019\",\"11/10/2019\",\"11/17/2019\",\"11/24/2019\",\"12/1/2019\",\"12/8/2019\",\"12/15/2019\",\"12/22/2019\",\"12/29/2019\",\"1/5/2020\",\"1/12/2020\",\"1/19/2020\",\"1/26/2020\",\"2/2/2020\",\"2/9/2020\",\"2/16/2020\",\"2/23/2020\",\"3/1/2020\",\"3/8/2020\",\"3/15/2020\",\"3/22/2020\",\"3/29/2020\",\"4/5/2020\",\"4/12/2020\",\"4/19/2020\",\"4/26/2020\",\"5/3/2020\",\"5/10/2020\",\"5/17/2020\",\"5/24/2020\",\"5/31/2020\",\"6/7/2020\",\"6/14/2020\",\"6/21/2020\",\"6/28/2020\",\"7/5/2020\",\"7/12/2020\",\"7/19/2020\",\"7/26/2020\",\"8/2/2020\",\"8/9/2020\",\"8/16/2020\",\"8/23/2020\",\"8/30/2020\",\"9/6/2020\",\"9/13/2020\",\"9/20/2020\",\"9/27/2020\",\"10/4/2020\",\"10/11/2020\",\"10/18/2020\",\"10/25/2020\",\"11/1/2020\",\"11/8/2020\",\"11/15/2020\",\"11/22/2020\",\"11/29/2020\",\"12/6/2020\",\"12/13/2020\",\"12/20/2020\",\"12/27/2020\",\"1/3/2021\",\"1/10/2021\",\"1/17/2021\",\"1/24/2021\",\"1/31/2021\",\"2/7/2021\",\"2/14/2021\",\"2/21/2021\",\"2/28/2021\",\"3/7/2021\",\"3/14/2021\",\"3/21/2021\",\"3/28/2021\",\"4/4/2021\",\"4/11/2021\",\"4/18/2021\",\"4/25/2021\",\"5/2/2021\",\"5/9/2021\",\"5/16/2021\",\"5/23/2021\",\"5/30/2021\",\"6/6/2021\",\"6/13/2021\",\"6/20/2021\",\"6/27/2021\",\"7/4/2021\",\"7/11/2021\",\"7/18/2021\",\"7/25/2021\",\"8/1/2021\",\"8/8/2021\",\"8/15/2021\",\"8/22/2021\",\"8/29/2021\",\"9/5/2021\",\"9/12/2021\",\"9/19/2021\",\"9/26/2021\",\"10/3/2021\",\"10/10/2021\",\"10/17/2021\",\"10/24/2021\",\"10/31/2021\",\"11/7/2021\",\"11/14/2021\",\"11/21/2021\",\"11/28/2021\",\"12/5/2021\",\"12/12/2021\",\"12/19/2021\",\"12/26/2021\",\"1/2/2022\",\"1/9/2022\",\"1/16/2022\",\"1/23/2022\"],\"title\":\"Week\",\"value\":\"2/5/2017\",\"width\":250},\"id\":\"53511\",\"type\":\"Select\"},{\"attributes\":{\"axis\":{\"id\":\"53447\"},\"coordinates\":null,\"grid_line_color\":null,\"group\":null,\"ticker\":null},\"id\":\"53449\",\"type\":\"Grid\"},{\"attributes\":{},\"id\":\"53482\",\"type\":\"AllLabels\"},{\"attributes\":{},\"id\":\"53478\",\"type\":\"CategoricalTickFormatter\"},{\"attributes\":{\"end\":80,\"reset_end\":80,\"reset_start\":0,\"tags\":[[[\"value\",\"value\",null]]]},\"id\":\"53436\",\"type\":\"Range1d\"},{\"attributes\":{},\"id\":\"53481\",\"type\":\"BasicTickFormatter\"},{\"attributes\":{},\"id\":\"53445\",\"type\":\"LinearScale\"},{\"attributes\":{\"bottom_units\":\"screen\",\"coordinates\":null,\"fill_alpha\":0.5,\"fill_color\":\"lightgrey\",\"group\":null,\"left_units\":\"screen\",\"level\":\"overlay\",\"line_alpha\":1.0,\"line_color\":\"black\",\"line_dash\":[4,4],\"line_width\":2,\"right_units\":\"screen\",\"syncable\":false,\"top_units\":\"screen\"},\"id\":\"53459\",\"type\":\"BoxAnnotation\"}],\"root_ids\":[\"53434\",\"53543\"]},\"title\":\"Bokeh Application\",\"version\":\"2.4.2\"}};\n",
       "    var render_items = [{\"docid\":\"424dc9b8-5b5c-418b-a6ef-bc349efaa772\",\"root_ids\":[\"53434\"],\"roots\":{\"53434\":\"3168ba82-0713-4125-a047-3eec0ba01777\"}}];\n",
       "    root.Bokeh.embed.embed_items_notebook(docs_json, render_items);\n",
       "  }\n",
       "  if (root.Bokeh !== undefined && root.Bokeh.Panel !== undefined && ( root['Plotly'] !== undefined)) {\n",
       "    embed_document(root);\n",
       "  } else {\n",
       "    var attempts = 0;\n",
       "    var timer = setInterval(function(root) {\n",
       "      if (root.Bokeh !== undefined && root.Bokeh.Panel !== undefined && (root['Plotly'] !== undefined)) {\n",
       "        clearInterval(timer);\n",
       "        embed_document(root);\n",
       "      } else if (document.readyState == \"complete\") {\n",
       "        attempts++;\n",
       "        if (attempts > 200) {\n",
       "          clearInterval(timer);\n",
       "          console.log(\"Bokeh: ERROR: Unable to run BokehJS code because BokehJS library is missing\");\n",
       "        }\n",
       "      }\n",
       "    }, 25, root)\n",
       "  }\n",
       "})(window);</script>"
      ],
      "text/plain": [
       "Row\n",
       "    [0] HoloViews(DynamicMap)\n",
       "    [1] Column\n",
       "        [0] WidgetBox\n",
       "            [0] Select(margin=(20, 20, 20, 20), name='Week', options=['2/5/2017', '2/12/2017', ...], value='2/5/2017', width=250)\n",
       "        [1] VSpacer()"
      ]
     },
     "execution_count": 381,
     "metadata": {
      "application/vnd.holoviews_exec.v0+json": {
       "id": "53434"
      }
     },
     "output_type": "execute_result"
    }
   ],
   "source": [
    "# Miami region pasta\n",
    "miami_pasta_data.hvplot.bar(\n",
    "    rot=45, \n",
    "    width=200,\n",
    "    height=500, \n",
    "    widget_location='right_top', \n",
    "    groupby='Week',\n",
    "    ylim=(0,80), \n",
    "    xlabel=\"Food/Dish\", ylabel=\"Searches Per Week\"\n",
    "\n",
    ")"
   ]
  },
  {
   "cell_type": "code",
   "execution_count": 382,
   "id": "82a4aa5e",
   "metadata": {},
   "outputs": [
    {
     "data": {},
     "metadata": {},
     "output_type": "display_data"
    },
    {
     "data": {},
     "metadata": {},
     "output_type": "display_data"
    },
    {
     "data": {
      "application/vnd.holoviews_exec.v0+json": "",
      "text/html": [
       "<div id='53594'>\n",
       "\n",
       "\n",
       "\n",
       "\n",
       "\n",
       "  <div class=\"bk-root\" id=\"34430128-602e-4abc-a304-036746d8eb88\" data-root-id=\"53594\"></div>\n",
       "</div>\n",
       "<script type=\"application/javascript\">(function(root) {\n",
       "  function embed_document(root) {\n",
       "    var docs_json = {\"eab87d57-182e-40c4-969d-83be0465e7c2\":{\"defs\":[{\"extends\":null,\"module\":null,\"name\":\"ReactiveHTML1\",\"overrides\":[],\"properties\":[]},{\"extends\":null,\"module\":null,\"name\":\"FlexBox1\",\"overrides\":[],\"properties\":[{\"default\":\"flex-start\",\"kind\":null,\"name\":\"align_content\"},{\"default\":\"flex-start\",\"kind\":null,\"name\":\"align_items\"},{\"default\":\"row\",\"kind\":null,\"name\":\"flex_direction\"},{\"default\":\"wrap\",\"kind\":null,\"name\":\"flex_wrap\"},{\"default\":\"flex-start\",\"kind\":null,\"name\":\"justify_content\"}]},{\"extends\":null,\"module\":null,\"name\":\"TemplateActions1\",\"overrides\":[],\"properties\":[{\"default\":0,\"kind\":null,\"name\":\"open_modal\"},{\"default\":0,\"kind\":null,\"name\":\"close_modal\"}]},{\"extends\":null,\"module\":null,\"name\":\"MaterialTemplateActions1\",\"overrides\":[],\"properties\":[{\"default\":0,\"kind\":null,\"name\":\"open_modal\"},{\"default\":0,\"kind\":null,\"name\":\"close_modal\"}]}],\"roots\":{\"references\":[{\"attributes\":{},\"id\":\"53605\",\"type\":\"LinearScale\"},{\"attributes\":{\"fill_alpha\":{\"value\":0.1},\"fill_color\":{\"field\":\"Variable\",\"transform\":{\"id\":\"53627\"}},\"hatch_alpha\":{\"value\":0.1},\"hatch_color\":{\"field\":\"Variable\",\"transform\":{\"id\":\"53627\"}},\"line_alpha\":{\"value\":0.1},\"top\":{\"field\":\"value\"},\"width\":{\"value\":0.8},\"x\":{\"field\":\"xoffsets\"}},\"id\":\"53632\",\"type\":\"VBar\"},{\"attributes\":{},\"id\":\"53639\",\"type\":\"AllLabels\"},{\"attributes\":{\"tools\":[{\"id\":\"53597\"},{\"id\":\"53614\"},{\"id\":\"53615\"},{\"id\":\"53616\"},{\"id\":\"53617\"},{\"id\":\"53618\"}]},\"id\":\"53620\",\"type\":\"Toolbar\"},{\"attributes\":{\"client_comm_id\":\"81309611c75349bcb74655cd8204f44e\",\"comm_id\":\"627b63d513484a60bdd9148d327b71d2\",\"plot_id\":\"53594\"},\"id\":\"53703\",\"type\":\"panel.models.comm_manager.CommManager\"},{\"attributes\":{},\"id\":\"53608\",\"type\":\"CategoricalTicker\"},{\"attributes\":{},\"id\":\"53642\",\"type\":\"AllLabels\"},{\"attributes\":{\"axis\":{\"id\":\"53610\"},\"coordinates\":null,\"dimension\":1,\"grid_line_color\":null,\"group\":null,\"ticker\":null},\"id\":\"53613\",\"type\":\"Grid\"},{\"attributes\":{\"margin\":[5,5,5,5],\"name\":\"VSpacer121038\",\"sizing_mode\":\"stretch_height\"},\"id\":\"53672\",\"type\":\"Spacer\"},{\"attributes\":{\"source\":{\"id\":\"53628\"}},\"id\":\"53635\",\"type\":\"CDSView\"},{\"attributes\":{},\"id\":\"53611\",\"type\":\"BasicTicker\"},{\"attributes\":{},\"id\":\"53641\",\"type\":\"BasicTickFormatter\"},{\"attributes\":{\"axis_label\":\"Searches Per Week\",\"coordinates\":null,\"formatter\":{\"id\":\"53641\"},\"group\":null,\"major_label_policy\":{\"id\":\"53642\"},\"ticker\":{\"id\":\"53611\"}},\"id\":\"53610\",\"type\":\"LinearAxis\"},{\"attributes\":{},\"id\":\"53638\",\"type\":\"CategoricalTickFormatter\"},{\"attributes\":{\"fill_alpha\":{\"value\":0.2},\"fill_color\":{\"field\":\"Variable\",\"transform\":{\"id\":\"53627\"}},\"hatch_alpha\":{\"value\":0.2},\"hatch_color\":{\"field\":\"Variable\",\"transform\":{\"id\":\"53627\"}},\"line_alpha\":{\"value\":0.2},\"top\":{\"field\":\"value\"},\"width\":{\"value\":0.8},\"x\":{\"field\":\"xoffsets\"}},\"id\":\"53633\",\"type\":\"VBar\"},{\"attributes\":{},\"id\":\"53656\",\"type\":\"UnionRenderers\"},{\"attributes\":{},\"id\":\"53629\",\"type\":\"Selection\"},{\"attributes\":{\"children\":[{\"id\":\"53670\"},{\"id\":\"53672\"}],\"margin\":[0,0,0,0],\"name\":\"Column121039\"},\"id\":\"53669\",\"type\":\"Column\"},{\"attributes\":{},\"id\":\"53603\",\"type\":\"CategoricalScale\"},{\"attributes\":{\"callback\":null,\"renderers\":[{\"id\":\"53634\"}],\"tags\":[\"hv_created\"],\"tooltips\":[[\"index\",\"@{index}\"],[\"Variable\",\"@{Variable}\"],[\"value\",\"@{value}\"]]},\"id\":\"53597\",\"type\":\"HoverTool\"},{\"attributes\":{\"fill_color\":{\"field\":\"Variable\",\"transform\":{\"id\":\"53627\"}},\"hatch_color\":{\"field\":\"Variable\",\"transform\":{\"id\":\"53627\"}},\"top\":{\"field\":\"value\"},\"width\":{\"value\":0.8},\"x\":{\"field\":\"xoffsets\"}},\"id\":\"53631\",\"type\":\"VBar\"},{\"attributes\":{\"bottom_units\":\"screen\",\"coordinates\":null,\"fill_alpha\":0.5,\"fill_color\":\"lightgrey\",\"group\":null,\"left_units\":\"screen\",\"level\":\"overlay\",\"line_alpha\":1.0,\"line_color\":\"black\",\"line_dash\":[4,4],\"line_width\":2,\"right_units\":\"screen\",\"syncable\":false,\"top_units\":\"screen\"},\"id\":\"53619\",\"type\":\"BoxAnnotation\"},{\"attributes\":{\"axis_label\":\"Food/Dish\",\"coordinates\":null,\"formatter\":{\"id\":\"53638\"},\"group\":null,\"major_label_orientation\":0.7853981633974483,\"major_label_policy\":{\"id\":\"53639\"},\"ticker\":{\"id\":\"53608\"}},\"id\":\"53607\",\"type\":\"CategoricalAxis\"},{\"attributes\":{\"end\":80,\"reset_end\":80,\"reset_start\":0,\"tags\":[[[\"value\",\"value\",null]]]},\"id\":\"53596\",\"type\":\"Range1d\"},{\"attributes\":{},\"id\":\"53614\",\"type\":\"SaveTool\"},{\"attributes\":{\"margin\":[20,20,20,20],\"min_width\":250,\"options\":[\"2/5/2017\",\"2/12/2017\",\"2/19/2017\",\"2/26/2017\",\"3/5/2017\",\"3/12/2017\",\"3/19/2017\",\"3/26/2017\",\"4/2/2017\",\"4/9/2017\",\"4/16/2017\",\"4/23/2017\",\"4/30/2017\",\"5/7/2017\",\"5/14/2017\",\"5/21/2017\",\"5/28/2017\",\"6/4/2017\",\"6/11/2017\",\"6/18/2017\",\"6/25/2017\",\"7/2/2017\",\"7/9/2017\",\"7/16/2017\",\"7/23/2017\",\"7/30/2017\",\"8/6/2017\",\"8/13/2017\",\"8/20/2017\",\"8/27/2017\",\"9/3/2017\",\"9/10/2017\",\"9/17/2017\",\"9/24/2017\",\"10/1/2017\",\"10/8/2017\",\"10/15/2017\",\"10/22/2017\",\"10/29/2017\",\"11/5/2017\",\"11/12/2017\",\"11/19/2017\",\"11/26/2017\",\"12/3/2017\",\"12/10/2017\",\"12/17/2017\",\"12/24/2017\",\"12/31/2017\",\"1/7/2018\",\"1/14/2018\",\"1/21/2018\",\"1/28/2018\",\"2/4/2018\",\"2/11/2018\",\"2/18/2018\",\"2/25/2018\",\"3/4/2018\",\"3/11/2018\",\"3/18/2018\",\"3/25/2018\",\"4/1/2018\",\"4/8/2018\",\"4/15/2018\",\"4/22/2018\",\"4/29/2018\",\"5/6/2018\",\"5/13/2018\",\"5/20/2018\",\"5/27/2018\",\"6/3/2018\",\"6/10/2018\",\"6/17/2018\",\"6/24/2018\",\"7/1/2018\",\"7/8/2018\",\"7/15/2018\",\"7/22/2018\",\"7/29/2018\",\"8/5/2018\",\"8/12/2018\",\"8/19/2018\",\"8/26/2018\",\"9/2/2018\",\"9/9/2018\",\"9/16/2018\",\"9/23/2018\",\"9/30/2018\",\"10/7/2018\",\"10/14/2018\",\"10/21/2018\",\"10/28/2018\",\"11/4/2018\",\"11/11/2018\",\"11/18/2018\",\"11/25/2018\",\"12/2/2018\",\"12/9/2018\",\"12/16/2018\",\"12/23/2018\",\"12/30/2018\",\"1/6/2019\",\"1/13/2019\",\"1/20/2019\",\"1/27/2019\",\"2/3/2019\",\"2/10/2019\",\"2/17/2019\",\"2/24/2019\",\"3/3/2019\",\"3/10/2019\",\"3/17/2019\",\"3/24/2019\",\"3/31/2019\",\"4/7/2019\",\"4/14/2019\",\"4/21/2019\",\"4/28/2019\",\"5/5/2019\",\"5/12/2019\",\"5/19/2019\",\"5/26/2019\",\"6/2/2019\",\"6/9/2019\",\"6/16/2019\",\"6/23/2019\",\"6/30/2019\",\"7/7/2019\",\"7/14/2019\",\"7/21/2019\",\"7/28/2019\",\"8/4/2019\",\"8/11/2019\",\"8/18/2019\",\"8/25/2019\",\"9/1/2019\",\"9/8/2019\",\"9/15/2019\",\"9/22/2019\",\"9/29/2019\",\"10/6/2019\",\"10/13/2019\",\"10/20/2019\",\"10/27/2019\",\"11/3/2019\",\"11/10/2019\",\"11/17/2019\",\"11/24/2019\",\"12/1/2019\",\"12/8/2019\",\"12/15/2019\",\"12/22/2019\",\"12/29/2019\",\"1/5/2020\",\"1/12/2020\",\"1/19/2020\",\"1/26/2020\",\"2/2/2020\",\"2/9/2020\",\"2/16/2020\",\"2/23/2020\",\"3/1/2020\",\"3/8/2020\",\"3/15/2020\",\"3/22/2020\",\"3/29/2020\",\"4/5/2020\",\"4/12/2020\",\"4/19/2020\",\"4/26/2020\",\"5/3/2020\",\"5/10/2020\",\"5/17/2020\",\"5/24/2020\",\"5/31/2020\",\"6/7/2020\",\"6/14/2020\",\"6/21/2020\",\"6/28/2020\",\"7/5/2020\",\"7/12/2020\",\"7/19/2020\",\"7/26/2020\",\"8/2/2020\",\"8/9/2020\",\"8/16/2020\",\"8/23/2020\",\"8/30/2020\",\"9/6/2020\",\"9/13/2020\",\"9/20/2020\",\"9/27/2020\",\"10/4/2020\",\"10/11/2020\",\"10/18/2020\",\"10/25/2020\",\"11/1/2020\",\"11/8/2020\",\"11/15/2020\",\"11/22/2020\",\"11/29/2020\",\"12/6/2020\",\"12/13/2020\",\"12/20/2020\",\"12/27/2020\",\"1/3/2021\",\"1/10/2021\",\"1/17/2021\",\"1/24/2021\",\"1/31/2021\",\"2/7/2021\",\"2/14/2021\",\"2/21/2021\",\"2/28/2021\",\"3/7/2021\",\"3/14/2021\",\"3/21/2021\",\"3/28/2021\",\"4/4/2021\",\"4/11/2021\",\"4/18/2021\",\"4/25/2021\",\"5/2/2021\",\"5/9/2021\",\"5/16/2021\",\"5/23/2021\",\"5/30/2021\",\"6/6/2021\",\"6/13/2021\",\"6/20/2021\",\"6/27/2021\",\"7/4/2021\",\"7/11/2021\",\"7/18/2021\",\"7/25/2021\",\"8/1/2021\",\"8/8/2021\",\"8/15/2021\",\"8/22/2021\",\"8/29/2021\",\"9/5/2021\",\"9/12/2021\",\"9/19/2021\",\"9/26/2021\",\"10/3/2021\",\"10/10/2021\",\"10/17/2021\",\"10/24/2021\",\"10/31/2021\",\"11/7/2021\",\"11/14/2021\",\"11/21/2021\",\"11/28/2021\",\"12/5/2021\",\"12/12/2021\",\"12/19/2021\",\"12/26/2021\",\"1/2/2022\",\"1/9/2022\",\"1/16/2022\",\"1/23/2022\"],\"title\":\"Week\",\"value\":\"2/5/2017\",\"width\":250},\"id\":\"53671\",\"type\":\"Select\"},{\"attributes\":{\"factors\":[[\"0\",\"Pepperoni_Pizza\"],[\"0\",\"Supreme_Pizza\"]],\"tags\":[[[\"index\",\"index\",null],[\"Variable\",\"Variable\",null]]]},\"id\":\"53595\",\"type\":\"FactorRange\"},{\"attributes\":{\"data\":{\"Variable\":[\"Pepperoni_Pizza\",\"Supreme_Pizza\"],\"index\":[\"0\",\"0\"],\"value\":[20,15],\"xoffsets\":[[\"0\",\"Pepperoni_Pizza\"],[\"0\",\"Supreme_Pizza\"]]},\"selected\":{\"id\":\"53629\"},\"selection_policy\":{\"id\":\"53656\"}},\"id\":\"53628\",\"type\":\"ColumnDataSource\"},{\"attributes\":{},\"id\":\"53615\",\"type\":\"PanTool\"},{\"attributes\":{\"children\":[{\"id\":\"53598\"},{\"id\":\"53669\"}],\"margin\":[0,0,0,0],\"name\":\"Row121032\"},\"id\":\"53594\",\"type\":\"Row\"},{\"attributes\":{\"below\":[{\"id\":\"53607\"}],\"center\":[{\"id\":\"53609\"},{\"id\":\"53613\"}],\"height\":500,\"left\":[{\"id\":\"53610\"}],\"margin\":[5,5,5,5],\"min_border_bottom\":10,\"min_border_left\":10,\"min_border_right\":10,\"min_border_top\":10,\"renderers\":[{\"id\":\"53634\"}],\"sizing_mode\":\"fixed\",\"title\":{\"id\":\"53599\"},\"toolbar\":{\"id\":\"53620\"},\"width\":200,\"x_range\":{\"id\":\"53595\"},\"x_scale\":{\"id\":\"53603\"},\"y_range\":{\"id\":\"53596\"},\"y_scale\":{\"id\":\"53605\"}},\"id\":\"53598\",\"subtype\":\"Figure\",\"type\":\"Plot\"},{\"attributes\":{},\"id\":\"53618\",\"type\":\"ResetTool\"},{\"attributes\":{},\"id\":\"53616\",\"type\":\"WheelZoomTool\"},{\"attributes\":{\"coordinates\":null,\"data_source\":{\"id\":\"53628\"},\"glyph\":{\"id\":\"53631\"},\"group\":null,\"hover_glyph\":null,\"muted_glyph\":{\"id\":\"53633\"},\"nonselection_glyph\":{\"id\":\"53632\"},\"selection_glyph\":{\"id\":\"53636\"},\"view\":{\"id\":\"53635\"}},\"id\":\"53634\",\"type\":\"GlyphRenderer\"},{\"attributes\":{\"overlay\":{\"id\":\"53619\"}},\"id\":\"53617\",\"type\":\"BoxZoomTool\"},{\"attributes\":{\"factors\":[\"Pepperoni_Pizza\",\"Supreme_Pizza\"],\"palette\":[\"#30a2da\",\"#fc4f30\"]},\"id\":\"53627\",\"type\":\"CategoricalColorMapper\"},{\"attributes\":{\"coordinates\":null,\"group\":null,\"text\":\"Week: 2/5/2017\",\"text_color\":\"black\",\"text_font_size\":\"12pt\"},\"id\":\"53599\",\"type\":\"Title\"},{\"attributes\":{\"bottom\":{\"value\":0},\"fill_alpha\":{\"value\":1.0},\"fill_color\":{\"field\":\"Variable\",\"transform\":{\"id\":\"53627\"}},\"hatch_alpha\":{\"value\":1.0},\"hatch_color\":{\"field\":\"Variable\",\"transform\":{\"id\":\"53627\"}},\"hatch_scale\":{\"value\":12.0},\"hatch_weight\":{\"value\":1.0},\"line_alpha\":{\"value\":1.0},\"line_cap\":{\"value\":\"butt\"},\"line_color\":{\"value\":\"black\"},\"line_dash\":{\"value\":[]},\"line_dash_offset\":{\"value\":0},\"line_join\":{\"value\":\"bevel\"},\"line_width\":{\"value\":1},\"top\":{\"field\":\"value\"},\"width\":{\"value\":0.8},\"x\":{\"field\":\"xoffsets\"}},\"id\":\"53636\",\"type\":\"VBar\"},{\"attributes\":{\"axis\":{\"id\":\"53607\"},\"coordinates\":null,\"grid_line_color\":null,\"group\":null,\"ticker\":null},\"id\":\"53609\",\"type\":\"Grid\"},{\"attributes\":{\"children\":[{\"id\":\"53671\"}],\"css_classes\":[\"panel-widget-box\"],\"margin\":[5,5,5,5],\"name\":\"WidgetBox121033\"},\"id\":\"53670\",\"type\":\"Column\"}],\"root_ids\":[\"53594\",\"53703\"]},\"title\":\"Bokeh Application\",\"version\":\"2.4.2\"}};\n",
       "    var render_items = [{\"docid\":\"eab87d57-182e-40c4-969d-83be0465e7c2\",\"root_ids\":[\"53594\"],\"roots\":{\"53594\":\"34430128-602e-4abc-a304-036746d8eb88\"}}];\n",
       "    root.Bokeh.embed.embed_items_notebook(docs_json, render_items);\n",
       "  }\n",
       "  if (root.Bokeh !== undefined && root.Bokeh.Panel !== undefined && ( root['Plotly'] !== undefined)) {\n",
       "    embed_document(root);\n",
       "  } else {\n",
       "    var attempts = 0;\n",
       "    var timer = setInterval(function(root) {\n",
       "      if (root.Bokeh !== undefined && root.Bokeh.Panel !== undefined && (root['Plotly'] !== undefined)) {\n",
       "        clearInterval(timer);\n",
       "        embed_document(root);\n",
       "      } else if (document.readyState == \"complete\") {\n",
       "        attempts++;\n",
       "        if (attempts > 200) {\n",
       "          clearInterval(timer);\n",
       "          console.log(\"Bokeh: ERROR: Unable to run BokehJS code because BokehJS library is missing\");\n",
       "        }\n",
       "      }\n",
       "    }, 25, root)\n",
       "  }\n",
       "})(window);</script>"
      ],
      "text/plain": [
       "Row\n",
       "    [0] HoloViews(DynamicMap)\n",
       "    [1] Column\n",
       "        [0] WidgetBox\n",
       "            [0] Select(margin=(20, 20, 20, 20), name='Week', options=['2/5/2017', '2/12/2017', ...], value='2/5/2017', width=250)\n",
       "        [1] VSpacer()"
      ]
     },
     "execution_count": 382,
     "metadata": {
      "application/vnd.holoviews_exec.v0+json": {
       "id": "53594"
      }
     },
     "output_type": "execute_result"
    }
   ],
   "source": [
    "# Miami region pizza\n",
    "miami_pizza_data.hvplot.bar(\n",
    "    rot=45, \n",
    "    width=200,\n",
    "    height=500, \n",
    "    widget_location='right_top', \n",
    "    groupby='Week',\n",
    "    ylim=(0,80),\n",
    "    xlabel=\"Food/Dish\", ylabel=\"Searches Per Week\"\n",
    ")"
   ]
  },
  {
   "cell_type": "code",
   "execution_count": 383,
   "id": "2e4be59c",
   "metadata": {},
   "outputs": [
    {
     "data": {},
     "metadata": {},
     "output_type": "display_data"
    },
    {
     "data": {},
     "metadata": {},
     "output_type": "display_data"
    },
    {
     "data": {
      "application/vnd.holoviews_exec.v0+json": "",
      "text/html": [
       "<div id='53754'>\n",
       "\n",
       "\n",
       "\n",
       "\n",
       "\n",
       "  <div class=\"bk-root\" id=\"0132411d-1542-42b5-9661-536ce38ea55f\" data-root-id=\"53754\"></div>\n",
       "</div>\n",
       "<script type=\"application/javascript\">(function(root) {\n",
       "  function embed_document(root) {\n",
       "    var docs_json = {\"ece7cbf4-c5b0-4827-b148-55906f02a8bf\":{\"defs\":[{\"extends\":null,\"module\":null,\"name\":\"ReactiveHTML1\",\"overrides\":[],\"properties\":[]},{\"extends\":null,\"module\":null,\"name\":\"FlexBox1\",\"overrides\":[],\"properties\":[{\"default\":\"flex-start\",\"kind\":null,\"name\":\"align_content\"},{\"default\":\"flex-start\",\"kind\":null,\"name\":\"align_items\"},{\"default\":\"row\",\"kind\":null,\"name\":\"flex_direction\"},{\"default\":\"wrap\",\"kind\":null,\"name\":\"flex_wrap\"},{\"default\":\"flex-start\",\"kind\":null,\"name\":\"justify_content\"}]},{\"extends\":null,\"module\":null,\"name\":\"TemplateActions1\",\"overrides\":[],\"properties\":[{\"default\":0,\"kind\":null,\"name\":\"open_modal\"},{\"default\":0,\"kind\":null,\"name\":\"close_modal\"}]},{\"extends\":null,\"module\":null,\"name\":\"MaterialTemplateActions1\",\"overrides\":[],\"properties\":[{\"default\":0,\"kind\":null,\"name\":\"open_modal\"},{\"default\":0,\"kind\":null,\"name\":\"close_modal\"}]}],\"roots\":{\"references\":[{\"attributes\":{\"fill_alpha\":{\"value\":0.2},\"fill_color\":{\"field\":\"Variable\",\"transform\":{\"id\":\"53787\"}},\"hatch_alpha\":{\"value\":0.2},\"hatch_color\":{\"field\":\"Variable\",\"transform\":{\"id\":\"53787\"}},\"line_alpha\":{\"value\":0.2},\"top\":{\"field\":\"value\"},\"width\":{\"value\":0.8},\"x\":{\"field\":\"xoffsets\"}},\"id\":\"53793\",\"type\":\"VBar\"},{\"attributes\":{\"axis_label\":\"Food/Dish\",\"coordinates\":null,\"formatter\":{\"id\":\"53798\"},\"group\":null,\"major_label_orientation\":0.7853981633974483,\"major_label_policy\":{\"id\":\"53799\"},\"ticker\":{\"id\":\"53768\"}},\"id\":\"53767\",\"type\":\"CategoricalAxis\"},{\"attributes\":{\"margin\":[5,5,5,5],\"name\":\"VSpacer121314\",\"sizing_mode\":\"stretch_height\"},\"id\":\"53832\",\"type\":\"Spacer\"},{\"attributes\":{},\"id\":\"53802\",\"type\":\"AllLabels\"},{\"attributes\":{\"margin\":[20,20,20,20],\"min_width\":250,\"options\":[\"2/5/2017\",\"2/12/2017\",\"2/19/2017\",\"2/26/2017\",\"3/5/2017\",\"3/12/2017\",\"3/19/2017\",\"3/26/2017\",\"4/2/2017\",\"4/9/2017\",\"4/16/2017\",\"4/23/2017\",\"4/30/2017\",\"5/7/2017\",\"5/14/2017\",\"5/21/2017\",\"5/28/2017\",\"6/4/2017\",\"6/11/2017\",\"6/18/2017\",\"6/25/2017\",\"7/2/2017\",\"7/9/2017\",\"7/16/2017\",\"7/23/2017\",\"7/30/2017\",\"8/6/2017\",\"8/13/2017\",\"8/20/2017\",\"8/27/2017\",\"9/3/2017\",\"9/10/2017\",\"9/17/2017\",\"9/24/2017\",\"10/1/2017\",\"10/8/2017\",\"10/15/2017\",\"10/22/2017\",\"10/29/2017\",\"11/5/2017\",\"11/12/2017\",\"11/19/2017\",\"11/26/2017\",\"12/3/2017\",\"12/10/2017\",\"12/17/2017\",\"12/24/2017\",\"12/31/2017\",\"1/7/2018\",\"1/14/2018\",\"1/21/2018\",\"1/28/2018\",\"2/4/2018\",\"2/11/2018\",\"2/18/2018\",\"2/25/2018\",\"3/4/2018\",\"3/11/2018\",\"3/18/2018\",\"3/25/2018\",\"4/1/2018\",\"4/8/2018\",\"4/15/2018\",\"4/22/2018\",\"4/29/2018\",\"5/6/2018\",\"5/13/2018\",\"5/20/2018\",\"5/27/2018\",\"6/3/2018\",\"6/10/2018\",\"6/17/2018\",\"6/24/2018\",\"7/1/2018\",\"7/8/2018\",\"7/15/2018\",\"7/22/2018\",\"7/29/2018\",\"8/5/2018\",\"8/12/2018\",\"8/19/2018\",\"8/26/2018\",\"9/2/2018\",\"9/9/2018\",\"9/16/2018\",\"9/23/2018\",\"9/30/2018\",\"10/7/2018\",\"10/14/2018\",\"10/21/2018\",\"10/28/2018\",\"11/4/2018\",\"11/11/2018\",\"11/18/2018\",\"11/25/2018\",\"12/2/2018\",\"12/9/2018\",\"12/16/2018\",\"12/23/2018\",\"12/30/2018\",\"1/6/2019\",\"1/13/2019\",\"1/20/2019\",\"1/27/2019\",\"2/3/2019\",\"2/10/2019\",\"2/17/2019\",\"2/24/2019\",\"3/3/2019\",\"3/10/2019\",\"3/17/2019\",\"3/24/2019\",\"3/31/2019\",\"4/7/2019\",\"4/14/2019\",\"4/21/2019\",\"4/28/2019\",\"5/5/2019\",\"5/12/2019\",\"5/19/2019\",\"5/26/2019\",\"6/2/2019\",\"6/9/2019\",\"6/16/2019\",\"6/23/2019\",\"6/30/2019\",\"7/7/2019\",\"7/14/2019\",\"7/21/2019\",\"7/28/2019\",\"8/4/2019\",\"8/11/2019\",\"8/18/2019\",\"8/25/2019\",\"9/1/2019\",\"9/8/2019\",\"9/15/2019\",\"9/22/2019\",\"9/29/2019\",\"10/6/2019\",\"10/13/2019\",\"10/20/2019\",\"10/27/2019\",\"11/3/2019\",\"11/10/2019\",\"11/17/2019\",\"11/24/2019\",\"12/1/2019\",\"12/8/2019\",\"12/15/2019\",\"12/22/2019\",\"12/29/2019\",\"1/5/2020\",\"1/12/2020\",\"1/19/2020\",\"1/26/2020\",\"2/2/2020\",\"2/9/2020\",\"2/16/2020\",\"2/23/2020\",\"3/1/2020\",\"3/8/2020\",\"3/15/2020\",\"3/22/2020\",\"3/29/2020\",\"4/5/2020\",\"4/12/2020\",\"4/19/2020\",\"4/26/2020\",\"5/3/2020\",\"5/10/2020\",\"5/17/2020\",\"5/24/2020\",\"5/31/2020\",\"6/7/2020\",\"6/14/2020\",\"6/21/2020\",\"6/28/2020\",\"7/5/2020\",\"7/12/2020\",\"7/19/2020\",\"7/26/2020\",\"8/2/2020\",\"8/9/2020\",\"8/16/2020\",\"8/23/2020\",\"8/30/2020\",\"9/6/2020\",\"9/13/2020\",\"9/20/2020\",\"9/27/2020\",\"10/4/2020\",\"10/11/2020\",\"10/18/2020\",\"10/25/2020\",\"11/1/2020\",\"11/8/2020\",\"11/15/2020\",\"11/22/2020\",\"11/29/2020\",\"12/6/2020\",\"12/13/2020\",\"12/20/2020\",\"12/27/2020\",\"1/3/2021\",\"1/10/2021\",\"1/17/2021\",\"1/24/2021\",\"1/31/2021\",\"2/7/2021\",\"2/14/2021\",\"2/21/2021\",\"2/28/2021\",\"3/7/2021\",\"3/14/2021\",\"3/21/2021\",\"3/28/2021\",\"4/4/2021\",\"4/11/2021\",\"4/18/2021\",\"4/25/2021\",\"5/2/2021\",\"5/9/2021\",\"5/16/2021\",\"5/23/2021\",\"5/30/2021\",\"6/6/2021\",\"6/13/2021\",\"6/20/2021\",\"6/27/2021\",\"7/4/2021\",\"7/11/2021\",\"7/18/2021\",\"7/25/2021\",\"8/1/2021\",\"8/8/2021\",\"8/15/2021\",\"8/22/2021\",\"8/29/2021\",\"9/5/2021\",\"9/12/2021\",\"9/19/2021\",\"9/26/2021\",\"10/3/2021\",\"10/10/2021\",\"10/17/2021\",\"10/24/2021\",\"10/31/2021\",\"11/7/2021\",\"11/14/2021\",\"11/21/2021\",\"11/28/2021\",\"12/5/2021\",\"12/12/2021\",\"12/19/2021\",\"12/26/2021\",\"1/2/2022\",\"1/9/2022\",\"1/16/2022\",\"1/23/2022\"],\"title\":\"Week\",\"value\":\"2/5/2017\",\"width\":250},\"id\":\"53831\",\"type\":\"Select\"},{\"attributes\":{},\"id\":\"53774\",\"type\":\"SaveTool\"},{\"attributes\":{\"below\":[{\"id\":\"53767\"}],\"center\":[{\"id\":\"53769\"},{\"id\":\"53773\"}],\"height\":500,\"left\":[{\"id\":\"53770\"}],\"margin\":[5,5,5,5],\"min_border_bottom\":10,\"min_border_left\":10,\"min_border_right\":10,\"min_border_top\":10,\"renderers\":[{\"id\":\"53794\"}],\"sizing_mode\":\"fixed\",\"title\":{\"id\":\"53759\"},\"toolbar\":{\"id\":\"53780\"},\"width\":200,\"x_range\":{\"id\":\"53755\"},\"x_scale\":{\"id\":\"53763\"},\"y_range\":{\"id\":\"53756\"},\"y_scale\":{\"id\":\"53765\"}},\"id\":\"53758\",\"subtype\":\"Figure\",\"type\":\"Plot\"},{\"attributes\":{},\"id\":\"53775\",\"type\":\"PanTool\"},{\"attributes\":{},\"id\":\"53778\",\"type\":\"ResetTool\"},{\"attributes\":{},\"id\":\"53776\",\"type\":\"WheelZoomTool\"},{\"attributes\":{\"factors\":[\"Ceviche\",\"Salmon\"],\"palette\":[\"#30a2da\",\"#fc4f30\"]},\"id\":\"53787\",\"type\":\"CategoricalColorMapper\"},{\"attributes\":{\"children\":[{\"id\":\"53831\"}],\"css_classes\":[\"panel-widget-box\"],\"margin\":[5,5,5,5],\"name\":\"WidgetBox121309\"},\"id\":\"53830\",\"type\":\"Column\"},{\"attributes\":{},\"id\":\"53763\",\"type\":\"CategoricalScale\"},{\"attributes\":{\"overlay\":{\"id\":\"53779\"}},\"id\":\"53777\",\"type\":\"BoxZoomTool\"},{\"attributes\":{\"coordinates\":null,\"group\":null,\"text\":\"Week: 2/5/2017\",\"text_color\":\"black\",\"text_font_size\":\"12pt\"},\"id\":\"53759\",\"type\":\"Title\"},{\"attributes\":{},\"id\":\"53798\",\"type\":\"CategoricalTickFormatter\"},{\"attributes\":{\"fill_alpha\":{\"value\":0.1},\"fill_color\":{\"field\":\"Variable\",\"transform\":{\"id\":\"53787\"}},\"hatch_alpha\":{\"value\":0.1},\"hatch_color\":{\"field\":\"Variable\",\"transform\":{\"id\":\"53787\"}},\"line_alpha\":{\"value\":0.1},\"top\":{\"field\":\"value\"},\"width\":{\"value\":0.8},\"x\":{\"field\":\"xoffsets\"}},\"id\":\"53792\",\"type\":\"VBar\"},{\"attributes\":{\"axis\":{\"id\":\"53767\"},\"coordinates\":null,\"grid_line_color\":null,\"group\":null,\"ticker\":null},\"id\":\"53769\",\"type\":\"Grid\"},{\"attributes\":{},\"id\":\"53799\",\"type\":\"AllLabels\"},{\"attributes\":{\"tools\":[{\"id\":\"53757\"},{\"id\":\"53774\"},{\"id\":\"53775\"},{\"id\":\"53776\"},{\"id\":\"53777\"},{\"id\":\"53778\"}]},\"id\":\"53780\",\"type\":\"Toolbar\"},{\"attributes\":{\"data\":{\"Variable\":[\"Ceviche\",\"Salmon\"],\"index\":[\"0\",\"0\"],\"value\":[35,56],\"xoffsets\":[[\"0\",\"Ceviche\"],[\"0\",\"Salmon\"]]},\"selected\":{\"id\":\"53789\"},\"selection_policy\":{\"id\":\"53816\"}},\"id\":\"53788\",\"type\":\"ColumnDataSource\"},{\"attributes\":{},\"id\":\"53765\",\"type\":\"LinearScale\"},{\"attributes\":{\"bottom_units\":\"screen\",\"coordinates\":null,\"fill_alpha\":0.5,\"fill_color\":\"lightgrey\",\"group\":null,\"left_units\":\"screen\",\"level\":\"overlay\",\"line_alpha\":1.0,\"line_color\":\"black\",\"line_dash\":[4,4],\"line_width\":2,\"right_units\":\"screen\",\"syncable\":false,\"top_units\":\"screen\"},\"id\":\"53779\",\"type\":\"BoxAnnotation\"},{\"attributes\":{\"client_comm_id\":\"6d198c83dd2a47a08c15e52e363060e3\",\"comm_id\":\"6e76a6234484428998fc2a892c6c54c6\",\"plot_id\":\"53754\"},\"id\":\"53863\",\"type\":\"panel.models.comm_manager.CommManager\"},{\"attributes\":{},\"id\":\"53768\",\"type\":\"CategoricalTicker\"},{\"attributes\":{\"end\":80,\"reset_end\":80,\"reset_start\":0,\"tags\":[[[\"value\",\"value\",null]]]},\"id\":\"53756\",\"type\":\"Range1d\"},{\"attributes\":{\"children\":[{\"id\":\"53830\"},{\"id\":\"53832\"}],\"margin\":[0,0,0,0],\"name\":\"Column121315\"},\"id\":\"53829\",\"type\":\"Column\"},{\"attributes\":{\"children\":[{\"id\":\"53758\"},{\"id\":\"53829\"}],\"margin\":[0,0,0,0],\"name\":\"Row121308\"},\"id\":\"53754\",\"type\":\"Row\"},{\"attributes\":{\"factors\":[[\"0\",\"Ceviche\"],[\"0\",\"Salmon\"]],\"tags\":[[[\"index\",\"index\",null],[\"Variable\",\"Variable\",null]]]},\"id\":\"53755\",\"type\":\"FactorRange\"},{\"attributes\":{\"axis\":{\"id\":\"53770\"},\"coordinates\":null,\"dimension\":1,\"grid_line_color\":null,\"group\":null,\"ticker\":null},\"id\":\"53773\",\"type\":\"Grid\"},{\"attributes\":{\"coordinates\":null,\"data_source\":{\"id\":\"53788\"},\"glyph\":{\"id\":\"53791\"},\"group\":null,\"hover_glyph\":null,\"muted_glyph\":{\"id\":\"53793\"},\"nonselection_glyph\":{\"id\":\"53792\"},\"selection_glyph\":{\"id\":\"53796\"},\"view\":{\"id\":\"53795\"}},\"id\":\"53794\",\"type\":\"GlyphRenderer\"},{\"attributes\":{},\"id\":\"53789\",\"type\":\"Selection\"},{\"attributes\":{},\"id\":\"53771\",\"type\":\"BasicTicker\"},{\"attributes\":{\"axis_label\":\"Searches Per Week\",\"coordinates\":null,\"formatter\":{\"id\":\"53801\"},\"group\":null,\"major_label_policy\":{\"id\":\"53802\"},\"ticker\":{\"id\":\"53771\"}},\"id\":\"53770\",\"type\":\"LinearAxis\"},{\"attributes\":{\"bottom\":{\"value\":0},\"fill_alpha\":{\"value\":1.0},\"fill_color\":{\"field\":\"Variable\",\"transform\":{\"id\":\"53787\"}},\"hatch_alpha\":{\"value\":1.0},\"hatch_color\":{\"field\":\"Variable\",\"transform\":{\"id\":\"53787\"}},\"hatch_scale\":{\"value\":12.0},\"hatch_weight\":{\"value\":1.0},\"line_alpha\":{\"value\":1.0},\"line_cap\":{\"value\":\"butt\"},\"line_color\":{\"value\":\"black\"},\"line_dash\":{\"value\":[]},\"line_dash_offset\":{\"value\":0},\"line_join\":{\"value\":\"bevel\"},\"line_width\":{\"value\":1},\"top\":{\"field\":\"value\"},\"width\":{\"value\":0.8},\"x\":{\"field\":\"xoffsets\"}},\"id\":\"53796\",\"type\":\"VBar\"},{\"attributes\":{\"callback\":null,\"renderers\":[{\"id\":\"53794\"}],\"tags\":[\"hv_created\"],\"tooltips\":[[\"index\",\"@{index}\"],[\"Variable\",\"@{Variable}\"],[\"value\",\"@{value}\"]]},\"id\":\"53757\",\"type\":\"HoverTool\"},{\"attributes\":{},\"id\":\"53801\",\"type\":\"BasicTickFormatter\"},{\"attributes\":{\"source\":{\"id\":\"53788\"}},\"id\":\"53795\",\"type\":\"CDSView\"},{\"attributes\":{\"fill_color\":{\"field\":\"Variable\",\"transform\":{\"id\":\"53787\"}},\"hatch_color\":{\"field\":\"Variable\",\"transform\":{\"id\":\"53787\"}},\"top\":{\"field\":\"value\"},\"width\":{\"value\":0.8},\"x\":{\"field\":\"xoffsets\"}},\"id\":\"53791\",\"type\":\"VBar\"},{\"attributes\":{},\"id\":\"53816\",\"type\":\"UnionRenderers\"}],\"root_ids\":[\"53754\",\"53863\"]},\"title\":\"Bokeh Application\",\"version\":\"2.4.2\"}};\n",
       "    var render_items = [{\"docid\":\"ece7cbf4-c5b0-4827-b148-55906f02a8bf\",\"root_ids\":[\"53754\"],\"roots\":{\"53754\":\"0132411d-1542-42b5-9661-536ce38ea55f\"}}];\n",
       "    root.Bokeh.embed.embed_items_notebook(docs_json, render_items);\n",
       "  }\n",
       "  if (root.Bokeh !== undefined && root.Bokeh.Panel !== undefined && ( root['Plotly'] !== undefined)) {\n",
       "    embed_document(root);\n",
       "  } else {\n",
       "    var attempts = 0;\n",
       "    var timer = setInterval(function(root) {\n",
       "      if (root.Bokeh !== undefined && root.Bokeh.Panel !== undefined && (root['Plotly'] !== undefined)) {\n",
       "        clearInterval(timer);\n",
       "        embed_document(root);\n",
       "      } else if (document.readyState == \"complete\") {\n",
       "        attempts++;\n",
       "        if (attempts > 200) {\n",
       "          clearInterval(timer);\n",
       "          console.log(\"Bokeh: ERROR: Unable to run BokehJS code because BokehJS library is missing\");\n",
       "        }\n",
       "      }\n",
       "    }, 25, root)\n",
       "  }\n",
       "})(window);</script>"
      ],
      "text/plain": [
       "Row\n",
       "    [0] HoloViews(DynamicMap)\n",
       "    [1] Column\n",
       "        [0] WidgetBox\n",
       "            [0] Select(margin=(20, 20, 20, 20), name='Week', options=['2/5/2017', '2/12/2017', ...], value='2/5/2017', width=250)\n",
       "        [1] VSpacer()"
      ]
     },
     "execution_count": 383,
     "metadata": {
      "application/vnd.holoviews_exec.v0+json": {
       "id": "53754"
      }
     },
     "output_type": "execute_result"
    }
   ],
   "source": [
    "# Miami region seafood\n",
    "miami_seafood_data.hvplot.bar(\n",
    "    rot=45, \n",
    "    width=200,\n",
    "    height=500, \n",
    "    widget_location='right_top', \n",
    "    groupby='Week',\n",
    "    ylim=(0,80),\n",
    "    xlabel=\"Food/Dish\", ylabel=\"Searches Per Week\"\n",
    ")"
   ]
  },
  {
   "cell_type": "code",
   "execution_count": 384,
   "id": "3fd3bc31",
   "metadata": {},
   "outputs": [
    {
     "data": {},
     "metadata": {},
     "output_type": "display_data"
    },
    {
     "data": {},
     "metadata": {},
     "output_type": "display_data"
    },
    {
     "data": {
      "application/vnd.holoviews_exec.v0+json": "",
      "text/html": [
       "<div id='53914'>\n",
       "\n",
       "\n",
       "\n",
       "\n",
       "\n",
       "  <div class=\"bk-root\" id=\"7e2a52f0-11c2-4e2d-a10d-a40425b1d14d\" data-root-id=\"53914\"></div>\n",
       "</div>\n",
       "<script type=\"application/javascript\">(function(root) {\n",
       "  function embed_document(root) {\n",
       "    var docs_json = {\"bdd078ad-e990-40d6-96c9-5e62eff3aaa6\":{\"defs\":[{\"extends\":null,\"module\":null,\"name\":\"ReactiveHTML1\",\"overrides\":[],\"properties\":[]},{\"extends\":null,\"module\":null,\"name\":\"FlexBox1\",\"overrides\":[],\"properties\":[{\"default\":\"flex-start\",\"kind\":null,\"name\":\"align_content\"},{\"default\":\"flex-start\",\"kind\":null,\"name\":\"align_items\"},{\"default\":\"row\",\"kind\":null,\"name\":\"flex_direction\"},{\"default\":\"wrap\",\"kind\":null,\"name\":\"flex_wrap\"},{\"default\":\"flex-start\",\"kind\":null,\"name\":\"justify_content\"}]},{\"extends\":null,\"module\":null,\"name\":\"TemplateActions1\",\"overrides\":[],\"properties\":[{\"default\":0,\"kind\":null,\"name\":\"open_modal\"},{\"default\":0,\"kind\":null,\"name\":\"close_modal\"}]},{\"extends\":null,\"module\":null,\"name\":\"MaterialTemplateActions1\",\"overrides\":[],\"properties\":[{\"default\":0,\"kind\":null,\"name\":\"open_modal\"},{\"default\":0,\"kind\":null,\"name\":\"close_modal\"}]}],\"roots\":{\"references\":[{\"attributes\":{\"children\":[{\"id\":\"53990\"},{\"id\":\"53992\"}],\"margin\":[0,0,0,0],\"name\":\"Column121591\"},\"id\":\"53989\",\"type\":\"Column\"},{\"attributes\":{\"coordinates\":null,\"group\":null,\"text\":\"Week: 2/5/2017\",\"text_color\":\"black\",\"text_font_size\":\"12pt\"},\"id\":\"53919\",\"type\":\"Title\"},{\"attributes\":{\"bottom\":{\"value\":0},\"fill_alpha\":{\"value\":1.0},\"fill_color\":{\"field\":\"Variable\",\"transform\":{\"id\":\"53947\"}},\"hatch_alpha\":{\"value\":1.0},\"hatch_color\":{\"field\":\"Variable\",\"transform\":{\"id\":\"53947\"}},\"hatch_scale\":{\"value\":12.0},\"hatch_weight\":{\"value\":1.0},\"line_alpha\":{\"value\":1.0},\"line_cap\":{\"value\":\"butt\"},\"line_color\":{\"value\":\"black\"},\"line_dash\":{\"value\":[]},\"line_dash_offset\":{\"value\":0},\"line_join\":{\"value\":\"bevel\"},\"line_width\":{\"value\":1},\"top\":{\"field\":\"value\"},\"width\":{\"value\":0.8},\"x\":{\"field\":\"xoffsets\"}},\"id\":\"53956\",\"type\":\"VBar\"},{\"attributes\":{},\"id\":\"53958\",\"type\":\"CategoricalTickFormatter\"},{\"attributes\":{\"source\":{\"id\":\"53948\"}},\"id\":\"53955\",\"type\":\"CDSView\"},{\"attributes\":{\"fill_alpha\":{\"value\":0.1},\"fill_color\":{\"field\":\"Variable\",\"transform\":{\"id\":\"53947\"}},\"hatch_alpha\":{\"value\":0.1},\"hatch_color\":{\"field\":\"Variable\",\"transform\":{\"id\":\"53947\"}},\"line_alpha\":{\"value\":0.1},\"top\":{\"field\":\"value\"},\"width\":{\"value\":0.8},\"x\":{\"field\":\"xoffsets\"}},\"id\":\"53952\",\"type\":\"VBar\"},{\"attributes\":{\"axis\":{\"id\":\"53927\"},\"coordinates\":null,\"grid_line_color\":null,\"group\":null,\"ticker\":null},\"id\":\"53929\",\"type\":\"Grid\"},{\"attributes\":{\"factors\":[\"Spicy_Tuna_Roll\",\"California_Roll\"],\"palette\":[\"#30a2da\",\"#fc4f30\"]},\"id\":\"53947\",\"type\":\"CategoricalColorMapper\"},{\"attributes\":{\"children\":[{\"id\":\"53918\"},{\"id\":\"53989\"}],\"margin\":[0,0,0,0],\"name\":\"Row121584\"},\"id\":\"53914\",\"type\":\"Row\"},{\"attributes\":{\"end\":80,\"reset_end\":80,\"reset_start\":0,\"tags\":[[[\"value\",\"value\",null]]]},\"id\":\"53916\",\"type\":\"Range1d\"},{\"attributes\":{},\"id\":\"53928\",\"type\":\"CategoricalTicker\"},{\"attributes\":{\"axis\":{\"id\":\"53930\"},\"coordinates\":null,\"dimension\":1,\"grid_line_color\":null,\"group\":null,\"ticker\":null},\"id\":\"53933\",\"type\":\"Grid\"},{\"attributes\":{},\"id\":\"53931\",\"type\":\"BasicTicker\"},{\"attributes\":{\"axis_label\":\"Searches Per Week\",\"coordinates\":null,\"formatter\":{\"id\":\"53961\"},\"group\":null,\"major_label_policy\":{\"id\":\"53962\"},\"ticker\":{\"id\":\"53931\"}},\"id\":\"53930\",\"type\":\"LinearAxis\"},{\"attributes\":{\"children\":[{\"id\":\"53991\"}],\"css_classes\":[\"panel-widget-box\"],\"margin\":[5,5,5,5],\"name\":\"WidgetBox121585\"},\"id\":\"53990\",\"type\":\"Column\"},{\"attributes\":{},\"id\":\"53976\",\"type\":\"UnionRenderers\"},{\"attributes\":{\"data\":{\"Variable\":[\"Spicy_Tuna_Roll\",\"California_Roll\"],\"index\":[\"0\",\"0\"],\"value\":[15,15],\"xoffsets\":[[\"0\",\"Spicy_Tuna_Roll\"],[\"0\",\"California_Roll\"]]},\"selected\":{\"id\":\"53949\"},\"selection_policy\":{\"id\":\"53976\"}},\"id\":\"53948\",\"type\":\"ColumnDataSource\"},{\"attributes\":{\"margin\":[20,20,20,20],\"min_width\":250,\"options\":[\"2/5/2017\",\"2/12/2017\",\"2/19/2017\",\"2/26/2017\",\"3/5/2017\",\"3/12/2017\",\"3/19/2017\",\"3/26/2017\",\"4/2/2017\",\"4/9/2017\",\"4/16/2017\",\"4/23/2017\",\"4/30/2017\",\"5/7/2017\",\"5/14/2017\",\"5/21/2017\",\"5/28/2017\",\"6/4/2017\",\"6/11/2017\",\"6/18/2017\",\"6/25/2017\",\"7/2/2017\",\"7/9/2017\",\"7/16/2017\",\"7/23/2017\",\"7/30/2017\",\"8/6/2017\",\"8/13/2017\",\"8/20/2017\",\"8/27/2017\",\"9/3/2017\",\"9/10/2017\",\"9/17/2017\",\"9/24/2017\",\"10/1/2017\",\"10/8/2017\",\"10/15/2017\",\"10/22/2017\",\"10/29/2017\",\"11/5/2017\",\"11/12/2017\",\"11/19/2017\",\"11/26/2017\",\"12/3/2017\",\"12/10/2017\",\"12/17/2017\",\"12/24/2017\",\"12/31/2017\",\"1/7/2018\",\"1/14/2018\",\"1/21/2018\",\"1/28/2018\",\"2/4/2018\",\"2/11/2018\",\"2/18/2018\",\"2/25/2018\",\"3/4/2018\",\"3/11/2018\",\"3/18/2018\",\"3/25/2018\",\"4/1/2018\",\"4/8/2018\",\"4/15/2018\",\"4/22/2018\",\"4/29/2018\",\"5/6/2018\",\"5/13/2018\",\"5/20/2018\",\"5/27/2018\",\"6/3/2018\",\"6/10/2018\",\"6/17/2018\",\"6/24/2018\",\"7/1/2018\",\"7/8/2018\",\"7/15/2018\",\"7/22/2018\",\"7/29/2018\",\"8/5/2018\",\"8/12/2018\",\"8/19/2018\",\"8/26/2018\",\"9/2/2018\",\"9/9/2018\",\"9/16/2018\",\"9/23/2018\",\"9/30/2018\",\"10/7/2018\",\"10/14/2018\",\"10/21/2018\",\"10/28/2018\",\"11/4/2018\",\"11/11/2018\",\"11/18/2018\",\"11/25/2018\",\"12/2/2018\",\"12/9/2018\",\"12/16/2018\",\"12/23/2018\",\"12/30/2018\",\"1/6/2019\",\"1/13/2019\",\"1/20/2019\",\"1/27/2019\",\"2/3/2019\",\"2/10/2019\",\"2/17/2019\",\"2/24/2019\",\"3/3/2019\",\"3/10/2019\",\"3/17/2019\",\"3/24/2019\",\"3/31/2019\",\"4/7/2019\",\"4/14/2019\",\"4/21/2019\",\"4/28/2019\",\"5/5/2019\",\"5/12/2019\",\"5/19/2019\",\"5/26/2019\",\"6/2/2019\",\"6/9/2019\",\"6/16/2019\",\"6/23/2019\",\"6/30/2019\",\"7/7/2019\",\"7/14/2019\",\"7/21/2019\",\"7/28/2019\",\"8/4/2019\",\"8/11/2019\",\"8/18/2019\",\"8/25/2019\",\"9/1/2019\",\"9/8/2019\",\"9/15/2019\",\"9/22/2019\",\"9/29/2019\",\"10/6/2019\",\"10/13/2019\",\"10/20/2019\",\"10/27/2019\",\"11/3/2019\",\"11/10/2019\",\"11/17/2019\",\"11/24/2019\",\"12/1/2019\",\"12/8/2019\",\"12/15/2019\",\"12/22/2019\",\"12/29/2019\",\"1/5/2020\",\"1/12/2020\",\"1/19/2020\",\"1/26/2020\",\"2/2/2020\",\"2/9/2020\",\"2/16/2020\",\"2/23/2020\",\"3/1/2020\",\"3/8/2020\",\"3/15/2020\",\"3/22/2020\",\"3/29/2020\",\"4/5/2020\",\"4/12/2020\",\"4/19/2020\",\"4/26/2020\",\"5/3/2020\",\"5/10/2020\",\"5/17/2020\",\"5/24/2020\",\"5/31/2020\",\"6/7/2020\",\"6/14/2020\",\"6/21/2020\",\"6/28/2020\",\"7/5/2020\",\"7/12/2020\",\"7/19/2020\",\"7/26/2020\",\"8/2/2020\",\"8/9/2020\",\"8/16/2020\",\"8/23/2020\",\"8/30/2020\",\"9/6/2020\",\"9/13/2020\",\"9/20/2020\",\"9/27/2020\",\"10/4/2020\",\"10/11/2020\",\"10/18/2020\",\"10/25/2020\",\"11/1/2020\",\"11/8/2020\",\"11/15/2020\",\"11/22/2020\",\"11/29/2020\",\"12/6/2020\",\"12/13/2020\",\"12/20/2020\",\"12/27/2020\",\"1/3/2021\",\"1/10/2021\",\"1/17/2021\",\"1/24/2021\",\"1/31/2021\",\"2/7/2021\",\"2/14/2021\",\"2/21/2021\",\"2/28/2021\",\"3/7/2021\",\"3/14/2021\",\"3/21/2021\",\"3/28/2021\",\"4/4/2021\",\"4/11/2021\",\"4/18/2021\",\"4/25/2021\",\"5/2/2021\",\"5/9/2021\",\"5/16/2021\",\"5/23/2021\",\"5/30/2021\",\"6/6/2021\",\"6/13/2021\",\"6/20/2021\",\"6/27/2021\",\"7/4/2021\",\"7/11/2021\",\"7/18/2021\",\"7/25/2021\",\"8/1/2021\",\"8/8/2021\",\"8/15/2021\",\"8/22/2021\",\"8/29/2021\",\"9/5/2021\",\"9/12/2021\",\"9/19/2021\",\"9/26/2021\",\"10/3/2021\",\"10/10/2021\",\"10/17/2021\",\"10/24/2021\",\"10/31/2021\",\"11/7/2021\",\"11/14/2021\",\"11/21/2021\",\"11/28/2021\",\"12/5/2021\",\"12/12/2021\",\"12/19/2021\",\"12/26/2021\",\"1/2/2022\",\"1/9/2022\",\"1/16/2022\",\"1/23/2022\"],\"title\":\"Week\",\"value\":\"2/5/2017\",\"width\":250},\"id\":\"53991\",\"type\":\"Select\"},{\"attributes\":{},\"id\":\"53923\",\"type\":\"CategoricalScale\"},{\"attributes\":{\"callback\":null,\"renderers\":[{\"id\":\"53954\"}],\"tags\":[\"hv_created\"],\"tooltips\":[[\"index\",\"@{index}\"],[\"Variable\",\"@{Variable}\"],[\"value\",\"@{value}\"]]},\"id\":\"53917\",\"type\":\"HoverTool\"},{\"attributes\":{\"fill_color\":{\"field\":\"Variable\",\"transform\":{\"id\":\"53947\"}},\"hatch_color\":{\"field\":\"Variable\",\"transform\":{\"id\":\"53947\"}},\"top\":{\"field\":\"value\"},\"width\":{\"value\":0.8},\"x\":{\"field\":\"xoffsets\"}},\"id\":\"53951\",\"type\":\"VBar\"},{\"attributes\":{\"fill_alpha\":{\"value\":0.2},\"fill_color\":{\"field\":\"Variable\",\"transform\":{\"id\":\"53947\"}},\"hatch_alpha\":{\"value\":0.2},\"hatch_color\":{\"field\":\"Variable\",\"transform\":{\"id\":\"53947\"}},\"line_alpha\":{\"value\":0.2},\"top\":{\"field\":\"value\"},\"width\":{\"value\":0.8},\"x\":{\"field\":\"xoffsets\"}},\"id\":\"53953\",\"type\":\"VBar\"},{\"attributes\":{},\"id\":\"53961\",\"type\":\"BasicTickFormatter\"},{\"attributes\":{\"client_comm_id\":\"352cf725e6724c35b8ac6f04b3241f4c\",\"comm_id\":\"bc90b2b94edc49609868d361b865b159\",\"plot_id\":\"53914\"},\"id\":\"54023\",\"type\":\"panel.models.comm_manager.CommManager\"},{\"attributes\":{\"bottom_units\":\"screen\",\"coordinates\":null,\"fill_alpha\":0.5,\"fill_color\":\"lightgrey\",\"group\":null,\"left_units\":\"screen\",\"level\":\"overlay\",\"line_alpha\":1.0,\"line_color\":\"black\",\"line_dash\":[4,4],\"line_width\":2,\"right_units\":\"screen\",\"syncable\":false,\"top_units\":\"screen\"},\"id\":\"53939\",\"type\":\"BoxAnnotation\"},{\"attributes\":{\"tools\":[{\"id\":\"53917\"},{\"id\":\"53934\"},{\"id\":\"53935\"},{\"id\":\"53936\"},{\"id\":\"53937\"},{\"id\":\"53938\"}]},\"id\":\"53940\",\"type\":\"Toolbar\"},{\"attributes\":{},\"id\":\"53949\",\"type\":\"Selection\"},{\"attributes\":{\"margin\":[5,5,5,5],\"name\":\"VSpacer121590\",\"sizing_mode\":\"stretch_height\"},\"id\":\"53992\",\"type\":\"Spacer\"},{\"attributes\":{},\"id\":\"53934\",\"type\":\"SaveTool\"},{\"attributes\":{},\"id\":\"53962\",\"type\":\"AllLabels\"},{\"attributes\":{},\"id\":\"53959\",\"type\":\"AllLabels\"},{\"attributes\":{\"below\":[{\"id\":\"53927\"}],\"center\":[{\"id\":\"53929\"},{\"id\":\"53933\"}],\"height\":500,\"left\":[{\"id\":\"53930\"}],\"margin\":[5,5,5,5],\"min_border_bottom\":10,\"min_border_left\":10,\"min_border_right\":10,\"min_border_top\":10,\"renderers\":[{\"id\":\"53954\"}],\"sizing_mode\":\"fixed\",\"title\":{\"id\":\"53919\"},\"toolbar\":{\"id\":\"53940\"},\"width\":200,\"x_range\":{\"id\":\"53915\"},\"x_scale\":{\"id\":\"53923\"},\"y_range\":{\"id\":\"53916\"},\"y_scale\":{\"id\":\"53925\"}},\"id\":\"53918\",\"subtype\":\"Figure\",\"type\":\"Plot\"},{\"attributes\":{},\"id\":\"53935\",\"type\":\"PanTool\"},{\"attributes\":{},\"id\":\"53938\",\"type\":\"ResetTool\"},{\"attributes\":{},\"id\":\"53936\",\"type\":\"WheelZoomTool\"},{\"attributes\":{\"factors\":[[\"0\",\"California_Roll\"],[\"0\",\"Spicy_Tuna_Roll\"]],\"tags\":[[[\"index\",\"index\",null],[\"Variable\",\"Variable\",null]]]},\"id\":\"53915\",\"type\":\"FactorRange\"},{\"attributes\":{\"coordinates\":null,\"data_source\":{\"id\":\"53948\"},\"glyph\":{\"id\":\"53951\"},\"group\":null,\"hover_glyph\":null,\"muted_glyph\":{\"id\":\"53953\"},\"nonselection_glyph\":{\"id\":\"53952\"},\"selection_glyph\":{\"id\":\"53956\"},\"view\":{\"id\":\"53955\"}},\"id\":\"53954\",\"type\":\"GlyphRenderer\"},{\"attributes\":{\"overlay\":{\"id\":\"53939\"}},\"id\":\"53937\",\"type\":\"BoxZoomTool\"},{\"attributes\":{},\"id\":\"53925\",\"type\":\"LinearScale\"},{\"attributes\":{\"axis_label\":\"Food/Dish\",\"coordinates\":null,\"formatter\":{\"id\":\"53958\"},\"group\":null,\"major_label_orientation\":0.7853981633974483,\"major_label_policy\":{\"id\":\"53959\"},\"ticker\":{\"id\":\"53928\"}},\"id\":\"53927\",\"type\":\"CategoricalAxis\"}],\"root_ids\":[\"53914\",\"54023\"]},\"title\":\"Bokeh Application\",\"version\":\"2.4.2\"}};\n",
       "    var render_items = [{\"docid\":\"bdd078ad-e990-40d6-96c9-5e62eff3aaa6\",\"root_ids\":[\"53914\"],\"roots\":{\"53914\":\"7e2a52f0-11c2-4e2d-a10d-a40425b1d14d\"}}];\n",
       "    root.Bokeh.embed.embed_items_notebook(docs_json, render_items);\n",
       "  }\n",
       "  if (root.Bokeh !== undefined && root.Bokeh.Panel !== undefined && ( root['Plotly'] !== undefined)) {\n",
       "    embed_document(root);\n",
       "  } else {\n",
       "    var attempts = 0;\n",
       "    var timer = setInterval(function(root) {\n",
       "      if (root.Bokeh !== undefined && root.Bokeh.Panel !== undefined && (root['Plotly'] !== undefined)) {\n",
       "        clearInterval(timer);\n",
       "        embed_document(root);\n",
       "      } else if (document.readyState == \"complete\") {\n",
       "        attempts++;\n",
       "        if (attempts > 200) {\n",
       "          clearInterval(timer);\n",
       "          console.log(\"Bokeh: ERROR: Unable to run BokehJS code because BokehJS library is missing\");\n",
       "        }\n",
       "      }\n",
       "    }, 25, root)\n",
       "  }\n",
       "})(window);</script>"
      ],
      "text/plain": [
       "Row\n",
       "    [0] HoloViews(DynamicMap)\n",
       "    [1] Column\n",
       "        [0] WidgetBox\n",
       "            [0] Select(margin=(20, 20, 20, 20), name='Week', options=['2/5/2017', '2/12/2017', ...], value='2/5/2017', width=250)\n",
       "        [1] VSpacer()"
      ]
     },
     "execution_count": 384,
     "metadata": {
      "application/vnd.holoviews_exec.v0+json": {
       "id": "53914"
      }
     },
     "output_type": "execute_result"
    }
   ],
   "source": [
    "# Miami region sushi \n",
    "miami_sushi_rolls_data.hvplot.bar(\n",
    "    rot=45, \n",
    "    width=200,\n",
    "    height=500, \n",
    "    widget_location='right_top', \n",
    "    groupby='Week',\n",
    "    ylim=(0,80),\n",
    "    xlabel=\"Food/Dish\", ylabel=\"Searches Per Week\"\n",
    ")"
   ]
  },
  {
   "cell_type": "code",
   "execution_count": 385,
   "id": "a00d114b",
   "metadata": {},
   "outputs": [
    {
     "data": {},
     "metadata": {},
     "output_type": "display_data"
    },
    {
     "data": {},
     "metadata": {},
     "output_type": "display_data"
    },
    {
     "data": {
      "application/vnd.holoviews_exec.v0+json": "",
      "text/html": [
       "<div id='54074'>\n",
       "\n",
       "\n",
       "\n",
       "\n",
       "\n",
       "  <div class=\"bk-root\" id=\"d6d83223-fc8b-46c2-9ee8-0d9ad7b8c834\" data-root-id=\"54074\"></div>\n",
       "</div>\n",
       "<script type=\"application/javascript\">(function(root) {\n",
       "  function embed_document(root) {\n",
       "    var docs_json = {\"2b387ff2-a1a8-4f27-aa23-2025c024d48b\":{\"defs\":[{\"extends\":null,\"module\":null,\"name\":\"ReactiveHTML1\",\"overrides\":[],\"properties\":[]},{\"extends\":null,\"module\":null,\"name\":\"FlexBox1\",\"overrides\":[],\"properties\":[{\"default\":\"flex-start\",\"kind\":null,\"name\":\"align_content\"},{\"default\":\"flex-start\",\"kind\":null,\"name\":\"align_items\"},{\"default\":\"row\",\"kind\":null,\"name\":\"flex_direction\"},{\"default\":\"wrap\",\"kind\":null,\"name\":\"flex_wrap\"},{\"default\":\"flex-start\",\"kind\":null,\"name\":\"justify_content\"}]},{\"extends\":null,\"module\":null,\"name\":\"TemplateActions1\",\"overrides\":[],\"properties\":[{\"default\":0,\"kind\":null,\"name\":\"open_modal\"},{\"default\":0,\"kind\":null,\"name\":\"close_modal\"}]},{\"extends\":null,\"module\":null,\"name\":\"MaterialTemplateActions1\",\"overrides\":[],\"properties\":[{\"default\":0,\"kind\":null,\"name\":\"open_modal\"},{\"default\":0,\"kind\":null,\"name\":\"close_modal\"}]}],\"roots\":{\"references\":[{\"attributes\":{\"margin\":[5,5,5,5],\"name\":\"VSpacer121866\",\"sizing_mode\":\"stretch_height\"},\"id\":\"54152\",\"type\":\"Spacer\"},{\"attributes\":{},\"id\":\"54085\",\"type\":\"LinearScale\"},{\"attributes\":{\"tools\":[{\"id\":\"54077\"},{\"id\":\"54094\"},{\"id\":\"54095\"},{\"id\":\"54096\"},{\"id\":\"54097\"},{\"id\":\"54098\"}]},\"id\":\"54100\",\"type\":\"Toolbar\"},{\"attributes\":{},\"id\":\"54119\",\"type\":\"AllLabels\"},{\"attributes\":{\"end\":80,\"reset_end\":80,\"reset_start\":0,\"tags\":[[[\"value\",\"value\",null]]]},\"id\":\"54076\",\"type\":\"Range1d\"},{\"attributes\":{},\"id\":\"54088\",\"type\":\"CategoricalTicker\"},{\"attributes\":{},\"id\":\"54136\",\"type\":\"UnionRenderers\"},{\"attributes\":{\"axis\":{\"id\":\"54090\"},\"coordinates\":null,\"dimension\":1,\"grid_line_color\":null,\"group\":null,\"ticker\":null},\"id\":\"54093\",\"type\":\"Grid\"},{\"attributes\":{\"factors\":[\"Aloo Gobi\",\"Salad\"],\"palette\":[\"#30a2da\",\"#fc4f30\"]},\"id\":\"54107\",\"type\":\"CategoricalColorMapper\"},{\"attributes\":{},\"id\":\"54109\",\"type\":\"Selection\"},{\"attributes\":{},\"id\":\"54091\",\"type\":\"BasicTicker\"},{\"attributes\":{\"axis_label\":\"Searches Per Week\",\"coordinates\":null,\"formatter\":{\"id\":\"54121\"},\"group\":null,\"major_label_policy\":{\"id\":\"54122\"},\"ticker\":{\"id\":\"54091\"}},\"id\":\"54090\",\"type\":\"LinearAxis\"},{\"attributes\":{\"fill_color\":{\"field\":\"Variable\",\"transform\":{\"id\":\"54107\"}},\"hatch_color\":{\"field\":\"Variable\",\"transform\":{\"id\":\"54107\"}},\"top\":{\"field\":\"value\"},\"width\":{\"value\":0.8},\"x\":{\"field\":\"xoffsets\"}},\"id\":\"54111\",\"type\":\"VBar\"},{\"attributes\":{\"coordinates\":null,\"data_source\":{\"id\":\"54108\"},\"glyph\":{\"id\":\"54111\"},\"group\":null,\"hover_glyph\":null,\"muted_glyph\":{\"id\":\"54113\"},\"nonselection_glyph\":{\"id\":\"54112\"},\"selection_glyph\":{\"id\":\"54116\"},\"view\":{\"id\":\"54115\"}},\"id\":\"54114\",\"type\":\"GlyphRenderer\"},{\"attributes\":{\"fill_alpha\":{\"value\":0.1},\"fill_color\":{\"field\":\"Variable\",\"transform\":{\"id\":\"54107\"}},\"hatch_alpha\":{\"value\":0.1},\"hatch_color\":{\"field\":\"Variable\",\"transform\":{\"id\":\"54107\"}},\"line_alpha\":{\"value\":0.1},\"top\":{\"field\":\"value\"},\"width\":{\"value\":0.8},\"x\":{\"field\":\"xoffsets\"}},\"id\":\"54112\",\"type\":\"VBar\"},{\"attributes\":{\"callback\":null,\"renderers\":[{\"id\":\"54114\"}],\"tags\":[\"hv_created\"],\"tooltips\":[[\"index\",\"@{index}\"],[\"Variable\",\"@{Variable}\"],[\"value\",\"@{value}\"]]},\"id\":\"54077\",\"type\":\"HoverTool\"},{\"attributes\":{\"fill_alpha\":{\"value\":0.2},\"fill_color\":{\"field\":\"Variable\",\"transform\":{\"id\":\"54107\"}},\"hatch_alpha\":{\"value\":0.2},\"hatch_color\":{\"field\":\"Variable\",\"transform\":{\"id\":\"54107\"}},\"line_alpha\":{\"value\":0.2},\"top\":{\"field\":\"value\"},\"width\":{\"value\":0.8},\"x\":{\"field\":\"xoffsets\"}},\"id\":\"54113\",\"type\":\"VBar\"},{\"attributes\":{\"margin\":[20,20,20,20],\"min_width\":250,\"options\":[\"2/5/2017\",\"2/12/2017\",\"2/19/2017\",\"2/26/2017\",\"3/5/2017\",\"3/12/2017\",\"3/19/2017\",\"3/26/2017\",\"4/2/2017\",\"4/9/2017\",\"4/16/2017\",\"4/23/2017\",\"4/30/2017\",\"5/7/2017\",\"5/14/2017\",\"5/21/2017\",\"5/28/2017\",\"6/4/2017\",\"6/11/2017\",\"6/18/2017\",\"6/25/2017\",\"7/2/2017\",\"7/9/2017\",\"7/16/2017\",\"7/23/2017\",\"7/30/2017\",\"8/6/2017\",\"8/13/2017\",\"8/20/2017\",\"8/27/2017\",\"9/3/2017\",\"9/10/2017\",\"9/17/2017\",\"9/24/2017\",\"10/1/2017\",\"10/8/2017\",\"10/15/2017\",\"10/22/2017\",\"10/29/2017\",\"11/5/2017\",\"11/12/2017\",\"11/19/2017\",\"11/26/2017\",\"12/3/2017\",\"12/10/2017\",\"12/17/2017\",\"12/24/2017\",\"12/31/2017\",\"1/7/2018\",\"1/14/2018\",\"1/21/2018\",\"1/28/2018\",\"2/4/2018\",\"2/11/2018\",\"2/18/2018\",\"2/25/2018\",\"3/4/2018\",\"3/11/2018\",\"3/18/2018\",\"3/25/2018\",\"4/1/2018\",\"4/8/2018\",\"4/15/2018\",\"4/22/2018\",\"4/29/2018\",\"5/6/2018\",\"5/13/2018\",\"5/20/2018\",\"5/27/2018\",\"6/3/2018\",\"6/10/2018\",\"6/17/2018\",\"6/24/2018\",\"7/1/2018\",\"7/8/2018\",\"7/15/2018\",\"7/22/2018\",\"7/29/2018\",\"8/5/2018\",\"8/12/2018\",\"8/19/2018\",\"8/26/2018\",\"9/2/2018\",\"9/9/2018\",\"9/16/2018\",\"9/23/2018\",\"9/30/2018\",\"10/7/2018\",\"10/14/2018\",\"10/21/2018\",\"10/28/2018\",\"11/4/2018\",\"11/11/2018\",\"11/18/2018\",\"11/25/2018\",\"12/2/2018\",\"12/9/2018\",\"12/16/2018\",\"12/23/2018\",\"12/30/2018\",\"1/6/2019\",\"1/13/2019\",\"1/20/2019\",\"1/27/2019\",\"2/3/2019\",\"2/10/2019\",\"2/17/2019\",\"2/24/2019\",\"3/3/2019\",\"3/10/2019\",\"3/17/2019\",\"3/24/2019\",\"3/31/2019\",\"4/7/2019\",\"4/14/2019\",\"4/21/2019\",\"4/28/2019\",\"5/5/2019\",\"5/12/2019\",\"5/19/2019\",\"5/26/2019\",\"6/2/2019\",\"6/9/2019\",\"6/16/2019\",\"6/23/2019\",\"6/30/2019\",\"7/7/2019\",\"7/14/2019\",\"7/21/2019\",\"7/28/2019\",\"8/4/2019\",\"8/11/2019\",\"8/18/2019\",\"8/25/2019\",\"9/1/2019\",\"9/8/2019\",\"9/15/2019\",\"9/22/2019\",\"9/29/2019\",\"10/6/2019\",\"10/13/2019\",\"10/20/2019\",\"10/27/2019\",\"11/3/2019\",\"11/10/2019\",\"11/17/2019\",\"11/24/2019\",\"12/1/2019\",\"12/8/2019\",\"12/15/2019\",\"12/22/2019\",\"12/29/2019\",\"1/5/2020\",\"1/12/2020\",\"1/19/2020\",\"1/26/2020\",\"2/2/2020\",\"2/9/2020\",\"2/16/2020\",\"2/23/2020\",\"3/1/2020\",\"3/8/2020\",\"3/15/2020\",\"3/22/2020\",\"3/29/2020\",\"4/5/2020\",\"4/12/2020\",\"4/19/2020\",\"4/26/2020\",\"5/3/2020\",\"5/10/2020\",\"5/17/2020\",\"5/24/2020\",\"5/31/2020\",\"6/7/2020\",\"6/14/2020\",\"6/21/2020\",\"6/28/2020\",\"7/5/2020\",\"7/12/2020\",\"7/19/2020\",\"7/26/2020\",\"8/2/2020\",\"8/9/2020\",\"8/16/2020\",\"8/23/2020\",\"8/30/2020\",\"9/6/2020\",\"9/13/2020\",\"9/20/2020\",\"9/27/2020\",\"10/4/2020\",\"10/11/2020\",\"10/18/2020\",\"10/25/2020\",\"11/1/2020\",\"11/8/2020\",\"11/15/2020\",\"11/22/2020\",\"11/29/2020\",\"12/6/2020\",\"12/13/2020\",\"12/20/2020\",\"12/27/2020\",\"1/3/2021\",\"1/10/2021\",\"1/17/2021\",\"1/24/2021\",\"1/31/2021\",\"2/7/2021\",\"2/14/2021\",\"2/21/2021\",\"2/28/2021\",\"3/7/2021\",\"3/14/2021\",\"3/21/2021\",\"3/28/2021\",\"4/4/2021\",\"4/11/2021\",\"4/18/2021\",\"4/25/2021\",\"5/2/2021\",\"5/9/2021\",\"5/16/2021\",\"5/23/2021\",\"5/30/2021\",\"6/6/2021\",\"6/13/2021\",\"6/20/2021\",\"6/27/2021\",\"7/4/2021\",\"7/11/2021\",\"7/18/2021\",\"7/25/2021\",\"8/1/2021\",\"8/8/2021\",\"8/15/2021\",\"8/22/2021\",\"8/29/2021\",\"9/5/2021\",\"9/12/2021\",\"9/19/2021\",\"9/26/2021\",\"10/3/2021\",\"10/10/2021\",\"10/17/2021\",\"10/24/2021\",\"10/31/2021\",\"11/7/2021\",\"11/14/2021\",\"11/21/2021\",\"11/28/2021\",\"12/5/2021\",\"12/12/2021\",\"12/19/2021\",\"12/26/2021\",\"1/2/2022\",\"1/9/2022\",\"1/16/2022\",\"1/23/2022\"],\"title\":\"Week\",\"value\":\"2/5/2017\",\"width\":250},\"id\":\"54151\",\"type\":\"Select\"},{\"attributes\":{\"source\":{\"id\":\"54108\"}},\"id\":\"54115\",\"type\":\"CDSView\"},{\"attributes\":{},\"id\":\"54122\",\"type\":\"AllLabels\"},{\"attributes\":{\"client_comm_id\":\"0ae661f757db45ebb2af30adba8fbc25\",\"comm_id\":\"b993a45688954317aa17af05b5f23a2a\",\"plot_id\":\"54074\"},\"id\":\"54183\",\"type\":\"panel.models.comm_manager.CommManager\"},{\"attributes\":{\"bottom_units\":\"screen\",\"coordinates\":null,\"fill_alpha\":0.5,\"fill_color\":\"lightgrey\",\"group\":null,\"left_units\":\"screen\",\"level\":\"overlay\",\"line_alpha\":1.0,\"line_color\":\"black\",\"line_dash\":[4,4],\"line_width\":2,\"right_units\":\"screen\",\"syncable\":false,\"top_units\":\"screen\"},\"id\":\"54099\",\"type\":\"BoxAnnotation\"},{\"attributes\":{\"children\":[{\"id\":\"54150\"},{\"id\":\"54152\"}],\"margin\":[0,0,0,0],\"name\":\"Column121867\"},\"id\":\"54149\",\"type\":\"Column\"},{\"attributes\":{\"bottom\":{\"value\":0},\"fill_alpha\":{\"value\":1.0},\"fill_color\":{\"field\":\"Variable\",\"transform\":{\"id\":\"54107\"}},\"hatch_alpha\":{\"value\":1.0},\"hatch_color\":{\"field\":\"Variable\",\"transform\":{\"id\":\"54107\"}},\"hatch_scale\":{\"value\":12.0},\"hatch_weight\":{\"value\":1.0},\"line_alpha\":{\"value\":1.0},\"line_cap\":{\"value\":\"butt\"},\"line_color\":{\"value\":\"black\"},\"line_dash\":{\"value\":[]},\"line_dash_offset\":{\"value\":0},\"line_join\":{\"value\":\"bevel\"},\"line_width\":{\"value\":1},\"top\":{\"field\":\"value\"},\"width\":{\"value\":0.8},\"x\":{\"field\":\"xoffsets\"}},\"id\":\"54116\",\"type\":\"VBar\"},{\"attributes\":{},\"id\":\"54118\",\"type\":\"CategoricalTickFormatter\"},{\"attributes\":{\"axis_label\":\"Food/Dish\",\"coordinates\":null,\"formatter\":{\"id\":\"54118\"},\"group\":null,\"major_label_orientation\":0.7853981633974483,\"major_label_policy\":{\"id\":\"54119\"},\"ticker\":{\"id\":\"54088\"}},\"id\":\"54087\",\"type\":\"CategoricalAxis\"},{\"attributes\":{},\"id\":\"54094\",\"type\":\"SaveTool\"},{\"attributes\":{\"data\":{\"Variable\":[\"Aloo Gobi\",\"Salad\"],\"index\":[\"0\",\"0\"],\"value\":[15,75],\"xoffsets\":[[\"0\",\"Aloo Gobi\"],[\"0\",\"Salad\"]]},\"selected\":{\"id\":\"54109\"},\"selection_policy\":{\"id\":\"54136\"}},\"id\":\"54108\",\"type\":\"ColumnDataSource\"},{\"attributes\":{\"axis\":{\"id\":\"54087\"},\"coordinates\":null,\"grid_line_color\":null,\"group\":null,\"ticker\":null},\"id\":\"54089\",\"type\":\"Grid\"},{\"attributes\":{\"factors\":[[\"0\",\"Aloo Gobi\"],[\"0\",\"Salad\"]],\"tags\":[[[\"index\",\"index\",null],[\"Variable\",\"Variable\",null]]]},\"id\":\"54075\",\"type\":\"FactorRange\"},{\"attributes\":{},\"id\":\"54095\",\"type\":\"PanTool\"},{\"attributes\":{\"below\":[{\"id\":\"54087\"}],\"center\":[{\"id\":\"54089\"},{\"id\":\"54093\"}],\"height\":500,\"left\":[{\"id\":\"54090\"}],\"margin\":[5,5,5,5],\"min_border_bottom\":10,\"min_border_left\":10,\"min_border_right\":10,\"min_border_top\":10,\"renderers\":[{\"id\":\"54114\"}],\"sizing_mode\":\"fixed\",\"title\":{\"id\":\"54079\"},\"toolbar\":{\"id\":\"54100\"},\"width\":200,\"x_range\":{\"id\":\"54075\"},\"x_scale\":{\"id\":\"54083\"},\"y_range\":{\"id\":\"54076\"},\"y_scale\":{\"id\":\"54085\"}},\"id\":\"54078\",\"subtype\":\"Figure\",\"type\":\"Plot\"},{\"attributes\":{},\"id\":\"54098\",\"type\":\"ResetTool\"},{\"attributes\":{\"children\":[{\"id\":\"54078\"},{\"id\":\"54149\"}],\"margin\":[0,0,0,0],\"name\":\"Row121860\"},\"id\":\"54074\",\"type\":\"Row\"},{\"attributes\":{},\"id\":\"54096\",\"type\":\"WheelZoomTool\"},{\"attributes\":{\"overlay\":{\"id\":\"54099\"}},\"id\":\"54097\",\"type\":\"BoxZoomTool\"},{\"attributes\":{},\"id\":\"54121\",\"type\":\"BasicTickFormatter\"},{\"attributes\":{\"coordinates\":null,\"group\":null,\"text\":\"Week: 2/5/2017\",\"text_color\":\"black\",\"text_font_size\":\"12pt\"},\"id\":\"54079\",\"type\":\"Title\"},{\"attributes\":{\"children\":[{\"id\":\"54151\"}],\"css_classes\":[\"panel-widget-box\"],\"margin\":[5,5,5,5],\"name\":\"WidgetBox121861\"},\"id\":\"54150\",\"type\":\"Column\"},{\"attributes\":{},\"id\":\"54083\",\"type\":\"CategoricalScale\"}],\"root_ids\":[\"54074\",\"54183\"]},\"title\":\"Bokeh Application\",\"version\":\"2.4.2\"}};\n",
       "    var render_items = [{\"docid\":\"2b387ff2-a1a8-4f27-aa23-2025c024d48b\",\"root_ids\":[\"54074\"],\"roots\":{\"54074\":\"d6d83223-fc8b-46c2-9ee8-0d9ad7b8c834\"}}];\n",
       "    root.Bokeh.embed.embed_items_notebook(docs_json, render_items);\n",
       "  }\n",
       "  if (root.Bokeh !== undefined && root.Bokeh.Panel !== undefined && ( root['Plotly'] !== undefined)) {\n",
       "    embed_document(root);\n",
       "  } else {\n",
       "    var attempts = 0;\n",
       "    var timer = setInterval(function(root) {\n",
       "      if (root.Bokeh !== undefined && root.Bokeh.Panel !== undefined && (root['Plotly'] !== undefined)) {\n",
       "        clearInterval(timer);\n",
       "        embed_document(root);\n",
       "      } else if (document.readyState == \"complete\") {\n",
       "        attempts++;\n",
       "        if (attempts > 200) {\n",
       "          clearInterval(timer);\n",
       "          console.log(\"Bokeh: ERROR: Unable to run BokehJS code because BokehJS library is missing\");\n",
       "        }\n",
       "      }\n",
       "    }, 25, root)\n",
       "  }\n",
       "})(window);</script>"
      ],
      "text/plain": [
       "Row\n",
       "    [0] HoloViews(DynamicMap)\n",
       "    [1] Column\n",
       "        [0] WidgetBox\n",
       "            [0] Select(margin=(20, 20, 20, 20), name='Week', options=['2/5/2017', '2/12/2017', ...], value='2/5/2017', width=250)\n",
       "        [1] VSpacer()"
      ]
     },
     "execution_count": 385,
     "metadata": {
      "application/vnd.holoviews_exec.v0+json": {
       "id": "54074"
      }
     },
     "output_type": "execute_result"
    }
   ],
   "source": [
    "# Miami region vegetarian\n",
    "miami_veggie_data.hvplot.bar(\n",
    "    rot=45, \n",
    "    width=200,\n",
    "    height=500, \n",
    "    widget_location='right_top', \n",
    "    groupby='Week',\n",
    "    ylim=(0,80),\n",
    "    xlabel=\"Food/Dish\", ylabel=\"Searches Per Week\"\n",
    ")"
   ]
  },
  {
   "cell_type": "code",
   "execution_count": 390,
   "id": "0120af87",
   "metadata": {},
   "outputs": [],
   "source": [
    "# Joined all Miami region\n",
    "miami_region_one = miami_pasta_data.join(miami_pizza_data, on=None, how='left', lsuffix='Week', rsuffix='Week', sort=False)\n",
    "miami_region_two = miami_region_one.join(miami_seafood_data, on=None, how='left', lsuffix='', rsuffix='Week', sort=False)\n",
    "miami_region_three = miami_region_two.join(miami_sushi_rolls_data, on=None, how='left', lsuffix='Week', rsuffix='', sort=False)\n",
    "miami_region_all = miami_region_three.join(miami_veggie_data, on=None, how='left', lsuffix='Week', rsuffix='',sort=False)\n",
    "miami_region_all.sort_index(ascending=True) \n",
    "miami_region_all = miami_region_all.drop(columns=[\"WeekWeek\"])\n",
    "miami_region_all = miami_region_all[\n",
    "    ['Week', 'Alfredo', \n",
    "     'Spaghetti_Meatballs', \n",
    "     'Pepperoni_Pizza', \n",
    "     'Supreme_Pizza', \n",
    "     'Ceviche', \n",
    "     'Salmon',\n",
    "     'Spicy_Tuna_Roll', \n",
    "     'California_Roll', \n",
    "     'Aloo_Gobi', \n",
    "     'Salad']\n",
    "]"
   ]
  },
  {
   "cell_type": "code",
   "execution_count": 392,
   "id": "687db3cb",
   "metadata": {},
   "outputs": [
    {
     "data": {},
     "metadata": {},
     "output_type": "display_data"
    },
    {
     "data": {
      "application/vnd.holoviews_exec.v0+json": "",
      "text/html": [
       "<div id='54401'>\n",
       "\n",
       "\n",
       "\n",
       "\n",
       "\n",
       "  <div class=\"bk-root\" id=\"434ef015-b8c0-4147-bffa-51dbe86fb8e3\" data-root-id=\"54401\"></div>\n",
       "</div>\n",
       "<script type=\"application/javascript\">(function(root) {\n",
       "  function embed_document(root) {\n",
       "    var docs_json = {\"dd59b581-171a-4909-8343-858bc548d3d9\":{\"defs\":[{\"extends\":null,\"module\":null,\"name\":\"ReactiveHTML1\",\"overrides\":[],\"properties\":[]},{\"extends\":null,\"module\":null,\"name\":\"FlexBox1\",\"overrides\":[],\"properties\":[{\"default\":\"flex-start\",\"kind\":null,\"name\":\"align_content\"},{\"default\":\"flex-start\",\"kind\":null,\"name\":\"align_items\"},{\"default\":\"row\",\"kind\":null,\"name\":\"flex_direction\"},{\"default\":\"wrap\",\"kind\":null,\"name\":\"flex_wrap\"},{\"default\":\"flex-start\",\"kind\":null,\"name\":\"justify_content\"}]},{\"extends\":null,\"module\":null,\"name\":\"TemplateActions1\",\"overrides\":[],\"properties\":[{\"default\":0,\"kind\":null,\"name\":\"open_modal\"},{\"default\":0,\"kind\":null,\"name\":\"close_modal\"}]},{\"extends\":null,\"module\":null,\"name\":\"MaterialTemplateActions1\",\"overrides\":[],\"properties\":[{\"default\":0,\"kind\":null,\"name\":\"open_modal\"},{\"default\":0,\"kind\":null,\"name\":\"close_modal\"}]}],\"roots\":{\"references\":[{\"attributes\":{\"fill_alpha\":{\"value\":0.1},\"fill_color\":{\"field\":\"Variable\",\"transform\":{\"id\":\"54435\"}},\"hatch_alpha\":{\"value\":0.1},\"hatch_color\":{\"field\":\"Variable\",\"transform\":{\"id\":\"54435\"}},\"line_alpha\":{\"value\":0.1},\"top\":{\"field\":\"value\"},\"width\":{\"value\":0.8},\"x\":{\"field\":\"xoffsets\"}},\"id\":\"54440\",\"type\":\"VBar\"},{\"attributes\":{\"below\":[{\"id\":\"54415\"}],\"center\":[{\"id\":\"54417\"},{\"id\":\"54421\"}],\"height\":800,\"left\":[{\"id\":\"54418\"}],\"margin\":[5,5,5,5],\"min_border_bottom\":10,\"min_border_left\":10,\"min_border_right\":10,\"min_border_top\":10,\"renderers\":[{\"id\":\"54442\"}],\"sizing_mode\":\"fixed\",\"title\":{\"id\":\"54407\"},\"toolbar\":{\"id\":\"54428\"},\"width\":700,\"x_range\":{\"id\":\"54403\"},\"x_scale\":{\"id\":\"54411\"},\"y_range\":{\"id\":\"54404\"},\"y_scale\":{\"id\":\"54413\"}},\"id\":\"54406\",\"subtype\":\"Figure\",\"type\":\"Plot\"},{\"attributes\":{\"children\":[{\"id\":\"54485\"}],\"css_classes\":[\"panel-widget-box\"],\"margin\":[5,5,5,5],\"name\":\"WidgetBox122658\"},\"id\":\"54484\",\"type\":\"Column\"},{\"attributes\":{\"source\":{\"id\":\"54436\"}},\"id\":\"54443\",\"type\":\"CDSView\"},{\"attributes\":{\"bottom_units\":\"screen\",\"coordinates\":null,\"fill_alpha\":0.5,\"fill_color\":\"lightgrey\",\"group\":null,\"left_units\":\"screen\",\"level\":\"overlay\",\"line_alpha\":1.0,\"line_color\":\"black\",\"line_dash\":[4,4],\"line_width\":2,\"right_units\":\"screen\",\"syncable\":false,\"top_units\":\"screen\"},\"id\":\"54427\",\"type\":\"BoxAnnotation\"},{\"attributes\":{},\"id\":\"54422\",\"type\":\"SaveTool\"},{\"attributes\":{},\"id\":\"54423\",\"type\":\"PanTool\"},{\"attributes\":{},\"id\":\"54426\",\"type\":\"ResetTool\"},{\"attributes\":{},\"id\":\"54424\",\"type\":\"WheelZoomTool\"},{\"attributes\":{\"factors\":[\"Alfredo\",\"Spaghetti_Meatballs\",\"Pepperoni_Pizza\",\"Supreme_Pizza\",\"Ceviche\",\"Salmon\",\"Spicy_Tuna_Roll\",\"California_Roll\",\"Aloo_Gobi\",\"Salad\"],\"palette\":[\"#30a2da\",\"#fc4f30\",\"#e5ae38\",\"#6d904f\",\"#8b8b8b\",\"#17becf\",\"#9467bd\",\"#d62728\",\"#1f77b4\",\"#e377c2\"]},\"id\":\"54435\",\"type\":\"CategoricalColorMapper\"},{\"attributes\":{\"client_comm_id\":\"ed512edb5dda42e7a47f74e562cc6fc4\",\"comm_id\":\"72bf0e117c7248a8bc340b5fc01987eb\",\"plot_id\":\"54401\"},\"id\":\"54517\",\"type\":\"panel.models.comm_manager.CommManager\"},{\"attributes\":{\"overlay\":{\"id\":\"54427\"}},\"id\":\"54425\",\"type\":\"BoxZoomTool\"},{\"attributes\":{\"coordinates\":null,\"group\":null,\"text\":\"Week: 2/5/2017\",\"text_color\":\"black\",\"text_font_size\":\"12pt\"},\"id\":\"54407\",\"type\":\"Title\"},{\"attributes\":{\"bottom\":{\"value\":0},\"fill_alpha\":{\"value\":1.0},\"fill_color\":{\"field\":\"Variable\",\"transform\":{\"id\":\"54435\"}},\"hatch_alpha\":{\"value\":1.0},\"hatch_color\":{\"field\":\"Variable\",\"transform\":{\"id\":\"54435\"}},\"hatch_scale\":{\"value\":12.0},\"hatch_weight\":{\"value\":1.0},\"line_alpha\":{\"value\":1.0},\"line_cap\":{\"value\":\"butt\"},\"line_color\":{\"value\":\"black\"},\"line_dash\":{\"value\":[]},\"line_dash_offset\":{\"value\":0},\"line_join\":{\"value\":\"bevel\"},\"line_width\":{\"value\":1},\"top\":{\"field\":\"value\"},\"width\":{\"value\":0.8},\"x\":{\"field\":\"xoffsets\"}},\"id\":\"54444\",\"type\":\"VBar\"},{\"attributes\":{\"axis_label\":\"Week, Variable\",\"coordinates\":null,\"formatter\":{\"id\":\"54446\"},\"group\":null,\"major_label_orientation\":0.7853981633974483,\"major_label_policy\":{\"id\":\"54447\"},\"ticker\":{\"id\":\"54416\"}},\"id\":\"54415\",\"type\":\"CategoricalAxis\"},{\"attributes\":{},\"id\":\"54411\",\"type\":\"CategoricalScale\"},{\"attributes\":{},\"id\":\"54437\",\"type\":\"Selection\"},{\"attributes\":{\"axis\":{\"id\":\"54415\"},\"coordinates\":null,\"group\":null,\"ticker\":{\"id\":\"54416\"}},\"id\":\"54417\",\"type\":\"Grid\"},{\"attributes\":{},\"id\":\"54446\",\"type\":\"CategoricalTickFormatter\"},{\"attributes\":{\"fill_alpha\":{\"value\":0.2},\"fill_color\":{\"field\":\"Variable\",\"transform\":{\"id\":\"54435\"}},\"hatch_alpha\":{\"value\":0.2},\"hatch_color\":{\"field\":\"Variable\",\"transform\":{\"id\":\"54435\"}},\"line_alpha\":{\"value\":0.2},\"top\":{\"field\":\"value\"},\"width\":{\"value\":0.8},\"x\":{\"field\":\"xoffsets\"}},\"id\":\"54441\",\"type\":\"VBar\"},{\"attributes\":{},\"id\":\"54449\",\"type\":\"BasicTickFormatter\"},{\"attributes\":{\"factors\":[[\"2/5/2017\",\"Salad\"],[\"2/5/2017\",\"Aloo_Gobi\"],[\"2/5/2017\",\"California_Roll\"],[\"2/5/2017\",\"Spicy_Tuna_Roll\"],[\"2/5/2017\",\"Salmon\"],[\"2/5/2017\",\"Ceviche\"],[\"2/5/2017\",\"Supreme_Pizza\"],[\"2/5/2017\",\"Pepperoni_Pizza\"],[\"2/5/2017\",\"Spaghetti_Meatballs\"],[\"2/5/2017\",\"Alfredo\"]],\"tags\":[[[\"Week\",\"Week\",null],[\"Variable\",\"Variable\",null]]]},\"id\":\"54403\",\"type\":\"FactorRange\"},{\"attributes\":{},\"id\":\"54413\",\"type\":\"LinearScale\"},{\"attributes\":{\"tools\":[{\"id\":\"54405\"},{\"id\":\"54422\"},{\"id\":\"54423\"},{\"id\":\"54424\"},{\"id\":\"54425\"},{\"id\":\"54426\"}]},\"id\":\"54428\",\"type\":\"Toolbar\"},{\"attributes\":{\"margin\":[5,5,5,5],\"name\":\"VSpacer122663\",\"sizing_mode\":\"stretch_height\"},\"id\":\"54483\",\"type\":\"Spacer\"},{\"attributes\":{\"data\":{\"Variable\":[\"Alfredo\",\"Spaghetti_Meatballs\",\"Pepperoni_Pizza\",\"Supreme_Pizza\",\"Ceviche\",\"Salmon\",\"Spicy_Tuna_Roll\",\"California_Roll\",\"Aloo_Gobi\",\"Salad\"],\"Week\":[\"2/5/2017\",\"2/5/2017\",\"2/5/2017\",\"2/5/2017\",\"2/5/2017\",\"2/5/2017\",\"2/5/2017\",\"2/5/2017\",\"2/5/2017\",\"2/5/2017\"],\"value\":[30,15,20,15,35,56,15,15,15,75],\"xoffsets\":[[\"2/5/2017\",\"Alfredo\"],[\"2/5/2017\",\"Spaghetti_Meatballs\"],[\"2/5/2017\",\"Pepperoni_Pizza\"],[\"2/5/2017\",\"Supreme_Pizza\"],[\"2/5/2017\",\"Ceviche\"],[\"2/5/2017\",\"Salmon\"],[\"2/5/2017\",\"Spicy_Tuna_Roll\"],[\"2/5/2017\",\"California_Roll\"],[\"2/5/2017\",\"Aloo_Gobi\"],[\"2/5/2017\",\"Salad\"]]},\"selected\":{\"id\":\"54437\"},\"selection_policy\":{\"id\":\"54468\"}},\"id\":\"54436\",\"type\":\"ColumnDataSource\"},{\"attributes\":{},\"id\":\"54419\",\"type\":\"BasicTicker\"},{\"attributes\":{},\"id\":\"54447\",\"type\":\"AllLabels\"},{\"attributes\":{\"margin\":[5,5,5,5],\"name\":\"HSpacer122667\",\"sizing_mode\":\"stretch_width\"},\"id\":\"54481\",\"type\":\"Spacer\"},{\"attributes\":{},\"id\":\"54416\",\"type\":\"CategoricalTicker\"},{\"attributes\":{\"end\":100,\"reset_end\":100,\"reset_start\":0,\"tags\":[[[\"value\",\"value\",null]]]},\"id\":\"54404\",\"type\":\"Range1d\"},{\"attributes\":{\"axis_label\":\"Searches Per Week\",\"coordinates\":null,\"formatter\":{\"id\":\"54449\"},\"group\":null,\"major_label_policy\":{\"id\":\"54450\"},\"ticker\":{\"id\":\"54419\"}},\"id\":\"54418\",\"type\":\"LinearAxis\"},{\"attributes\":{\"children\":[{\"id\":\"54483\"},{\"id\":\"54484\"},{\"id\":\"54486\"}],\"margin\":[0,0,0,0],\"name\":\"Column122665\"},\"id\":\"54482\",\"type\":\"Column\"},{\"attributes\":{\"axis\":{\"id\":\"54418\"},\"coordinates\":null,\"dimension\":1,\"group\":null,\"ticker\":{\"id\":\"54419\"}},\"id\":\"54421\",\"type\":\"Grid\"},{\"attributes\":{\"fill_color\":{\"field\":\"Variable\",\"transform\":{\"id\":\"54435\"}},\"hatch_color\":{\"field\":\"Variable\",\"transform\":{\"id\":\"54435\"}},\"top\":{\"field\":\"value\"},\"width\":{\"value\":0.8},\"x\":{\"field\":\"xoffsets\"}},\"id\":\"54439\",\"type\":\"VBar\"},{\"attributes\":{},\"id\":\"54450\",\"type\":\"AllLabels\"},{\"attributes\":{},\"id\":\"54468\",\"type\":\"UnionRenderers\"},{\"attributes\":{\"callback\":null,\"renderers\":[{\"id\":\"54442\"}],\"tags\":[\"hv_created\"],\"tooltips\":[[\"Week\",\"@{Week}\"],[\"Variable\",\"@{Variable}\"],[\"value\",\"@{value}\"]]},\"id\":\"54405\",\"type\":\"HoverTool\"},{\"attributes\":{\"margin\":[20,20,20,20],\"min_width\":250,\"options\":[\"2/5/2017\",\"2/12/2017\",\"2/19/2017\",\"2/26/2017\",\"3/5/2017\",\"3/12/2017\",\"3/19/2017\",\"3/26/2017\",\"4/2/2017\",\"4/9/2017\",\"4/16/2017\",\"4/23/2017\",\"4/30/2017\",\"5/7/2017\",\"5/14/2017\",\"5/21/2017\",\"5/28/2017\",\"6/4/2017\",\"6/11/2017\",\"6/18/2017\",\"6/25/2017\",\"7/2/2017\",\"7/9/2017\",\"7/16/2017\",\"7/23/2017\",\"7/30/2017\",\"8/6/2017\",\"8/13/2017\",\"8/20/2017\",\"8/27/2017\",\"9/3/2017\",\"9/10/2017\",\"9/17/2017\",\"9/24/2017\",\"10/1/2017\",\"10/8/2017\",\"10/15/2017\",\"10/22/2017\",\"10/29/2017\",\"11/5/2017\",\"11/12/2017\",\"11/19/2017\",\"11/26/2017\",\"12/3/2017\",\"12/10/2017\",\"12/17/2017\",\"12/24/2017\",\"12/31/2017\",\"1/7/2018\",\"1/14/2018\",\"1/21/2018\",\"1/28/2018\",\"2/4/2018\",\"2/11/2018\",\"2/18/2018\",\"2/25/2018\",\"3/4/2018\",\"3/11/2018\",\"3/18/2018\",\"3/25/2018\",\"4/1/2018\",\"4/8/2018\",\"4/15/2018\",\"4/22/2018\",\"4/29/2018\",\"5/6/2018\",\"5/13/2018\",\"5/20/2018\",\"5/27/2018\",\"6/3/2018\",\"6/10/2018\",\"6/17/2018\",\"6/24/2018\",\"7/1/2018\",\"7/8/2018\",\"7/15/2018\",\"7/22/2018\",\"7/29/2018\",\"8/5/2018\",\"8/12/2018\",\"8/19/2018\",\"8/26/2018\",\"9/2/2018\",\"9/9/2018\",\"9/16/2018\",\"9/23/2018\",\"9/30/2018\",\"10/7/2018\",\"10/14/2018\",\"10/21/2018\",\"10/28/2018\",\"11/4/2018\",\"11/11/2018\",\"11/18/2018\",\"11/25/2018\",\"12/2/2018\",\"12/9/2018\",\"12/16/2018\",\"12/23/2018\",\"12/30/2018\",\"1/6/2019\",\"1/13/2019\",\"1/20/2019\",\"1/27/2019\",\"2/3/2019\",\"2/10/2019\",\"2/17/2019\",\"2/24/2019\",\"3/3/2019\",\"3/10/2019\",\"3/17/2019\",\"3/24/2019\",\"3/31/2019\",\"4/7/2019\",\"4/14/2019\",\"4/21/2019\",\"4/28/2019\",\"5/5/2019\",\"5/12/2019\",\"5/19/2019\",\"5/26/2019\",\"6/2/2019\",\"6/9/2019\",\"6/16/2019\",\"6/23/2019\",\"6/30/2019\",\"7/7/2019\",\"7/14/2019\",\"7/21/2019\",\"7/28/2019\",\"8/4/2019\",\"8/11/2019\",\"8/18/2019\",\"8/25/2019\",\"9/1/2019\",\"9/8/2019\",\"9/15/2019\",\"9/22/2019\",\"9/29/2019\",\"10/6/2019\",\"10/13/2019\",\"10/20/2019\",\"10/27/2019\",\"11/3/2019\",\"11/10/2019\",\"11/17/2019\",\"11/24/2019\",\"12/1/2019\",\"12/8/2019\",\"12/15/2019\",\"12/22/2019\",\"12/29/2019\",\"1/5/2020\",\"1/12/2020\",\"1/19/2020\",\"1/26/2020\",\"2/2/2020\",\"2/9/2020\",\"2/16/2020\",\"2/23/2020\",\"3/1/2020\",\"3/8/2020\",\"3/15/2020\",\"3/22/2020\",\"3/29/2020\",\"4/5/2020\",\"4/12/2020\",\"4/19/2020\",\"4/26/2020\",\"5/3/2020\",\"5/10/2020\",\"5/17/2020\",\"5/24/2020\",\"5/31/2020\",\"6/7/2020\",\"6/14/2020\",\"6/21/2020\",\"6/28/2020\",\"7/5/2020\",\"7/12/2020\",\"7/19/2020\",\"7/26/2020\",\"8/2/2020\",\"8/9/2020\",\"8/16/2020\",\"8/23/2020\",\"8/30/2020\",\"9/6/2020\",\"9/13/2020\",\"9/20/2020\",\"9/27/2020\",\"10/4/2020\",\"10/11/2020\",\"10/18/2020\",\"10/25/2020\",\"11/1/2020\",\"11/8/2020\",\"11/15/2020\",\"11/22/2020\",\"11/29/2020\",\"12/6/2020\",\"12/13/2020\",\"12/20/2020\",\"12/27/2020\",\"1/3/2021\",\"1/10/2021\",\"1/17/2021\",\"1/24/2021\",\"1/31/2021\",\"2/7/2021\",\"2/14/2021\",\"2/21/2021\",\"2/28/2021\",\"3/7/2021\",\"3/14/2021\",\"3/21/2021\",\"3/28/2021\",\"4/4/2021\",\"4/11/2021\",\"4/18/2021\",\"4/25/2021\",\"5/2/2021\",\"5/9/2021\",\"5/16/2021\",\"5/23/2021\",\"5/30/2021\",\"6/6/2021\",\"6/13/2021\",\"6/20/2021\",\"6/27/2021\",\"7/4/2021\",\"7/11/2021\",\"7/18/2021\",\"7/25/2021\",\"8/1/2021\",\"8/8/2021\",\"8/15/2021\",\"8/22/2021\",\"8/29/2021\",\"9/5/2021\",\"9/12/2021\",\"9/19/2021\",\"9/26/2021\",\"10/3/2021\",\"10/10/2021\",\"10/17/2021\",\"10/24/2021\",\"10/31/2021\",\"11/7/2021\",\"11/14/2021\",\"11/21/2021\",\"11/28/2021\",\"12/5/2021\",\"12/12/2021\",\"12/19/2021\",\"12/26/2021\",\"1/2/2022\",\"1/9/2022\",\"1/16/2022\",\"1/23/2022\"],\"title\":\"Week\",\"value\":\"2/5/2017\",\"width\":250},\"id\":\"54485\",\"type\":\"Select\"},{\"attributes\":{\"coordinates\":null,\"data_source\":{\"id\":\"54436\"},\"glyph\":{\"id\":\"54439\"},\"group\":null,\"hover_glyph\":null,\"muted_glyph\":{\"id\":\"54441\"},\"nonselection_glyph\":{\"id\":\"54440\"},\"selection_glyph\":{\"id\":\"54444\"},\"view\":{\"id\":\"54443\"}},\"id\":\"54442\",\"type\":\"GlyphRenderer\"},{\"attributes\":{\"margin\":[5,5,5,5],\"name\":\"HSpacer122666\",\"sizing_mode\":\"stretch_width\"},\"id\":\"54402\",\"type\":\"Spacer\"},{\"attributes\":{\"children\":[{\"id\":\"54402\"},{\"id\":\"54406\"},{\"id\":\"54481\"},{\"id\":\"54482\"}],\"margin\":[0,0,0,0],\"name\":\"Row122657\"},\"id\":\"54401\",\"type\":\"Row\"},{\"attributes\":{\"margin\":[5,5,5,5],\"name\":\"VSpacer122664\",\"sizing_mode\":\"stretch_height\"},\"id\":\"54486\",\"type\":\"Spacer\"}],\"root_ids\":[\"54401\",\"54517\"]},\"title\":\"Bokeh Application\",\"version\":\"2.4.2\"}};\n",
       "    var render_items = [{\"docid\":\"dd59b581-171a-4909-8343-858bc548d3d9\",\"root_ids\":[\"54401\"],\"roots\":{\"54401\":\"434ef015-b8c0-4147-bffa-51dbe86fb8e3\"}}];\n",
       "    root.Bokeh.embed.embed_items_notebook(docs_json, render_items);\n",
       "  }\n",
       "  if (root.Bokeh !== undefined && root.Bokeh.Panel !== undefined && ( root['Plotly'] !== undefined)) {\n",
       "    embed_document(root);\n",
       "  } else {\n",
       "    var attempts = 0;\n",
       "    var timer = setInterval(function(root) {\n",
       "      if (root.Bokeh !== undefined && root.Bokeh.Panel !== undefined && (root['Plotly'] !== undefined)) {\n",
       "        clearInterval(timer);\n",
       "        embed_document(root);\n",
       "      } else if (document.readyState == \"complete\") {\n",
       "        attempts++;\n",
       "        if (attempts > 200) {\n",
       "          clearInterval(timer);\n",
       "          console.log(\"Bokeh: ERROR: Unable to run BokehJS code because BokehJS library is missing\");\n",
       "        }\n",
       "      }\n",
       "    }, 25, root)\n",
       "  }\n",
       "})(window);</script>"
      ],
      "text/plain": [
       ":DynamicMap   [Week]\n",
       "   :Bars   [Week,Variable]   (value)"
      ]
     },
     "execution_count": 392,
     "metadata": {
      "application/vnd.holoviews_exec.v0+json": {
       "id": "54401"
      }
     },
     "output_type": "execute_result"
    }
   ],
   "source": [
    "# All Miami region searches per Week interactive plot with a widget grouped by Week\n",
    "miami_region_all.hvplot.bar(\n",
    "    width=700,\n",
    "    height=800,\n",
    "    groupby=\"Week\",\n",
    "    x=\"Week\",\n",
    "    ylabel=\"Searches Per Week\", \n",
    "    grid=True, \n",
    "    legend=True,\n",
    "    rot=45,\n",
    "    ylim=(0,100)\n",
    "    \n",
    ")"
   ]
  },
  {
   "cell_type": "code",
   "execution_count": 395,
   "id": "084b7beb",
   "metadata": {},
   "outputs": [
    {
     "data": {},
     "metadata": {},
     "output_type": "display_data"
    },
    {
     "data": {},
     "metadata": {},
     "output_type": "display_data"
    },
    {
     "data": {
      "application/vnd.holoviews_exec.v0+json": "",
      "text/html": [
       "<div id='54728'>\n",
       "\n",
       "\n",
       "\n",
       "\n",
       "\n",
       "  <div class=\"bk-root\" id=\"d22b04d4-363c-472c-b0f0-9363d2d39376\" data-root-id=\"54728\"></div>\n",
       "</div>\n",
       "<script type=\"application/javascript\">(function(root) {\n",
       "  function embed_document(root) {\n",
       "    var docs_json = {\"390b617f-7f0b-46d7-8ca1-f01dea6593fe\":{\"defs\":[{\"extends\":null,\"module\":null,\"name\":\"ReactiveHTML1\",\"overrides\":[],\"properties\":[]},{\"extends\":null,\"module\":null,\"name\":\"FlexBox1\",\"overrides\":[],\"properties\":[{\"default\":\"flex-start\",\"kind\":null,\"name\":\"align_content\"},{\"default\":\"flex-start\",\"kind\":null,\"name\":\"align_items\"},{\"default\":\"row\",\"kind\":null,\"name\":\"flex_direction\"},{\"default\":\"wrap\",\"kind\":null,\"name\":\"flex_wrap\"},{\"default\":\"flex-start\",\"kind\":null,\"name\":\"justify_content\"}]},{\"extends\":null,\"module\":null,\"name\":\"TemplateActions1\",\"overrides\":[],\"properties\":[{\"default\":0,\"kind\":null,\"name\":\"open_modal\"},{\"default\":0,\"kind\":null,\"name\":\"close_modal\"}]},{\"extends\":null,\"module\":null,\"name\":\"MaterialTemplateActions1\",\"overrides\":[],\"properties\":[{\"default\":0,\"kind\":null,\"name\":\"open_modal\"},{\"default\":0,\"kind\":null,\"name\":\"close_modal\"}]}],\"roots\":{\"references\":[{\"attributes\":{},\"id\":\"54739\",\"type\":\"LinearScale\"},{\"attributes\":{},\"id\":\"54773\",\"type\":\"AllLabels\"},{\"attributes\":{},\"id\":\"54745\",\"type\":\"BasicTicker\"},{\"attributes\":{\"below\":[{\"id\":\"54741\"}],\"center\":[{\"id\":\"54743\"},{\"id\":\"54747\"}],\"left\":[{\"id\":\"54744\"}],\"margin\":[5,5,5,5],\"min_border_bottom\":10,\"min_border_left\":10,\"min_border_right\":10,\"min_border_top\":10,\"renderers\":[{\"id\":\"54768\"}],\"sizing_mode\":\"fixed\",\"title\":{\"id\":\"54733\"},\"toolbar\":{\"id\":\"54754\"},\"width\":200,\"x_range\":{\"id\":\"54729\"},\"x_scale\":{\"id\":\"54737\"},\"y_range\":{\"id\":\"54730\"},\"y_scale\":{\"id\":\"54739\"}},\"id\":\"54732\",\"subtype\":\"Figure\",\"type\":\"Plot\"},{\"attributes\":{\"tools\":[{\"id\":\"54731\"},{\"id\":\"54748\"},{\"id\":\"54749\"},{\"id\":\"54750\"},{\"id\":\"54751\"},{\"id\":\"54752\"}]},\"id\":\"54754\",\"type\":\"Toolbar\"},{\"attributes\":{\"children\":[{\"id\":\"54732\"},{\"id\":\"54803\"}],\"margin\":[0,0,0,0],\"name\":\"Row123438\"},\"id\":\"54728\",\"type\":\"Row\"},{\"attributes\":{},\"id\":\"54742\",\"type\":\"CategoricalTicker\"},{\"attributes\":{\"client_comm_id\":\"f28b6875fa5747d09389980ed068cf56\",\"comm_id\":\"640e0832be4d491fa0ee5ead3baf4017\",\"plot_id\":\"54728\"},\"id\":\"54837\",\"type\":\"panel.models.comm_manager.CommManager\"},{\"attributes\":{\"end\":80,\"reset_end\":80,\"reset_start\":0,\"tags\":[[[\"value\",\"value\",null]]]},\"id\":\"54730\",\"type\":\"Range1d\"},{\"attributes\":{\"children\":[{\"id\":\"54804\"},{\"id\":\"54806\"}],\"margin\":[0,0,0,0],\"name\":\"Column123445\"},\"id\":\"54803\",\"type\":\"Column\"},{\"attributes\":{\"axis_label\":\"Searches Per Week\",\"coordinates\":null,\"formatter\":{\"id\":\"54775\"},\"group\":null,\"major_label_policy\":{\"id\":\"54776\"},\"ticker\":{\"id\":\"54745\"}},\"id\":\"54744\",\"type\":\"LinearAxis\"},{\"attributes\":{\"bottom_units\":\"screen\",\"coordinates\":null,\"fill_alpha\":0.5,\"fill_color\":\"lightgrey\",\"group\":null,\"left_units\":\"screen\",\"level\":\"overlay\",\"line_alpha\":1.0,\"line_color\":\"black\",\"line_dash\":[4,4],\"line_width\":2,\"right_units\":\"screen\",\"syncable\":false,\"top_units\":\"screen\"},\"id\":\"54753\",\"type\":\"BoxAnnotation\"},{\"attributes\":{\"axis\":{\"id\":\"54744\"},\"coordinates\":null,\"dimension\":1,\"grid_line_color\":null,\"group\":null,\"ticker\":null},\"id\":\"54747\",\"type\":\"Grid\"},{\"attributes\":{},\"id\":\"54776\",\"type\":\"AllLabels\"},{\"attributes\":{},\"id\":\"54775\",\"type\":\"BasicTickFormatter\"},{\"attributes\":{\"factors\":[[\"0\",\"Alfredo_Pasta\"],[\"0\",\"Spaghetti_Meatballs\"]],\"tags\":[[[\"index\",\"index\",null],[\"Variable\",\"Variable\",null]]]},\"id\":\"54729\",\"type\":\"FactorRange\"},{\"attributes\":{},\"id\":\"54737\",\"type\":\"CategoricalScale\"},{\"attributes\":{\"fill_alpha\":{\"value\":0.2},\"fill_color\":{\"field\":\"Variable\",\"transform\":{\"id\":\"54761\"}},\"hatch_alpha\":{\"value\":0.2},\"hatch_color\":{\"field\":\"Variable\",\"transform\":{\"id\":\"54761\"}},\"line_alpha\":{\"value\":0.2},\"top\":{\"field\":\"value\"},\"width\":{\"value\":0.8},\"x\":{\"field\":\"xoffsets\"}},\"id\":\"54767\",\"type\":\"VBar\"},{\"attributes\":{\"callback\":null,\"renderers\":[{\"id\":\"54768\"}],\"tags\":[\"hv_created\"],\"tooltips\":[[\"index\",\"@{index}\"],[\"Variable\",\"@{Variable}\"],[\"value\",\"@{value}\"]]},\"id\":\"54731\",\"type\":\"HoverTool\"},{\"attributes\":{},\"id\":\"54772\",\"type\":\"CategoricalTickFormatter\"},{\"attributes\":{},\"id\":\"54790\",\"type\":\"UnionRenderers\"},{\"attributes\":{\"source\":{\"id\":\"54762\"}},\"id\":\"54769\",\"type\":\"CDSView\"},{\"attributes\":{},\"id\":\"54748\",\"type\":\"SaveTool\"},{\"attributes\":{\"margin\":[5,5,5,5],\"name\":\"VSpacer123444\",\"sizing_mode\":\"stretch_height\"},\"id\":\"54806\",\"type\":\"Spacer\"},{\"attributes\":{},\"id\":\"54749\",\"type\":\"PanTool\"},{\"attributes\":{\"fill_color\":{\"field\":\"Variable\",\"transform\":{\"id\":\"54761\"}},\"hatch_color\":{\"field\":\"Variable\",\"transform\":{\"id\":\"54761\"}},\"top\":{\"field\":\"value\"},\"width\":{\"value\":0.8},\"x\":{\"field\":\"xoffsets\"}},\"id\":\"54765\",\"type\":\"VBar\"},{\"attributes\":{},\"id\":\"54752\",\"type\":\"ResetTool\"},{\"attributes\":{\"margin\":[20,20,20,20],\"min_width\":250,\"options\":[\"2/5/2017\",\"2/12/2017\",\"2/19/2017\",\"2/26/2017\",\"3/5/2017\",\"3/12/2017\",\"3/19/2017\",\"3/26/2017\",\"4/2/2017\",\"4/9/2017\",\"4/16/2017\",\"4/23/2017\",\"4/30/2017\",\"5/7/2017\",\"5/14/2017\",\"5/21/2017\",\"5/28/2017\",\"6/4/2017\",\"6/11/2017\",\"6/18/2017\",\"6/25/2017\",\"7/2/2017\",\"7/9/2017\",\"7/16/2017\",\"7/23/2017\",\"7/30/2017\",\"8/6/2017\",\"8/13/2017\",\"8/20/2017\",\"8/27/2017\",\"9/3/2017\",\"9/10/2017\",\"9/17/2017\",\"9/24/2017\",\"10/1/2017\",\"10/8/2017\",\"10/15/2017\",\"10/22/2017\",\"10/29/2017\",\"11/5/2017\",\"11/12/2017\",\"11/19/2017\",\"11/26/2017\",\"12/3/2017\",\"12/10/2017\",\"12/17/2017\",\"12/24/2017\",\"12/31/2017\",\"1/7/2018\",\"1/14/2018\",\"1/21/2018\",\"1/28/2018\",\"2/4/2018\",\"2/11/2018\",\"2/18/2018\",\"2/25/2018\",\"3/4/2018\",\"3/11/2018\",\"3/18/2018\",\"3/25/2018\",\"4/1/2018\",\"4/8/2018\",\"4/15/2018\",\"4/22/2018\",\"4/29/2018\",\"5/6/2018\",\"5/13/2018\",\"5/20/2018\",\"5/27/2018\",\"6/3/2018\",\"6/10/2018\",\"6/17/2018\",\"6/24/2018\",\"7/1/2018\",\"7/8/2018\",\"7/15/2018\",\"7/22/2018\",\"7/29/2018\",\"8/5/2018\",\"8/12/2018\",\"8/19/2018\",\"8/26/2018\",\"9/2/2018\",\"9/9/2018\",\"9/16/2018\",\"9/23/2018\",\"9/30/2018\",\"10/7/2018\",\"10/14/2018\",\"10/21/2018\",\"10/28/2018\",\"11/4/2018\",\"11/11/2018\",\"11/18/2018\",\"11/25/2018\",\"12/2/2018\",\"12/9/2018\",\"12/16/2018\",\"12/23/2018\",\"12/30/2018\",\"1/6/2019\",\"1/13/2019\",\"1/20/2019\",\"1/27/2019\",\"2/3/2019\",\"2/10/2019\",\"2/17/2019\",\"2/24/2019\",\"3/3/2019\",\"3/10/2019\",\"3/17/2019\",\"3/24/2019\",\"3/31/2019\",\"4/7/2019\",\"4/14/2019\",\"4/21/2019\",\"4/28/2019\",\"5/5/2019\",\"5/12/2019\",\"5/19/2019\",\"5/26/2019\",\"6/2/2019\",\"6/9/2019\",\"6/16/2019\",\"6/23/2019\",\"6/30/2019\",\"7/7/2019\",\"7/14/2019\",\"7/21/2019\",\"7/28/2019\",\"8/4/2019\",\"8/11/2019\",\"8/18/2019\",\"8/25/2019\",\"9/1/2019\",\"9/8/2019\",\"9/15/2019\",\"9/22/2019\",\"9/29/2019\",\"10/6/2019\",\"10/13/2019\",\"10/20/2019\",\"10/27/2019\",\"11/3/2019\",\"11/10/2019\",\"11/17/2019\",\"11/24/2019\",\"12/1/2019\",\"12/8/2019\",\"12/15/2019\",\"12/22/2019\",\"12/29/2019\",\"1/5/2020\",\"1/12/2020\",\"1/19/2020\",\"1/26/2020\",\"2/2/2020\",\"2/9/2020\",\"2/16/2020\",\"2/23/2020\",\"3/1/2020\",\"3/8/2020\",\"3/15/2020\",\"3/22/2020\",\"3/29/2020\",\"4/5/2020\",\"4/12/2020\",\"4/19/2020\",\"4/26/2020\",\"5/3/2020\",\"5/10/2020\",\"5/17/2020\",\"5/24/2020\",\"5/31/2020\",\"6/7/2020\",\"6/14/2020\",\"6/21/2020\",\"6/28/2020\",\"7/5/2020\",\"7/12/2020\",\"7/19/2020\",\"7/26/2020\",\"8/2/2020\",\"8/9/2020\",\"8/16/2020\",\"8/23/2020\",\"8/30/2020\",\"9/6/2020\",\"9/13/2020\",\"9/20/2020\",\"9/27/2020\",\"10/4/2020\",\"10/11/2020\",\"10/18/2020\",\"10/25/2020\",\"11/1/2020\",\"11/8/2020\",\"11/15/2020\",\"11/22/2020\",\"11/29/2020\",\"12/6/2020\",\"12/13/2020\",\"12/20/2020\",\"12/27/2020\",\"1/3/2021\",\"1/10/2021\",\"1/17/2021\",\"1/24/2021\",\"1/31/2021\",\"2/7/2021\",\"2/14/2021\",\"2/21/2021\",\"2/28/2021\",\"3/7/2021\",\"3/14/2021\",\"3/21/2021\",\"3/28/2021\",\"4/4/2021\",\"4/11/2021\",\"4/18/2021\",\"4/25/2021\",\"5/2/2021\",\"5/9/2021\",\"5/16/2021\",\"5/23/2021\",\"5/30/2021\",\"6/6/2021\",\"6/13/2021\",\"6/20/2021\",\"6/27/2021\",\"7/4/2021\",\"7/11/2021\",\"7/18/2021\",\"7/25/2021\",\"8/1/2021\",\"8/8/2021\",\"8/15/2021\",\"8/22/2021\",\"8/29/2021\",\"9/5/2021\",\"9/12/2021\",\"9/19/2021\",\"9/26/2021\",\"10/3/2021\",\"10/10/2021\",\"10/17/2021\",\"10/24/2021\",\"10/31/2021\",\"11/7/2021\",\"11/14/2021\",\"11/21/2021\",\"11/28/2021\",\"12/5/2021\",\"12/12/2021\",\"12/19/2021\",\"12/26/2021\",\"1/2/2022\",\"1/9/2022\",\"1/16/2022\",\"1/23/2022\"],\"title\":\"Week\",\"value\":\"2/5/2017\",\"width\":250},\"id\":\"54805\",\"type\":\"Select\"},{\"attributes\":{\"axis_label\":\"Food/Dish\",\"coordinates\":null,\"formatter\":{\"id\":\"54772\"},\"group\":null,\"major_label_orientation\":0.7853981633974483,\"major_label_policy\":{\"id\":\"54773\"},\"ticker\":{\"id\":\"54742\"}},\"id\":\"54741\",\"type\":\"CategoricalAxis\"},{\"attributes\":{},\"id\":\"54750\",\"type\":\"WheelZoomTool\"},{\"attributes\":{\"overlay\":{\"id\":\"54753\"}},\"id\":\"54751\",\"type\":\"BoxZoomTool\"},{\"attributes\":{\"factors\":[\"Alfredo_Pasta\",\"Spaghetti_Meatballs\"],\"palette\":[\"#30a2da\",\"#fc4f30\"]},\"id\":\"54761\",\"type\":\"CategoricalColorMapper\"},{\"attributes\":{\"bottom\":{\"value\":0},\"fill_alpha\":{\"value\":1.0},\"fill_color\":{\"field\":\"Variable\",\"transform\":{\"id\":\"54761\"}},\"hatch_alpha\":{\"value\":1.0},\"hatch_color\":{\"field\":\"Variable\",\"transform\":{\"id\":\"54761\"}},\"hatch_scale\":{\"value\":12.0},\"hatch_weight\":{\"value\":1.0},\"line_alpha\":{\"value\":1.0},\"line_cap\":{\"value\":\"butt\"},\"line_color\":{\"value\":\"black\"},\"line_dash\":{\"value\":[]},\"line_dash_offset\":{\"value\":0},\"line_join\":{\"value\":\"bevel\"},\"line_width\":{\"value\":1},\"top\":{\"field\":\"value\"},\"width\":{\"value\":0.8},\"x\":{\"field\":\"xoffsets\"}},\"id\":\"54770\",\"type\":\"VBar\"},{\"attributes\":{\"coordinates\":null,\"data_source\":{\"id\":\"54762\"},\"glyph\":{\"id\":\"54765\"},\"group\":null,\"hover_glyph\":null,\"muted_glyph\":{\"id\":\"54767\"},\"nonselection_glyph\":{\"id\":\"54766\"},\"selection_glyph\":{\"id\":\"54770\"},\"view\":{\"id\":\"54769\"}},\"id\":\"54768\",\"type\":\"GlyphRenderer\"},{\"attributes\":{\"axis\":{\"id\":\"54741\"},\"coordinates\":null,\"grid_line_color\":null,\"group\":null,\"ticker\":null},\"id\":\"54743\",\"type\":\"Grid\"},{\"attributes\":{\"children\":[{\"id\":\"54805\"}],\"css_classes\":[\"panel-widget-box\"],\"margin\":[5,5,5,5],\"name\":\"WidgetBox123439\"},\"id\":\"54804\",\"type\":\"Column\"},{\"attributes\":{\"data\":{\"Variable\":[\"Alfredo_Pasta\",\"Spaghetti_Meatballs\"],\"index\":[\"0\",\"0\"],\"value\":[18,18],\"xoffsets\":[[\"0\",\"Alfredo_Pasta\"],[\"0\",\"Spaghetti_Meatballs\"]]},\"selected\":{\"id\":\"54763\"},\"selection_policy\":{\"id\":\"54790\"}},\"id\":\"54762\",\"type\":\"ColumnDataSource\"},{\"attributes\":{\"fill_alpha\":{\"value\":0.1},\"fill_color\":{\"field\":\"Variable\",\"transform\":{\"id\":\"54761\"}},\"hatch_alpha\":{\"value\":0.1},\"hatch_color\":{\"field\":\"Variable\",\"transform\":{\"id\":\"54761\"}},\"line_alpha\":{\"value\":0.1},\"top\":{\"field\":\"value\"},\"width\":{\"value\":0.8},\"x\":{\"field\":\"xoffsets\"}},\"id\":\"54766\",\"type\":\"VBar\"},{\"attributes\":{\"coordinates\":null,\"group\":null,\"text\":\"Week: 2/5/2017\",\"text_color\":\"black\",\"text_font_size\":\"12pt\"},\"id\":\"54733\",\"type\":\"Title\"},{\"attributes\":{},\"id\":\"54763\",\"type\":\"Selection\"}],\"root_ids\":[\"54728\",\"54837\"]},\"title\":\"Bokeh Application\",\"version\":\"2.4.2\"}};\n",
       "    var render_items = [{\"docid\":\"390b617f-7f0b-46d7-8ca1-f01dea6593fe\",\"root_ids\":[\"54728\"],\"roots\":{\"54728\":\"d22b04d4-363c-472c-b0f0-9363d2d39376\"}}];\n",
       "    root.Bokeh.embed.embed_items_notebook(docs_json, render_items);\n",
       "  }\n",
       "  if (root.Bokeh !== undefined && root.Bokeh.Panel !== undefined && ( root['Plotly'] !== undefined)) {\n",
       "    embed_document(root);\n",
       "  } else {\n",
       "    var attempts = 0;\n",
       "    var timer = setInterval(function(root) {\n",
       "      if (root.Bokeh !== undefined && root.Bokeh.Panel !== undefined && (root['Plotly'] !== undefined)) {\n",
       "        clearInterval(timer);\n",
       "        embed_document(root);\n",
       "      } else if (document.readyState == \"complete\") {\n",
       "        attempts++;\n",
       "        if (attempts > 200) {\n",
       "          clearInterval(timer);\n",
       "          console.log(\"Bokeh: ERROR: Unable to run BokehJS code because BokehJS library is missing\");\n",
       "        }\n",
       "      }\n",
       "    }, 25, root)\n",
       "  }\n",
       "})(window);</script>"
      ],
      "text/plain": [
       "Row\n",
       "    [0] HoloViews(DynamicMap)\n",
       "    [1] Column\n",
       "        [0] WidgetBox\n",
       "            [0] Select(margin=(20, 20, 20, 20), name='Week', options=['2/5/2017', '2/12/2017', ...], value='2/5/2017', width=250)\n",
       "        [1] VSpacer()"
      ]
     },
     "execution_count": 395,
     "metadata": {
      "application/vnd.holoviews_exec.v0+json": {
       "id": "54728"
      }
     },
     "output_type": "execute_result"
    }
   ],
   "source": [
    "# Orlando region pasta\n",
    "orlando_pasta_data.hvplot.bar(\n",
    "    rot=45, \n",
    "    width=200,\n",
    "    height=600, \n",
    "    widget_location='right_top', \n",
    "    groupby='Week',\n",
    "    ylim=(0,80), \n",
    "    xlabel=\"Food/Dish\", ylabel=\"Searches Per Week\"\n",
    ")"
   ]
  },
  {
   "cell_type": "code",
   "execution_count": 396,
   "id": "72301ca3",
   "metadata": {},
   "outputs": [
    {
     "data": {},
     "metadata": {},
     "output_type": "display_data"
    },
    {
     "data": {},
     "metadata": {},
     "output_type": "display_data"
    },
    {
     "data": {
      "application/vnd.holoviews_exec.v0+json": "",
      "text/html": [
       "<div id='54888'>\n",
       "\n",
       "\n",
       "\n",
       "\n",
       "\n",
       "  <div class=\"bk-root\" id=\"aa91b679-94c6-4294-ab9d-1fc4b6fe398a\" data-root-id=\"54888\"></div>\n",
       "</div>\n",
       "<script type=\"application/javascript\">(function(root) {\n",
       "  function embed_document(root) {\n",
       "    var docs_json = {\"b077539a-b749-4cfd-abee-4c6a23498601\":{\"defs\":[{\"extends\":null,\"module\":null,\"name\":\"ReactiveHTML1\",\"overrides\":[],\"properties\":[]},{\"extends\":null,\"module\":null,\"name\":\"FlexBox1\",\"overrides\":[],\"properties\":[{\"default\":\"flex-start\",\"kind\":null,\"name\":\"align_content\"},{\"default\":\"flex-start\",\"kind\":null,\"name\":\"align_items\"},{\"default\":\"row\",\"kind\":null,\"name\":\"flex_direction\"},{\"default\":\"wrap\",\"kind\":null,\"name\":\"flex_wrap\"},{\"default\":\"flex-start\",\"kind\":null,\"name\":\"justify_content\"}]},{\"extends\":null,\"module\":null,\"name\":\"TemplateActions1\",\"overrides\":[],\"properties\":[{\"default\":0,\"kind\":null,\"name\":\"open_modal\"},{\"default\":0,\"kind\":null,\"name\":\"close_modal\"}]},{\"extends\":null,\"module\":null,\"name\":\"MaterialTemplateActions1\",\"overrides\":[],\"properties\":[{\"default\":0,\"kind\":null,\"name\":\"open_modal\"},{\"default\":0,\"kind\":null,\"name\":\"close_modal\"}]}],\"roots\":{\"references\":[{\"attributes\":{\"overlay\":{\"id\":\"54913\"}},\"id\":\"54911\",\"type\":\"BoxZoomTool\"},{\"attributes\":{},\"id\":\"54933\",\"type\":\"AllLabels\"},{\"attributes\":{\"axis_label\":\"Food/Dish\",\"coordinates\":null,\"formatter\":{\"id\":\"54932\"},\"group\":null,\"major_label_orientation\":0.7853981633974483,\"major_label_policy\":{\"id\":\"54933\"},\"ticker\":{\"id\":\"54902\"}},\"id\":\"54901\",\"type\":\"CategoricalAxis\"},{\"attributes\":{},\"id\":\"54936\",\"type\":\"AllLabels\"},{\"attributes\":{\"factors\":[[\"0\",\"Pepperoni_Pizza\"],[\"0\",\"Supreme_Pizza\"]],\"tags\":[[[\"index\",\"index\",null],[\"Variable\",\"Variable\",null]]]},\"id\":\"54889\",\"type\":\"FactorRange\"},{\"attributes\":{},\"id\":\"54923\",\"type\":\"Selection\"},{\"attributes\":{\"coordinates\":null,\"group\":null,\"text\":\"Week: 2/5/2017\",\"text_color\":\"black\",\"text_font_size\":\"12pt\"},\"id\":\"54893\",\"type\":\"Title\"},{\"attributes\":{\"tools\":[{\"id\":\"54891\"},{\"id\":\"54908\"},{\"id\":\"54909\"},{\"id\":\"54910\"},{\"id\":\"54911\"},{\"id\":\"54912\"}]},\"id\":\"54914\",\"type\":\"Toolbar\"},{\"attributes\":{\"factors\":[\"Pepperoni_Pizza\",\"Supreme_Pizza\"],\"palette\":[\"#30a2da\",\"#fc4f30\"]},\"id\":\"54921\",\"type\":\"CategoricalColorMapper\"},{\"attributes\":{\"fill_color\":{\"field\":\"Variable\",\"transform\":{\"id\":\"54921\"}},\"hatch_color\":{\"field\":\"Variable\",\"transform\":{\"id\":\"54921\"}},\"top\":{\"field\":\"value\"},\"width\":{\"value\":0.8},\"x\":{\"field\":\"xoffsets\"}},\"id\":\"54925\",\"type\":\"VBar\"},{\"attributes\":{\"axis\":{\"id\":\"54901\"},\"coordinates\":null,\"grid_line_color\":null,\"group\":null,\"ticker\":null},\"id\":\"54903\",\"type\":\"Grid\"},{\"attributes\":{\"bottom_units\":\"screen\",\"coordinates\":null,\"fill_alpha\":0.5,\"fill_color\":\"lightgrey\",\"group\":null,\"left_units\":\"screen\",\"level\":\"overlay\",\"line_alpha\":1.0,\"line_color\":\"black\",\"line_dash\":[4,4],\"line_width\":2,\"right_units\":\"screen\",\"syncable\":false,\"top_units\":\"screen\"},\"id\":\"54913\",\"type\":\"BoxAnnotation\"},{\"attributes\":{\"end\":80,\"reset_end\":80,\"reset_start\":0,\"tags\":[[[\"value\",\"value\",null]]]},\"id\":\"54890\",\"type\":\"Range1d\"},{\"attributes\":{},\"id\":\"54897\",\"type\":\"CategoricalScale\"},{\"attributes\":{},\"id\":\"54899\",\"type\":\"LinearScale\"},{\"attributes\":{\"children\":[{\"id\":\"54892\"},{\"id\":\"54963\"}],\"margin\":[0,0,0,0],\"name\":\"Row123714\"},\"id\":\"54888\",\"type\":\"Row\"},{\"attributes\":{},\"id\":\"54905\",\"type\":\"BasicTicker\"},{\"attributes\":{},\"id\":\"54932\",\"type\":\"CategoricalTickFormatter\"},{\"attributes\":{},\"id\":\"54902\",\"type\":\"CategoricalTicker\"},{\"attributes\":{\"source\":{\"id\":\"54922\"}},\"id\":\"54929\",\"type\":\"CDSView\"},{\"attributes\":{\"children\":[{\"id\":\"54965\"}],\"css_classes\":[\"panel-widget-box\"],\"margin\":[5,5,5,5],\"name\":\"WidgetBox123715\"},\"id\":\"54964\",\"type\":\"Column\"},{\"attributes\":{\"fill_alpha\":{\"value\":0.1},\"fill_color\":{\"field\":\"Variable\",\"transform\":{\"id\":\"54921\"}},\"hatch_alpha\":{\"value\":0.1},\"hatch_color\":{\"field\":\"Variable\",\"transform\":{\"id\":\"54921\"}},\"line_alpha\":{\"value\":0.1},\"top\":{\"field\":\"value\"},\"width\":{\"value\":0.8},\"x\":{\"field\":\"xoffsets\"}},\"id\":\"54926\",\"type\":\"VBar\"},{\"attributes\":{\"axis_label\":\"Searches Per Week\",\"coordinates\":null,\"formatter\":{\"id\":\"54935\"},\"group\":null,\"major_label_policy\":{\"id\":\"54936\"},\"ticker\":{\"id\":\"54905\"}},\"id\":\"54904\",\"type\":\"LinearAxis\"},{\"attributes\":{\"children\":[{\"id\":\"54964\"},{\"id\":\"54966\"}],\"margin\":[0,0,0,0],\"name\":\"Column123721\"},\"id\":\"54963\",\"type\":\"Column\"},{\"attributes\":{\"axis\":{\"id\":\"54904\"},\"coordinates\":null,\"dimension\":1,\"grid_line_color\":null,\"group\":null,\"ticker\":null},\"id\":\"54907\",\"type\":\"Grid\"},{\"attributes\":{\"fill_alpha\":{\"value\":0.2},\"fill_color\":{\"field\":\"Variable\",\"transform\":{\"id\":\"54921\"}},\"hatch_alpha\":{\"value\":0.2},\"hatch_color\":{\"field\":\"Variable\",\"transform\":{\"id\":\"54921\"}},\"line_alpha\":{\"value\":0.2},\"top\":{\"field\":\"value\"},\"width\":{\"value\":0.8},\"x\":{\"field\":\"xoffsets\"}},\"id\":\"54927\",\"type\":\"VBar\"},{\"attributes\":{\"margin\":[5,5,5,5],\"name\":\"VSpacer123720\",\"sizing_mode\":\"stretch_height\"},\"id\":\"54966\",\"type\":\"Spacer\"},{\"attributes\":{\"callback\":null,\"renderers\":[{\"id\":\"54928\"}],\"tags\":[\"hv_created\"],\"tooltips\":[[\"index\",\"@{index}\"],[\"Variable\",\"@{Variable}\"],[\"value\",\"@{value}\"]]},\"id\":\"54891\",\"type\":\"HoverTool\"},{\"attributes\":{\"client_comm_id\":\"1a74ad52617c4b8ab393088ef96ea4d2\",\"comm_id\":\"d5809d5c8a2144ab956127289d444f9f\",\"plot_id\":\"54888\"},\"id\":\"54997\",\"type\":\"panel.models.comm_manager.CommManager\"},{\"attributes\":{\"bottom\":{\"value\":0},\"fill_alpha\":{\"value\":1.0},\"fill_color\":{\"field\":\"Variable\",\"transform\":{\"id\":\"54921\"}},\"hatch_alpha\":{\"value\":1.0},\"hatch_color\":{\"field\":\"Variable\",\"transform\":{\"id\":\"54921\"}},\"hatch_scale\":{\"value\":12.0},\"hatch_weight\":{\"value\":1.0},\"line_alpha\":{\"value\":1.0},\"line_cap\":{\"value\":\"butt\"},\"line_color\":{\"value\":\"black\"},\"line_dash\":{\"value\":[]},\"line_dash_offset\":{\"value\":0},\"line_join\":{\"value\":\"bevel\"},\"line_width\":{\"value\":1},\"top\":{\"field\":\"value\"},\"width\":{\"value\":0.8},\"x\":{\"field\":\"xoffsets\"}},\"id\":\"54930\",\"type\":\"VBar\"},{\"attributes\":{},\"id\":\"54950\",\"type\":\"UnionRenderers\"},{\"attributes\":{\"coordinates\":null,\"data_source\":{\"id\":\"54922\"},\"glyph\":{\"id\":\"54925\"},\"group\":null,\"hover_glyph\":null,\"muted_glyph\":{\"id\":\"54927\"},\"nonselection_glyph\":{\"id\":\"54926\"},\"selection_glyph\":{\"id\":\"54930\"},\"view\":{\"id\":\"54929\"}},\"id\":\"54928\",\"type\":\"GlyphRenderer\"},{\"attributes\":{\"data\":{\"Variable\":[\"Pepperoni_Pizza\",\"Supreme_Pizza\"],\"index\":[\"0\",\"0\"],\"value\":[22,15],\"xoffsets\":[[\"0\",\"Pepperoni_Pizza\"],[\"0\",\"Supreme_Pizza\"]]},\"selected\":{\"id\":\"54923\"},\"selection_policy\":{\"id\":\"54950\"}},\"id\":\"54922\",\"type\":\"ColumnDataSource\"},{\"attributes\":{},\"id\":\"54908\",\"type\":\"SaveTool\"},{\"attributes\":{},\"id\":\"54935\",\"type\":\"BasicTickFormatter\"},{\"attributes\":{\"below\":[{\"id\":\"54901\"}],\"center\":[{\"id\":\"54903\"},{\"id\":\"54907\"}],\"height\":500,\"left\":[{\"id\":\"54904\"}],\"margin\":[5,5,5,5],\"min_border_bottom\":10,\"min_border_left\":10,\"min_border_right\":10,\"min_border_top\":10,\"renderers\":[{\"id\":\"54928\"}],\"sizing_mode\":\"fixed\",\"title\":{\"id\":\"54893\"},\"toolbar\":{\"id\":\"54914\"},\"width\":200,\"x_range\":{\"id\":\"54889\"},\"x_scale\":{\"id\":\"54897\"},\"y_range\":{\"id\":\"54890\"},\"y_scale\":{\"id\":\"54899\"}},\"id\":\"54892\",\"subtype\":\"Figure\",\"type\":\"Plot\"},{\"attributes\":{},\"id\":\"54909\",\"type\":\"PanTool\"},{\"attributes\":{\"margin\":[20,20,20,20],\"min_width\":250,\"options\":[\"2/5/2017\",\"2/12/2017\",\"2/19/2017\",\"2/26/2017\",\"3/5/2017\",\"3/12/2017\",\"3/19/2017\",\"3/26/2017\",\"4/2/2017\",\"4/9/2017\",\"4/16/2017\",\"4/23/2017\",\"4/30/2017\",\"5/7/2017\",\"5/14/2017\",\"5/21/2017\",\"5/28/2017\",\"6/4/2017\",\"6/11/2017\",\"6/18/2017\",\"6/25/2017\",\"7/2/2017\",\"7/9/2017\",\"7/16/2017\",\"7/23/2017\",\"7/30/2017\",\"8/6/2017\",\"8/13/2017\",\"8/20/2017\",\"8/27/2017\",\"9/3/2017\",\"9/10/2017\",\"9/17/2017\",\"9/24/2017\",\"10/1/2017\",\"10/8/2017\",\"10/15/2017\",\"10/22/2017\",\"10/29/2017\",\"11/5/2017\",\"11/12/2017\",\"11/19/2017\",\"11/26/2017\",\"12/3/2017\",\"12/10/2017\",\"12/17/2017\",\"12/24/2017\",\"12/31/2017\",\"1/7/2018\",\"1/14/2018\",\"1/21/2018\",\"1/28/2018\",\"2/4/2018\",\"2/11/2018\",\"2/18/2018\",\"2/25/2018\",\"3/4/2018\",\"3/11/2018\",\"3/18/2018\",\"3/25/2018\",\"4/1/2018\",\"4/8/2018\",\"4/15/2018\",\"4/22/2018\",\"4/29/2018\",\"5/6/2018\",\"5/13/2018\",\"5/20/2018\",\"5/27/2018\",\"6/3/2018\",\"6/10/2018\",\"6/17/2018\",\"6/24/2018\",\"7/1/2018\",\"7/8/2018\",\"7/15/2018\",\"7/22/2018\",\"7/29/2018\",\"8/5/2018\",\"8/12/2018\",\"8/19/2018\",\"8/26/2018\",\"9/2/2018\",\"9/9/2018\",\"9/16/2018\",\"9/23/2018\",\"9/30/2018\",\"10/7/2018\",\"10/14/2018\",\"10/21/2018\",\"10/28/2018\",\"11/4/2018\",\"11/11/2018\",\"11/18/2018\",\"11/25/2018\",\"12/2/2018\",\"12/9/2018\",\"12/16/2018\",\"12/23/2018\",\"12/30/2018\",\"1/6/2019\",\"1/13/2019\",\"1/20/2019\",\"1/27/2019\",\"2/3/2019\",\"2/10/2019\",\"2/17/2019\",\"2/24/2019\",\"3/3/2019\",\"3/10/2019\",\"3/17/2019\",\"3/24/2019\",\"3/31/2019\",\"4/7/2019\",\"4/14/2019\",\"4/21/2019\",\"4/28/2019\",\"5/5/2019\",\"5/12/2019\",\"5/19/2019\",\"5/26/2019\",\"6/2/2019\",\"6/9/2019\",\"6/16/2019\",\"6/23/2019\",\"6/30/2019\",\"7/7/2019\",\"7/14/2019\",\"7/21/2019\",\"7/28/2019\",\"8/4/2019\",\"8/11/2019\",\"8/18/2019\",\"8/25/2019\",\"9/1/2019\",\"9/8/2019\",\"9/15/2019\",\"9/22/2019\",\"9/29/2019\",\"10/6/2019\",\"10/13/2019\",\"10/20/2019\",\"10/27/2019\",\"11/3/2019\",\"11/10/2019\",\"11/17/2019\",\"11/24/2019\",\"12/1/2019\",\"12/8/2019\",\"12/15/2019\",\"12/22/2019\",\"12/29/2019\",\"1/5/2020\",\"1/12/2020\",\"1/19/2020\",\"1/26/2020\",\"2/2/2020\",\"2/9/2020\",\"2/16/2020\",\"2/23/2020\",\"3/1/2020\",\"3/8/2020\",\"3/15/2020\",\"3/22/2020\",\"3/29/2020\",\"4/5/2020\",\"4/12/2020\",\"4/19/2020\",\"4/26/2020\",\"5/3/2020\",\"5/10/2020\",\"5/17/2020\",\"5/24/2020\",\"5/31/2020\",\"6/7/2020\",\"6/14/2020\",\"6/21/2020\",\"6/28/2020\",\"7/5/2020\",\"7/12/2020\",\"7/19/2020\",\"7/26/2020\",\"8/2/2020\",\"8/9/2020\",\"8/16/2020\",\"8/23/2020\",\"8/30/2020\",\"9/6/2020\",\"9/13/2020\",\"9/20/2020\",\"9/27/2020\",\"10/4/2020\",\"10/11/2020\",\"10/18/2020\",\"10/25/2020\",\"11/1/2020\",\"11/8/2020\",\"11/15/2020\",\"11/22/2020\",\"11/29/2020\",\"12/6/2020\",\"12/13/2020\",\"12/20/2020\",\"12/27/2020\",\"1/3/2021\",\"1/10/2021\",\"1/17/2021\",\"1/24/2021\",\"1/31/2021\",\"2/7/2021\",\"2/14/2021\",\"2/21/2021\",\"2/28/2021\",\"3/7/2021\",\"3/14/2021\",\"3/21/2021\",\"3/28/2021\",\"4/4/2021\",\"4/11/2021\",\"4/18/2021\",\"4/25/2021\",\"5/2/2021\",\"5/9/2021\",\"5/16/2021\",\"5/23/2021\",\"5/30/2021\",\"6/6/2021\",\"6/13/2021\",\"6/20/2021\",\"6/27/2021\",\"7/4/2021\",\"7/11/2021\",\"7/18/2021\",\"7/25/2021\",\"8/1/2021\",\"8/8/2021\",\"8/15/2021\",\"8/22/2021\",\"8/29/2021\",\"9/5/2021\",\"9/12/2021\",\"9/19/2021\",\"9/26/2021\",\"10/3/2021\",\"10/10/2021\",\"10/17/2021\",\"10/24/2021\",\"10/31/2021\",\"11/7/2021\",\"11/14/2021\",\"11/21/2021\",\"11/28/2021\",\"12/5/2021\",\"12/12/2021\",\"12/19/2021\",\"12/26/2021\",\"1/2/2022\",\"1/9/2022\",\"1/16/2022\",\"1/23/2022\"],\"title\":\"Week\",\"value\":\"2/5/2017\",\"width\":250},\"id\":\"54965\",\"type\":\"Select\"},{\"attributes\":{},\"id\":\"54912\",\"type\":\"ResetTool\"},{\"attributes\":{},\"id\":\"54910\",\"type\":\"WheelZoomTool\"}],\"root_ids\":[\"54888\",\"54997\"]},\"title\":\"Bokeh Application\",\"version\":\"2.4.2\"}};\n",
       "    var render_items = [{\"docid\":\"b077539a-b749-4cfd-abee-4c6a23498601\",\"root_ids\":[\"54888\"],\"roots\":{\"54888\":\"aa91b679-94c6-4294-ab9d-1fc4b6fe398a\"}}];\n",
       "    root.Bokeh.embed.embed_items_notebook(docs_json, render_items);\n",
       "  }\n",
       "  if (root.Bokeh !== undefined && root.Bokeh.Panel !== undefined && ( root['Plotly'] !== undefined)) {\n",
       "    embed_document(root);\n",
       "  } else {\n",
       "    var attempts = 0;\n",
       "    var timer = setInterval(function(root) {\n",
       "      if (root.Bokeh !== undefined && root.Bokeh.Panel !== undefined && (root['Plotly'] !== undefined)) {\n",
       "        clearInterval(timer);\n",
       "        embed_document(root);\n",
       "      } else if (document.readyState == \"complete\") {\n",
       "        attempts++;\n",
       "        if (attempts > 200) {\n",
       "          clearInterval(timer);\n",
       "          console.log(\"Bokeh: ERROR: Unable to run BokehJS code because BokehJS library is missing\");\n",
       "        }\n",
       "      }\n",
       "    }, 25, root)\n",
       "  }\n",
       "})(window);</script>"
      ],
      "text/plain": [
       "Row\n",
       "    [0] HoloViews(DynamicMap)\n",
       "    [1] Column\n",
       "        [0] WidgetBox\n",
       "            [0] Select(margin=(20, 20, 20, 20), name='Week', options=['2/5/2017', '2/12/2017', ...], value='2/5/2017', width=250)\n",
       "        [1] VSpacer()"
      ]
     },
     "execution_count": 396,
     "metadata": {
      "application/vnd.holoviews_exec.v0+json": {
       "id": "54888"
      }
     },
     "output_type": "execute_result"
    }
   ],
   "source": [
    "# Orlando region pizza\n",
    "orlando_pizza_data.hvplot.bar(\n",
    "    rot=45, \n",
    "    width=200,\n",
    "    height=500, \n",
    "    widget_location='right_top', \n",
    "    groupby='Week',\n",
    "    ylim=(0,80), \n",
    "    xlabel=\"Food/Dish\", ylabel=\"Searches Per Week\"\n",
    ")"
   ]
  },
  {
   "cell_type": "code",
   "execution_count": 397,
   "id": "863c9a34",
   "metadata": {},
   "outputs": [
    {
     "data": {},
     "metadata": {},
     "output_type": "display_data"
    },
    {
     "data": {},
     "metadata": {},
     "output_type": "display_data"
    },
    {
     "data": {
      "application/vnd.holoviews_exec.v0+json": "",
      "text/html": [
       "<div id='55048'>\n",
       "\n",
       "\n",
       "\n",
       "\n",
       "\n",
       "  <div class=\"bk-root\" id=\"14a9871a-4523-477c-ba44-5cb2618df502\" data-root-id=\"55048\"></div>\n",
       "</div>\n",
       "<script type=\"application/javascript\">(function(root) {\n",
       "  function embed_document(root) {\n",
       "    var docs_json = {\"171fa655-3f9c-4d85-9490-2b571edc6172\":{\"defs\":[{\"extends\":null,\"module\":null,\"name\":\"ReactiveHTML1\",\"overrides\":[],\"properties\":[]},{\"extends\":null,\"module\":null,\"name\":\"FlexBox1\",\"overrides\":[],\"properties\":[{\"default\":\"flex-start\",\"kind\":null,\"name\":\"align_content\"},{\"default\":\"flex-start\",\"kind\":null,\"name\":\"align_items\"},{\"default\":\"row\",\"kind\":null,\"name\":\"flex_direction\"},{\"default\":\"wrap\",\"kind\":null,\"name\":\"flex_wrap\"},{\"default\":\"flex-start\",\"kind\":null,\"name\":\"justify_content\"}]},{\"extends\":null,\"module\":null,\"name\":\"TemplateActions1\",\"overrides\":[],\"properties\":[{\"default\":0,\"kind\":null,\"name\":\"open_modal\"},{\"default\":0,\"kind\":null,\"name\":\"close_modal\"}]},{\"extends\":null,\"module\":null,\"name\":\"MaterialTemplateActions1\",\"overrides\":[],\"properties\":[{\"default\":0,\"kind\":null,\"name\":\"open_modal\"},{\"default\":0,\"kind\":null,\"name\":\"close_modal\"}]}],\"roots\":{\"references\":[{\"attributes\":{\"factors\":[[\"0\",\"Ceviche\"],[\"0\",\"Salmon\"]],\"tags\":[[[\"index\",\"index\",null],[\"Variable\",\"Variable\",null]]]},\"id\":\"55049\",\"type\":\"FactorRange\"},{\"attributes\":{\"axis\":{\"id\":\"55064\"},\"coordinates\":null,\"dimension\":1,\"grid_line_color\":null,\"group\":null,\"ticker\":null},\"id\":\"55067\",\"type\":\"Grid\"},{\"attributes\":{},\"id\":\"55065\",\"type\":\"BasicTicker\"},{\"attributes\":{\"axis_label\":\"Searches Per Week\",\"coordinates\":null,\"formatter\":{\"id\":\"55095\"},\"group\":null,\"major_label_policy\":{\"id\":\"55096\"},\"ticker\":{\"id\":\"55065\"}},\"id\":\"55064\",\"type\":\"LinearAxis\"},{\"attributes\":{\"fill_alpha\":{\"value\":0.1},\"fill_color\":{\"field\":\"Variable\",\"transform\":{\"id\":\"55081\"}},\"hatch_alpha\":{\"value\":0.1},\"hatch_color\":{\"field\":\"Variable\",\"transform\":{\"id\":\"55081\"}},\"line_alpha\":{\"value\":0.1},\"top\":{\"field\":\"value\"},\"width\":{\"value\":0.8},\"x\":{\"field\":\"xoffsets\"}},\"id\":\"55086\",\"type\":\"VBar\"},{\"attributes\":{\"client_comm_id\":\"6bffca30ff9543849b9101cae061db8e\",\"comm_id\":\"b489ec5d66534b1c9f0e2c1308b4cb69\",\"plot_id\":\"55048\"},\"id\":\"55157\",\"type\":\"panel.models.comm_manager.CommManager\"},{\"attributes\":{},\"id\":\"55096\",\"type\":\"AllLabels\"},{\"attributes\":{\"children\":[{\"id\":\"55125\"}],\"css_classes\":[\"panel-widget-box\"],\"margin\":[5,5,5,5],\"name\":\"WidgetBox123991\"},\"id\":\"55124\",\"type\":\"Column\"},{\"attributes\":{\"callback\":null,\"renderers\":[{\"id\":\"55088\"}],\"tags\":[\"hv_created\"],\"tooltips\":[[\"index\",\"@{index}\"],[\"Variable\",\"@{Variable}\"],[\"value\",\"@{value}\"]]},\"id\":\"55051\",\"type\":\"HoverTool\"},{\"attributes\":{\"coordinates\":null,\"data_source\":{\"id\":\"55082\"},\"glyph\":{\"id\":\"55085\"},\"group\":null,\"hover_glyph\":null,\"muted_glyph\":{\"id\":\"55087\"},\"nonselection_glyph\":{\"id\":\"55086\"},\"selection_glyph\":{\"id\":\"55090\"},\"view\":{\"id\":\"55089\"}},\"id\":\"55088\",\"type\":\"GlyphRenderer\"},{\"attributes\":{\"children\":[{\"id\":\"55124\"},{\"id\":\"55126\"}],\"margin\":[0,0,0,0],\"name\":\"Column123997\"},\"id\":\"55123\",\"type\":\"Column\"},{\"attributes\":{\"bottom\":{\"value\":0},\"fill_alpha\":{\"value\":1.0},\"fill_color\":{\"field\":\"Variable\",\"transform\":{\"id\":\"55081\"}},\"hatch_alpha\":{\"value\":1.0},\"hatch_color\":{\"field\":\"Variable\",\"transform\":{\"id\":\"55081\"}},\"hatch_scale\":{\"value\":12.0},\"hatch_weight\":{\"value\":1.0},\"line_alpha\":{\"value\":1.0},\"line_cap\":{\"value\":\"butt\"},\"line_color\":{\"value\":\"black\"},\"line_dash\":{\"value\":[]},\"line_dash_offset\":{\"value\":0},\"line_join\":{\"value\":\"bevel\"},\"line_width\":{\"value\":1},\"top\":{\"field\":\"value\"},\"width\":{\"value\":0.8},\"x\":{\"field\":\"xoffsets\"}},\"id\":\"55090\",\"type\":\"VBar\"},{\"attributes\":{},\"id\":\"55110\",\"type\":\"UnionRenderers\"},{\"attributes\":{\"fill_color\":{\"field\":\"Variable\",\"transform\":{\"id\":\"55081\"}},\"hatch_color\":{\"field\":\"Variable\",\"transform\":{\"id\":\"55081\"}},\"top\":{\"field\":\"value\"},\"width\":{\"value\":0.8},\"x\":{\"field\":\"xoffsets\"}},\"id\":\"55085\",\"type\":\"VBar\"},{\"attributes\":{\"tools\":[{\"id\":\"55051\"},{\"id\":\"55068\"},{\"id\":\"55069\"},{\"id\":\"55070\"},{\"id\":\"55071\"},{\"id\":\"55072\"}]},\"id\":\"55074\",\"type\":\"Toolbar\"},{\"attributes\":{\"axis_label\":\"Food/Dish\",\"coordinates\":null,\"formatter\":{\"id\":\"55092\"},\"group\":null,\"major_label_orientation\":0.7853981633974483,\"major_label_policy\":{\"id\":\"55093\"},\"ticker\":{\"id\":\"55062\"}},\"id\":\"55061\",\"type\":\"CategoricalAxis\"},{\"attributes\":{},\"id\":\"55068\",\"type\":\"SaveTool\"},{\"attributes\":{\"data\":{\"Variable\":[\"Ceviche\",\"Salmon\"],\"index\":[\"0\",\"0\"],\"value\":[10,42],\"xoffsets\":[[\"0\",\"Ceviche\"],[\"0\",\"Salmon\"]]},\"selected\":{\"id\":\"55083\"},\"selection_policy\":{\"id\":\"55110\"}},\"id\":\"55082\",\"type\":\"ColumnDataSource\"},{\"attributes\":{},\"id\":\"55069\",\"type\":\"PanTool\"},{\"attributes\":{\"below\":[{\"id\":\"55061\"}],\"center\":[{\"id\":\"55063\"},{\"id\":\"55067\"}],\"height\":500,\"left\":[{\"id\":\"55064\"}],\"margin\":[5,5,5,5],\"min_border_bottom\":10,\"min_border_left\":10,\"min_border_right\":10,\"min_border_top\":10,\"renderers\":[{\"id\":\"55088\"}],\"sizing_mode\":\"fixed\",\"title\":{\"id\":\"55053\"},\"toolbar\":{\"id\":\"55074\"},\"width\":200,\"x_range\":{\"id\":\"55049\"},\"x_scale\":{\"id\":\"55057\"},\"y_range\":{\"id\":\"55050\"},\"y_scale\":{\"id\":\"55059\"}},\"id\":\"55052\",\"subtype\":\"Figure\",\"type\":\"Plot\"},{\"attributes\":{\"fill_alpha\":{\"value\":0.2},\"fill_color\":{\"field\":\"Variable\",\"transform\":{\"id\":\"55081\"}},\"hatch_alpha\":{\"value\":0.2},\"hatch_color\":{\"field\":\"Variable\",\"transform\":{\"id\":\"55081\"}},\"line_alpha\":{\"value\":0.2},\"top\":{\"field\":\"value\"},\"width\":{\"value\":0.8},\"x\":{\"field\":\"xoffsets\"}},\"id\":\"55087\",\"type\":\"VBar\"},{\"attributes\":{},\"id\":\"55072\",\"type\":\"ResetTool\"},{\"attributes\":{},\"id\":\"55083\",\"type\":\"Selection\"},{\"attributes\":{},\"id\":\"55070\",\"type\":\"WheelZoomTool\"},{\"attributes\":{\"source\":{\"id\":\"55082\"}},\"id\":\"55089\",\"type\":\"CDSView\"},{\"attributes\":{\"overlay\":{\"id\":\"55073\"}},\"id\":\"55071\",\"type\":\"BoxZoomTool\"},{\"attributes\":{},\"id\":\"55095\",\"type\":\"BasicTickFormatter\"},{\"attributes\":{},\"id\":\"55057\",\"type\":\"CategoricalScale\"},{\"attributes\":{},\"id\":\"55093\",\"type\":\"AllLabels\"},{\"attributes\":{\"factors\":[\"Ceviche\",\"Salmon\"],\"palette\":[\"#30a2da\",\"#fc4f30\"]},\"id\":\"55081\",\"type\":\"CategoricalColorMapper\"},{\"attributes\":{\"coordinates\":null,\"group\":null,\"text\":\"Week: 2/5/2017\",\"text_color\":\"black\",\"text_font_size\":\"12pt\"},\"id\":\"55053\",\"type\":\"Title\"},{\"attributes\":{\"axis\":{\"id\":\"55061\"},\"coordinates\":null,\"grid_line_color\":null,\"group\":null,\"ticker\":null},\"id\":\"55063\",\"type\":\"Grid\"},{\"attributes\":{\"end\":80,\"reset_end\":80,\"reset_start\":0,\"tags\":[[[\"value\",\"value\",null]]]},\"id\":\"55050\",\"type\":\"Range1d\"},{\"attributes\":{},\"id\":\"55092\",\"type\":\"CategoricalTickFormatter\"},{\"attributes\":{\"margin\":[20,20,20,20],\"min_width\":250,\"options\":[\"2/5/2017\",\"2/12/2017\",\"2/19/2017\",\"2/26/2017\",\"3/5/2017\",\"3/12/2017\",\"3/19/2017\",\"3/26/2017\",\"4/2/2017\",\"4/9/2017\",\"4/16/2017\",\"4/23/2017\",\"4/30/2017\",\"5/7/2017\",\"5/14/2017\",\"5/21/2017\",\"5/28/2017\",\"6/4/2017\",\"6/11/2017\",\"6/18/2017\",\"6/25/2017\",\"7/2/2017\",\"7/9/2017\",\"7/16/2017\",\"7/23/2017\",\"7/30/2017\",\"8/6/2017\",\"8/13/2017\",\"8/20/2017\",\"8/27/2017\",\"9/3/2017\",\"9/10/2017\",\"9/17/2017\",\"9/24/2017\",\"10/1/2017\",\"10/8/2017\",\"10/15/2017\",\"10/22/2017\",\"10/29/2017\",\"11/5/2017\",\"11/12/2017\",\"11/19/2017\",\"11/26/2017\",\"12/3/2017\",\"12/10/2017\",\"12/17/2017\",\"12/24/2017\",\"12/31/2017\",\"1/7/2018\",\"1/14/2018\",\"1/21/2018\",\"1/28/2018\",\"2/4/2018\",\"2/11/2018\",\"2/18/2018\",\"2/25/2018\",\"3/4/2018\",\"3/11/2018\",\"3/18/2018\",\"3/25/2018\",\"4/1/2018\",\"4/8/2018\",\"4/15/2018\",\"4/22/2018\",\"4/29/2018\",\"5/6/2018\",\"5/13/2018\",\"5/20/2018\",\"5/27/2018\",\"6/3/2018\",\"6/10/2018\",\"6/17/2018\",\"6/24/2018\",\"7/1/2018\",\"7/8/2018\",\"7/15/2018\",\"7/22/2018\",\"7/29/2018\",\"8/5/2018\",\"8/12/2018\",\"8/19/2018\",\"8/26/2018\",\"9/2/2018\",\"9/9/2018\",\"9/16/2018\",\"9/23/2018\",\"9/30/2018\",\"10/7/2018\",\"10/14/2018\",\"10/21/2018\",\"10/28/2018\",\"11/4/2018\",\"11/11/2018\",\"11/18/2018\",\"11/25/2018\",\"12/2/2018\",\"12/9/2018\",\"12/16/2018\",\"12/23/2018\",\"12/30/2018\",\"1/6/2019\",\"1/13/2019\",\"1/20/2019\",\"1/27/2019\",\"2/3/2019\",\"2/10/2019\",\"2/17/2019\",\"2/24/2019\",\"3/3/2019\",\"3/10/2019\",\"3/17/2019\",\"3/24/2019\",\"3/31/2019\",\"4/7/2019\",\"4/14/2019\",\"4/21/2019\",\"4/28/2019\",\"5/5/2019\",\"5/12/2019\",\"5/19/2019\",\"5/26/2019\",\"6/2/2019\",\"6/9/2019\",\"6/16/2019\",\"6/23/2019\",\"6/30/2019\",\"7/7/2019\",\"7/14/2019\",\"7/21/2019\",\"7/28/2019\",\"8/4/2019\",\"8/11/2019\",\"8/18/2019\",\"8/25/2019\",\"9/1/2019\",\"9/8/2019\",\"9/15/2019\",\"9/22/2019\",\"9/29/2019\",\"10/6/2019\",\"10/13/2019\",\"10/20/2019\",\"10/27/2019\",\"11/3/2019\",\"11/10/2019\",\"11/17/2019\",\"11/24/2019\",\"12/1/2019\",\"12/8/2019\",\"12/15/2019\",\"12/22/2019\",\"12/29/2019\",\"1/5/2020\",\"1/12/2020\",\"1/19/2020\",\"1/26/2020\",\"2/2/2020\",\"2/9/2020\",\"2/16/2020\",\"2/23/2020\",\"3/1/2020\",\"3/8/2020\",\"3/15/2020\",\"3/22/2020\",\"3/29/2020\",\"4/5/2020\",\"4/12/2020\",\"4/19/2020\",\"4/26/2020\",\"5/3/2020\",\"5/10/2020\",\"5/17/2020\",\"5/24/2020\",\"5/31/2020\",\"6/7/2020\",\"6/14/2020\",\"6/21/2020\",\"6/28/2020\",\"7/5/2020\",\"7/12/2020\",\"7/19/2020\",\"7/26/2020\",\"8/2/2020\",\"8/9/2020\",\"8/16/2020\",\"8/23/2020\",\"8/30/2020\",\"9/6/2020\",\"9/13/2020\",\"9/20/2020\",\"9/27/2020\",\"10/4/2020\",\"10/11/2020\",\"10/18/2020\",\"10/25/2020\",\"11/1/2020\",\"11/8/2020\",\"11/15/2020\",\"11/22/2020\",\"11/29/2020\",\"12/6/2020\",\"12/13/2020\",\"12/20/2020\",\"12/27/2020\",\"1/3/2021\",\"1/10/2021\",\"1/17/2021\",\"1/24/2021\",\"1/31/2021\",\"2/7/2021\",\"2/14/2021\",\"2/21/2021\",\"2/28/2021\",\"3/7/2021\",\"3/14/2021\",\"3/21/2021\",\"3/28/2021\",\"4/4/2021\",\"4/11/2021\",\"4/18/2021\",\"4/25/2021\",\"5/2/2021\",\"5/9/2021\",\"5/16/2021\",\"5/23/2021\",\"5/30/2021\",\"6/6/2021\",\"6/13/2021\",\"6/20/2021\",\"6/27/2021\",\"7/4/2021\",\"7/11/2021\",\"7/18/2021\",\"7/25/2021\",\"8/1/2021\",\"8/8/2021\",\"8/15/2021\",\"8/22/2021\",\"8/29/2021\",\"9/5/2021\",\"9/12/2021\",\"9/19/2021\",\"9/26/2021\",\"10/3/2021\",\"10/10/2021\",\"10/17/2021\",\"10/24/2021\",\"10/31/2021\",\"11/7/2021\",\"11/14/2021\",\"11/21/2021\",\"11/28/2021\",\"12/5/2021\",\"12/12/2021\",\"12/19/2021\",\"12/26/2021\",\"1/2/2022\",\"1/9/2022\",\"1/16/2022\",\"1/23/2022\"],\"title\":\"Week\",\"value\":\"2/5/2017\",\"width\":250},\"id\":\"55125\",\"type\":\"Select\"},{\"attributes\":{},\"id\":\"55059\",\"type\":\"LinearScale\"},{\"attributes\":{\"margin\":[5,5,5,5],\"name\":\"VSpacer123996\",\"sizing_mode\":\"stretch_height\"},\"id\":\"55126\",\"type\":\"Spacer\"},{\"attributes\":{\"bottom_units\":\"screen\",\"coordinates\":null,\"fill_alpha\":0.5,\"fill_color\":\"lightgrey\",\"group\":null,\"left_units\":\"screen\",\"level\":\"overlay\",\"line_alpha\":1.0,\"line_color\":\"black\",\"line_dash\":[4,4],\"line_width\":2,\"right_units\":\"screen\",\"syncable\":false,\"top_units\":\"screen\"},\"id\":\"55073\",\"type\":\"BoxAnnotation\"},{\"attributes\":{\"children\":[{\"id\":\"55052\"},{\"id\":\"55123\"}],\"margin\":[0,0,0,0],\"name\":\"Row123990\"},\"id\":\"55048\",\"type\":\"Row\"},{\"attributes\":{},\"id\":\"55062\",\"type\":\"CategoricalTicker\"}],\"root_ids\":[\"55048\",\"55157\"]},\"title\":\"Bokeh Application\",\"version\":\"2.4.2\"}};\n",
       "    var render_items = [{\"docid\":\"171fa655-3f9c-4d85-9490-2b571edc6172\",\"root_ids\":[\"55048\"],\"roots\":{\"55048\":\"14a9871a-4523-477c-ba44-5cb2618df502\"}}];\n",
       "    root.Bokeh.embed.embed_items_notebook(docs_json, render_items);\n",
       "  }\n",
       "  if (root.Bokeh !== undefined && root.Bokeh.Panel !== undefined && ( root['Plotly'] !== undefined)) {\n",
       "    embed_document(root);\n",
       "  } else {\n",
       "    var attempts = 0;\n",
       "    var timer = setInterval(function(root) {\n",
       "      if (root.Bokeh !== undefined && root.Bokeh.Panel !== undefined && (root['Plotly'] !== undefined)) {\n",
       "        clearInterval(timer);\n",
       "        embed_document(root);\n",
       "      } else if (document.readyState == \"complete\") {\n",
       "        attempts++;\n",
       "        if (attempts > 200) {\n",
       "          clearInterval(timer);\n",
       "          console.log(\"Bokeh: ERROR: Unable to run BokehJS code because BokehJS library is missing\");\n",
       "        }\n",
       "      }\n",
       "    }, 25, root)\n",
       "  }\n",
       "})(window);</script>"
      ],
      "text/plain": [
       "Row\n",
       "    [0] HoloViews(DynamicMap)\n",
       "    [1] Column\n",
       "        [0] WidgetBox\n",
       "            [0] Select(margin=(20, 20, 20, 20), name='Week', options=['2/5/2017', '2/12/2017', ...], value='2/5/2017', width=250)\n",
       "        [1] VSpacer()"
      ]
     },
     "execution_count": 397,
     "metadata": {
      "application/vnd.holoviews_exec.v0+json": {
       "id": "55048"
      }
     },
     "output_type": "execute_result"
    }
   ],
   "source": [
    "# Orlando region seafood\n",
    "orlando_seafood_data.hvplot.bar(\n",
    "    rot=45, \n",
    "    width=200,\n",
    "    height=500, \n",
    "    widget_location='right_top', \n",
    "    groupby='Week',\n",
    "    ylim=(0,80), \n",
    "    xlabel=\"Food/Dish\", ylabel=\"Searches Per Week\"\n",
    ")"
   ]
  },
  {
   "cell_type": "code",
   "execution_count": 398,
   "id": "6fc81336",
   "metadata": {},
   "outputs": [
    {
     "data": {},
     "metadata": {},
     "output_type": "display_data"
    },
    {
     "data": {},
     "metadata": {},
     "output_type": "display_data"
    },
    {
     "data": {
      "application/vnd.holoviews_exec.v0+json": "",
      "text/html": [
       "<div id='55208'>\n",
       "\n",
       "\n",
       "\n",
       "\n",
       "\n",
       "  <div class=\"bk-root\" id=\"ba743458-c377-4d58-b0b1-f25769e4cc48\" data-root-id=\"55208\"></div>\n",
       "</div>\n",
       "<script type=\"application/javascript\">(function(root) {\n",
       "  function embed_document(root) {\n",
       "    var docs_json = {\"8137454f-3c27-4bc6-8677-e17d25804a47\":{\"defs\":[{\"extends\":null,\"module\":null,\"name\":\"ReactiveHTML1\",\"overrides\":[],\"properties\":[]},{\"extends\":null,\"module\":null,\"name\":\"FlexBox1\",\"overrides\":[],\"properties\":[{\"default\":\"flex-start\",\"kind\":null,\"name\":\"align_content\"},{\"default\":\"flex-start\",\"kind\":null,\"name\":\"align_items\"},{\"default\":\"row\",\"kind\":null,\"name\":\"flex_direction\"},{\"default\":\"wrap\",\"kind\":null,\"name\":\"flex_wrap\"},{\"default\":\"flex-start\",\"kind\":null,\"name\":\"justify_content\"}]},{\"extends\":null,\"module\":null,\"name\":\"TemplateActions1\",\"overrides\":[],\"properties\":[{\"default\":0,\"kind\":null,\"name\":\"open_modal\"},{\"default\":0,\"kind\":null,\"name\":\"close_modal\"}]},{\"extends\":null,\"module\":null,\"name\":\"MaterialTemplateActions1\",\"overrides\":[],\"properties\":[{\"default\":0,\"kind\":null,\"name\":\"open_modal\"},{\"default\":0,\"kind\":null,\"name\":\"close_modal\"}]}],\"roots\":{\"references\":[{\"attributes\":{\"fill_alpha\":{\"value\":0.2},\"fill_color\":{\"field\":\"Variable\",\"transform\":{\"id\":\"55241\"}},\"hatch_alpha\":{\"value\":0.2},\"hatch_color\":{\"field\":\"Variable\",\"transform\":{\"id\":\"55241\"}},\"line_alpha\":{\"value\":0.2},\"top\":{\"field\":\"value\"},\"width\":{\"value\":0.8},\"x\":{\"field\":\"xoffsets\"}},\"id\":\"55247\",\"type\":\"VBar\"},{\"attributes\":{\"tools\":[{\"id\":\"55211\"},{\"id\":\"55228\"},{\"id\":\"55229\"},{\"id\":\"55230\"},{\"id\":\"55231\"},{\"id\":\"55232\"}]},\"id\":\"55234\",\"type\":\"Toolbar\"},{\"attributes\":{},\"id\":\"55243\",\"type\":\"Selection\"},{\"attributes\":{\"bottom_units\":\"screen\",\"coordinates\":null,\"fill_alpha\":0.5,\"fill_color\":\"lightgrey\",\"group\":null,\"left_units\":\"screen\",\"level\":\"overlay\",\"line_alpha\":1.0,\"line_color\":\"black\",\"line_dash\":[4,4],\"line_width\":2,\"right_units\":\"screen\",\"syncable\":false,\"top_units\":\"screen\"},\"id\":\"55233\",\"type\":\"BoxAnnotation\"},{\"attributes\":{\"client_comm_id\":\"bb6ea578d51d4810987bac758476aba9\",\"comm_id\":\"b3ee6e1a9f784a319f697bc9aab6c3e6\",\"plot_id\":\"55208\"},\"id\":\"55317\",\"type\":\"panel.models.comm_manager.CommManager\"},{\"attributes\":{},\"id\":\"55228\",\"type\":\"SaveTool\"},{\"attributes\":{},\"id\":\"55229\",\"type\":\"PanTool\"},{\"attributes\":{},\"id\":\"55232\",\"type\":\"ResetTool\"},{\"attributes\":{},\"id\":\"55256\",\"type\":\"AllLabels\"},{\"attributes\":{},\"id\":\"55270\",\"type\":\"UnionRenderers\"},{\"attributes\":{\"factors\":[\"Spicy_Tuna_Roll\",\"California_Roll\"],\"palette\":[\"#30a2da\",\"#fc4f30\"]},\"id\":\"55241\",\"type\":\"CategoricalColorMapper\"},{\"attributes\":{\"axis_label\":\"Food/Dish\",\"coordinates\":null,\"formatter\":{\"id\":\"55252\"},\"group\":null,\"major_label_orientation\":0.7853981633974483,\"major_label_policy\":{\"id\":\"55253\"},\"ticker\":{\"id\":\"55222\"}},\"id\":\"55221\",\"type\":\"CategoricalAxis\"},{\"attributes\":{},\"id\":\"55230\",\"type\":\"WheelZoomTool\"},{\"attributes\":{\"below\":[{\"id\":\"55221\"}],\"center\":[{\"id\":\"55223\"},{\"id\":\"55227\"}],\"height\":500,\"left\":[{\"id\":\"55224\"}],\"margin\":[5,5,5,5],\"min_border_bottom\":10,\"min_border_left\":10,\"min_border_right\":10,\"min_border_top\":10,\"renderers\":[{\"id\":\"55248\"}],\"sizing_mode\":\"fixed\",\"title\":{\"id\":\"55213\"},\"toolbar\":{\"id\":\"55234\"},\"width\":200,\"x_range\":{\"id\":\"55209\"},\"x_scale\":{\"id\":\"55217\"},\"y_range\":{\"id\":\"55210\"},\"y_scale\":{\"id\":\"55219\"}},\"id\":\"55212\",\"subtype\":\"Figure\",\"type\":\"Plot\"},{\"attributes\":{\"data\":{\"Variable\":[\"Spicy_Tuna_Roll\",\"California_Roll\"],\"index\":[\"0\",\"0\"],\"value\":[15,15],\"xoffsets\":[[\"0\",\"Spicy_Tuna_Roll\"],[\"0\",\"California_Roll\"]]},\"selected\":{\"id\":\"55243\"},\"selection_policy\":{\"id\":\"55270\"}},\"id\":\"55242\",\"type\":\"ColumnDataSource\"},{\"attributes\":{\"overlay\":{\"id\":\"55233\"}},\"id\":\"55231\",\"type\":\"BoxZoomTool\"},{\"attributes\":{},\"id\":\"55253\",\"type\":\"AllLabels\"},{\"attributes\":{\"margin\":[5,5,5,5],\"name\":\"VSpacer124272\",\"sizing_mode\":\"stretch_height\"},\"id\":\"55286\",\"type\":\"Spacer\"},{\"attributes\":{\"coordinates\":null,\"group\":null,\"text\":\"Week: 2/5/2017\",\"text_color\":\"black\",\"text_font_size\":\"12pt\"},\"id\":\"55213\",\"type\":\"Title\"},{\"attributes\":{},\"id\":\"55217\",\"type\":\"CategoricalScale\"},{\"attributes\":{\"axis\":{\"id\":\"55221\"},\"coordinates\":null,\"grid_line_color\":null,\"group\":null,\"ticker\":null},\"id\":\"55223\",\"type\":\"Grid\"},{\"attributes\":{},\"id\":\"55252\",\"type\":\"CategoricalTickFormatter\"},{\"attributes\":{\"axis\":{\"id\":\"55224\"},\"coordinates\":null,\"dimension\":1,\"grid_line_color\":null,\"group\":null,\"ticker\":null},\"id\":\"55227\",\"type\":\"Grid\"},{\"attributes\":{\"margin\":[20,20,20,20],\"min_width\":250,\"options\":[\"2/5/2017\",\"2/12/2017\",\"2/19/2017\",\"2/26/2017\",\"3/5/2017\",\"3/12/2017\",\"3/19/2017\",\"3/26/2017\",\"4/2/2017\",\"4/9/2017\",\"4/16/2017\",\"4/23/2017\",\"4/30/2017\",\"5/7/2017\",\"5/14/2017\",\"5/21/2017\",\"5/28/2017\",\"6/4/2017\",\"6/11/2017\",\"6/18/2017\",\"6/25/2017\",\"7/2/2017\",\"7/9/2017\",\"7/16/2017\",\"7/23/2017\",\"7/30/2017\",\"8/6/2017\",\"8/13/2017\",\"8/20/2017\",\"8/27/2017\",\"9/3/2017\",\"9/10/2017\",\"9/17/2017\",\"9/24/2017\",\"10/1/2017\",\"10/8/2017\",\"10/15/2017\",\"10/22/2017\",\"10/29/2017\",\"11/5/2017\",\"11/12/2017\",\"11/19/2017\",\"11/26/2017\",\"12/3/2017\",\"12/10/2017\",\"12/17/2017\",\"12/24/2017\",\"12/31/2017\",\"1/7/2018\",\"1/14/2018\",\"1/21/2018\",\"1/28/2018\",\"2/4/2018\",\"2/11/2018\",\"2/18/2018\",\"2/25/2018\",\"3/4/2018\",\"3/11/2018\",\"3/18/2018\",\"3/25/2018\",\"4/1/2018\",\"4/8/2018\",\"4/15/2018\",\"4/22/2018\",\"4/29/2018\",\"5/6/2018\",\"5/13/2018\",\"5/20/2018\",\"5/27/2018\",\"6/3/2018\",\"6/10/2018\",\"6/17/2018\",\"6/24/2018\",\"7/1/2018\",\"7/8/2018\",\"7/15/2018\",\"7/22/2018\",\"7/29/2018\",\"8/5/2018\",\"8/12/2018\",\"8/19/2018\",\"8/26/2018\",\"9/2/2018\",\"9/9/2018\",\"9/16/2018\",\"9/23/2018\",\"9/30/2018\",\"10/7/2018\",\"10/14/2018\",\"10/21/2018\",\"10/28/2018\",\"11/4/2018\",\"11/11/2018\",\"11/18/2018\",\"11/25/2018\",\"12/2/2018\",\"12/9/2018\",\"12/16/2018\",\"12/23/2018\",\"12/30/2018\",\"1/6/2019\",\"1/13/2019\",\"1/20/2019\",\"1/27/2019\",\"2/3/2019\",\"2/10/2019\",\"2/17/2019\",\"2/24/2019\",\"3/3/2019\",\"3/10/2019\",\"3/17/2019\",\"3/24/2019\",\"3/31/2019\",\"4/7/2019\",\"4/14/2019\",\"4/21/2019\",\"4/28/2019\",\"5/5/2019\",\"5/12/2019\",\"5/19/2019\",\"5/26/2019\",\"6/2/2019\",\"6/9/2019\",\"6/16/2019\",\"6/23/2019\",\"6/30/2019\",\"7/7/2019\",\"7/14/2019\",\"7/21/2019\",\"7/28/2019\",\"8/4/2019\",\"8/11/2019\",\"8/18/2019\",\"8/25/2019\",\"9/1/2019\",\"9/8/2019\",\"9/15/2019\",\"9/22/2019\",\"9/29/2019\",\"10/6/2019\",\"10/13/2019\",\"10/20/2019\",\"10/27/2019\",\"11/3/2019\",\"11/10/2019\",\"11/17/2019\",\"11/24/2019\",\"12/1/2019\",\"12/8/2019\",\"12/15/2019\",\"12/22/2019\",\"12/29/2019\",\"1/5/2020\",\"1/12/2020\",\"1/19/2020\",\"1/26/2020\",\"2/2/2020\",\"2/9/2020\",\"2/16/2020\",\"2/23/2020\",\"3/1/2020\",\"3/8/2020\",\"3/15/2020\",\"3/22/2020\",\"3/29/2020\",\"4/5/2020\",\"4/12/2020\",\"4/19/2020\",\"4/26/2020\",\"5/3/2020\",\"5/10/2020\",\"5/17/2020\",\"5/24/2020\",\"5/31/2020\",\"6/7/2020\",\"6/14/2020\",\"6/21/2020\",\"6/28/2020\",\"7/5/2020\",\"7/12/2020\",\"7/19/2020\",\"7/26/2020\",\"8/2/2020\",\"8/9/2020\",\"8/16/2020\",\"8/23/2020\",\"8/30/2020\",\"9/6/2020\",\"9/13/2020\",\"9/20/2020\",\"9/27/2020\",\"10/4/2020\",\"10/11/2020\",\"10/18/2020\",\"10/25/2020\",\"11/1/2020\",\"11/8/2020\",\"11/15/2020\",\"11/22/2020\",\"11/29/2020\",\"12/6/2020\",\"12/13/2020\",\"12/20/2020\",\"12/27/2020\",\"1/3/2021\",\"1/10/2021\",\"1/17/2021\",\"1/24/2021\",\"1/31/2021\",\"2/7/2021\",\"2/14/2021\",\"2/21/2021\",\"2/28/2021\",\"3/7/2021\",\"3/14/2021\",\"3/21/2021\",\"3/28/2021\",\"4/4/2021\",\"4/11/2021\",\"4/18/2021\",\"4/25/2021\",\"5/2/2021\",\"5/9/2021\",\"5/16/2021\",\"5/23/2021\",\"5/30/2021\",\"6/6/2021\",\"6/13/2021\",\"6/20/2021\",\"6/27/2021\",\"7/4/2021\",\"7/11/2021\",\"7/18/2021\",\"7/25/2021\",\"8/1/2021\",\"8/8/2021\",\"8/15/2021\",\"8/22/2021\",\"8/29/2021\",\"9/5/2021\",\"9/12/2021\",\"9/19/2021\",\"9/26/2021\",\"10/3/2021\",\"10/10/2021\",\"10/17/2021\",\"10/24/2021\",\"10/31/2021\",\"11/7/2021\",\"11/14/2021\",\"11/21/2021\",\"11/28/2021\",\"12/5/2021\",\"12/12/2021\",\"12/19/2021\",\"12/26/2021\",\"1/2/2022\",\"1/9/2022\",\"1/16/2022\",\"1/23/2022\"],\"title\":\"Week\",\"value\":\"2/5/2017\",\"width\":250},\"id\":\"55285\",\"type\":\"Select\"},{\"attributes\":{},\"id\":\"55219\",\"type\":\"LinearScale\"},{\"attributes\":{\"source\":{\"id\":\"55242\"}},\"id\":\"55249\",\"type\":\"CDSView\"},{\"attributes\":{\"children\":[{\"id\":\"55212\"},{\"id\":\"55283\"}],\"margin\":[0,0,0,0],\"name\":\"Row124266\"},\"id\":\"55208\",\"type\":\"Row\"},{\"attributes\":{\"end\":80,\"reset_end\":80,\"reset_start\":0,\"tags\":[[[\"value\",\"value\",null]]]},\"id\":\"55210\",\"type\":\"Range1d\"},{\"attributes\":{},\"id\":\"55222\",\"type\":\"CategoricalTicker\"},{\"attributes\":{\"factors\":[[\"0\",\"California_Roll\"],[\"0\",\"Spicy_Tuna_Roll\"]],\"tags\":[[[\"index\",\"index\",null],[\"Variable\",\"Variable\",null]]]},\"id\":\"55209\",\"type\":\"FactorRange\"},{\"attributes\":{},\"id\":\"55255\",\"type\":\"BasicTickFormatter\"},{\"attributes\":{\"bottom\":{\"value\":0},\"fill_alpha\":{\"value\":1.0},\"fill_color\":{\"field\":\"Variable\",\"transform\":{\"id\":\"55241\"}},\"hatch_alpha\":{\"value\":1.0},\"hatch_color\":{\"field\":\"Variable\",\"transform\":{\"id\":\"55241\"}},\"hatch_scale\":{\"value\":12.0},\"hatch_weight\":{\"value\":1.0},\"line_alpha\":{\"value\":1.0},\"line_cap\":{\"value\":\"butt\"},\"line_color\":{\"value\":\"black\"},\"line_dash\":{\"value\":[]},\"line_dash_offset\":{\"value\":0},\"line_join\":{\"value\":\"bevel\"},\"line_width\":{\"value\":1},\"top\":{\"field\":\"value\"},\"width\":{\"value\":0.8},\"x\":{\"field\":\"xoffsets\"}},\"id\":\"55250\",\"type\":\"VBar\"},{\"attributes\":{},\"id\":\"55225\",\"type\":\"BasicTicker\"},{\"attributes\":{\"coordinates\":null,\"data_source\":{\"id\":\"55242\"},\"glyph\":{\"id\":\"55245\"},\"group\":null,\"hover_glyph\":null,\"muted_glyph\":{\"id\":\"55247\"},\"nonselection_glyph\":{\"id\":\"55246\"},\"selection_glyph\":{\"id\":\"55250\"},\"view\":{\"id\":\"55249\"}},\"id\":\"55248\",\"type\":\"GlyphRenderer\"},{\"attributes\":{\"axis_label\":\"Searches Per Week\",\"coordinates\":null,\"formatter\":{\"id\":\"55255\"},\"group\":null,\"major_label_policy\":{\"id\":\"55256\"},\"ticker\":{\"id\":\"55225\"}},\"id\":\"55224\",\"type\":\"LinearAxis\"},{\"attributes\":{\"fill_color\":{\"field\":\"Variable\",\"transform\":{\"id\":\"55241\"}},\"hatch_color\":{\"field\":\"Variable\",\"transform\":{\"id\":\"55241\"}},\"top\":{\"field\":\"value\"},\"width\":{\"value\":0.8},\"x\":{\"field\":\"xoffsets\"}},\"id\":\"55245\",\"type\":\"VBar\"},{\"attributes\":{\"fill_alpha\":{\"value\":0.1},\"fill_color\":{\"field\":\"Variable\",\"transform\":{\"id\":\"55241\"}},\"hatch_alpha\":{\"value\":0.1},\"hatch_color\":{\"field\":\"Variable\",\"transform\":{\"id\":\"55241\"}},\"line_alpha\":{\"value\":0.1},\"top\":{\"field\":\"value\"},\"width\":{\"value\":0.8},\"x\":{\"field\":\"xoffsets\"}},\"id\":\"55246\",\"type\":\"VBar\"},{\"attributes\":{\"children\":[{\"id\":\"55285\"}],\"css_classes\":[\"panel-widget-box\"],\"margin\":[5,5,5,5],\"name\":\"WidgetBox124267\"},\"id\":\"55284\",\"type\":\"Column\"},{\"attributes\":{\"children\":[{\"id\":\"55284\"},{\"id\":\"55286\"}],\"margin\":[0,0,0,0],\"name\":\"Column124273\"},\"id\":\"55283\",\"type\":\"Column\"},{\"attributes\":{\"callback\":null,\"renderers\":[{\"id\":\"55248\"}],\"tags\":[\"hv_created\"],\"tooltips\":[[\"index\",\"@{index}\"],[\"Variable\",\"@{Variable}\"],[\"value\",\"@{value}\"]]},\"id\":\"55211\",\"type\":\"HoverTool\"}],\"root_ids\":[\"55208\",\"55317\"]},\"title\":\"Bokeh Application\",\"version\":\"2.4.2\"}};\n",
       "    var render_items = [{\"docid\":\"8137454f-3c27-4bc6-8677-e17d25804a47\",\"root_ids\":[\"55208\"],\"roots\":{\"55208\":\"ba743458-c377-4d58-b0b1-f25769e4cc48\"}}];\n",
       "    root.Bokeh.embed.embed_items_notebook(docs_json, render_items);\n",
       "  }\n",
       "  if (root.Bokeh !== undefined && root.Bokeh.Panel !== undefined && ( root['Plotly'] !== undefined)) {\n",
       "    embed_document(root);\n",
       "  } else {\n",
       "    var attempts = 0;\n",
       "    var timer = setInterval(function(root) {\n",
       "      if (root.Bokeh !== undefined && root.Bokeh.Panel !== undefined && (root['Plotly'] !== undefined)) {\n",
       "        clearInterval(timer);\n",
       "        embed_document(root);\n",
       "      } else if (document.readyState == \"complete\") {\n",
       "        attempts++;\n",
       "        if (attempts > 200) {\n",
       "          clearInterval(timer);\n",
       "          console.log(\"Bokeh: ERROR: Unable to run BokehJS code because BokehJS library is missing\");\n",
       "        }\n",
       "      }\n",
       "    }, 25, root)\n",
       "  }\n",
       "})(window);</script>"
      ],
      "text/plain": [
       "Row\n",
       "    [0] HoloViews(DynamicMap)\n",
       "    [1] Column\n",
       "        [0] WidgetBox\n",
       "            [0] Select(margin=(20, 20, 20, 20), name='Week', options=['2/5/2017', '2/12/2017', ...], value='2/5/2017', width=250)\n",
       "        [1] VSpacer()"
      ]
     },
     "execution_count": 398,
     "metadata": {
      "application/vnd.holoviews_exec.v0+json": {
       "id": "55208"
      }
     },
     "output_type": "execute_result"
    }
   ],
   "source": [
    "# Orlando region sushi\n",
    "orlando_sushi_data.hvplot.bar(\n",
    "    rot=45, \n",
    "    width=200,\n",
    "    height=500, \n",
    "    widget_location='right_top', \n",
    "    groupby='Week',\n",
    "    ylim=(0,80), \n",
    "    xlabel=\"Food/Dish\", ylabel=\"Searches Per Week\"\n",
    ")"
   ]
  },
  {
   "cell_type": "code",
   "execution_count": 399,
   "id": "d7f75146",
   "metadata": {},
   "outputs": [
    {
     "data": {},
     "metadata": {},
     "output_type": "display_data"
    },
    {
     "data": {},
     "metadata": {},
     "output_type": "display_data"
    },
    {
     "data": {
      "application/vnd.holoviews_exec.v0+json": "",
      "text/html": [
       "<div id='55368'>\n",
       "\n",
       "\n",
       "\n",
       "\n",
       "\n",
       "  <div class=\"bk-root\" id=\"d9f7fd7e-8272-45a3-b925-db9787b7ec89\" data-root-id=\"55368\"></div>\n",
       "</div>\n",
       "<script type=\"application/javascript\">(function(root) {\n",
       "  function embed_document(root) {\n",
       "    var docs_json = {\"0474516f-3130-4ef8-96de-51319eb97aff\":{\"defs\":[{\"extends\":null,\"module\":null,\"name\":\"ReactiveHTML1\",\"overrides\":[],\"properties\":[]},{\"extends\":null,\"module\":null,\"name\":\"FlexBox1\",\"overrides\":[],\"properties\":[{\"default\":\"flex-start\",\"kind\":null,\"name\":\"align_content\"},{\"default\":\"flex-start\",\"kind\":null,\"name\":\"align_items\"},{\"default\":\"row\",\"kind\":null,\"name\":\"flex_direction\"},{\"default\":\"wrap\",\"kind\":null,\"name\":\"flex_wrap\"},{\"default\":\"flex-start\",\"kind\":null,\"name\":\"justify_content\"}]},{\"extends\":null,\"module\":null,\"name\":\"TemplateActions1\",\"overrides\":[],\"properties\":[{\"default\":0,\"kind\":null,\"name\":\"open_modal\"},{\"default\":0,\"kind\":null,\"name\":\"close_modal\"}]},{\"extends\":null,\"module\":null,\"name\":\"MaterialTemplateActions1\",\"overrides\":[],\"properties\":[{\"default\":0,\"kind\":null,\"name\":\"open_modal\"},{\"default\":0,\"kind\":null,\"name\":\"close_modal\"}]}],\"roots\":{\"references\":[{\"attributes\":{\"data\":{\"Variable\":[\"Aloo_Gobi\",\"Salad\"],\"index\":[\"0\",\"0\"],\"value\":[15,44],\"xoffsets\":[[\"0\",\"Aloo_Gobi\"],[\"0\",\"Salad\"]]},\"selected\":{\"id\":\"55403\"},\"selection_policy\":{\"id\":\"55430\"}},\"id\":\"55402\",\"type\":\"ColumnDataSource\"},{\"attributes\":{\"callback\":null,\"renderers\":[{\"id\":\"55408\"}],\"tags\":[\"hv_created\"],\"tooltips\":[[\"index\",\"@{index}\"],[\"Variable\",\"@{Variable}\"],[\"value\",\"@{value}\"]]},\"id\":\"55371\",\"type\":\"HoverTool\"},{\"attributes\":{},\"id\":\"55412\",\"type\":\"CategoricalTickFormatter\"},{\"attributes\":{},\"id\":\"55403\",\"type\":\"Selection\"},{\"attributes\":{\"axis\":{\"id\":\"55384\"},\"coordinates\":null,\"dimension\":1,\"grid_line_color\":null,\"group\":null,\"ticker\":null},\"id\":\"55387\",\"type\":\"Grid\"},{\"attributes\":{\"margin\":[5,5,5,5],\"name\":\"VSpacer124548\",\"sizing_mode\":\"stretch_height\"},\"id\":\"55446\",\"type\":\"Spacer\"},{\"attributes\":{\"fill_alpha\":{\"value\":0.2},\"fill_color\":{\"field\":\"Variable\",\"transform\":{\"id\":\"55401\"}},\"hatch_alpha\":{\"value\":0.2},\"hatch_color\":{\"field\":\"Variable\",\"transform\":{\"id\":\"55401\"}},\"line_alpha\":{\"value\":0.2},\"top\":{\"field\":\"value\"},\"width\":{\"value\":0.8},\"x\":{\"field\":\"xoffsets\"}},\"id\":\"55407\",\"type\":\"VBar\"},{\"attributes\":{},\"id\":\"55415\",\"type\":\"BasicTickFormatter\"},{\"attributes\":{\"client_comm_id\":\"edb5c4c03cbe45818f3af02caa4cbff0\",\"comm_id\":\"a0b5fc614d894e6588917c20107e4e6b\",\"plot_id\":\"55368\"},\"id\":\"55477\",\"type\":\"panel.models.comm_manager.CommManager\"},{\"attributes\":{\"axis_label\":\"Food/Dish\",\"coordinates\":null,\"formatter\":{\"id\":\"55412\"},\"group\":null,\"major_label_orientation\":0.7853981633974483,\"major_label_policy\":{\"id\":\"55413\"},\"ticker\":{\"id\":\"55382\"}},\"id\":\"55381\",\"type\":\"CategoricalAxis\"},{\"attributes\":{\"children\":[{\"id\":\"55445\"}],\"css_classes\":[\"panel-widget-box\"],\"margin\":[5,5,5,5],\"name\":\"WidgetBox124543\"},\"id\":\"55444\",\"type\":\"Column\"},{\"attributes\":{\"factors\":[\"Aloo_Gobi\",\"Salad\"],\"palette\":[\"#30a2da\",\"#fc4f30\"]},\"id\":\"55401\",\"type\":\"CategoricalColorMapper\"},{\"attributes\":{\"bottom_units\":\"screen\",\"coordinates\":null,\"fill_alpha\":0.5,\"fill_color\":\"lightgrey\",\"group\":null,\"left_units\":\"screen\",\"level\":\"overlay\",\"line_alpha\":1.0,\"line_color\":\"black\",\"line_dash\":[4,4],\"line_width\":2,\"right_units\":\"screen\",\"syncable\":false,\"top_units\":\"screen\"},\"id\":\"55393\",\"type\":\"BoxAnnotation\"},{\"attributes\":{\"children\":[{\"id\":\"55444\"},{\"id\":\"55446\"}],\"margin\":[0,0,0,0],\"name\":\"Column124549\"},\"id\":\"55443\",\"type\":\"Column\"},{\"attributes\":{},\"id\":\"55388\",\"type\":\"SaveTool\"},{\"attributes\":{\"below\":[{\"id\":\"55381\"}],\"center\":[{\"id\":\"55383\"},{\"id\":\"55387\"}],\"height\":500,\"left\":[{\"id\":\"55384\"}],\"margin\":[5,5,5,5],\"min_border_bottom\":10,\"min_border_left\":10,\"min_border_right\":10,\"min_border_top\":10,\"renderers\":[{\"id\":\"55408\"}],\"sizing_mode\":\"fixed\",\"title\":{\"id\":\"55373\"},\"toolbar\":{\"id\":\"55394\"},\"width\":200,\"x_range\":{\"id\":\"55369\"},\"x_scale\":{\"id\":\"55377\"},\"y_range\":{\"id\":\"55370\"},\"y_scale\":{\"id\":\"55379\"}},\"id\":\"55372\",\"subtype\":\"Figure\",\"type\":\"Plot\"},{\"attributes\":{},\"id\":\"55389\",\"type\":\"PanTool\"},{\"attributes\":{\"coordinates\":null,\"data_source\":{\"id\":\"55402\"},\"glyph\":{\"id\":\"55405\"},\"group\":null,\"hover_glyph\":null,\"muted_glyph\":{\"id\":\"55407\"},\"nonselection_glyph\":{\"id\":\"55406\"},\"selection_glyph\":{\"id\":\"55410\"},\"view\":{\"id\":\"55409\"}},\"id\":\"55408\",\"type\":\"GlyphRenderer\"},{\"attributes\":{},\"id\":\"55392\",\"type\":\"ResetTool\"},{\"attributes\":{},\"id\":\"55390\",\"type\":\"WheelZoomTool\"},{\"attributes\":{\"overlay\":{\"id\":\"55393\"}},\"id\":\"55391\",\"type\":\"BoxZoomTool\"},{\"attributes\":{\"coordinates\":null,\"group\":null,\"text\":\"Week: 2/5/2017\",\"text_color\":\"black\",\"text_font_size\":\"12pt\"},\"id\":\"55373\",\"type\":\"Title\"},{\"attributes\":{\"bottom\":{\"value\":0},\"fill_alpha\":{\"value\":1.0},\"fill_color\":{\"field\":\"Variable\",\"transform\":{\"id\":\"55401\"}},\"hatch_alpha\":{\"value\":1.0},\"hatch_color\":{\"field\":\"Variable\",\"transform\":{\"id\":\"55401\"}},\"hatch_scale\":{\"value\":12.0},\"hatch_weight\":{\"value\":1.0},\"line_alpha\":{\"value\":1.0},\"line_cap\":{\"value\":\"butt\"},\"line_color\":{\"value\":\"black\"},\"line_dash\":{\"value\":[]},\"line_dash_offset\":{\"value\":0},\"line_join\":{\"value\":\"bevel\"},\"line_width\":{\"value\":1},\"top\":{\"field\":\"value\"},\"width\":{\"value\":0.8},\"x\":{\"field\":\"xoffsets\"}},\"id\":\"55410\",\"type\":\"VBar\"},{\"attributes\":{\"axis\":{\"id\":\"55381\"},\"coordinates\":null,\"grid_line_color\":null,\"group\":null,\"ticker\":null},\"id\":\"55383\",\"type\":\"Grid\"},{\"attributes\":{\"fill_alpha\":{\"value\":0.1},\"fill_color\":{\"field\":\"Variable\",\"transform\":{\"id\":\"55401\"}},\"hatch_alpha\":{\"value\":0.1},\"hatch_color\":{\"field\":\"Variable\",\"transform\":{\"id\":\"55401\"}},\"line_alpha\":{\"value\":0.1},\"top\":{\"field\":\"value\"},\"width\":{\"value\":0.8},\"x\":{\"field\":\"xoffsets\"}},\"id\":\"55406\",\"type\":\"VBar\"},{\"attributes\":{},\"id\":\"55413\",\"type\":\"AllLabels\"},{\"attributes\":{\"fill_color\":{\"field\":\"Variable\",\"transform\":{\"id\":\"55401\"}},\"hatch_color\":{\"field\":\"Variable\",\"transform\":{\"id\":\"55401\"}},\"top\":{\"field\":\"value\"},\"width\":{\"value\":0.8},\"x\":{\"field\":\"xoffsets\"}},\"id\":\"55405\",\"type\":\"VBar\"},{\"attributes\":{},\"id\":\"55379\",\"type\":\"LinearScale\"},{\"attributes\":{\"margin\":[20,20,20,20],\"min_width\":250,\"options\":[\"2/5/2017\",\"2/12/2017\",\"2/19/2017\",\"2/26/2017\",\"3/5/2017\",\"3/12/2017\",\"3/19/2017\",\"3/26/2017\",\"4/2/2017\",\"4/9/2017\",\"4/16/2017\",\"4/23/2017\",\"4/30/2017\",\"5/7/2017\",\"5/14/2017\",\"5/21/2017\",\"5/28/2017\",\"6/4/2017\",\"6/11/2017\",\"6/18/2017\",\"6/25/2017\",\"7/2/2017\",\"7/9/2017\",\"7/16/2017\",\"7/23/2017\",\"7/30/2017\",\"8/6/2017\",\"8/13/2017\",\"8/20/2017\",\"8/27/2017\",\"9/3/2017\",\"9/10/2017\",\"9/17/2017\",\"9/24/2017\",\"10/1/2017\",\"10/8/2017\",\"10/15/2017\",\"10/22/2017\",\"10/29/2017\",\"11/5/2017\",\"11/12/2017\",\"11/19/2017\",\"11/26/2017\",\"12/3/2017\",\"12/10/2017\",\"12/17/2017\",\"12/24/2017\",\"12/31/2017\",\"1/7/2018\",\"1/14/2018\",\"1/21/2018\",\"1/28/2018\",\"2/4/2018\",\"2/11/2018\",\"2/18/2018\",\"2/25/2018\",\"3/4/2018\",\"3/11/2018\",\"3/18/2018\",\"3/25/2018\",\"4/1/2018\",\"4/8/2018\",\"4/15/2018\",\"4/22/2018\",\"4/29/2018\",\"5/6/2018\",\"5/13/2018\",\"5/20/2018\",\"5/27/2018\",\"6/3/2018\",\"6/10/2018\",\"6/17/2018\",\"6/24/2018\",\"7/1/2018\",\"7/8/2018\",\"7/15/2018\",\"7/22/2018\",\"7/29/2018\",\"8/5/2018\",\"8/12/2018\",\"8/19/2018\",\"8/26/2018\",\"9/2/2018\",\"9/9/2018\",\"9/16/2018\",\"9/23/2018\",\"9/30/2018\",\"10/7/2018\",\"10/14/2018\",\"10/21/2018\",\"10/28/2018\",\"11/4/2018\",\"11/11/2018\",\"11/18/2018\",\"11/25/2018\",\"12/2/2018\",\"12/9/2018\",\"12/16/2018\",\"12/23/2018\",\"12/30/2018\",\"1/6/2019\",\"1/13/2019\",\"1/20/2019\",\"1/27/2019\",\"2/3/2019\",\"2/10/2019\",\"2/17/2019\",\"2/24/2019\",\"3/3/2019\",\"3/10/2019\",\"3/17/2019\",\"3/24/2019\",\"3/31/2019\",\"4/7/2019\",\"4/14/2019\",\"4/21/2019\",\"4/28/2019\",\"5/5/2019\",\"5/12/2019\",\"5/19/2019\",\"5/26/2019\",\"6/2/2019\",\"6/9/2019\",\"6/16/2019\",\"6/23/2019\",\"6/30/2019\",\"7/7/2019\",\"7/14/2019\",\"7/21/2019\",\"7/28/2019\",\"8/4/2019\",\"8/11/2019\",\"8/18/2019\",\"8/25/2019\",\"9/1/2019\",\"9/8/2019\",\"9/15/2019\",\"9/22/2019\",\"9/29/2019\",\"10/6/2019\",\"10/13/2019\",\"10/20/2019\",\"10/27/2019\",\"11/3/2019\",\"11/10/2019\",\"11/17/2019\",\"11/24/2019\",\"12/1/2019\",\"12/8/2019\",\"12/15/2019\",\"12/22/2019\",\"12/29/2019\",\"1/5/2020\",\"1/12/2020\",\"1/19/2020\",\"1/26/2020\",\"2/2/2020\",\"2/9/2020\",\"2/16/2020\",\"2/23/2020\",\"3/1/2020\",\"3/8/2020\",\"3/15/2020\",\"3/22/2020\",\"3/29/2020\",\"4/5/2020\",\"4/12/2020\",\"4/19/2020\",\"4/26/2020\",\"5/3/2020\",\"5/10/2020\",\"5/17/2020\",\"5/24/2020\",\"5/31/2020\",\"6/7/2020\",\"6/14/2020\",\"6/21/2020\",\"6/28/2020\",\"7/5/2020\",\"7/12/2020\",\"7/19/2020\",\"7/26/2020\",\"8/2/2020\",\"8/9/2020\",\"8/16/2020\",\"8/23/2020\",\"8/30/2020\",\"9/6/2020\",\"9/13/2020\",\"9/20/2020\",\"9/27/2020\",\"10/4/2020\",\"10/11/2020\",\"10/18/2020\",\"10/25/2020\",\"11/1/2020\",\"11/8/2020\",\"11/15/2020\",\"11/22/2020\",\"11/29/2020\",\"12/6/2020\",\"12/13/2020\",\"12/20/2020\",\"12/27/2020\",\"1/3/2021\",\"1/10/2021\",\"1/17/2021\",\"1/24/2021\",\"1/31/2021\",\"2/7/2021\",\"2/14/2021\",\"2/21/2021\",\"2/28/2021\",\"3/7/2021\",\"3/14/2021\",\"3/21/2021\",\"3/28/2021\",\"4/4/2021\",\"4/11/2021\",\"4/18/2021\",\"4/25/2021\",\"5/2/2021\",\"5/9/2021\",\"5/16/2021\",\"5/23/2021\",\"5/30/2021\",\"6/6/2021\",\"6/13/2021\",\"6/20/2021\",\"6/27/2021\",\"7/4/2021\",\"7/11/2021\",\"7/18/2021\",\"7/25/2021\",\"8/1/2021\",\"8/8/2021\",\"8/15/2021\",\"8/22/2021\",\"8/29/2021\",\"9/5/2021\",\"9/12/2021\",\"9/19/2021\",\"9/26/2021\",\"10/3/2021\",\"10/10/2021\",\"10/17/2021\",\"10/24/2021\",\"10/31/2021\",\"11/7/2021\",\"11/14/2021\",\"11/21/2021\",\"11/28/2021\",\"12/5/2021\",\"12/12/2021\",\"12/19/2021\",\"12/26/2021\",\"1/2/2022\",\"1/9/2022\",\"1/16/2022\",\"1/23/2022\"],\"title\":\"Week\",\"value\":\"2/5/2017\",\"width\":250},\"id\":\"55445\",\"type\":\"Select\"},{\"attributes\":{\"tools\":[{\"id\":\"55371\"},{\"id\":\"55388\"},{\"id\":\"55389\"},{\"id\":\"55390\"},{\"id\":\"55391\"},{\"id\":\"55392\"}]},\"id\":\"55394\",\"type\":\"Toolbar\"},{\"attributes\":{\"end\":80,\"reset_end\":80,\"reset_start\":0,\"tags\":[[[\"value\",\"value\",null]]]},\"id\":\"55370\",\"type\":\"Range1d\"},{\"attributes\":{},\"id\":\"55382\",\"type\":\"CategoricalTicker\"},{\"attributes\":{\"factors\":[[\"0\",\"Aloo_Gobi\"],[\"0\",\"Salad\"]],\"tags\":[[[\"index\",\"index\",null],[\"Variable\",\"Variable\",null]]]},\"id\":\"55369\",\"type\":\"FactorRange\"},{\"attributes\":{\"source\":{\"id\":\"55402\"}},\"id\":\"55409\",\"type\":\"CDSView\"},{\"attributes\":{},\"id\":\"55430\",\"type\":\"UnionRenderers\"},{\"attributes\":{},\"id\":\"55385\",\"type\":\"BasicTicker\"},{\"attributes\":{},\"id\":\"55416\",\"type\":\"AllLabels\"},{\"attributes\":{\"children\":[{\"id\":\"55372\"},{\"id\":\"55443\"}],\"margin\":[0,0,0,0],\"name\":\"Row124542\"},\"id\":\"55368\",\"type\":\"Row\"},{\"attributes\":{},\"id\":\"55377\",\"type\":\"CategoricalScale\"},{\"attributes\":{\"axis_label\":\"Searches Per Week\",\"coordinates\":null,\"formatter\":{\"id\":\"55415\"},\"group\":null,\"major_label_policy\":{\"id\":\"55416\"},\"ticker\":{\"id\":\"55385\"}},\"id\":\"55384\",\"type\":\"LinearAxis\"}],\"root_ids\":[\"55368\",\"55477\"]},\"title\":\"Bokeh Application\",\"version\":\"2.4.2\"}};\n",
       "    var render_items = [{\"docid\":\"0474516f-3130-4ef8-96de-51319eb97aff\",\"root_ids\":[\"55368\"],\"roots\":{\"55368\":\"d9f7fd7e-8272-45a3-b925-db9787b7ec89\"}}];\n",
       "    root.Bokeh.embed.embed_items_notebook(docs_json, render_items);\n",
       "  }\n",
       "  if (root.Bokeh !== undefined && root.Bokeh.Panel !== undefined && ( root['Plotly'] !== undefined)) {\n",
       "    embed_document(root);\n",
       "  } else {\n",
       "    var attempts = 0;\n",
       "    var timer = setInterval(function(root) {\n",
       "      if (root.Bokeh !== undefined && root.Bokeh.Panel !== undefined && (root['Plotly'] !== undefined)) {\n",
       "        clearInterval(timer);\n",
       "        embed_document(root);\n",
       "      } else if (document.readyState == \"complete\") {\n",
       "        attempts++;\n",
       "        if (attempts > 200) {\n",
       "          clearInterval(timer);\n",
       "          console.log(\"Bokeh: ERROR: Unable to run BokehJS code because BokehJS library is missing\");\n",
       "        }\n",
       "      }\n",
       "    }, 25, root)\n",
       "  }\n",
       "})(window);</script>"
      ],
      "text/plain": [
       "Row\n",
       "    [0] HoloViews(DynamicMap)\n",
       "    [1] Column\n",
       "        [0] WidgetBox\n",
       "            [0] Select(margin=(20, 20, 20, 20), name='Week', options=['2/5/2017', '2/12/2017', ...], value='2/5/2017', width=250)\n",
       "        [1] VSpacer()"
      ]
     },
     "execution_count": 399,
     "metadata": {
      "application/vnd.holoviews_exec.v0+json": {
       "id": "55368"
      }
     },
     "output_type": "execute_result"
    }
   ],
   "source": [
    "# Orlando region vegetarian\n",
    "orlando_veggie_data.hvplot.bar(\n",
    "    rot=45, \n",
    "    width=200,\n",
    "    height=500, \n",
    "    widget_location='right_top', \n",
    "    groupby='Week',\n",
    "    ylim=(0,80), \n",
    "    xlabel=\"Food/Dish\", ylabel=\"Searches Per Week\"\n",
    ")"
   ]
  },
  {
   "cell_type": "code",
   "execution_count": 401,
   "id": "08d3ca46",
   "metadata": {},
   "outputs": [],
   "source": [
    "# Joined all Orlando region \n",
    "orlando_region_one = orlando_pasta_data.join(orlando_pizza_data, on=None, how='left', lsuffix='Week', rsuffix='Week', sort=False)\n",
    "orlando_region_two = orlando_region_one.join(orlando_seafood_data, on=None, how='left', lsuffix='', rsuffix='Week', sort=False)\n",
    "orlando_region_three = orlando_region_two.join(orlando_sushi_data, on=None, how='left', lsuffix='Week', rsuffix='', sort=False)\n",
    "orlando_region_all = orlando_region_three.join(orlando_veggie_data, on=None, how='left', lsuffix='Week', rsuffix='',sort=False)\n",
    "orlando_region_all.sort_index(ascending=True) \n",
    "orlando_region_all = orlando_region_all.drop(columns=[\"WeekWeek\"])\n",
    "orlando_region_all = orlando_region_all[\n",
    "    ['Week', \n",
    "     'Alfredo_Pasta',\n",
    "     'Spaghetti_Meatballs', \n",
    "     'Pepperoni_Pizza', \n",
    "     'Supreme_Pizza', \n",
    "     'Ceviche', \n",
    "     'Salmon',\n",
    "     'Spicy_Tuna_Roll',\n",
    "     'California_Roll', \n",
    "     'Aloo_Gobi', \n",
    "     'Salad']\n",
    "]"
   ]
  },
  {
   "cell_type": "code",
   "execution_count": 402,
   "id": "24b9c84d",
   "metadata": {},
   "outputs": [
    {
     "data": {},
     "metadata": {},
     "output_type": "display_data"
    },
    {
     "data": {
      "application/vnd.holoviews_exec.v0+json": "",
      "text/html": [
       "<div id='55528'>\n",
       "\n",
       "\n",
       "\n",
       "\n",
       "\n",
       "  <div class=\"bk-root\" id=\"907fcf4c-a12e-46d3-ad24-88e3214f1beb\" data-root-id=\"55528\"></div>\n",
       "</div>\n",
       "<script type=\"application/javascript\">(function(root) {\n",
       "  function embed_document(root) {\n",
       "    var docs_json = {\"379d563d-f58b-4cd5-b0e0-b7791d0a2506\":{\"defs\":[{\"extends\":null,\"module\":null,\"name\":\"ReactiveHTML1\",\"overrides\":[],\"properties\":[]},{\"extends\":null,\"module\":null,\"name\":\"FlexBox1\",\"overrides\":[],\"properties\":[{\"default\":\"flex-start\",\"kind\":null,\"name\":\"align_content\"},{\"default\":\"flex-start\",\"kind\":null,\"name\":\"align_items\"},{\"default\":\"row\",\"kind\":null,\"name\":\"flex_direction\"},{\"default\":\"wrap\",\"kind\":null,\"name\":\"flex_wrap\"},{\"default\":\"flex-start\",\"kind\":null,\"name\":\"justify_content\"}]},{\"extends\":null,\"module\":null,\"name\":\"TemplateActions1\",\"overrides\":[],\"properties\":[{\"default\":0,\"kind\":null,\"name\":\"open_modal\"},{\"default\":0,\"kind\":null,\"name\":\"close_modal\"}]},{\"extends\":null,\"module\":null,\"name\":\"MaterialTemplateActions1\",\"overrides\":[],\"properties\":[{\"default\":0,\"kind\":null,\"name\":\"open_modal\"},{\"default\":0,\"kind\":null,\"name\":\"close_modal\"}]}],\"roots\":{\"references\":[{\"attributes\":{\"coordinates\":null,\"group\":null,\"text\":\"All food/dishes Orlando Region Searches Per Week\",\"text_color\":\"black\",\"text_font_size\":\"12pt\"},\"id\":\"55534\",\"type\":\"Title\"},{\"attributes\":{},\"id\":\"55553\",\"type\":\"ResetTool\"},{\"attributes\":{\"factors\":[[\"2/5/2017\",\"Salad\"],[\"2/5/2017\",\"Aloo_Gobi\"],[\"2/5/2017\",\"California_Roll\"],[\"2/5/2017\",\"Spicy_Tuna_Roll\"],[\"2/5/2017\",\"Salmon\"],[\"2/5/2017\",\"Ceviche\"],[\"2/5/2017\",\"Supreme_Pizza\"],[\"2/5/2017\",\"Pepperoni_Pizza\"],[\"2/5/2017\",\"Spaghetti_Meatballs\"],[\"2/5/2017\",\"Alfredo_Pasta\"]],\"tags\":[[[\"Week\",\"Week\",null],[\"Variable\",\"Variable\",null]]]},\"id\":\"55530\",\"type\":\"FactorRange\"},{\"attributes\":{\"axis_label\":\"Week, Variable\",\"coordinates\":null,\"formatter\":{\"id\":\"55573\"},\"group\":null,\"major_label_orientation\":1.5707963267948966,\"major_label_policy\":{\"id\":\"55574\"},\"ticker\":{\"id\":\"55543\"}},\"id\":\"55542\",\"type\":\"CategoricalAxis\"},{\"attributes\":{},\"id\":\"55538\",\"type\":\"CategoricalScale\"},{\"attributes\":{\"axis\":{\"id\":\"55542\"},\"coordinates\":null,\"group\":null,\"ticker\":{\"id\":\"55543\"}},\"id\":\"55544\",\"type\":\"Grid\"},{\"attributes\":{\"factors\":[\"Alfredo_Pasta\",\"Spaghetti_Meatballs\",\"Pepperoni_Pizza\",\"Supreme_Pizza\",\"Ceviche\",\"Salmon\",\"Spicy_Tuna_Roll\",\"California_Roll\",\"Aloo_Gobi\",\"Salad\"],\"palette\":[\"#30a2da\",\"#fc4f30\",\"#e5ae38\",\"#6d904f\",\"#8b8b8b\",\"#17becf\",\"#9467bd\",\"#d62728\",\"#1f77b4\",\"#e377c2\"]},\"id\":\"55562\",\"type\":\"CategoricalColorMapper\"},{\"attributes\":{\"children\":[{\"id\":\"55610\"},{\"id\":\"55611\"},{\"id\":\"55613\"}],\"margin\":[0,0,0,0],\"name\":\"Column124834\"},\"id\":\"55609\",\"type\":\"Column\"},{\"attributes\":{},\"id\":\"55576\",\"type\":\"BasicTickFormatter\"},{\"attributes\":{\"source\":{\"id\":\"55563\"}},\"id\":\"55570\",\"type\":\"CDSView\"},{\"attributes\":{},\"id\":\"55540\",\"type\":\"LinearScale\"},{\"attributes\":{\"tools\":[{\"id\":\"55532\"},{\"id\":\"55549\"},{\"id\":\"55550\"},{\"id\":\"55551\"},{\"id\":\"55552\"},{\"id\":\"55553\"}]},\"id\":\"55555\",\"type\":\"Toolbar\"},{\"attributes\":{\"client_comm_id\":\"eb923a74ecdf4d6b9cde27b17059b052\",\"comm_id\":\"006e4777637045a18dd062c9f113bc9f\",\"plot_id\":\"55528\"},\"id\":\"55644\",\"type\":\"panel.models.comm_manager.CommManager\"},{\"attributes\":{\"margin\":[5,5,5,5],\"name\":\"HSpacer124835\",\"sizing_mode\":\"stretch_width\"},\"id\":\"55529\",\"type\":\"Spacer\"},{\"attributes\":{},\"id\":\"55546\",\"type\":\"BasicTicker\"},{\"attributes\":{},\"id\":\"55543\",\"type\":\"CategoricalTicker\"},{\"attributes\":{\"fill_color\":{\"field\":\"Variable\",\"transform\":{\"id\":\"55562\"}},\"hatch_color\":{\"field\":\"Variable\",\"transform\":{\"id\":\"55562\"}},\"top\":{\"field\":\"value\"},\"width\":{\"value\":0.8},\"x\":{\"field\":\"xoffsets\"}},\"id\":\"55566\",\"type\":\"VBar\"},{\"attributes\":{\"callback\":null,\"renderers\":[{\"id\":\"55569\"}],\"tags\":[\"hv_created\"],\"tooltips\":[[\"Week\",\"@{Week}\"],[\"Variable\",\"@{Variable}\"],[\"value\",\"@{value}\"]]},\"id\":\"55532\",\"type\":\"HoverTool\"},{\"attributes\":{\"axis_label\":\"Searches Per Week\",\"coordinates\":null,\"formatter\":{\"id\":\"55576\"},\"group\":null,\"major_label_policy\":{\"id\":\"55577\"},\"ticker\":{\"id\":\"55546\"}},\"id\":\"55545\",\"type\":\"LinearAxis\"},{\"attributes\":{\"end\":80,\"reset_end\":80,\"reset_start\":0,\"tags\":[[[\"value\",\"value\",null]]]},\"id\":\"55531\",\"type\":\"Range1d\"},{\"attributes\":{\"margin\":[5,5,5,5],\"name\":\"VSpacer124832\",\"sizing_mode\":\"stretch_height\"},\"id\":\"55610\",\"type\":\"Spacer\"},{\"attributes\":{\"margin\":[20,20,20,20],\"min_width\":250,\"options\":[\"2/5/2017\",\"2/12/2017\",\"2/19/2017\",\"2/26/2017\",\"3/5/2017\",\"3/12/2017\",\"3/19/2017\",\"3/26/2017\",\"4/2/2017\",\"4/9/2017\",\"4/16/2017\",\"4/23/2017\",\"4/30/2017\",\"5/7/2017\",\"5/14/2017\",\"5/21/2017\",\"5/28/2017\",\"6/4/2017\",\"6/11/2017\",\"6/18/2017\",\"6/25/2017\",\"7/2/2017\",\"7/9/2017\",\"7/16/2017\",\"7/23/2017\",\"7/30/2017\",\"8/6/2017\",\"8/13/2017\",\"8/20/2017\",\"8/27/2017\",\"9/3/2017\",\"9/10/2017\",\"9/17/2017\",\"9/24/2017\",\"10/1/2017\",\"10/8/2017\",\"10/15/2017\",\"10/22/2017\",\"10/29/2017\",\"11/5/2017\",\"11/12/2017\",\"11/19/2017\",\"11/26/2017\",\"12/3/2017\",\"12/10/2017\",\"12/17/2017\",\"12/24/2017\",\"12/31/2017\",\"1/7/2018\",\"1/14/2018\",\"1/21/2018\",\"1/28/2018\",\"2/4/2018\",\"2/11/2018\",\"2/18/2018\",\"2/25/2018\",\"3/4/2018\",\"3/11/2018\",\"3/18/2018\",\"3/25/2018\",\"4/1/2018\",\"4/8/2018\",\"4/15/2018\",\"4/22/2018\",\"4/29/2018\",\"5/6/2018\",\"5/13/2018\",\"5/20/2018\",\"5/27/2018\",\"6/3/2018\",\"6/10/2018\",\"6/17/2018\",\"6/24/2018\",\"7/1/2018\",\"7/8/2018\",\"7/15/2018\",\"7/22/2018\",\"7/29/2018\",\"8/5/2018\",\"8/12/2018\",\"8/19/2018\",\"8/26/2018\",\"9/2/2018\",\"9/9/2018\",\"9/16/2018\",\"9/23/2018\",\"9/30/2018\",\"10/7/2018\",\"10/14/2018\",\"10/21/2018\",\"10/28/2018\",\"11/4/2018\",\"11/11/2018\",\"11/18/2018\",\"11/25/2018\",\"12/2/2018\",\"12/9/2018\",\"12/16/2018\",\"12/23/2018\",\"12/30/2018\",\"1/6/2019\",\"1/13/2019\",\"1/20/2019\",\"1/27/2019\",\"2/3/2019\",\"2/10/2019\",\"2/17/2019\",\"2/24/2019\",\"3/3/2019\",\"3/10/2019\",\"3/17/2019\",\"3/24/2019\",\"3/31/2019\",\"4/7/2019\",\"4/14/2019\",\"4/21/2019\",\"4/28/2019\",\"5/5/2019\",\"5/12/2019\",\"5/19/2019\",\"5/26/2019\",\"6/2/2019\",\"6/9/2019\",\"6/16/2019\",\"6/23/2019\",\"6/30/2019\",\"7/7/2019\",\"7/14/2019\",\"7/21/2019\",\"7/28/2019\",\"8/4/2019\",\"8/11/2019\",\"8/18/2019\",\"8/25/2019\",\"9/1/2019\",\"9/8/2019\",\"9/15/2019\",\"9/22/2019\",\"9/29/2019\",\"10/6/2019\",\"10/13/2019\",\"10/20/2019\",\"10/27/2019\",\"11/3/2019\",\"11/10/2019\",\"11/17/2019\",\"11/24/2019\",\"12/1/2019\",\"12/8/2019\",\"12/15/2019\",\"12/22/2019\",\"12/29/2019\",\"1/5/2020\",\"1/12/2020\",\"1/19/2020\",\"1/26/2020\",\"2/2/2020\",\"2/9/2020\",\"2/16/2020\",\"2/23/2020\",\"3/1/2020\",\"3/8/2020\",\"3/15/2020\",\"3/22/2020\",\"3/29/2020\",\"4/5/2020\",\"4/12/2020\",\"4/19/2020\",\"4/26/2020\",\"5/3/2020\",\"5/10/2020\",\"5/17/2020\",\"5/24/2020\",\"5/31/2020\",\"6/7/2020\",\"6/14/2020\",\"6/21/2020\",\"6/28/2020\",\"7/5/2020\",\"7/12/2020\",\"7/19/2020\",\"7/26/2020\",\"8/2/2020\",\"8/9/2020\",\"8/16/2020\",\"8/23/2020\",\"8/30/2020\",\"9/6/2020\",\"9/13/2020\",\"9/20/2020\",\"9/27/2020\",\"10/4/2020\",\"10/11/2020\",\"10/18/2020\",\"10/25/2020\",\"11/1/2020\",\"11/8/2020\",\"11/15/2020\",\"11/22/2020\",\"11/29/2020\",\"12/6/2020\",\"12/13/2020\",\"12/20/2020\",\"12/27/2020\",\"1/3/2021\",\"1/10/2021\",\"1/17/2021\",\"1/24/2021\",\"1/31/2021\",\"2/7/2021\",\"2/14/2021\",\"2/21/2021\",\"2/28/2021\",\"3/7/2021\",\"3/14/2021\",\"3/21/2021\",\"3/28/2021\",\"4/4/2021\",\"4/11/2021\",\"4/18/2021\",\"4/25/2021\",\"5/2/2021\",\"5/9/2021\",\"5/16/2021\",\"5/23/2021\",\"5/30/2021\",\"6/6/2021\",\"6/13/2021\",\"6/20/2021\",\"6/27/2021\",\"7/4/2021\",\"7/11/2021\",\"7/18/2021\",\"7/25/2021\",\"8/1/2021\",\"8/8/2021\",\"8/15/2021\",\"8/22/2021\",\"8/29/2021\",\"9/5/2021\",\"9/12/2021\",\"9/19/2021\",\"9/26/2021\",\"10/3/2021\",\"10/10/2021\",\"10/17/2021\",\"10/24/2021\",\"10/31/2021\",\"11/7/2021\",\"11/14/2021\",\"11/21/2021\",\"11/28/2021\",\"12/5/2021\",\"12/12/2021\",\"12/19/2021\",\"12/26/2021\",\"1/2/2022\",\"1/9/2022\",\"1/16/2022\",\"1/23/2022\"],\"title\":\"Week\",\"value\":\"2/5/2017\",\"width\":250},\"id\":\"55612\",\"type\":\"Select\"},{\"attributes\":{\"axis\":{\"id\":\"55545\"},\"coordinates\":null,\"dimension\":1,\"group\":null,\"ticker\":{\"id\":\"55546\"}},\"id\":\"55548\",\"type\":\"Grid\"},{\"attributes\":{\"bottom\":{\"value\":0},\"fill_alpha\":{\"value\":1.0},\"fill_color\":{\"field\":\"Variable\",\"transform\":{\"id\":\"55562\"}},\"hatch_alpha\":{\"value\":1.0},\"hatch_color\":{\"field\":\"Variable\",\"transform\":{\"id\":\"55562\"}},\"hatch_scale\":{\"value\":12.0},\"hatch_weight\":{\"value\":1.0},\"line_alpha\":{\"value\":1.0},\"line_cap\":{\"value\":\"butt\"},\"line_color\":{\"value\":\"black\"},\"line_dash\":{\"value\":[]},\"line_dash_offset\":{\"value\":0},\"line_join\":{\"value\":\"bevel\"},\"line_width\":{\"value\":1},\"top\":{\"field\":\"value\"},\"width\":{\"value\":0.8},\"x\":{\"field\":\"xoffsets\"}},\"id\":\"55571\",\"type\":\"VBar\"},{\"attributes\":{\"children\":[{\"id\":\"55612\"}],\"css_classes\":[\"panel-widget-box\"],\"margin\":[5,5,5,5],\"name\":\"WidgetBox124827\"},\"id\":\"55611\",\"type\":\"Column\"},{\"attributes\":{\"below\":[{\"id\":\"55542\"}],\"center\":[{\"id\":\"55544\"},{\"id\":\"55548\"}],\"height\":800,\"left\":[{\"id\":\"55545\"}],\"margin\":[5,5,5,5],\"min_border_bottom\":10,\"min_border_left\":10,\"min_border_right\":10,\"min_border_top\":10,\"renderers\":[{\"id\":\"55569\"}],\"sizing_mode\":\"fixed\",\"title\":{\"id\":\"55534\"},\"toolbar\":{\"id\":\"55555\"},\"width\":700,\"x_range\":{\"id\":\"55530\"},\"x_scale\":{\"id\":\"55538\"},\"y_range\":{\"id\":\"55531\"},\"y_scale\":{\"id\":\"55540\"}},\"id\":\"55533\",\"subtype\":\"Figure\",\"type\":\"Plot\"},{\"attributes\":{\"children\":[{\"id\":\"55529\"},{\"id\":\"55533\"},{\"id\":\"55608\"},{\"id\":\"55609\"}],\"margin\":[0,0,0,0],\"name\":\"Row124826\"},\"id\":\"55528\",\"type\":\"Row\"},{\"attributes\":{},\"id\":\"55573\",\"type\":\"CategoricalTickFormatter\"},{\"attributes\":{\"fill_alpha\":{\"value\":0.1},\"fill_color\":{\"field\":\"Variable\",\"transform\":{\"id\":\"55562\"}},\"hatch_alpha\":{\"value\":0.1},\"hatch_color\":{\"field\":\"Variable\",\"transform\":{\"id\":\"55562\"}},\"line_alpha\":{\"value\":0.1},\"top\":{\"field\":\"value\"},\"width\":{\"value\":0.8},\"x\":{\"field\":\"xoffsets\"}},\"id\":\"55567\",\"type\":\"VBar\"},{\"attributes\":{},\"id\":\"55595\",\"type\":\"UnionRenderers\"},{\"attributes\":{\"bottom_units\":\"screen\",\"coordinates\":null,\"fill_alpha\":0.5,\"fill_color\":\"lightgrey\",\"group\":null,\"left_units\":\"screen\",\"level\":\"overlay\",\"line_alpha\":1.0,\"line_color\":\"black\",\"line_dash\":[4,4],\"line_width\":2,\"right_units\":\"screen\",\"syncable\":false,\"top_units\":\"screen\"},\"id\":\"55554\",\"type\":\"BoxAnnotation\"},{\"attributes\":{},\"id\":\"55549\",\"type\":\"SaveTool\"},{\"attributes\":{\"data\":{\"Variable\":[\"Alfredo_Pasta\",\"Spaghetti_Meatballs\",\"Pepperoni_Pizza\",\"Supreme_Pizza\",\"Ceviche\",\"Salmon\",\"Spicy_Tuna_Roll\",\"California_Roll\",\"Aloo_Gobi\",\"Salad\"],\"Week\":[\"2/5/2017\",\"2/5/2017\",\"2/5/2017\",\"2/5/2017\",\"2/5/2017\",\"2/5/2017\",\"2/5/2017\",\"2/5/2017\",\"2/5/2017\",\"2/5/2017\"],\"value\":[18,18,22,15,10,42,15,15,15,44],\"xoffsets\":[[\"2/5/2017\",\"Alfredo_Pasta\"],[\"2/5/2017\",\"Spaghetti_Meatballs\"],[\"2/5/2017\",\"Pepperoni_Pizza\"],[\"2/5/2017\",\"Supreme_Pizza\"],[\"2/5/2017\",\"Ceviche\"],[\"2/5/2017\",\"Salmon\"],[\"2/5/2017\",\"Spicy_Tuna_Roll\"],[\"2/5/2017\",\"California_Roll\"],[\"2/5/2017\",\"Aloo_Gobi\"],[\"2/5/2017\",\"Salad\"]]},\"selected\":{\"id\":\"55564\"},\"selection_policy\":{\"id\":\"55595\"}},\"id\":\"55563\",\"type\":\"ColumnDataSource\"},{\"attributes\":{},\"id\":\"55550\",\"type\":\"PanTool\"},{\"attributes\":{},\"id\":\"55574\",\"type\":\"AllLabels\"},{\"attributes\":{\"margin\":[5,5,5,5],\"name\":\"HSpacer124836\",\"sizing_mode\":\"stretch_width\"},\"id\":\"55608\",\"type\":\"Spacer\"},{\"attributes\":{\"margin\":[5,5,5,5],\"name\":\"VSpacer124833\",\"sizing_mode\":\"stretch_height\"},\"id\":\"55613\",\"type\":\"Spacer\"},{\"attributes\":{\"fill_alpha\":{\"value\":0.2},\"fill_color\":{\"field\":\"Variable\",\"transform\":{\"id\":\"55562\"}},\"hatch_alpha\":{\"value\":0.2},\"hatch_color\":{\"field\":\"Variable\",\"transform\":{\"id\":\"55562\"}},\"line_alpha\":{\"value\":0.2},\"top\":{\"field\":\"value\"},\"width\":{\"value\":0.8},\"x\":{\"field\":\"xoffsets\"}},\"id\":\"55568\",\"type\":\"VBar\"},{\"attributes\":{},\"id\":\"55551\",\"type\":\"WheelZoomTool\"},{\"attributes\":{},\"id\":\"55577\",\"type\":\"AllLabels\"},{\"attributes\":{},\"id\":\"55564\",\"type\":\"Selection\"},{\"attributes\":{\"overlay\":{\"id\":\"55554\"}},\"id\":\"55552\",\"type\":\"BoxZoomTool\"},{\"attributes\":{\"coordinates\":null,\"data_source\":{\"id\":\"55563\"},\"glyph\":{\"id\":\"55566\"},\"group\":null,\"hover_glyph\":null,\"muted_glyph\":{\"id\":\"55568\"},\"nonselection_glyph\":{\"id\":\"55567\"},\"selection_glyph\":{\"id\":\"55571\"},\"view\":{\"id\":\"55570\"}},\"id\":\"55569\",\"type\":\"GlyphRenderer\"}],\"root_ids\":[\"55528\",\"55644\"]},\"title\":\"Bokeh Application\",\"version\":\"2.4.2\"}};\n",
       "    var render_items = [{\"docid\":\"379d563d-f58b-4cd5-b0e0-b7791d0a2506\",\"root_ids\":[\"55528\"],\"roots\":{\"55528\":\"907fcf4c-a12e-46d3-ad24-88e3214f1beb\"}}];\n",
       "    root.Bokeh.embed.embed_items_notebook(docs_json, render_items);\n",
       "  }\n",
       "  if (root.Bokeh !== undefined && root.Bokeh.Panel !== undefined && ( root['Plotly'] !== undefined)) {\n",
       "    embed_document(root);\n",
       "  } else {\n",
       "    var attempts = 0;\n",
       "    var timer = setInterval(function(root) {\n",
       "      if (root.Bokeh !== undefined && root.Bokeh.Panel !== undefined && (root['Plotly'] !== undefined)) {\n",
       "        clearInterval(timer);\n",
       "        embed_document(root);\n",
       "      } else if (document.readyState == \"complete\") {\n",
       "        attempts++;\n",
       "        if (attempts > 200) {\n",
       "          clearInterval(timer);\n",
       "          console.log(\"Bokeh: ERROR: Unable to run BokehJS code because BokehJS library is missing\");\n",
       "        }\n",
       "      }\n",
       "    }, 25, root)\n",
       "  }\n",
       "})(window);</script>"
      ],
      "text/plain": [
       ":DynamicMap   [Week]\n",
       "   :Bars   [Week,Variable]   (value)"
      ]
     },
     "execution_count": 402,
     "metadata": {
      "application/vnd.holoviews_exec.v0+json": {
       "id": "55528"
      }
     },
     "output_type": "execute_result"
    }
   ],
   "source": [
    "# All Orlando region searches per Week interactive plot with a widget grouped by Week\n",
    "orlando_region_all.hvplot.bar(\n",
    "    width=700,\n",
    "    height=800,\n",
    "    groupby=\"Week\",\n",
    "    x=\"Week\",\n",
    "    ylabel=\"Searches Per Week\", \n",
    "    grid=True, \n",
    "    rot=90,\n",
    "    ylim=(0,80), \n",
    "    title=\"All food/dishes Orlando Region Searches Per Week\", \n",
    "    \n",
    ")"
   ]
  },
  {
   "cell_type": "code",
   "execution_count": 404,
   "id": "420b83e2",
   "metadata": {},
   "outputs": [
    {
     "data": {},
     "metadata": {},
     "output_type": "display_data"
    },
    {
     "data": {},
     "metadata": {},
     "output_type": "display_data"
    },
    {
     "data": {
      "application/vnd.holoviews_exec.v0+json": "",
      "text/html": [
       "<div id='55695'>\n",
       "\n",
       "\n",
       "\n",
       "\n",
       "\n",
       "  <div class=\"bk-root\" id=\"e6f29d45-23ea-4479-ae55-eb4cf512e6c1\" data-root-id=\"55695\"></div>\n",
       "</div>\n",
       "<script type=\"application/javascript\">(function(root) {\n",
       "  function embed_document(root) {\n",
       "    var docs_json = {\"5a3e8816-cb69-4c00-b23c-b2bdc7802e2b\":{\"defs\":[{\"extends\":null,\"module\":null,\"name\":\"ReactiveHTML1\",\"overrides\":[],\"properties\":[]},{\"extends\":null,\"module\":null,\"name\":\"FlexBox1\",\"overrides\":[],\"properties\":[{\"default\":\"flex-start\",\"kind\":null,\"name\":\"align_content\"},{\"default\":\"flex-start\",\"kind\":null,\"name\":\"align_items\"},{\"default\":\"row\",\"kind\":null,\"name\":\"flex_direction\"},{\"default\":\"wrap\",\"kind\":null,\"name\":\"flex_wrap\"},{\"default\":\"flex-start\",\"kind\":null,\"name\":\"justify_content\"}]},{\"extends\":null,\"module\":null,\"name\":\"TemplateActions1\",\"overrides\":[],\"properties\":[{\"default\":0,\"kind\":null,\"name\":\"open_modal\"},{\"default\":0,\"kind\":null,\"name\":\"close_modal\"}]},{\"extends\":null,\"module\":null,\"name\":\"MaterialTemplateActions1\",\"overrides\":[],\"properties\":[{\"default\":0,\"kind\":null,\"name\":\"open_modal\"},{\"default\":0,\"kind\":null,\"name\":\"close_modal\"}]}],\"roots\":{\"references\":[{\"attributes\":{\"overlay\":{\"id\":\"55720\"}},\"id\":\"55718\",\"type\":\"BoxZoomTool\"},{\"attributes\":{\"factors\":[\"Alfredo_Pasta\",\"Spaghetti_Meatballs\"],\"palette\":[\"#30a2da\",\"#fc4f30\"]},\"id\":\"55728\",\"type\":\"CategoricalColorMapper\"},{\"attributes\":{\"coordinates\":null,\"group\":null,\"text\":\"Week: 2/5/2017\",\"text_color\":\"black\",\"text_font_size\":\"12pt\"},\"id\":\"55700\",\"type\":\"Title\"},{\"attributes\":{\"axis_label\":\"Food/Dish\",\"coordinates\":null,\"formatter\":{\"id\":\"55739\"},\"group\":null,\"major_label_orientation\":0.7853981633974483,\"major_label_policy\":{\"id\":\"55740\"},\"ticker\":{\"id\":\"55709\"}},\"id\":\"55708\",\"type\":\"CategoricalAxis\"},{\"attributes\":{},\"id\":\"55719\",\"type\":\"ResetTool\"},{\"attributes\":{},\"id\":\"55743\",\"type\":\"AllLabels\"},{\"attributes\":{\"tools\":[{\"id\":\"55698\"},{\"id\":\"55715\"},{\"id\":\"55716\"},{\"id\":\"55717\"},{\"id\":\"55718\"},{\"id\":\"55719\"}]},\"id\":\"55721\",\"type\":\"Toolbar\"},{\"attributes\":{\"children\":[{\"id\":\"55771\"},{\"id\":\"55773\"}],\"margin\":[0,0,0,0],\"name\":\"Column125338\"},\"id\":\"55770\",\"type\":\"Column\"},{\"attributes\":{},\"id\":\"55706\",\"type\":\"LinearScale\"},{\"attributes\":{\"bottom_units\":\"screen\",\"coordinates\":null,\"fill_alpha\":0.5,\"fill_color\":\"lightgrey\",\"group\":null,\"left_units\":\"screen\",\"level\":\"overlay\",\"line_alpha\":1.0,\"line_color\":\"black\",\"line_dash\":[4,4],\"line_width\":2,\"right_units\":\"screen\",\"syncable\":false,\"top_units\":\"screen\"},\"id\":\"55720\",\"type\":\"BoxAnnotation\"},{\"attributes\":{\"end\":80,\"reset_end\":80,\"reset_start\":0,\"tags\":[[[\"value\",\"value\",null]]]},\"id\":\"55697\",\"type\":\"Range1d\"},{\"attributes\":{},\"id\":\"55709\",\"type\":\"CategoricalTicker\"},{\"attributes\":{\"children\":[{\"id\":\"55772\"}],\"css_classes\":[\"panel-widget-box\"],\"margin\":[5,5,5,5],\"name\":\"WidgetBox125332\"},\"id\":\"55771\",\"type\":\"Column\"},{\"attributes\":{\"axis\":{\"id\":\"55711\"},\"coordinates\":null,\"dimension\":1,\"grid_line_color\":null,\"group\":null,\"ticker\":null},\"id\":\"55714\",\"type\":\"Grid\"},{\"attributes\":{},\"id\":\"55712\",\"type\":\"BasicTicker\"},{\"attributes\":{\"fill_color\":{\"field\":\"Variable\",\"transform\":{\"id\":\"55728\"}},\"hatch_color\":{\"field\":\"Variable\",\"transform\":{\"id\":\"55728\"}},\"top\":{\"field\":\"value\"},\"width\":{\"value\":0.8},\"x\":{\"field\":\"xoffsets\"}},\"id\":\"55732\",\"type\":\"VBar\"},{\"attributes\":{\"axis_label\":\"Searches Per Week\",\"coordinates\":null,\"formatter\":{\"id\":\"55742\"},\"group\":null,\"major_label_policy\":{\"id\":\"55743\"},\"ticker\":{\"id\":\"55712\"}},\"id\":\"55711\",\"type\":\"LinearAxis\"},{\"attributes\":{\"fill_alpha\":{\"value\":0.2},\"fill_color\":{\"field\":\"Variable\",\"transform\":{\"id\":\"55728\"}},\"hatch_alpha\":{\"value\":0.2},\"hatch_color\":{\"field\":\"Variable\",\"transform\":{\"id\":\"55728\"}},\"line_alpha\":{\"value\":0.2},\"top\":{\"field\":\"value\"},\"width\":{\"value\":0.8},\"x\":{\"field\":\"xoffsets\"}},\"id\":\"55734\",\"type\":\"VBar\"},{\"attributes\":{\"margin\":[5,5,5,5],\"name\":\"VSpacer125337\",\"sizing_mode\":\"stretch_height\"},\"id\":\"55773\",\"type\":\"Spacer\"},{\"attributes\":{\"callback\":null,\"renderers\":[{\"id\":\"55735\"}],\"tags\":[\"hv_created\"],\"tooltips\":[[\"index\",\"@{index}\"],[\"Variable\",\"@{Variable}\"],[\"value\",\"@{value}\"]]},\"id\":\"55698\",\"type\":\"HoverTool\"},{\"attributes\":{\"client_comm_id\":\"9ee314ee78a348d295321ddc24799b36\",\"comm_id\":\"3657fa0d09cb44518c16d11e4bdcde82\",\"plot_id\":\"55695\"},\"id\":\"55804\",\"type\":\"panel.models.comm_manager.CommManager\"},{\"attributes\":{\"data\":{\"Variable\":[\"Alfredo_Pasta\",\"Spaghetti_Meatballs\"],\"index\":[\"0\",\"0\"],\"value\":[15,30],\"xoffsets\":[[\"0\",\"Alfredo_Pasta\"],[\"0\",\"Spaghetti_Meatballs\"]]},\"selected\":{\"id\":\"55730\"},\"selection_policy\":{\"id\":\"55757\"}},\"id\":\"55729\",\"type\":\"ColumnDataSource\"},{\"attributes\":{\"fill_alpha\":{\"value\":0.1},\"fill_color\":{\"field\":\"Variable\",\"transform\":{\"id\":\"55728\"}},\"hatch_alpha\":{\"value\":0.1},\"hatch_color\":{\"field\":\"Variable\",\"transform\":{\"id\":\"55728\"}},\"line_alpha\":{\"value\":0.1},\"top\":{\"field\":\"value\"},\"width\":{\"value\":0.8},\"x\":{\"field\":\"xoffsets\"}},\"id\":\"55733\",\"type\":\"VBar\"},{\"attributes\":{},\"id\":\"55739\",\"type\":\"CategoricalTickFormatter\"},{\"attributes\":{},\"id\":\"55704\",\"type\":\"CategoricalScale\"},{\"attributes\":{\"bottom\":{\"value\":0},\"fill_alpha\":{\"value\":1.0},\"fill_color\":{\"field\":\"Variable\",\"transform\":{\"id\":\"55728\"}},\"hatch_alpha\":{\"value\":1.0},\"hatch_color\":{\"field\":\"Variable\",\"transform\":{\"id\":\"55728\"}},\"hatch_scale\":{\"value\":12.0},\"hatch_weight\":{\"value\":1.0},\"line_alpha\":{\"value\":1.0},\"line_cap\":{\"value\":\"butt\"},\"line_color\":{\"value\":\"black\"},\"line_dash\":{\"value\":[]},\"line_dash_offset\":{\"value\":0},\"line_join\":{\"value\":\"bevel\"},\"line_width\":{\"value\":1},\"top\":{\"field\":\"value\"},\"width\":{\"value\":0.8},\"x\":{\"field\":\"xoffsets\"}},\"id\":\"55737\",\"type\":\"VBar\"},{\"attributes\":{\"margin\":[20,20,20,20],\"min_width\":250,\"options\":[\"2/5/2017\",\"2/12/2017\",\"2/19/2017\",\"2/26/2017\",\"3/5/2017\",\"3/12/2017\",\"3/19/2017\",\"3/26/2017\",\"4/2/2017\",\"4/9/2017\",\"4/16/2017\",\"4/23/2017\",\"4/30/2017\",\"5/7/2017\",\"5/14/2017\",\"5/21/2017\",\"5/28/2017\",\"6/4/2017\",\"6/11/2017\",\"6/18/2017\",\"6/25/2017\",\"7/2/2017\",\"7/9/2017\",\"7/16/2017\",\"7/23/2017\",\"7/30/2017\",\"8/6/2017\",\"8/13/2017\",\"8/20/2017\",\"8/27/2017\",\"9/3/2017\",\"9/10/2017\",\"9/17/2017\",\"9/24/2017\",\"10/1/2017\",\"10/8/2017\",\"10/15/2017\",\"10/22/2017\",\"10/29/2017\",\"11/5/2017\",\"11/12/2017\",\"11/19/2017\",\"11/26/2017\",\"12/3/2017\",\"12/10/2017\",\"12/17/2017\",\"12/24/2017\",\"12/31/2017\",\"1/7/2018\",\"1/14/2018\",\"1/21/2018\",\"1/28/2018\",\"2/4/2018\",\"2/11/2018\",\"2/18/2018\",\"2/25/2018\",\"3/4/2018\",\"3/11/2018\",\"3/18/2018\",\"3/25/2018\",\"4/1/2018\",\"4/8/2018\",\"4/15/2018\",\"4/22/2018\",\"4/29/2018\",\"5/6/2018\",\"5/13/2018\",\"5/20/2018\",\"5/27/2018\",\"6/3/2018\",\"6/10/2018\",\"6/17/2018\",\"6/24/2018\",\"7/1/2018\",\"7/8/2018\",\"7/15/2018\",\"7/22/2018\",\"7/29/2018\",\"8/5/2018\",\"8/12/2018\",\"8/19/2018\",\"8/26/2018\",\"9/2/2018\",\"9/9/2018\",\"9/16/2018\",\"9/23/2018\",\"9/30/2018\",\"10/7/2018\",\"10/14/2018\",\"10/21/2018\",\"10/28/2018\",\"11/4/2018\",\"11/11/2018\",\"11/18/2018\",\"11/25/2018\",\"12/2/2018\",\"12/9/2018\",\"12/16/2018\",\"12/23/2018\",\"12/30/2018\",\"1/6/2019\",\"1/13/2019\",\"1/20/2019\",\"1/27/2019\",\"2/3/2019\",\"2/10/2019\",\"2/17/2019\",\"2/24/2019\",\"3/3/2019\",\"3/10/2019\",\"3/17/2019\",\"3/24/2019\",\"3/31/2019\",\"4/7/2019\",\"4/14/2019\",\"4/21/2019\",\"4/28/2019\",\"5/5/2019\",\"5/12/2019\",\"5/19/2019\",\"5/26/2019\",\"6/2/2019\",\"6/9/2019\",\"6/16/2019\",\"6/23/2019\",\"6/30/2019\",\"7/7/2019\",\"7/14/2019\",\"7/21/2019\",\"7/28/2019\",\"8/4/2019\",\"8/11/2019\",\"8/18/2019\",\"8/25/2019\",\"9/1/2019\",\"9/8/2019\",\"9/15/2019\",\"9/22/2019\",\"9/29/2019\",\"10/6/2019\",\"10/13/2019\",\"10/20/2019\",\"10/27/2019\",\"11/3/2019\",\"11/10/2019\",\"11/17/2019\",\"11/24/2019\",\"12/1/2019\",\"12/8/2019\",\"12/15/2019\",\"12/22/2019\",\"12/29/2019\",\"1/5/2020\",\"1/12/2020\",\"1/19/2020\",\"1/26/2020\",\"2/2/2020\",\"2/9/2020\",\"2/16/2020\",\"2/23/2020\",\"3/1/2020\",\"3/8/2020\",\"3/15/2020\",\"3/22/2020\",\"3/29/2020\",\"4/5/2020\",\"4/12/2020\",\"4/19/2020\",\"4/26/2020\",\"5/3/2020\",\"5/10/2020\",\"5/17/2020\",\"5/24/2020\",\"5/31/2020\",\"6/7/2020\",\"6/14/2020\",\"6/21/2020\",\"6/28/2020\",\"7/5/2020\",\"7/12/2020\",\"7/19/2020\",\"7/26/2020\",\"8/2/2020\",\"8/9/2020\",\"8/16/2020\",\"8/23/2020\",\"8/30/2020\",\"9/6/2020\",\"9/13/2020\",\"9/20/2020\",\"9/27/2020\",\"10/4/2020\",\"10/11/2020\",\"10/18/2020\",\"10/25/2020\",\"11/1/2020\",\"11/8/2020\",\"11/15/2020\",\"11/22/2020\",\"11/29/2020\",\"12/6/2020\",\"12/13/2020\",\"12/20/2020\",\"12/27/2020\",\"1/3/2021\",\"1/10/2021\",\"1/17/2021\",\"1/24/2021\",\"1/31/2021\",\"2/7/2021\",\"2/14/2021\",\"2/21/2021\",\"2/28/2021\",\"3/7/2021\",\"3/14/2021\",\"3/21/2021\",\"3/28/2021\",\"4/4/2021\",\"4/11/2021\",\"4/18/2021\",\"4/25/2021\",\"5/2/2021\",\"5/9/2021\",\"5/16/2021\",\"5/23/2021\",\"5/30/2021\",\"6/6/2021\",\"6/13/2021\",\"6/20/2021\",\"6/27/2021\",\"7/4/2021\",\"7/11/2021\",\"7/18/2021\",\"7/25/2021\",\"8/1/2021\",\"8/8/2021\",\"8/15/2021\",\"8/22/2021\",\"8/29/2021\",\"9/5/2021\",\"9/12/2021\",\"9/19/2021\",\"9/26/2021\",\"10/3/2021\",\"10/10/2021\",\"10/17/2021\",\"10/24/2021\",\"10/31/2021\",\"11/7/2021\",\"11/14/2021\",\"11/21/2021\",\"11/28/2021\",\"12/5/2021\",\"12/12/2021\",\"12/19/2021\",\"12/26/2021\",\"1/2/2022\",\"1/9/2022\",\"1/16/2022\",\"1/23/2022\"],\"title\":\"Week\",\"value\":\"2/5/2017\",\"width\":250},\"id\":\"55772\",\"type\":\"Select\"},{\"attributes\":{},\"id\":\"55742\",\"type\":\"BasicTickFormatter\"},{\"attributes\":{\"source\":{\"id\":\"55729\"}},\"id\":\"55736\",\"type\":\"CDSView\"},{\"attributes\":{\"children\":[{\"id\":\"55699\"},{\"id\":\"55770\"}],\"margin\":[0,0,0,0],\"name\":\"Row125331\"},\"id\":\"55695\",\"type\":\"Row\"},{\"attributes\":{\"axis\":{\"id\":\"55708\"},\"coordinates\":null,\"grid_line_color\":null,\"group\":null,\"ticker\":null},\"id\":\"55710\",\"type\":\"Grid\"},{\"attributes\":{},\"id\":\"55715\",\"type\":\"SaveTool\"},{\"attributes\":{\"factors\":[[\"0\",\"Alfredo_Pasta\"],[\"0\",\"Spaghetti_Meatballs\"]],\"tags\":[[[\"index\",\"index\",null],[\"Variable\",\"Variable\",null]]]},\"id\":\"55696\",\"type\":\"FactorRange\"},{\"attributes\":{},\"id\":\"55716\",\"type\":\"PanTool\"},{\"attributes\":{},\"id\":\"55740\",\"type\":\"AllLabels\"},{\"attributes\":{},\"id\":\"55730\",\"type\":\"Selection\"},{\"attributes\":{\"below\":[{\"id\":\"55708\"}],\"center\":[{\"id\":\"55710\"},{\"id\":\"55714\"}],\"height\":500,\"left\":[{\"id\":\"55711\"}],\"margin\":[5,5,5,5],\"min_border_bottom\":10,\"min_border_left\":10,\"min_border_right\":10,\"min_border_top\":10,\"renderers\":[{\"id\":\"55735\"}],\"sizing_mode\":\"fixed\",\"title\":{\"id\":\"55700\"},\"toolbar\":{\"id\":\"55721\"},\"width\":200,\"x_range\":{\"id\":\"55696\"},\"x_scale\":{\"id\":\"55704\"},\"y_range\":{\"id\":\"55697\"},\"y_scale\":{\"id\":\"55706\"}},\"id\":\"55699\",\"subtype\":\"Figure\",\"type\":\"Plot\"},{\"attributes\":{},\"id\":\"55757\",\"type\":\"UnionRenderers\"},{\"attributes\":{\"coordinates\":null,\"data_source\":{\"id\":\"55729\"},\"glyph\":{\"id\":\"55732\"},\"group\":null,\"hover_glyph\":null,\"muted_glyph\":{\"id\":\"55734\"},\"nonselection_glyph\":{\"id\":\"55733\"},\"selection_glyph\":{\"id\":\"55737\"},\"view\":{\"id\":\"55736\"}},\"id\":\"55735\",\"type\":\"GlyphRenderer\"},{\"attributes\":{},\"id\":\"55717\",\"type\":\"WheelZoomTool\"}],\"root_ids\":[\"55695\",\"55804\"]},\"title\":\"Bokeh Application\",\"version\":\"2.4.2\"}};\n",
       "    var render_items = [{\"docid\":\"5a3e8816-cb69-4c00-b23c-b2bdc7802e2b\",\"root_ids\":[\"55695\"],\"roots\":{\"55695\":\"e6f29d45-23ea-4479-ae55-eb4cf512e6c1\"}}];\n",
       "    root.Bokeh.embed.embed_items_notebook(docs_json, render_items);\n",
       "  }\n",
       "  if (root.Bokeh !== undefined && root.Bokeh.Panel !== undefined && ( root['Plotly'] !== undefined)) {\n",
       "    embed_document(root);\n",
       "  } else {\n",
       "    var attempts = 0;\n",
       "    var timer = setInterval(function(root) {\n",
       "      if (root.Bokeh !== undefined && root.Bokeh.Panel !== undefined && (root['Plotly'] !== undefined)) {\n",
       "        clearInterval(timer);\n",
       "        embed_document(root);\n",
       "      } else if (document.readyState == \"complete\") {\n",
       "        attempts++;\n",
       "        if (attempts > 200) {\n",
       "          clearInterval(timer);\n",
       "          console.log(\"Bokeh: ERROR: Unable to run BokehJS code because BokehJS library is missing\");\n",
       "        }\n",
       "      }\n",
       "    }, 25, root)\n",
       "  }\n",
       "})(window);</script>"
      ],
      "text/plain": [
       "Row\n",
       "    [0] HoloViews(DynamicMap)\n",
       "    [1] Column\n",
       "        [0] WidgetBox\n",
       "            [0] Select(margin=(20, 20, 20, 20), name='Week', options=['2/5/2017', '2/12/2017', ...], value='2/5/2017', width=250)\n",
       "        [1] VSpacer()"
      ]
     },
     "execution_count": 404,
     "metadata": {
      "application/vnd.holoviews_exec.v0+json": {
       "id": "55695"
      }
     },
     "output_type": "execute_result"
    }
   ],
   "source": [
    "# Tampa region pasta\n",
    "tampa_pasta_data.hvplot.bar(\n",
    "    rot=45, \n",
    "    width=200,\n",
    "    height=500, \n",
    "    widget_location='right_top', \n",
    "    groupby='Week',\n",
    "    ylim=(0,80), \n",
    "    xlabel=\"Food/Dish\", ylabel=\"Searches Per Week\"\n",
    ")"
   ]
  },
  {
   "cell_type": "code",
   "execution_count": 406,
   "id": "2f369011",
   "metadata": {},
   "outputs": [
    {
     "data": {},
     "metadata": {},
     "output_type": "display_data"
    },
    {
     "data": {},
     "metadata": {},
     "output_type": "display_data"
    },
    {
     "data": {
      "application/vnd.holoviews_exec.v0+json": "",
      "text/html": [
       "<div id='55856'>\n",
       "\n",
       "\n",
       "\n",
       "\n",
       "\n",
       "  <div class=\"bk-root\" id=\"aae873d6-e4f8-45bd-910b-9edf50a81c66\" data-root-id=\"55856\"></div>\n",
       "</div>\n",
       "<script type=\"application/javascript\">(function(root) {\n",
       "  function embed_document(root) {\n",
       "    var docs_json = {\"2453b391-c76e-45de-9e78-7d6468f579b8\":{\"defs\":[{\"extends\":null,\"module\":null,\"name\":\"ReactiveHTML1\",\"overrides\":[],\"properties\":[]},{\"extends\":null,\"module\":null,\"name\":\"FlexBox1\",\"overrides\":[],\"properties\":[{\"default\":\"flex-start\",\"kind\":null,\"name\":\"align_content\"},{\"default\":\"flex-start\",\"kind\":null,\"name\":\"align_items\"},{\"default\":\"row\",\"kind\":null,\"name\":\"flex_direction\"},{\"default\":\"wrap\",\"kind\":null,\"name\":\"flex_wrap\"},{\"default\":\"flex-start\",\"kind\":null,\"name\":\"justify_content\"}]},{\"extends\":null,\"module\":null,\"name\":\"TemplateActions1\",\"overrides\":[],\"properties\":[{\"default\":0,\"kind\":null,\"name\":\"open_modal\"},{\"default\":0,\"kind\":null,\"name\":\"close_modal\"}]},{\"extends\":null,\"module\":null,\"name\":\"MaterialTemplateActions1\",\"overrides\":[],\"properties\":[{\"default\":0,\"kind\":null,\"name\":\"open_modal\"},{\"default\":0,\"kind\":null,\"name\":\"close_modal\"}]}],\"roots\":{\"references\":[{\"attributes\":{\"coordinates\":null,\"data_source\":{\"id\":\"55890\"},\"glyph\":{\"id\":\"55893\"},\"group\":null,\"hover_glyph\":null,\"muted_glyph\":{\"id\":\"55895\"},\"nonselection_glyph\":{\"id\":\"55894\"},\"selection_glyph\":{\"id\":\"55898\"},\"view\":{\"id\":\"55897\"}},\"id\":\"55896\",\"type\":\"GlyphRenderer\"},{\"attributes\":{},\"id\":\"55901\",\"type\":\"AllLabels\"},{\"attributes\":{},\"id\":\"55918\",\"type\":\"UnionRenderers\"},{\"attributes\":{\"axis_label\":\"Food/Dish\",\"coordinates\":null,\"formatter\":{\"id\":\"55900\"},\"group\":null,\"major_label_orientation\":0.7853981633974483,\"major_label_policy\":{\"id\":\"55901\"},\"ticker\":{\"id\":\"55870\"}},\"id\":\"55869\",\"type\":\"CategoricalAxis\"},{\"attributes\":{\"bottom_units\":\"screen\",\"coordinates\":null,\"fill_alpha\":0.5,\"fill_color\":\"lightgrey\",\"group\":null,\"left_units\":\"screen\",\"level\":\"overlay\",\"line_alpha\":1.0,\"line_color\":\"black\",\"line_dash\":[4,4],\"line_width\":2,\"right_units\":\"screen\",\"syncable\":false,\"top_units\":\"screen\"},\"id\":\"55881\",\"type\":\"BoxAnnotation\"},{\"attributes\":{},\"id\":\"55876\",\"type\":\"SaveTool\"},{\"attributes\":{\"margin\":[20,20,20,20],\"min_width\":250,\"options\":[\"2/5/2017\",\"2/12/2017\",\"2/19/2017\",\"2/26/2017\",\"3/5/2017\",\"3/12/2017\",\"3/19/2017\",\"3/26/2017\",\"4/2/2017\",\"4/9/2017\",\"4/16/2017\",\"4/23/2017\",\"4/30/2017\",\"5/7/2017\",\"5/14/2017\",\"5/21/2017\",\"5/28/2017\",\"6/4/2017\",\"6/11/2017\",\"6/18/2017\",\"6/25/2017\",\"7/2/2017\",\"7/9/2017\",\"7/16/2017\",\"7/23/2017\",\"7/30/2017\",\"8/6/2017\",\"8/13/2017\",\"8/20/2017\",\"8/27/2017\",\"9/3/2017\",\"9/10/2017\",\"9/17/2017\",\"9/24/2017\",\"10/1/2017\",\"10/8/2017\",\"10/15/2017\",\"10/22/2017\",\"10/29/2017\",\"11/5/2017\",\"11/12/2017\",\"11/19/2017\",\"11/26/2017\",\"12/3/2017\",\"12/10/2017\",\"12/17/2017\",\"12/24/2017\",\"12/31/2017\",\"1/7/2018\",\"1/14/2018\",\"1/21/2018\",\"1/28/2018\",\"2/4/2018\",\"2/11/2018\",\"2/18/2018\",\"2/25/2018\",\"3/4/2018\",\"3/11/2018\",\"3/18/2018\",\"3/25/2018\",\"4/1/2018\",\"4/8/2018\",\"4/15/2018\",\"4/22/2018\",\"4/29/2018\",\"5/6/2018\",\"5/13/2018\",\"5/20/2018\",\"5/27/2018\",\"6/3/2018\",\"6/10/2018\",\"6/17/2018\",\"6/24/2018\",\"7/1/2018\",\"7/8/2018\",\"7/15/2018\",\"7/22/2018\",\"7/29/2018\",\"8/5/2018\",\"8/12/2018\",\"8/19/2018\",\"8/26/2018\",\"9/2/2018\",\"9/9/2018\",\"9/16/2018\",\"9/23/2018\",\"9/30/2018\",\"10/7/2018\",\"10/14/2018\",\"10/21/2018\",\"10/28/2018\",\"11/4/2018\",\"11/11/2018\",\"11/18/2018\",\"11/25/2018\",\"12/2/2018\",\"12/9/2018\",\"12/16/2018\",\"12/23/2018\",\"12/30/2018\",\"1/6/2019\",\"1/13/2019\",\"1/20/2019\",\"1/27/2019\",\"2/3/2019\",\"2/10/2019\",\"2/17/2019\",\"2/24/2019\",\"3/3/2019\",\"3/10/2019\",\"3/17/2019\",\"3/24/2019\",\"3/31/2019\",\"4/7/2019\",\"4/14/2019\",\"4/21/2019\",\"4/28/2019\",\"5/5/2019\",\"5/12/2019\",\"5/19/2019\",\"5/26/2019\",\"6/2/2019\",\"6/9/2019\",\"6/16/2019\",\"6/23/2019\",\"6/30/2019\",\"7/7/2019\",\"7/14/2019\",\"7/21/2019\",\"7/28/2019\",\"8/4/2019\",\"8/11/2019\",\"8/18/2019\",\"8/25/2019\",\"9/1/2019\",\"9/8/2019\",\"9/15/2019\",\"9/22/2019\",\"9/29/2019\",\"10/6/2019\",\"10/13/2019\",\"10/20/2019\",\"10/27/2019\",\"11/3/2019\",\"11/10/2019\",\"11/17/2019\",\"11/24/2019\",\"12/1/2019\",\"12/8/2019\",\"12/15/2019\",\"12/22/2019\",\"12/29/2019\",\"1/5/2020\",\"1/12/2020\",\"1/19/2020\",\"1/26/2020\",\"2/2/2020\",\"2/9/2020\",\"2/16/2020\",\"2/23/2020\",\"3/1/2020\",\"3/8/2020\",\"3/15/2020\",\"3/22/2020\",\"3/29/2020\",\"4/5/2020\",\"4/12/2020\",\"4/19/2020\",\"4/26/2020\",\"5/3/2020\",\"5/10/2020\",\"5/17/2020\",\"5/24/2020\",\"5/31/2020\",\"6/7/2020\",\"6/14/2020\",\"6/21/2020\",\"6/28/2020\",\"7/5/2020\",\"7/12/2020\",\"7/19/2020\",\"7/26/2020\",\"8/2/2020\",\"8/9/2020\",\"8/16/2020\",\"8/23/2020\",\"8/30/2020\",\"9/6/2020\",\"9/13/2020\",\"9/20/2020\",\"9/27/2020\",\"10/4/2020\",\"10/11/2020\",\"10/18/2020\",\"10/25/2020\",\"11/1/2020\",\"11/8/2020\",\"11/15/2020\",\"11/22/2020\",\"11/29/2020\",\"12/6/2020\",\"12/13/2020\",\"12/20/2020\",\"12/27/2020\",\"1/3/2021\",\"1/10/2021\",\"1/17/2021\",\"1/24/2021\",\"1/31/2021\",\"2/7/2021\",\"2/14/2021\",\"2/21/2021\",\"2/28/2021\",\"3/7/2021\",\"3/14/2021\",\"3/21/2021\",\"3/28/2021\",\"4/4/2021\",\"4/11/2021\",\"4/18/2021\",\"4/25/2021\",\"5/2/2021\",\"5/9/2021\",\"5/16/2021\",\"5/23/2021\",\"5/30/2021\",\"6/6/2021\",\"6/13/2021\",\"6/20/2021\",\"6/27/2021\",\"7/4/2021\",\"7/11/2021\",\"7/18/2021\",\"7/25/2021\",\"8/1/2021\",\"8/8/2021\",\"8/15/2021\",\"8/22/2021\",\"8/29/2021\",\"9/5/2021\",\"9/12/2021\",\"9/19/2021\",\"9/26/2021\",\"10/3/2021\",\"10/10/2021\",\"10/17/2021\",\"10/24/2021\",\"10/31/2021\",\"11/7/2021\",\"11/14/2021\",\"11/21/2021\",\"11/28/2021\",\"12/5/2021\",\"12/12/2021\",\"12/19/2021\",\"12/26/2021\",\"1/2/2022\",\"1/9/2022\",\"1/16/2022\",\"1/23/2022\"],\"title\":\"Week\",\"value\":\"2/5/2017\",\"width\":250},\"id\":\"55933\",\"type\":\"Select\"},{\"attributes\":{\"below\":[{\"id\":\"55869\"}],\"center\":[{\"id\":\"55871\"},{\"id\":\"55875\"}],\"height\":500,\"left\":[{\"id\":\"55872\"}],\"margin\":[5,5,5,5],\"min_border_bottom\":10,\"min_border_left\":10,\"min_border_right\":10,\"min_border_top\":10,\"renderers\":[{\"id\":\"55896\"}],\"sizing_mode\":\"fixed\",\"title\":{\"id\":\"55861\"},\"toolbar\":{\"id\":\"55882\"},\"width\":200,\"x_range\":{\"id\":\"55857\"},\"x_scale\":{\"id\":\"55865\"},\"y_range\":{\"id\":\"55858\"},\"y_scale\":{\"id\":\"55867\"}},\"id\":\"55860\",\"subtype\":\"Figure\",\"type\":\"Plot\"},{\"attributes\":{},\"id\":\"55877\",\"type\":\"PanTool\"},{\"attributes\":{},\"id\":\"55891\",\"type\":\"Selection\"},{\"attributes\":{\"bottom\":{\"value\":0},\"fill_alpha\":{\"value\":1.0},\"fill_color\":{\"field\":\"Variable\",\"transform\":{\"id\":\"55889\"}},\"hatch_alpha\":{\"value\":1.0},\"hatch_color\":{\"field\":\"Variable\",\"transform\":{\"id\":\"55889\"}},\"hatch_scale\":{\"value\":12.0},\"hatch_weight\":{\"value\":1.0},\"line_alpha\":{\"value\":1.0},\"line_cap\":{\"value\":\"butt\"},\"line_color\":{\"value\":\"black\"},\"line_dash\":{\"value\":[]},\"line_dash_offset\":{\"value\":0},\"line_join\":{\"value\":\"bevel\"},\"line_width\":{\"value\":1},\"top\":{\"field\":\"value\"},\"width\":{\"value\":0.8},\"x\":{\"field\":\"xoffsets\"}},\"id\":\"55898\",\"type\":\"VBar\"},{\"attributes\":{},\"id\":\"55880\",\"type\":\"ResetTool\"},{\"attributes\":{},\"id\":\"55878\",\"type\":\"WheelZoomTool\"},{\"attributes\":{\"client_comm_id\":\"f281733eb02b48a08ff89303b4018c02\",\"comm_id\":\"2fbaf01b2ae54aabaa71450aab5cac94\",\"plot_id\":\"55856\"},\"id\":\"55965\",\"type\":\"panel.models.comm_manager.CommManager\"},{\"attributes\":{\"fill_color\":{\"field\":\"Variable\",\"transform\":{\"id\":\"55889\"}},\"hatch_color\":{\"field\":\"Variable\",\"transform\":{\"id\":\"55889\"}},\"top\":{\"field\":\"value\"},\"width\":{\"value\":0.8},\"x\":{\"field\":\"xoffsets\"}},\"id\":\"55893\",\"type\":\"VBar\"},{\"attributes\":{\"overlay\":{\"id\":\"55881\"}},\"id\":\"55879\",\"type\":\"BoxZoomTool\"},{\"attributes\":{\"coordinates\":null,\"group\":null,\"text\":\"Week: 2/5/2017\",\"text_color\":\"black\",\"text_font_size\":\"12pt\"},\"id\":\"55861\",\"type\":\"Title\"},{\"attributes\":{\"tools\":[{\"id\":\"55859\"},{\"id\":\"55876\"},{\"id\":\"55877\"},{\"id\":\"55878\"},{\"id\":\"55879\"},{\"id\":\"55880\"}]},\"id\":\"55882\",\"type\":\"Toolbar\"},{\"attributes\":{\"axis\":{\"id\":\"55869\"},\"coordinates\":null,\"grid_line_color\":null,\"group\":null,\"ticker\":null},\"id\":\"55871\",\"type\":\"Grid\"},{\"attributes\":{\"margin\":[5,5,5,5],\"name\":\"VSpacer125727\",\"sizing_mode\":\"stretch_height\"},\"id\":\"55934\",\"type\":\"Spacer\"},{\"attributes\":{\"data\":{\"Variable\":[\"Pepperoni_Pizza\",\"Supreme_Pizza\"],\"index\":[\"0\",\"0\"],\"value\":[33,15],\"xoffsets\":[[\"0\",\"Pepperoni_Pizza\"],[\"0\",\"Supreme_Pizza\"]]},\"selected\":{\"id\":\"55891\"},\"selection_policy\":{\"id\":\"55918\"}},\"id\":\"55890\",\"type\":\"ColumnDataSource\"},{\"attributes\":{\"fill_alpha\":{\"value\":0.2},\"fill_color\":{\"field\":\"Variable\",\"transform\":{\"id\":\"55889\"}},\"hatch_alpha\":{\"value\":0.2},\"hatch_color\":{\"field\":\"Variable\",\"transform\":{\"id\":\"55889\"}},\"line_alpha\":{\"value\":0.2},\"top\":{\"field\":\"value\"},\"width\":{\"value\":0.8},\"x\":{\"field\":\"xoffsets\"}},\"id\":\"55895\",\"type\":\"VBar\"},{\"attributes\":{\"factors\":[\"Pepperoni_Pizza\",\"Supreme_Pizza\"],\"palette\":[\"#30a2da\",\"#fc4f30\"]},\"id\":\"55889\",\"type\":\"CategoricalColorMapper\"},{\"attributes\":{},\"id\":\"55867\",\"type\":\"LinearScale\"},{\"attributes\":{\"children\":[{\"id\":\"55933\"}],\"css_classes\":[\"panel-widget-box\"],\"margin\":[5,5,5,5],\"name\":\"WidgetBox125722\"},\"id\":\"55932\",\"type\":\"Column\"},{\"attributes\":{},\"id\":\"55904\",\"type\":\"AllLabels\"},{\"attributes\":{\"end\":80,\"reset_end\":80,\"reset_start\":0,\"tags\":[[[\"value\",\"value\",null]]]},\"id\":\"55858\",\"type\":\"Range1d\"},{\"attributes\":{},\"id\":\"55870\",\"type\":\"CategoricalTicker\"},{\"attributes\":{\"factors\":[[\"0\",\"Pepperoni_Pizza\"],[\"0\",\"Supreme_Pizza\"]],\"tags\":[[[\"index\",\"index\",null],[\"Variable\",\"Variable\",null]]]},\"id\":\"55857\",\"type\":\"FactorRange\"},{\"attributes\":{\"children\":[{\"id\":\"55932\"},{\"id\":\"55934\"}],\"margin\":[0,0,0,0],\"name\":\"Column125728\"},\"id\":\"55931\",\"type\":\"Column\"},{\"attributes\":{\"axis\":{\"id\":\"55872\"},\"coordinates\":null,\"dimension\":1,\"grid_line_color\":null,\"group\":null,\"ticker\":null},\"id\":\"55875\",\"type\":\"Grid\"},{\"attributes\":{\"fill_alpha\":{\"value\":0.1},\"fill_color\":{\"field\":\"Variable\",\"transform\":{\"id\":\"55889\"}},\"hatch_alpha\":{\"value\":0.1},\"hatch_color\":{\"field\":\"Variable\",\"transform\":{\"id\":\"55889\"}},\"line_alpha\":{\"value\":0.1},\"top\":{\"field\":\"value\"},\"width\":{\"value\":0.8},\"x\":{\"field\":\"xoffsets\"}},\"id\":\"55894\",\"type\":\"VBar\"},{\"attributes\":{},\"id\":\"55873\",\"type\":\"BasicTicker\"},{\"attributes\":{\"axis_label\":\"Searches Per Week\",\"coordinates\":null,\"formatter\":{\"id\":\"55903\"},\"group\":null,\"major_label_policy\":{\"id\":\"55904\"},\"ticker\":{\"id\":\"55873\"}},\"id\":\"55872\",\"type\":\"LinearAxis\"},{\"attributes\":{\"children\":[{\"id\":\"55860\"},{\"id\":\"55931\"}],\"margin\":[0,0,0,0],\"name\":\"Row125721\"},\"id\":\"55856\",\"type\":\"Row\"},{\"attributes\":{\"source\":{\"id\":\"55890\"}},\"id\":\"55897\",\"type\":\"CDSView\"},{\"attributes\":{\"callback\":null,\"renderers\":[{\"id\":\"55896\"}],\"tags\":[\"hv_created\"],\"tooltips\":[[\"index\",\"@{index}\"],[\"Variable\",\"@{Variable}\"],[\"value\",\"@{value}\"]]},\"id\":\"55859\",\"type\":\"HoverTool\"},{\"attributes\":{},\"id\":\"55903\",\"type\":\"BasicTickFormatter\"},{\"attributes\":{},\"id\":\"55865\",\"type\":\"CategoricalScale\"},{\"attributes\":{},\"id\":\"55900\",\"type\":\"CategoricalTickFormatter\"}],\"root_ids\":[\"55856\",\"55965\"]},\"title\":\"Bokeh Application\",\"version\":\"2.4.2\"}};\n",
       "    var render_items = [{\"docid\":\"2453b391-c76e-45de-9e78-7d6468f579b8\",\"root_ids\":[\"55856\"],\"roots\":{\"55856\":\"aae873d6-e4f8-45bd-910b-9edf50a81c66\"}}];\n",
       "    root.Bokeh.embed.embed_items_notebook(docs_json, render_items);\n",
       "  }\n",
       "  if (root.Bokeh !== undefined && root.Bokeh.Panel !== undefined && ( root['Plotly'] !== undefined)) {\n",
       "    embed_document(root);\n",
       "  } else {\n",
       "    var attempts = 0;\n",
       "    var timer = setInterval(function(root) {\n",
       "      if (root.Bokeh !== undefined && root.Bokeh.Panel !== undefined && (root['Plotly'] !== undefined)) {\n",
       "        clearInterval(timer);\n",
       "        embed_document(root);\n",
       "      } else if (document.readyState == \"complete\") {\n",
       "        attempts++;\n",
       "        if (attempts > 200) {\n",
       "          clearInterval(timer);\n",
       "          console.log(\"Bokeh: ERROR: Unable to run BokehJS code because BokehJS library is missing\");\n",
       "        }\n",
       "      }\n",
       "    }, 25, root)\n",
       "  }\n",
       "})(window);</script>"
      ],
      "text/plain": [
       "Row\n",
       "    [0] HoloViews(DynamicMap)\n",
       "    [1] Column\n",
       "        [0] WidgetBox\n",
       "            [0] Select(margin=(20, 20, 20, 20), name='Week', options=['2/5/2017', '2/12/2017', ...], value='2/5/2017', width=250)\n",
       "        [1] VSpacer()"
      ]
     },
     "execution_count": 406,
     "metadata": {
      "application/vnd.holoviews_exec.v0+json": {
       "id": "55856"
      }
     },
     "output_type": "execute_result"
    }
   ],
   "source": [
    "# Tampa region pizza\n",
    "tampa_pizza_data.hvplot.bar(\n",
    "    rot=45, \n",
    "    width=200,\n",
    "    height=500, \n",
    "    widget_location='right_top', \n",
    "    groupby='Week',\n",
    "    ylim=(0,80), \n",
    "    xlabel=\"Food/Dish\", ylabel=\"Searches Per Week\"\n",
    ")"
   ]
  },
  {
   "cell_type": "code",
   "execution_count": 407,
   "id": "849e6989",
   "metadata": {},
   "outputs": [
    {
     "data": {},
     "metadata": {},
     "output_type": "display_data"
    },
    {
     "data": {},
     "metadata": {},
     "output_type": "display_data"
    },
    {
     "data": {
      "application/vnd.holoviews_exec.v0+json": "",
      "text/html": [
       "<div id='56016'>\n",
       "\n",
       "\n",
       "\n",
       "\n",
       "\n",
       "  <div class=\"bk-root\" id=\"c07437f7-8ae9-41e7-88bc-32964f7ee648\" data-root-id=\"56016\"></div>\n",
       "</div>\n",
       "<script type=\"application/javascript\">(function(root) {\n",
       "  function embed_document(root) {\n",
       "    var docs_json = {\"3626c73d-a63c-432a-b62e-7e171acf47bb\":{\"defs\":[{\"extends\":null,\"module\":null,\"name\":\"ReactiveHTML1\",\"overrides\":[],\"properties\":[]},{\"extends\":null,\"module\":null,\"name\":\"FlexBox1\",\"overrides\":[],\"properties\":[{\"default\":\"flex-start\",\"kind\":null,\"name\":\"align_content\"},{\"default\":\"flex-start\",\"kind\":null,\"name\":\"align_items\"},{\"default\":\"row\",\"kind\":null,\"name\":\"flex_direction\"},{\"default\":\"wrap\",\"kind\":null,\"name\":\"flex_wrap\"},{\"default\":\"flex-start\",\"kind\":null,\"name\":\"justify_content\"}]},{\"extends\":null,\"module\":null,\"name\":\"TemplateActions1\",\"overrides\":[],\"properties\":[{\"default\":0,\"kind\":null,\"name\":\"open_modal\"},{\"default\":0,\"kind\":null,\"name\":\"close_modal\"}]},{\"extends\":null,\"module\":null,\"name\":\"MaterialTemplateActions1\",\"overrides\":[],\"properties\":[{\"default\":0,\"kind\":null,\"name\":\"open_modal\"},{\"default\":0,\"kind\":null,\"name\":\"close_modal\"}]}],\"roots\":{\"references\":[{\"attributes\":{\"children\":[{\"id\":\"56092\"},{\"id\":\"56094\"}],\"margin\":[0,0,0,0],\"name\":\"Column126004\"},\"id\":\"56091\",\"type\":\"Column\"},{\"attributes\":{\"axis_label\":\"Food/Dish\",\"coordinates\":null,\"formatter\":{\"id\":\"56060\"},\"group\":null,\"major_label_orientation\":0.7853981633974483,\"major_label_policy\":{\"id\":\"56061\"},\"ticker\":{\"id\":\"56030\"}},\"id\":\"56029\",\"type\":\"CategoricalAxis\"},{\"attributes\":{\"factors\":[[\"0\",\"Ceviche\"],[\"0\",\"Salmon\"]],\"tags\":[[[\"index\",\"index\",null],[\"Variable\",\"Variable\",null]]]},\"id\":\"56017\",\"type\":\"FactorRange\"},{\"attributes\":{\"children\":[{\"id\":\"56093\"}],\"css_classes\":[\"panel-widget-box\"],\"margin\":[5,5,5,5],\"name\":\"WidgetBox125998\"},\"id\":\"56092\",\"type\":\"Column\"},{\"attributes\":{\"margin\":[5,5,5,5],\"name\":\"VSpacer126003\",\"sizing_mode\":\"stretch_height\"},\"id\":\"56094\",\"type\":\"Spacer\"},{\"attributes\":{},\"id\":\"56061\",\"type\":\"AllLabels\"},{\"attributes\":{\"axis\":{\"id\":\"56029\"},\"coordinates\":null,\"grid_line_color\":null,\"group\":null,\"ticker\":null},\"id\":\"56031\",\"type\":\"Grid\"},{\"attributes\":{\"end\":80,\"reset_end\":80,\"reset_start\":0,\"tags\":[[[\"value\",\"value\",null]]]},\"id\":\"56018\",\"type\":\"Range1d\"},{\"attributes\":{\"coordinates\":null,\"group\":null,\"text\":\"Week: 2/5/2017\",\"text_color\":\"black\",\"text_font_size\":\"12pt\"},\"id\":\"56021\",\"type\":\"Title\"},{\"attributes\":{},\"id\":\"56027\",\"type\":\"LinearScale\"},{\"attributes\":{},\"id\":\"56060\",\"type\":\"CategoricalTickFormatter\"},{\"attributes\":{\"fill_alpha\":{\"value\":0.1},\"fill_color\":{\"field\":\"Variable\",\"transform\":{\"id\":\"56049\"}},\"hatch_alpha\":{\"value\":0.1},\"hatch_color\":{\"field\":\"Variable\",\"transform\":{\"id\":\"56049\"}},\"line_alpha\":{\"value\":0.1},\"top\":{\"field\":\"value\"},\"width\":{\"value\":0.8},\"x\":{\"field\":\"xoffsets\"}},\"id\":\"56054\",\"type\":\"VBar\"},{\"attributes\":{\"fill_alpha\":{\"value\":0.2},\"fill_color\":{\"field\":\"Variable\",\"transform\":{\"id\":\"56049\"}},\"hatch_alpha\":{\"value\":0.2},\"hatch_color\":{\"field\":\"Variable\",\"transform\":{\"id\":\"56049\"}},\"line_alpha\":{\"value\":0.2},\"top\":{\"field\":\"value\"},\"width\":{\"value\":0.8},\"x\":{\"field\":\"xoffsets\"}},\"id\":\"56055\",\"type\":\"VBar\"},{\"attributes\":{},\"id\":\"56033\",\"type\":\"BasicTicker\"},{\"attributes\":{},\"id\":\"56064\",\"type\":\"AllLabels\"},{\"attributes\":{},\"id\":\"56030\",\"type\":\"CategoricalTicker\"},{\"attributes\":{\"source\":{\"id\":\"56050\"}},\"id\":\"56057\",\"type\":\"CDSView\"},{\"attributes\":{\"axis_label\":\"Searches Per Week\",\"coordinates\":null,\"formatter\":{\"id\":\"56063\"},\"group\":null,\"major_label_policy\":{\"id\":\"56064\"},\"ticker\":{\"id\":\"56033\"}},\"id\":\"56032\",\"type\":\"LinearAxis\"},{\"attributes\":{\"factors\":[\"Ceviche\",\"Salmon\"],\"palette\":[\"#30a2da\",\"#fc4f30\"]},\"id\":\"56049\",\"type\":\"CategoricalColorMapper\"},{\"attributes\":{\"axis\":{\"id\":\"56032\"},\"coordinates\":null,\"dimension\":1,\"grid_line_color\":null,\"group\":null,\"ticker\":null},\"id\":\"56035\",\"type\":\"Grid\"},{\"attributes\":{},\"id\":\"56078\",\"type\":\"UnionRenderers\"},{\"attributes\":{\"bottom_units\":\"screen\",\"coordinates\":null,\"fill_alpha\":0.5,\"fill_color\":\"lightgrey\",\"group\":null,\"left_units\":\"screen\",\"level\":\"overlay\",\"line_alpha\":1.0,\"line_color\":\"black\",\"line_dash\":[4,4],\"line_width\":2,\"right_units\":\"screen\",\"syncable\":false,\"top_units\":\"screen\"},\"id\":\"56041\",\"type\":\"BoxAnnotation\"},{\"attributes\":{\"bottom\":{\"value\":0},\"fill_alpha\":{\"value\":1.0},\"fill_color\":{\"field\":\"Variable\",\"transform\":{\"id\":\"56049\"}},\"hatch_alpha\":{\"value\":1.0},\"hatch_color\":{\"field\":\"Variable\",\"transform\":{\"id\":\"56049\"}},\"hatch_scale\":{\"value\":12.0},\"hatch_weight\":{\"value\":1.0},\"line_alpha\":{\"value\":1.0},\"line_cap\":{\"value\":\"butt\"},\"line_color\":{\"value\":\"black\"},\"line_dash\":{\"value\":[]},\"line_dash_offset\":{\"value\":0},\"line_join\":{\"value\":\"bevel\"},\"line_width\":{\"value\":1},\"top\":{\"field\":\"value\"},\"width\":{\"value\":0.8},\"x\":{\"field\":\"xoffsets\"}},\"id\":\"56058\",\"type\":\"VBar\"},{\"attributes\":{\"callback\":null,\"renderers\":[{\"id\":\"56056\"}],\"tags\":[\"hv_created\"],\"tooltips\":[[\"index\",\"@{index}\"],[\"Variable\",\"@{Variable}\"],[\"value\",\"@{value}\"]]},\"id\":\"56019\",\"type\":\"HoverTool\"},{\"attributes\":{\"children\":[{\"id\":\"56020\"},{\"id\":\"56091\"}],\"margin\":[0,0,0,0],\"name\":\"Row125997\"},\"id\":\"56016\",\"type\":\"Row\"},{\"attributes\":{\"tools\":[{\"id\":\"56019\"},{\"id\":\"56036\"},{\"id\":\"56037\"},{\"id\":\"56038\"},{\"id\":\"56039\"},{\"id\":\"56040\"}]},\"id\":\"56042\",\"type\":\"Toolbar\"},{\"attributes\":{\"fill_color\":{\"field\":\"Variable\",\"transform\":{\"id\":\"56049\"}},\"hatch_color\":{\"field\":\"Variable\",\"transform\":{\"id\":\"56049\"}},\"top\":{\"field\":\"value\"},\"width\":{\"value\":0.8},\"x\":{\"field\":\"xoffsets\"}},\"id\":\"56053\",\"type\":\"VBar\"},{\"attributes\":{\"coordinates\":null,\"data_source\":{\"id\":\"56050\"},\"glyph\":{\"id\":\"56053\"},\"group\":null,\"hover_glyph\":null,\"muted_glyph\":{\"id\":\"56055\"},\"nonselection_glyph\":{\"id\":\"56054\"},\"selection_glyph\":{\"id\":\"56058\"},\"view\":{\"id\":\"56057\"}},\"id\":\"56056\",\"type\":\"GlyphRenderer\"},{\"attributes\":{\"margin\":[20,20,20,20],\"min_width\":250,\"options\":[\"2/5/2017\",\"2/12/2017\",\"2/19/2017\",\"2/26/2017\",\"3/5/2017\",\"3/12/2017\",\"3/19/2017\",\"3/26/2017\",\"4/2/2017\",\"4/9/2017\",\"4/16/2017\",\"4/23/2017\",\"4/30/2017\",\"5/7/2017\",\"5/14/2017\",\"5/21/2017\",\"5/28/2017\",\"6/4/2017\",\"6/11/2017\",\"6/18/2017\",\"6/25/2017\",\"7/2/2017\",\"7/9/2017\",\"7/16/2017\",\"7/23/2017\",\"7/30/2017\",\"8/6/2017\",\"8/13/2017\",\"8/20/2017\",\"8/27/2017\",\"9/3/2017\",\"9/10/2017\",\"9/17/2017\",\"9/24/2017\",\"10/1/2017\",\"10/8/2017\",\"10/15/2017\",\"10/22/2017\",\"10/29/2017\",\"11/5/2017\",\"11/12/2017\",\"11/19/2017\",\"11/26/2017\",\"12/3/2017\",\"12/10/2017\",\"12/17/2017\",\"12/24/2017\",\"12/31/2017\",\"1/7/2018\",\"1/14/2018\",\"1/21/2018\",\"1/28/2018\",\"2/4/2018\",\"2/11/2018\",\"2/18/2018\",\"2/25/2018\",\"3/4/2018\",\"3/11/2018\",\"3/18/2018\",\"3/25/2018\",\"4/1/2018\",\"4/8/2018\",\"4/15/2018\",\"4/22/2018\",\"4/29/2018\",\"5/6/2018\",\"5/13/2018\",\"5/20/2018\",\"5/27/2018\",\"6/3/2018\",\"6/10/2018\",\"6/17/2018\",\"6/24/2018\",\"7/1/2018\",\"7/8/2018\",\"7/15/2018\",\"7/22/2018\",\"7/29/2018\",\"8/5/2018\",\"8/12/2018\",\"8/19/2018\",\"8/26/2018\",\"9/2/2018\",\"9/9/2018\",\"9/16/2018\",\"9/23/2018\",\"9/30/2018\",\"10/7/2018\",\"10/14/2018\",\"10/21/2018\",\"10/28/2018\",\"11/4/2018\",\"11/11/2018\",\"11/18/2018\",\"11/25/2018\",\"12/2/2018\",\"12/9/2018\",\"12/16/2018\",\"12/23/2018\",\"12/30/2018\",\"1/6/2019\",\"1/13/2019\",\"1/20/2019\",\"1/27/2019\",\"2/3/2019\",\"2/10/2019\",\"2/17/2019\",\"2/24/2019\",\"3/3/2019\",\"3/10/2019\",\"3/17/2019\",\"3/24/2019\",\"3/31/2019\",\"4/7/2019\",\"4/14/2019\",\"4/21/2019\",\"4/28/2019\",\"5/5/2019\",\"5/12/2019\",\"5/19/2019\",\"5/26/2019\",\"6/2/2019\",\"6/9/2019\",\"6/16/2019\",\"6/23/2019\",\"6/30/2019\",\"7/7/2019\",\"7/14/2019\",\"7/21/2019\",\"7/28/2019\",\"8/4/2019\",\"8/11/2019\",\"8/18/2019\",\"8/25/2019\",\"9/1/2019\",\"9/8/2019\",\"9/15/2019\",\"9/22/2019\",\"9/29/2019\",\"10/6/2019\",\"10/13/2019\",\"10/20/2019\",\"10/27/2019\",\"11/3/2019\",\"11/10/2019\",\"11/17/2019\",\"11/24/2019\",\"12/1/2019\",\"12/8/2019\",\"12/15/2019\",\"12/22/2019\",\"12/29/2019\",\"1/5/2020\",\"1/12/2020\",\"1/19/2020\",\"1/26/2020\",\"2/2/2020\",\"2/9/2020\",\"2/16/2020\",\"2/23/2020\",\"3/1/2020\",\"3/8/2020\",\"3/15/2020\",\"3/22/2020\",\"3/29/2020\",\"4/5/2020\",\"4/12/2020\",\"4/19/2020\",\"4/26/2020\",\"5/3/2020\",\"5/10/2020\",\"5/17/2020\",\"5/24/2020\",\"5/31/2020\",\"6/7/2020\",\"6/14/2020\",\"6/21/2020\",\"6/28/2020\",\"7/5/2020\",\"7/12/2020\",\"7/19/2020\",\"7/26/2020\",\"8/2/2020\",\"8/9/2020\",\"8/16/2020\",\"8/23/2020\",\"8/30/2020\",\"9/6/2020\",\"9/13/2020\",\"9/20/2020\",\"9/27/2020\",\"10/4/2020\",\"10/11/2020\",\"10/18/2020\",\"10/25/2020\",\"11/1/2020\",\"11/8/2020\",\"11/15/2020\",\"11/22/2020\",\"11/29/2020\",\"12/6/2020\",\"12/13/2020\",\"12/20/2020\",\"12/27/2020\",\"1/3/2021\",\"1/10/2021\",\"1/17/2021\",\"1/24/2021\",\"1/31/2021\",\"2/7/2021\",\"2/14/2021\",\"2/21/2021\",\"2/28/2021\",\"3/7/2021\",\"3/14/2021\",\"3/21/2021\",\"3/28/2021\",\"4/4/2021\",\"4/11/2021\",\"4/18/2021\",\"4/25/2021\",\"5/2/2021\",\"5/9/2021\",\"5/16/2021\",\"5/23/2021\",\"5/30/2021\",\"6/6/2021\",\"6/13/2021\",\"6/20/2021\",\"6/27/2021\",\"7/4/2021\",\"7/11/2021\",\"7/18/2021\",\"7/25/2021\",\"8/1/2021\",\"8/8/2021\",\"8/15/2021\",\"8/22/2021\",\"8/29/2021\",\"9/5/2021\",\"9/12/2021\",\"9/19/2021\",\"9/26/2021\",\"10/3/2021\",\"10/10/2021\",\"10/17/2021\",\"10/24/2021\",\"10/31/2021\",\"11/7/2021\",\"11/14/2021\",\"11/21/2021\",\"11/28/2021\",\"12/5/2021\",\"12/12/2021\",\"12/19/2021\",\"12/26/2021\",\"1/2/2022\",\"1/9/2022\",\"1/16/2022\",\"1/23/2022\"],\"title\":\"Week\",\"value\":\"2/5/2017\",\"width\":250},\"id\":\"56093\",\"type\":\"Select\"},{\"attributes\":{\"data\":{\"Variable\":[\"Ceviche\",\"Salmon\"],\"index\":[\"0\",\"0\"],\"value\":[15,52],\"xoffsets\":[[\"0\",\"Ceviche\"],[\"0\",\"Salmon\"]]},\"selected\":{\"id\":\"56051\"},\"selection_policy\":{\"id\":\"56078\"}},\"id\":\"56050\",\"type\":\"ColumnDataSource\"},{\"attributes\":{},\"id\":\"56036\",\"type\":\"SaveTool\"},{\"attributes\":{\"client_comm_id\":\"cdf1602318d44d41a77eab8f05fff27a\",\"comm_id\":\"652af7fb619b4f6ab3511c67980a7ed2\",\"plot_id\":\"56016\"},\"id\":\"56125\",\"type\":\"panel.models.comm_manager.CommManager\"},{\"attributes\":{},\"id\":\"56025\",\"type\":\"CategoricalScale\"},{\"attributes\":{},\"id\":\"56037\",\"type\":\"PanTool\"},{\"attributes\":{},\"id\":\"56051\",\"type\":\"Selection\"},{\"attributes\":{\"below\":[{\"id\":\"56029\"}],\"center\":[{\"id\":\"56031\"},{\"id\":\"56035\"}],\"height\":500,\"left\":[{\"id\":\"56032\"}],\"margin\":[5,5,5,5],\"min_border_bottom\":10,\"min_border_left\":10,\"min_border_right\":10,\"min_border_top\":10,\"renderers\":[{\"id\":\"56056\"}],\"sizing_mode\":\"fixed\",\"title\":{\"id\":\"56021\"},\"toolbar\":{\"id\":\"56042\"},\"width\":200,\"x_range\":{\"id\":\"56017\"},\"x_scale\":{\"id\":\"56025\"},\"y_range\":{\"id\":\"56018\"},\"y_scale\":{\"id\":\"56027\"}},\"id\":\"56020\",\"subtype\":\"Figure\",\"type\":\"Plot\"},{\"attributes\":{},\"id\":\"56040\",\"type\":\"ResetTool\"},{\"attributes\":{},\"id\":\"56038\",\"type\":\"WheelZoomTool\"},{\"attributes\":{},\"id\":\"56063\",\"type\":\"BasicTickFormatter\"},{\"attributes\":{\"overlay\":{\"id\":\"56041\"}},\"id\":\"56039\",\"type\":\"BoxZoomTool\"}],\"root_ids\":[\"56016\",\"56125\"]},\"title\":\"Bokeh Application\",\"version\":\"2.4.2\"}};\n",
       "    var render_items = [{\"docid\":\"3626c73d-a63c-432a-b62e-7e171acf47bb\",\"root_ids\":[\"56016\"],\"roots\":{\"56016\":\"c07437f7-8ae9-41e7-88bc-32964f7ee648\"}}];\n",
       "    root.Bokeh.embed.embed_items_notebook(docs_json, render_items);\n",
       "  }\n",
       "  if (root.Bokeh !== undefined && root.Bokeh.Panel !== undefined && ( root['Plotly'] !== undefined)) {\n",
       "    embed_document(root);\n",
       "  } else {\n",
       "    var attempts = 0;\n",
       "    var timer = setInterval(function(root) {\n",
       "      if (root.Bokeh !== undefined && root.Bokeh.Panel !== undefined && (root['Plotly'] !== undefined)) {\n",
       "        clearInterval(timer);\n",
       "        embed_document(root);\n",
       "      } else if (document.readyState == \"complete\") {\n",
       "        attempts++;\n",
       "        if (attempts > 200) {\n",
       "          clearInterval(timer);\n",
       "          console.log(\"Bokeh: ERROR: Unable to run BokehJS code because BokehJS library is missing\");\n",
       "        }\n",
       "      }\n",
       "    }, 25, root)\n",
       "  }\n",
       "})(window);</script>"
      ],
      "text/plain": [
       "Row\n",
       "    [0] HoloViews(DynamicMap)\n",
       "    [1] Column\n",
       "        [0] WidgetBox\n",
       "            [0] Select(margin=(20, 20, 20, 20), name='Week', options=['2/5/2017', '2/12/2017', ...], value='2/5/2017', width=250)\n",
       "        [1] VSpacer()"
      ]
     },
     "execution_count": 407,
     "metadata": {
      "application/vnd.holoviews_exec.v0+json": {
       "id": "56016"
      }
     },
     "output_type": "execute_result"
    }
   ],
   "source": [
    "# Tampa region seafood\n",
    "tampa_seafood_data.hvplot.bar(\n",
    "    rot=45, \n",
    "    width=200,\n",
    "    height=500, \n",
    "    widget_location='right_top', \n",
    "    groupby='Week',\n",
    "    ylim=(0,80), \n",
    "    xlabel=\"Food/Dish\", ylabel=\"Searches Per Week\"\n",
    ")"
   ]
  },
  {
   "cell_type": "code",
   "execution_count": 408,
   "id": "4d5f2b9f",
   "metadata": {},
   "outputs": [
    {
     "data": {},
     "metadata": {},
     "output_type": "display_data"
    },
    {
     "data": {},
     "metadata": {},
     "output_type": "display_data"
    },
    {
     "data": {
      "application/vnd.holoviews_exec.v0+json": "",
      "text/html": [
       "<div id='56176'>\n",
       "\n",
       "\n",
       "\n",
       "\n",
       "\n",
       "  <div class=\"bk-root\" id=\"e95c4412-1b3a-44fe-9a61-c397af76fe5c\" data-root-id=\"56176\"></div>\n",
       "</div>\n",
       "<script type=\"application/javascript\">(function(root) {\n",
       "  function embed_document(root) {\n",
       "    var docs_json = {\"7903dd41-e76e-4a64-8d18-9f66868b1793\":{\"defs\":[{\"extends\":null,\"module\":null,\"name\":\"ReactiveHTML1\",\"overrides\":[],\"properties\":[]},{\"extends\":null,\"module\":null,\"name\":\"FlexBox1\",\"overrides\":[],\"properties\":[{\"default\":\"flex-start\",\"kind\":null,\"name\":\"align_content\"},{\"default\":\"flex-start\",\"kind\":null,\"name\":\"align_items\"},{\"default\":\"row\",\"kind\":null,\"name\":\"flex_direction\"},{\"default\":\"wrap\",\"kind\":null,\"name\":\"flex_wrap\"},{\"default\":\"flex-start\",\"kind\":null,\"name\":\"justify_content\"}]},{\"extends\":null,\"module\":null,\"name\":\"TemplateActions1\",\"overrides\":[],\"properties\":[{\"default\":0,\"kind\":null,\"name\":\"open_modal\"},{\"default\":0,\"kind\":null,\"name\":\"close_modal\"}]},{\"extends\":null,\"module\":null,\"name\":\"MaterialTemplateActions1\",\"overrides\":[],\"properties\":[{\"default\":0,\"kind\":null,\"name\":\"open_modal\"},{\"default\":0,\"kind\":null,\"name\":\"close_modal\"}]}],\"roots\":{\"references\":[{\"attributes\":{\"children\":[{\"id\":\"56180\"},{\"id\":\"56251\"}],\"margin\":[0,0,0,0],\"name\":\"Row126273\"},\"id\":\"56176\",\"type\":\"Row\"},{\"attributes\":{},\"id\":\"56211\",\"type\":\"Selection\"},{\"attributes\":{\"factors\":[[\"0\",\"California_Roll\"],[\"0\",\"Spicy_Tuna_Roll\"]],\"tags\":[[[\"index\",\"index\",null],[\"Variable\",\"Variable\",null]]]},\"id\":\"56177\",\"type\":\"FactorRange\"},{\"attributes\":{\"axis_label\":\"Food/Dish\",\"coordinates\":null,\"formatter\":{\"id\":\"56220\"},\"group\":null,\"major_label_orientation\":0.7853981633974483,\"major_label_policy\":{\"id\":\"56221\"},\"ticker\":{\"id\":\"56190\"}},\"id\":\"56189\",\"type\":\"CategoricalAxis\"},{\"attributes\":{\"coordinates\":null,\"group\":null,\"text\":\"Week: 2/5/2017\",\"text_color\":\"black\",\"text_font_size\":\"12pt\"},\"id\":\"56181\",\"type\":\"Title\"},{\"attributes\":{\"children\":[{\"id\":\"56253\"}],\"css_classes\":[\"panel-widget-box\"],\"margin\":[5,5,5,5],\"name\":\"WidgetBox126274\"},\"id\":\"56252\",\"type\":\"Column\"},{\"attributes\":{\"factors\":[\"Spicy_Tuna_Roll\",\"California_Roll\"],\"palette\":[\"#30a2da\",\"#fc4f30\"]},\"id\":\"56209\",\"type\":\"CategoricalColorMapper\"},{\"attributes\":{\"axis\":{\"id\":\"56189\"},\"coordinates\":null,\"grid_line_color\":null,\"group\":null,\"ticker\":null},\"id\":\"56191\",\"type\":\"Grid\"},{\"attributes\":{},\"id\":\"56223\",\"type\":\"BasicTickFormatter\"},{\"attributes\":{\"margin\":[5,5,5,5],\"name\":\"VSpacer126279\",\"sizing_mode\":\"stretch_height\"},\"id\":\"56254\",\"type\":\"Spacer\"},{\"attributes\":{\"coordinates\":null,\"data_source\":{\"id\":\"56210\"},\"glyph\":{\"id\":\"56213\"},\"group\":null,\"hover_glyph\":null,\"muted_glyph\":{\"id\":\"56215\"},\"nonselection_glyph\":{\"id\":\"56214\"},\"selection_glyph\":{\"id\":\"56218\"},\"view\":{\"id\":\"56217\"}},\"id\":\"56216\",\"type\":\"GlyphRenderer\"},{\"attributes\":{\"fill_alpha\":{\"value\":0.2},\"fill_color\":{\"field\":\"Variable\",\"transform\":{\"id\":\"56209\"}},\"hatch_alpha\":{\"value\":0.2},\"hatch_color\":{\"field\":\"Variable\",\"transform\":{\"id\":\"56209\"}},\"line_alpha\":{\"value\":0.2},\"top\":{\"field\":\"value\"},\"width\":{\"value\":0.8},\"x\":{\"field\":\"xoffsets\"}},\"id\":\"56215\",\"type\":\"VBar\"},{\"attributes\":{},\"id\":\"56221\",\"type\":\"AllLabels\"},{\"attributes\":{},\"id\":\"56185\",\"type\":\"CategoricalScale\"},{\"attributes\":{},\"id\":\"56187\",\"type\":\"LinearScale\"},{\"attributes\":{\"tools\":[{\"id\":\"56179\"},{\"id\":\"56196\"},{\"id\":\"56197\"},{\"id\":\"56198\"},{\"id\":\"56199\"},{\"id\":\"56200\"}]},\"id\":\"56202\",\"type\":\"Toolbar\"},{\"attributes\":{\"end\":80,\"reset_end\":80,\"reset_start\":0,\"tags\":[[[\"value\",\"value\",null]]]},\"id\":\"56178\",\"type\":\"Range1d\"},{\"attributes\":{},\"id\":\"56193\",\"type\":\"BasicTicker\"},{\"attributes\":{},\"id\":\"56224\",\"type\":\"AllLabels\"},{\"attributes\":{\"data\":{\"Variable\":[\"Spicy_Tuna_Roll\",\"California_Roll\"],\"index\":[\"0\",\"0\"],\"value\":[15,15],\"xoffsets\":[[\"0\",\"Spicy_Tuna_Roll\"],[\"0\",\"California_Roll\"]]},\"selected\":{\"id\":\"56211\"},\"selection_policy\":{\"id\":\"56238\"}},\"id\":\"56210\",\"type\":\"ColumnDataSource\"},{\"attributes\":{},\"id\":\"56190\",\"type\":\"CategoricalTicker\"},{\"attributes\":{\"client_comm_id\":\"bf611dde30c14ff3b9044c50d17335db\",\"comm_id\":\"fa04340591074b90bd08b22f2b4ecd03\",\"plot_id\":\"56176\"},\"id\":\"56285\",\"type\":\"panel.models.comm_manager.CommManager\"},{\"attributes\":{\"axis_label\":\"Searches Per Week\",\"coordinates\":null,\"formatter\":{\"id\":\"56223\"},\"group\":null,\"major_label_policy\":{\"id\":\"56224\"},\"ticker\":{\"id\":\"56193\"}},\"id\":\"56192\",\"type\":\"LinearAxis\"},{\"attributes\":{\"margin\":[20,20,20,20],\"min_width\":250,\"options\":[\"2/5/2017\",\"2/12/2017\",\"2/19/2017\",\"2/26/2017\",\"3/5/2017\",\"3/12/2017\",\"3/19/2017\",\"3/26/2017\",\"4/2/2017\",\"4/9/2017\",\"4/16/2017\",\"4/23/2017\",\"4/30/2017\",\"5/7/2017\",\"5/14/2017\",\"5/21/2017\",\"5/28/2017\",\"6/4/2017\",\"6/11/2017\",\"6/18/2017\",\"6/25/2017\",\"7/2/2017\",\"7/9/2017\",\"7/16/2017\",\"7/23/2017\",\"7/30/2017\",\"8/6/2017\",\"8/13/2017\",\"8/20/2017\",\"8/27/2017\",\"9/3/2017\",\"9/10/2017\",\"9/17/2017\",\"9/24/2017\",\"10/1/2017\",\"10/8/2017\",\"10/15/2017\",\"10/22/2017\",\"10/29/2017\",\"11/5/2017\",\"11/12/2017\",\"11/19/2017\",\"11/26/2017\",\"12/3/2017\",\"12/10/2017\",\"12/17/2017\",\"12/24/2017\",\"12/31/2017\",\"1/7/2018\",\"1/14/2018\",\"1/21/2018\",\"1/28/2018\",\"2/4/2018\",\"2/11/2018\",\"2/18/2018\",\"2/25/2018\",\"3/4/2018\",\"3/11/2018\",\"3/18/2018\",\"3/25/2018\",\"4/1/2018\",\"4/8/2018\",\"4/15/2018\",\"4/22/2018\",\"4/29/2018\",\"5/6/2018\",\"5/13/2018\",\"5/20/2018\",\"5/27/2018\",\"6/3/2018\",\"6/10/2018\",\"6/17/2018\",\"6/24/2018\",\"7/1/2018\",\"7/8/2018\",\"7/15/2018\",\"7/22/2018\",\"7/29/2018\",\"8/5/2018\",\"8/12/2018\",\"8/19/2018\",\"8/26/2018\",\"9/2/2018\",\"9/9/2018\",\"9/16/2018\",\"9/23/2018\",\"9/30/2018\",\"10/7/2018\",\"10/14/2018\",\"10/21/2018\",\"10/28/2018\",\"11/4/2018\",\"11/11/2018\",\"11/18/2018\",\"11/25/2018\",\"12/2/2018\",\"12/9/2018\",\"12/16/2018\",\"12/23/2018\",\"12/30/2018\",\"1/6/2019\",\"1/13/2019\",\"1/20/2019\",\"1/27/2019\",\"2/3/2019\",\"2/10/2019\",\"2/17/2019\",\"2/24/2019\",\"3/3/2019\",\"3/10/2019\",\"3/17/2019\",\"3/24/2019\",\"3/31/2019\",\"4/7/2019\",\"4/14/2019\",\"4/21/2019\",\"4/28/2019\",\"5/5/2019\",\"5/12/2019\",\"5/19/2019\",\"5/26/2019\",\"6/2/2019\",\"6/9/2019\",\"6/16/2019\",\"6/23/2019\",\"6/30/2019\",\"7/7/2019\",\"7/14/2019\",\"7/21/2019\",\"7/28/2019\",\"8/4/2019\",\"8/11/2019\",\"8/18/2019\",\"8/25/2019\",\"9/1/2019\",\"9/8/2019\",\"9/15/2019\",\"9/22/2019\",\"9/29/2019\",\"10/6/2019\",\"10/13/2019\",\"10/20/2019\",\"10/27/2019\",\"11/3/2019\",\"11/10/2019\",\"11/17/2019\",\"11/24/2019\",\"12/1/2019\",\"12/8/2019\",\"12/15/2019\",\"12/22/2019\",\"12/29/2019\",\"1/5/2020\",\"1/12/2020\",\"1/19/2020\",\"1/26/2020\",\"2/2/2020\",\"2/9/2020\",\"2/16/2020\",\"2/23/2020\",\"3/1/2020\",\"3/8/2020\",\"3/15/2020\",\"3/22/2020\",\"3/29/2020\",\"4/5/2020\",\"4/12/2020\",\"4/19/2020\",\"4/26/2020\",\"5/3/2020\",\"5/10/2020\",\"5/17/2020\",\"5/24/2020\",\"5/31/2020\",\"6/7/2020\",\"6/14/2020\",\"6/21/2020\",\"6/28/2020\",\"7/5/2020\",\"7/12/2020\",\"7/19/2020\",\"7/26/2020\",\"8/2/2020\",\"8/9/2020\",\"8/16/2020\",\"8/23/2020\",\"8/30/2020\",\"9/6/2020\",\"9/13/2020\",\"9/20/2020\",\"9/27/2020\",\"10/4/2020\",\"10/11/2020\",\"10/18/2020\",\"10/25/2020\",\"11/1/2020\",\"11/8/2020\",\"11/15/2020\",\"11/22/2020\",\"11/29/2020\",\"12/6/2020\",\"12/13/2020\",\"12/20/2020\",\"12/27/2020\",\"1/3/2021\",\"1/10/2021\",\"1/17/2021\",\"1/24/2021\",\"1/31/2021\",\"2/7/2021\",\"2/14/2021\",\"2/21/2021\",\"2/28/2021\",\"3/7/2021\",\"3/14/2021\",\"3/21/2021\",\"3/28/2021\",\"4/4/2021\",\"4/11/2021\",\"4/18/2021\",\"4/25/2021\",\"5/2/2021\",\"5/9/2021\",\"5/16/2021\",\"5/23/2021\",\"5/30/2021\",\"6/6/2021\",\"6/13/2021\",\"6/20/2021\",\"6/27/2021\",\"7/4/2021\",\"7/11/2021\",\"7/18/2021\",\"7/25/2021\",\"8/1/2021\",\"8/8/2021\",\"8/15/2021\",\"8/22/2021\",\"8/29/2021\",\"9/5/2021\",\"9/12/2021\",\"9/19/2021\",\"9/26/2021\",\"10/3/2021\",\"10/10/2021\",\"10/17/2021\",\"10/24/2021\",\"10/31/2021\",\"11/7/2021\",\"11/14/2021\",\"11/21/2021\",\"11/28/2021\",\"12/5/2021\",\"12/12/2021\",\"12/19/2021\",\"12/26/2021\",\"1/2/2022\",\"1/9/2022\",\"1/16/2022\",\"1/23/2022\"],\"title\":\"Week\",\"value\":\"2/5/2017\",\"width\":250},\"id\":\"56253\",\"type\":\"Select\"},{\"attributes\":{},\"id\":\"56238\",\"type\":\"UnionRenderers\"},{\"attributes\":{\"bottom\":{\"value\":0},\"fill_alpha\":{\"value\":1.0},\"fill_color\":{\"field\":\"Variable\",\"transform\":{\"id\":\"56209\"}},\"hatch_alpha\":{\"value\":1.0},\"hatch_color\":{\"field\":\"Variable\",\"transform\":{\"id\":\"56209\"}},\"hatch_scale\":{\"value\":12.0},\"hatch_weight\":{\"value\":1.0},\"line_alpha\":{\"value\":1.0},\"line_cap\":{\"value\":\"butt\"},\"line_color\":{\"value\":\"black\"},\"line_dash\":{\"value\":[]},\"line_dash_offset\":{\"value\":0},\"line_join\":{\"value\":\"bevel\"},\"line_width\":{\"value\":1},\"top\":{\"field\":\"value\"},\"width\":{\"value\":0.8},\"x\":{\"field\":\"xoffsets\"}},\"id\":\"56218\",\"type\":\"VBar\"},{\"attributes\":{\"axis\":{\"id\":\"56192\"},\"coordinates\":null,\"dimension\":1,\"grid_line_color\":null,\"group\":null,\"ticker\":null},\"id\":\"56195\",\"type\":\"Grid\"},{\"attributes\":{\"callback\":null,\"renderers\":[{\"id\":\"56216\"}],\"tags\":[\"hv_created\"],\"tooltips\":[[\"index\",\"@{index}\"],[\"Variable\",\"@{Variable}\"],[\"value\",\"@{value}\"]]},\"id\":\"56179\",\"type\":\"HoverTool\"},{\"attributes\":{\"children\":[{\"id\":\"56252\"},{\"id\":\"56254\"}],\"margin\":[0,0,0,0],\"name\":\"Column126280\"},\"id\":\"56251\",\"type\":\"Column\"},{\"attributes\":{},\"id\":\"56220\",\"type\":\"CategoricalTickFormatter\"},{\"attributes\":{\"bottom_units\":\"screen\",\"coordinates\":null,\"fill_alpha\":0.5,\"fill_color\":\"lightgrey\",\"group\":null,\"left_units\":\"screen\",\"level\":\"overlay\",\"line_alpha\":1.0,\"line_color\":\"black\",\"line_dash\":[4,4],\"line_width\":2,\"right_units\":\"screen\",\"syncable\":false,\"top_units\":\"screen\"},\"id\":\"56201\",\"type\":\"BoxAnnotation\"},{\"attributes\":{\"fill_alpha\":{\"value\":0.1},\"fill_color\":{\"field\":\"Variable\",\"transform\":{\"id\":\"56209\"}},\"hatch_alpha\":{\"value\":0.1},\"hatch_color\":{\"field\":\"Variable\",\"transform\":{\"id\":\"56209\"}},\"line_alpha\":{\"value\":0.1},\"top\":{\"field\":\"value\"},\"width\":{\"value\":0.8},\"x\":{\"field\":\"xoffsets\"}},\"id\":\"56214\",\"type\":\"VBar\"},{\"attributes\":{},\"id\":\"56196\",\"type\":\"SaveTool\"},{\"attributes\":{\"source\":{\"id\":\"56210\"}},\"id\":\"56217\",\"type\":\"CDSView\"},{\"attributes\":{},\"id\":\"56197\",\"type\":\"PanTool\"},{\"attributes\":{\"below\":[{\"id\":\"56189\"}],\"center\":[{\"id\":\"56191\"},{\"id\":\"56195\"}],\"height\":500,\"left\":[{\"id\":\"56192\"}],\"margin\":[5,5,5,5],\"min_border_bottom\":10,\"min_border_left\":10,\"min_border_right\":10,\"min_border_top\":10,\"renderers\":[{\"id\":\"56216\"}],\"sizing_mode\":\"fixed\",\"title\":{\"id\":\"56181\"},\"toolbar\":{\"id\":\"56202\"},\"width\":200,\"x_range\":{\"id\":\"56177\"},\"x_scale\":{\"id\":\"56185\"},\"y_range\":{\"id\":\"56178\"},\"y_scale\":{\"id\":\"56187\"}},\"id\":\"56180\",\"subtype\":\"Figure\",\"type\":\"Plot\"},{\"attributes\":{},\"id\":\"56200\",\"type\":\"ResetTool\"},{\"attributes\":{},\"id\":\"56198\",\"type\":\"WheelZoomTool\"},{\"attributes\":{\"fill_color\":{\"field\":\"Variable\",\"transform\":{\"id\":\"56209\"}},\"hatch_color\":{\"field\":\"Variable\",\"transform\":{\"id\":\"56209\"}},\"top\":{\"field\":\"value\"},\"width\":{\"value\":0.8},\"x\":{\"field\":\"xoffsets\"}},\"id\":\"56213\",\"type\":\"VBar\"},{\"attributes\":{\"overlay\":{\"id\":\"56201\"}},\"id\":\"56199\",\"type\":\"BoxZoomTool\"}],\"root_ids\":[\"56176\",\"56285\"]},\"title\":\"Bokeh Application\",\"version\":\"2.4.2\"}};\n",
       "    var render_items = [{\"docid\":\"7903dd41-e76e-4a64-8d18-9f66868b1793\",\"root_ids\":[\"56176\"],\"roots\":{\"56176\":\"e95c4412-1b3a-44fe-9a61-c397af76fe5c\"}}];\n",
       "    root.Bokeh.embed.embed_items_notebook(docs_json, render_items);\n",
       "  }\n",
       "  if (root.Bokeh !== undefined && root.Bokeh.Panel !== undefined && ( root['Plotly'] !== undefined)) {\n",
       "    embed_document(root);\n",
       "  } else {\n",
       "    var attempts = 0;\n",
       "    var timer = setInterval(function(root) {\n",
       "      if (root.Bokeh !== undefined && root.Bokeh.Panel !== undefined && (root['Plotly'] !== undefined)) {\n",
       "        clearInterval(timer);\n",
       "        embed_document(root);\n",
       "      } else if (document.readyState == \"complete\") {\n",
       "        attempts++;\n",
       "        if (attempts > 200) {\n",
       "          clearInterval(timer);\n",
       "          console.log(\"Bokeh: ERROR: Unable to run BokehJS code because BokehJS library is missing\");\n",
       "        }\n",
       "      }\n",
       "    }, 25, root)\n",
       "  }\n",
       "})(window);</script>"
      ],
      "text/plain": [
       "Row\n",
       "    [0] HoloViews(DynamicMap)\n",
       "    [1] Column\n",
       "        [0] WidgetBox\n",
       "            [0] Select(margin=(20, 20, 20, 20), name='Week', options=['2/5/2017', '2/12/2017', ...], value='2/5/2017', width=250)\n",
       "        [1] VSpacer()"
      ]
     },
     "execution_count": 408,
     "metadata": {
      "application/vnd.holoviews_exec.v0+json": {
       "id": "56176"
      }
     },
     "output_type": "execute_result"
    }
   ],
   "source": [
    "# Tampa region sushi\n",
    "tampa_sushi_data.hvplot.bar(\n",
    "    rot=45, \n",
    "    width=200,\n",
    "    height=500, \n",
    "    widget_location='right_top', \n",
    "    groupby='Week',\n",
    "    ylim=(0,80), \n",
    "    xlabel=\"Food/Dish\", ylabel=\"Searches Per Week\"\n",
    ")"
   ]
  },
  {
   "cell_type": "code",
   "execution_count": 409,
   "id": "5a312f74",
   "metadata": {},
   "outputs": [
    {
     "data": {},
     "metadata": {},
     "output_type": "display_data"
    },
    {
     "data": {},
     "metadata": {},
     "output_type": "display_data"
    },
    {
     "data": {
      "application/vnd.holoviews_exec.v0+json": "",
      "text/html": [
       "<div id='56336'>\n",
       "\n",
       "\n",
       "\n",
       "\n",
       "\n",
       "  <div class=\"bk-root\" id=\"dc4dc086-cd50-49d9-af51-4a628c0bca2e\" data-root-id=\"56336\"></div>\n",
       "</div>\n",
       "<script type=\"application/javascript\">(function(root) {\n",
       "  function embed_document(root) {\n",
       "    var docs_json = {\"34177fe2-076b-4602-a24f-a9f80ff5fb74\":{\"defs\":[{\"extends\":null,\"module\":null,\"name\":\"ReactiveHTML1\",\"overrides\":[],\"properties\":[]},{\"extends\":null,\"module\":null,\"name\":\"FlexBox1\",\"overrides\":[],\"properties\":[{\"default\":\"flex-start\",\"kind\":null,\"name\":\"align_content\"},{\"default\":\"flex-start\",\"kind\":null,\"name\":\"align_items\"},{\"default\":\"row\",\"kind\":null,\"name\":\"flex_direction\"},{\"default\":\"wrap\",\"kind\":null,\"name\":\"flex_wrap\"},{\"default\":\"flex-start\",\"kind\":null,\"name\":\"justify_content\"}]},{\"extends\":null,\"module\":null,\"name\":\"TemplateActions1\",\"overrides\":[],\"properties\":[{\"default\":0,\"kind\":null,\"name\":\"open_modal\"},{\"default\":0,\"kind\":null,\"name\":\"close_modal\"}]},{\"extends\":null,\"module\":null,\"name\":\"MaterialTemplateActions1\",\"overrides\":[],\"properties\":[{\"default\":0,\"kind\":null,\"name\":\"open_modal\"},{\"default\":0,\"kind\":null,\"name\":\"close_modal\"}]}],\"roots\":{\"references\":[{\"attributes\":{\"axis_label\":\"Searches Per Week\",\"coordinates\":null,\"formatter\":{\"id\":\"56383\"},\"group\":null,\"major_label_policy\":{\"id\":\"56384\"},\"ticker\":{\"id\":\"56353\"}},\"id\":\"56352\",\"type\":\"LinearAxis\"},{\"attributes\":{},\"id\":\"56371\",\"type\":\"Selection\"},{\"attributes\":{\"axis\":{\"id\":\"56352\"},\"coordinates\":null,\"dimension\":1,\"grid_line_color\":null,\"group\":null,\"ticker\":null},\"id\":\"56355\",\"type\":\"Grid\"},{\"attributes\":{\"fill_alpha\":{\"value\":0.1},\"fill_color\":{\"field\":\"Variable\",\"transform\":{\"id\":\"56369\"}},\"hatch_alpha\":{\"value\":0.1},\"hatch_color\":{\"field\":\"Variable\",\"transform\":{\"id\":\"56369\"}},\"line_alpha\":{\"value\":0.1},\"top\":{\"field\":\"value\"},\"width\":{\"value\":0.8},\"x\":{\"field\":\"xoffsets\"}},\"id\":\"56374\",\"type\":\"VBar\"},{\"attributes\":{},\"id\":\"56353\",\"type\":\"BasicTicker\"},{\"attributes\":{\"client_comm_id\":\"f6f613a11f0942fa815f3c6cdb96b08e\",\"comm_id\":\"fb43206597c543ab9365dfd072b39dfd\",\"plot_id\":\"56336\"},\"id\":\"56445\",\"type\":\"panel.models.comm_manager.CommManager\"},{\"attributes\":{\"fill_alpha\":{\"value\":0.2},\"fill_color\":{\"field\":\"Variable\",\"transform\":{\"id\":\"56369\"}},\"hatch_alpha\":{\"value\":0.2},\"hatch_color\":{\"field\":\"Variable\",\"transform\":{\"id\":\"56369\"}},\"line_alpha\":{\"value\":0.2},\"top\":{\"field\":\"value\"},\"width\":{\"value\":0.8},\"x\":{\"field\":\"xoffsets\"}},\"id\":\"56375\",\"type\":\"VBar\"},{\"attributes\":{},\"id\":\"56383\",\"type\":\"BasicTickFormatter\"},{\"attributes\":{},\"id\":\"56350\",\"type\":\"CategoricalTicker\"},{\"attributes\":{\"callback\":null,\"renderers\":[{\"id\":\"56376\"}],\"tags\":[\"hv_created\"],\"tooltips\":[[\"index\",\"@{index}\"],[\"Variable\",\"@{Variable}\"],[\"value\",\"@{value}\"]]},\"id\":\"56339\",\"type\":\"HoverTool\"},{\"attributes\":{},\"id\":\"56398\",\"type\":\"UnionRenderers\"},{\"attributes\":{},\"id\":\"56381\",\"type\":\"AllLabels\"},{\"attributes\":{\"below\":[{\"id\":\"56349\"}],\"center\":[{\"id\":\"56351\"},{\"id\":\"56355\"}],\"height\":500,\"left\":[{\"id\":\"56352\"}],\"margin\":[5,5,5,5],\"min_border_bottom\":10,\"min_border_left\":10,\"min_border_right\":10,\"min_border_top\":10,\"renderers\":[{\"id\":\"56376\"}],\"sizing_mode\":\"fixed\",\"title\":{\"id\":\"56341\"},\"toolbar\":{\"id\":\"56362\"},\"width\":200,\"x_range\":{\"id\":\"56337\"},\"x_scale\":{\"id\":\"56345\"},\"y_range\":{\"id\":\"56338\"},\"y_scale\":{\"id\":\"56347\"}},\"id\":\"56340\",\"subtype\":\"Figure\",\"type\":\"Plot\"},{\"attributes\":{},\"id\":\"56345\",\"type\":\"CategoricalScale\"},{\"attributes\":{\"tools\":[{\"id\":\"56339\"},{\"id\":\"56356\"},{\"id\":\"56357\"},{\"id\":\"56358\"},{\"id\":\"56359\"},{\"id\":\"56360\"}]},\"id\":\"56362\",\"type\":\"Toolbar\"},{\"attributes\":{\"fill_color\":{\"field\":\"Variable\",\"transform\":{\"id\":\"56369\"}},\"hatch_color\":{\"field\":\"Variable\",\"transform\":{\"id\":\"56369\"}},\"top\":{\"field\":\"value\"},\"width\":{\"value\":0.8},\"x\":{\"field\":\"xoffsets\"}},\"id\":\"56373\",\"type\":\"VBar\"},{\"attributes\":{\"factors\":[[\"0\",\"Aloo_Gobi\"],[\"0\",\"Salad\"]],\"tags\":[[[\"index\",\"index\",null],[\"Variable\",\"Variable\",null]]]},\"id\":\"56337\",\"type\":\"FactorRange\"},{\"attributes\":{\"bottom\":{\"value\":0},\"fill_alpha\":{\"value\":1.0},\"fill_color\":{\"field\":\"Variable\",\"transform\":{\"id\":\"56369\"}},\"hatch_alpha\":{\"value\":1.0},\"hatch_color\":{\"field\":\"Variable\",\"transform\":{\"id\":\"56369\"}},\"hatch_scale\":{\"value\":12.0},\"hatch_weight\":{\"value\":1.0},\"line_alpha\":{\"value\":1.0},\"line_cap\":{\"value\":\"butt\"},\"line_color\":{\"value\":\"black\"},\"line_dash\":{\"value\":[]},\"line_dash_offset\":{\"value\":0},\"line_join\":{\"value\":\"bevel\"},\"line_width\":{\"value\":1},\"top\":{\"field\":\"value\"},\"width\":{\"value\":0.8},\"x\":{\"field\":\"xoffsets\"}},\"id\":\"56378\",\"type\":\"VBar\"},{\"attributes\":{\"margin\":[20,20,20,20],\"min_width\":250,\"options\":[\"2/5/2017\",\"2/12/2017\",\"2/19/2017\",\"2/26/2017\",\"3/5/2017\",\"3/12/2017\",\"3/19/2017\",\"3/26/2017\",\"4/2/2017\",\"4/9/2017\",\"4/16/2017\",\"4/23/2017\",\"4/30/2017\",\"5/7/2017\",\"5/14/2017\",\"5/21/2017\",\"5/28/2017\",\"6/4/2017\",\"6/11/2017\",\"6/18/2017\",\"6/25/2017\",\"7/2/2017\",\"7/9/2017\",\"7/16/2017\",\"7/23/2017\",\"7/30/2017\",\"8/6/2017\",\"8/13/2017\",\"8/20/2017\",\"8/27/2017\",\"9/3/2017\",\"9/10/2017\",\"9/17/2017\",\"9/24/2017\",\"10/1/2017\",\"10/8/2017\",\"10/15/2017\",\"10/22/2017\",\"10/29/2017\",\"11/5/2017\",\"11/12/2017\",\"11/19/2017\",\"11/26/2017\",\"12/3/2017\",\"12/10/2017\",\"12/17/2017\",\"12/24/2017\",\"12/31/2017\",\"1/7/2018\",\"1/14/2018\",\"1/21/2018\",\"1/28/2018\",\"2/4/2018\",\"2/11/2018\",\"2/18/2018\",\"2/25/2018\",\"3/4/2018\",\"3/11/2018\",\"3/18/2018\",\"3/25/2018\",\"4/1/2018\",\"4/8/2018\",\"4/15/2018\",\"4/22/2018\",\"4/29/2018\",\"5/6/2018\",\"5/13/2018\",\"5/20/2018\",\"5/27/2018\",\"6/3/2018\",\"6/10/2018\",\"6/17/2018\",\"6/24/2018\",\"7/1/2018\",\"7/8/2018\",\"7/15/2018\",\"7/22/2018\",\"7/29/2018\",\"8/5/2018\",\"8/12/2018\",\"8/19/2018\",\"8/26/2018\",\"9/2/2018\",\"9/9/2018\",\"9/16/2018\",\"9/23/2018\",\"9/30/2018\",\"10/7/2018\",\"10/14/2018\",\"10/21/2018\",\"10/28/2018\",\"11/4/2018\",\"11/11/2018\",\"11/18/2018\",\"11/25/2018\",\"12/2/2018\",\"12/9/2018\",\"12/16/2018\",\"12/23/2018\",\"12/30/2018\",\"1/6/2019\",\"1/13/2019\",\"1/20/2019\",\"1/27/2019\",\"2/3/2019\",\"2/10/2019\",\"2/17/2019\",\"2/24/2019\",\"3/3/2019\",\"3/10/2019\",\"3/17/2019\",\"3/24/2019\",\"3/31/2019\",\"4/7/2019\",\"4/14/2019\",\"4/21/2019\",\"4/28/2019\",\"5/5/2019\",\"5/12/2019\",\"5/19/2019\",\"5/26/2019\",\"6/2/2019\",\"6/9/2019\",\"6/16/2019\",\"6/23/2019\",\"6/30/2019\",\"7/7/2019\",\"7/14/2019\",\"7/21/2019\",\"7/28/2019\",\"8/4/2019\",\"8/11/2019\",\"8/18/2019\",\"8/25/2019\",\"9/1/2019\",\"9/8/2019\",\"9/15/2019\",\"9/22/2019\",\"9/29/2019\",\"10/6/2019\",\"10/13/2019\",\"10/20/2019\",\"10/27/2019\",\"11/3/2019\",\"11/10/2019\",\"11/17/2019\",\"11/24/2019\",\"12/1/2019\",\"12/8/2019\",\"12/15/2019\",\"12/22/2019\",\"12/29/2019\",\"1/5/2020\",\"1/12/2020\",\"1/19/2020\",\"1/26/2020\",\"2/2/2020\",\"2/9/2020\",\"2/16/2020\",\"2/23/2020\",\"3/1/2020\",\"3/8/2020\",\"3/15/2020\",\"3/22/2020\",\"3/29/2020\",\"4/5/2020\",\"4/12/2020\",\"4/19/2020\",\"4/26/2020\",\"5/3/2020\",\"5/10/2020\",\"5/17/2020\",\"5/24/2020\",\"5/31/2020\",\"6/7/2020\",\"6/14/2020\",\"6/21/2020\",\"6/28/2020\",\"7/5/2020\",\"7/12/2020\",\"7/19/2020\",\"7/26/2020\",\"8/2/2020\",\"8/9/2020\",\"8/16/2020\",\"8/23/2020\",\"8/30/2020\",\"9/6/2020\",\"9/13/2020\",\"9/20/2020\",\"9/27/2020\",\"10/4/2020\",\"10/11/2020\",\"10/18/2020\",\"10/25/2020\",\"11/1/2020\",\"11/8/2020\",\"11/15/2020\",\"11/22/2020\",\"11/29/2020\",\"12/6/2020\",\"12/13/2020\",\"12/20/2020\",\"12/27/2020\",\"1/3/2021\",\"1/10/2021\",\"1/17/2021\",\"1/24/2021\",\"1/31/2021\",\"2/7/2021\",\"2/14/2021\",\"2/21/2021\",\"2/28/2021\",\"3/7/2021\",\"3/14/2021\",\"3/21/2021\",\"3/28/2021\",\"4/4/2021\",\"4/11/2021\",\"4/18/2021\",\"4/25/2021\",\"5/2/2021\",\"5/9/2021\",\"5/16/2021\",\"5/23/2021\",\"5/30/2021\",\"6/6/2021\",\"6/13/2021\",\"6/20/2021\",\"6/27/2021\",\"7/4/2021\",\"7/11/2021\",\"7/18/2021\",\"7/25/2021\",\"8/1/2021\",\"8/8/2021\",\"8/15/2021\",\"8/22/2021\",\"8/29/2021\",\"9/5/2021\",\"9/12/2021\",\"9/19/2021\",\"9/26/2021\",\"10/3/2021\",\"10/10/2021\",\"10/17/2021\",\"10/24/2021\",\"10/31/2021\",\"11/7/2021\",\"11/14/2021\",\"11/21/2021\",\"11/28/2021\",\"12/5/2021\",\"12/12/2021\",\"12/19/2021\",\"12/26/2021\",\"1/2/2022\",\"1/9/2022\",\"1/16/2022\",\"1/23/2022\"],\"title\":\"Week\",\"value\":\"2/5/2017\",\"width\":250},\"id\":\"56413\",\"type\":\"Select\"},{\"attributes\":{\"bottom_units\":\"screen\",\"coordinates\":null,\"fill_alpha\":0.5,\"fill_color\":\"lightgrey\",\"group\":null,\"left_units\":\"screen\",\"level\":\"overlay\",\"line_alpha\":1.0,\"line_color\":\"black\",\"line_dash\":[4,4],\"line_width\":2,\"right_units\":\"screen\",\"syncable\":false,\"top_units\":\"screen\"},\"id\":\"56361\",\"type\":\"BoxAnnotation\"},{\"attributes\":{\"children\":[{\"id\":\"56340\"},{\"id\":\"56411\"}],\"margin\":[0,0,0,0],\"name\":\"Row126549\"},\"id\":\"56336\",\"type\":\"Row\"},{\"attributes\":{},\"id\":\"56356\",\"type\":\"SaveTool\"},{\"attributes\":{},\"id\":\"56357\",\"type\":\"PanTool\"},{\"attributes\":{},\"id\":\"56360\",\"type\":\"ResetTool\"},{\"attributes\":{},\"id\":\"56358\",\"type\":\"WheelZoomTool\"},{\"attributes\":{\"axis_label\":\"Food/Dish\",\"coordinates\":null,\"formatter\":{\"id\":\"56380\"},\"group\":null,\"major_label_orientation\":0.7853981633974483,\"major_label_policy\":{\"id\":\"56381\"},\"ticker\":{\"id\":\"56350\"}},\"id\":\"56349\",\"type\":\"CategoricalAxis\"},{\"attributes\":{\"children\":[{\"id\":\"56413\"}],\"css_classes\":[\"panel-widget-box\"],\"margin\":[5,5,5,5],\"name\":\"WidgetBox126550\"},\"id\":\"56412\",\"type\":\"Column\"},{\"attributes\":{\"overlay\":{\"id\":\"56361\"}},\"id\":\"56359\",\"type\":\"BoxZoomTool\"},{\"attributes\":{\"source\":{\"id\":\"56370\"}},\"id\":\"56377\",\"type\":\"CDSView\"},{\"attributes\":{\"factors\":[\"Aloo_Gobi\",\"Salad\"],\"palette\":[\"#30a2da\",\"#fc4f30\"]},\"id\":\"56369\",\"type\":\"CategoricalColorMapper\"},{\"attributes\":{\"coordinates\":null,\"group\":null,\"text\":\"Week: 2/5/2017\",\"text_color\":\"black\",\"text_font_size\":\"12pt\"},\"id\":\"56341\",\"type\":\"Title\"},{\"attributes\":{},\"id\":\"56384\",\"type\":\"AllLabels\"},{\"attributes\":{\"axis\":{\"id\":\"56349\"},\"coordinates\":null,\"grid_line_color\":null,\"group\":null,\"ticker\":null},\"id\":\"56351\",\"type\":\"Grid\"},{\"attributes\":{\"data\":{\"Variable\":[\"Aloo_Gobi\",\"Salad\"],\"index\":[\"0\",\"0\"],\"value\":[15,59],\"xoffsets\":[[\"0\",\"Aloo_Gobi\"],[\"0\",\"Salad\"]]},\"selected\":{\"id\":\"56371\"},\"selection_policy\":{\"id\":\"56398\"}},\"id\":\"56370\",\"type\":\"ColumnDataSource\"},{\"attributes\":{\"end\":80,\"reset_end\":80,\"reset_start\":0,\"tags\":[[[\"value\",\"value\",null]]]},\"id\":\"56338\",\"type\":\"Range1d\"},{\"attributes\":{},\"id\":\"56380\",\"type\":\"CategoricalTickFormatter\"},{\"attributes\":{},\"id\":\"56347\",\"type\":\"LinearScale\"},{\"attributes\":{\"margin\":[5,5,5,5],\"name\":\"VSpacer126555\",\"sizing_mode\":\"stretch_height\"},\"id\":\"56414\",\"type\":\"Spacer\"},{\"attributes\":{\"coordinates\":null,\"data_source\":{\"id\":\"56370\"},\"glyph\":{\"id\":\"56373\"},\"group\":null,\"hover_glyph\":null,\"muted_glyph\":{\"id\":\"56375\"},\"nonselection_glyph\":{\"id\":\"56374\"},\"selection_glyph\":{\"id\":\"56378\"},\"view\":{\"id\":\"56377\"}},\"id\":\"56376\",\"type\":\"GlyphRenderer\"},{\"attributes\":{\"children\":[{\"id\":\"56412\"},{\"id\":\"56414\"}],\"margin\":[0,0,0,0],\"name\":\"Column126556\"},\"id\":\"56411\",\"type\":\"Column\"}],\"root_ids\":[\"56336\",\"56445\"]},\"title\":\"Bokeh Application\",\"version\":\"2.4.2\"}};\n",
       "    var render_items = [{\"docid\":\"34177fe2-076b-4602-a24f-a9f80ff5fb74\",\"root_ids\":[\"56336\"],\"roots\":{\"56336\":\"dc4dc086-cd50-49d9-af51-4a628c0bca2e\"}}];\n",
       "    root.Bokeh.embed.embed_items_notebook(docs_json, render_items);\n",
       "  }\n",
       "  if (root.Bokeh !== undefined && root.Bokeh.Panel !== undefined && ( root['Plotly'] !== undefined)) {\n",
       "    embed_document(root);\n",
       "  } else {\n",
       "    var attempts = 0;\n",
       "    var timer = setInterval(function(root) {\n",
       "      if (root.Bokeh !== undefined && root.Bokeh.Panel !== undefined && (root['Plotly'] !== undefined)) {\n",
       "        clearInterval(timer);\n",
       "        embed_document(root);\n",
       "      } else if (document.readyState == \"complete\") {\n",
       "        attempts++;\n",
       "        if (attempts > 200) {\n",
       "          clearInterval(timer);\n",
       "          console.log(\"Bokeh: ERROR: Unable to run BokehJS code because BokehJS library is missing\");\n",
       "        }\n",
       "      }\n",
       "    }, 25, root)\n",
       "  }\n",
       "})(window);</script>"
      ],
      "text/plain": [
       "Row\n",
       "    [0] HoloViews(DynamicMap)\n",
       "    [1] Column\n",
       "        [0] WidgetBox\n",
       "            [0] Select(margin=(20, 20, 20, 20), name='Week', options=['2/5/2017', '2/12/2017', ...], value='2/5/2017', width=250)\n",
       "        [1] VSpacer()"
      ]
     },
     "execution_count": 409,
     "metadata": {
      "application/vnd.holoviews_exec.v0+json": {
       "id": "56336"
      }
     },
     "output_type": "execute_result"
    }
   ],
   "source": [
    "# Tampa region vegetarian\n",
    "tampa_veggies_data.hvplot.bar(\n",
    "    rot=45, \n",
    "    width=200,\n",
    "    height=500, \n",
    "    widget_location='right_top', \n",
    "    groupby='Week',\n",
    "    ylim=(0,80), \n",
    "    xlabel=\"Food/Dish\", ylabel=\"Searches Per Week\"\n",
    ")"
   ]
  },
  {
   "cell_type": "code",
   "execution_count": 410,
   "id": "4d98a913",
   "metadata": {},
   "outputs": [
    {
     "name": "stderr",
     "output_type": "stream",
     "text": [
      "C:\\Users\\UNIVE\\anaconda3\\envs\\pyvizenv\\lib\\site-packages\\pandas\\core\\frame.py:9138: FutureWarning: Passing 'suffixes' which cause duplicate columns {'WeekWeek'} in the result is deprecated and will raise a MergeError in a future version.\n",
      "  sort=sort,\n"
     ]
    }
   ],
   "source": [
    "# Joined Tampa region\n",
    "tampa_region_one = tampa_pasta_data.join(tampa_pizza_data, on=None, how='left',lsuffix='Week', rsuffix='Week', sort=False)\n",
    "tampa_region_two = tampa_region_one.join(tampa_seafood_data, on=None, how='left', lsuffix='', rsuffix='Week', sort=False)\n",
    "tampa_region_three = tampa_region_two.join(tampa_sushi_data, on=None, how='left', lsuffix='Week', rsuffix='', sort=False)\n",
    "tampa_region_all = tampa_region_three.join(tampa_veggies_data, on=None, how='left', lsuffix='Week', rsuffix='', sort=False)\n",
    "tampa_region_all.sort_index(ascending=True)\n",
    "tampa_region_all = tampa_region_all.drop(columns=['WeekWeek'])\n",
    "tampa_region_all = tampa_region_all[\n",
    "    ['Week',\n",
    "    'Alfredo_Pasta',\n",
    "    'Spaghetti_Meatballs',\n",
    "    'Pepperoni_Pizza',\n",
    "    'Supreme_Pizza',\n",
    "    'Ceviche',\n",
    "    'Salmon',\n",
    "    'Spicy_Tuna_Roll',\n",
    "    'California_Roll',\n",
    "    'Aloo_Gobi',\n",
    "    'Salad']\n",
    "]                                          "
   ]
  },
  {
   "cell_type": "code",
   "execution_count": 412,
   "id": "e25074c7",
   "metadata": {},
   "outputs": [
    {
     "data": {},
     "metadata": {},
     "output_type": "display_data"
    },
    {
     "data": {
      "application/vnd.holoviews_exec.v0+json": "",
      "text/html": [
       "<div id='56663'>\n",
       "\n",
       "\n",
       "\n",
       "\n",
       "\n",
       "  <div class=\"bk-root\" id=\"4de2e51e-5674-4e36-bcaf-5fbfe8b5a9b9\" data-root-id=\"56663\"></div>\n",
       "</div>\n",
       "<script type=\"application/javascript\">(function(root) {\n",
       "  function embed_document(root) {\n",
       "    var docs_json = {\"b84a02c9-0c66-45f8-9936-24aec7703a83\":{\"defs\":[{\"extends\":null,\"module\":null,\"name\":\"ReactiveHTML1\",\"overrides\":[],\"properties\":[]},{\"extends\":null,\"module\":null,\"name\":\"FlexBox1\",\"overrides\":[],\"properties\":[{\"default\":\"flex-start\",\"kind\":null,\"name\":\"align_content\"},{\"default\":\"flex-start\",\"kind\":null,\"name\":\"align_items\"},{\"default\":\"row\",\"kind\":null,\"name\":\"flex_direction\"},{\"default\":\"wrap\",\"kind\":null,\"name\":\"flex_wrap\"},{\"default\":\"flex-start\",\"kind\":null,\"name\":\"justify_content\"}]},{\"extends\":null,\"module\":null,\"name\":\"TemplateActions1\",\"overrides\":[],\"properties\":[{\"default\":0,\"kind\":null,\"name\":\"open_modal\"},{\"default\":0,\"kind\":null,\"name\":\"close_modal\"}]},{\"extends\":null,\"module\":null,\"name\":\"MaterialTemplateActions1\",\"overrides\":[],\"properties\":[{\"default\":0,\"kind\":null,\"name\":\"open_modal\"},{\"default\":0,\"kind\":null,\"name\":\"close_modal\"}]}],\"roots\":{\"references\":[{\"attributes\":{\"margin\":[5,5,5,5],\"name\":\"HSpacer127355\",\"sizing_mode\":\"stretch_width\"},\"id\":\"56664\",\"type\":\"Spacer\"},{\"attributes\":{\"children\":[{\"id\":\"56745\"},{\"id\":\"56746\"},{\"id\":\"56748\"}],\"margin\":[0,0,0,0],\"name\":\"Column127354\"},\"id\":\"56744\",\"type\":\"Column\"},{\"attributes\":{\"axis\":{\"id\":\"56680\"},\"coordinates\":null,\"dimension\":1,\"group\":null,\"ticker\":{\"id\":\"56681\"}},\"id\":\"56683\",\"type\":\"Grid\"},{\"attributes\":{},\"id\":\"56709\",\"type\":\"AllLabels\"},{\"attributes\":{\"children\":[{\"id\":\"56747\"}],\"css_classes\":[\"panel-widget-box\"],\"margin\":[5,5,5,5],\"name\":\"WidgetBox127347\"},\"id\":\"56746\",\"type\":\"Column\"},{\"attributes\":{},\"id\":\"56730\",\"type\":\"UnionRenderers\"},{\"attributes\":{\"bottom\":{\"value\":0},\"fill_alpha\":{\"value\":1.0},\"fill_color\":{\"field\":\"Variable\",\"transform\":{\"id\":\"56697\"}},\"hatch_alpha\":{\"value\":1.0},\"hatch_color\":{\"field\":\"Variable\",\"transform\":{\"id\":\"56697\"}},\"hatch_scale\":{\"value\":12.0},\"hatch_weight\":{\"value\":1.0},\"line_alpha\":{\"value\":1.0},\"line_cap\":{\"value\":\"butt\"},\"line_color\":{\"value\":\"black\"},\"line_dash\":{\"value\":[]},\"line_dash_offset\":{\"value\":0},\"line_join\":{\"value\":\"bevel\"},\"line_width\":{\"value\":1},\"top\":{\"field\":\"value\"},\"width\":{\"value\":0.8},\"x\":{\"field\":\"xoffsets\"}},\"id\":\"56706\",\"type\":\"VBar\"},{\"attributes\":{},\"id\":\"56711\",\"type\":\"BasicTickFormatter\"},{\"attributes\":{\"fill_alpha\":{\"value\":0.1},\"fill_color\":{\"field\":\"Variable\",\"transform\":{\"id\":\"56697\"}},\"hatch_alpha\":{\"value\":0.1},\"hatch_color\":{\"field\":\"Variable\",\"transform\":{\"id\":\"56697\"}},\"line_alpha\":{\"value\":0.1},\"top\":{\"field\":\"value\"},\"width\":{\"value\":0.8},\"x\":{\"field\":\"xoffsets\"}},\"id\":\"56702\",\"type\":\"VBar\"},{\"attributes\":{\"factors\":[\"Alfredo_Pasta\",\"Spaghetti_Meatballs\",\"Pepperoni_Pizza\",\"Supreme_Pizza\",\"Ceviche\",\"Salmon\",\"Spicy_Tuna_Roll\",\"California_Roll\",\"Aloo_Gobi\",\"Salad\"],\"palette\":[\"#30a2da\",\"#fc4f30\",\"#e5ae38\",\"#6d904f\",\"#8b8b8b\",\"#17becf\",\"#9467bd\",\"#d62728\",\"#1f77b4\",\"#e377c2\"]},\"id\":\"56697\",\"type\":\"CategoricalColorMapper\"},{\"attributes\":{\"data\":{\"Variable\":[\"Alfredo_Pasta\",\"Spaghetti_Meatballs\",\"Pepperoni_Pizza\",\"Supreme_Pizza\",\"Ceviche\",\"Salmon\",\"Spicy_Tuna_Roll\",\"California_Roll\",\"Aloo_Gobi\",\"Salad\"],\"Week\":[\"2/5/2017\",\"2/5/2017\",\"2/5/2017\",\"2/5/2017\",\"2/5/2017\",\"2/5/2017\",\"2/5/2017\",\"2/5/2017\",\"2/5/2017\",\"2/5/2017\"],\"value\":[15,30,33,15,15,52,15,15,15,59],\"xoffsets\":[[\"2/5/2017\",\"Alfredo_Pasta\"],[\"2/5/2017\",\"Spaghetti_Meatballs\"],[\"2/5/2017\",\"Pepperoni_Pizza\"],[\"2/5/2017\",\"Supreme_Pizza\"],[\"2/5/2017\",\"Ceviche\"],[\"2/5/2017\",\"Salmon\"],[\"2/5/2017\",\"Spicy_Tuna_Roll\"],[\"2/5/2017\",\"California_Roll\"],[\"2/5/2017\",\"Aloo_Gobi\"],[\"2/5/2017\",\"Salad\"]]},\"selected\":{\"id\":\"56699\"},\"selection_policy\":{\"id\":\"56730\"}},\"id\":\"56698\",\"type\":\"ColumnDataSource\"},{\"attributes\":{},\"id\":\"56684\",\"type\":\"SaveTool\"},{\"attributes\":{\"children\":[{\"id\":\"56664\"},{\"id\":\"56668\"},{\"id\":\"56743\"},{\"id\":\"56744\"}],\"margin\":[0,0,0,0],\"name\":\"Row127346\"},\"id\":\"56663\",\"type\":\"Row\"},{\"attributes\":{},\"id\":\"56685\",\"type\":\"PanTool\"},{\"attributes\":{},\"id\":\"56688\",\"type\":\"ResetTool\"},{\"attributes\":{},\"id\":\"56712\",\"type\":\"AllLabels\"},{\"attributes\":{},\"id\":\"56686\",\"type\":\"WheelZoomTool\"},{\"attributes\":{\"margin\":[20,20,20,20],\"min_width\":250,\"options\":[\"2/5/2017\",\"2/12/2017\",\"2/19/2017\",\"2/26/2017\",\"3/5/2017\",\"3/12/2017\",\"3/19/2017\",\"3/26/2017\",\"4/2/2017\",\"4/9/2017\",\"4/16/2017\",\"4/23/2017\",\"4/30/2017\",\"5/7/2017\",\"5/14/2017\",\"5/21/2017\",\"5/28/2017\",\"6/4/2017\",\"6/11/2017\",\"6/18/2017\",\"6/25/2017\",\"7/2/2017\",\"7/9/2017\",\"7/16/2017\",\"7/23/2017\",\"7/30/2017\",\"8/6/2017\",\"8/13/2017\",\"8/20/2017\",\"8/27/2017\",\"9/3/2017\",\"9/10/2017\",\"9/17/2017\",\"9/24/2017\",\"10/1/2017\",\"10/8/2017\",\"10/15/2017\",\"10/22/2017\",\"10/29/2017\",\"11/5/2017\",\"11/12/2017\",\"11/19/2017\",\"11/26/2017\",\"12/3/2017\",\"12/10/2017\",\"12/17/2017\",\"12/24/2017\",\"12/31/2017\",\"1/7/2018\",\"1/14/2018\",\"1/21/2018\",\"1/28/2018\",\"2/4/2018\",\"2/11/2018\",\"2/18/2018\",\"2/25/2018\",\"3/4/2018\",\"3/11/2018\",\"3/18/2018\",\"3/25/2018\",\"4/1/2018\",\"4/8/2018\",\"4/15/2018\",\"4/22/2018\",\"4/29/2018\",\"5/6/2018\",\"5/13/2018\",\"5/20/2018\",\"5/27/2018\",\"6/3/2018\",\"6/10/2018\",\"6/17/2018\",\"6/24/2018\",\"7/1/2018\",\"7/8/2018\",\"7/15/2018\",\"7/22/2018\",\"7/29/2018\",\"8/5/2018\",\"8/12/2018\",\"8/19/2018\",\"8/26/2018\",\"9/2/2018\",\"9/9/2018\",\"9/16/2018\",\"9/23/2018\",\"9/30/2018\",\"10/7/2018\",\"10/14/2018\",\"10/21/2018\",\"10/28/2018\",\"11/4/2018\",\"11/11/2018\",\"11/18/2018\",\"11/25/2018\",\"12/2/2018\",\"12/9/2018\",\"12/16/2018\",\"12/23/2018\",\"12/30/2018\",\"1/6/2019\",\"1/13/2019\",\"1/20/2019\",\"1/27/2019\",\"2/3/2019\",\"2/10/2019\",\"2/17/2019\",\"2/24/2019\",\"3/3/2019\",\"3/10/2019\",\"3/17/2019\",\"3/24/2019\",\"3/31/2019\",\"4/7/2019\",\"4/14/2019\",\"4/21/2019\",\"4/28/2019\",\"5/5/2019\",\"5/12/2019\",\"5/19/2019\",\"5/26/2019\",\"6/2/2019\",\"6/9/2019\",\"6/16/2019\",\"6/23/2019\",\"6/30/2019\",\"7/7/2019\",\"7/14/2019\",\"7/21/2019\",\"7/28/2019\",\"8/4/2019\",\"8/11/2019\",\"8/18/2019\",\"8/25/2019\",\"9/1/2019\",\"9/8/2019\",\"9/15/2019\",\"9/22/2019\",\"9/29/2019\",\"10/6/2019\",\"10/13/2019\",\"10/20/2019\",\"10/27/2019\",\"11/3/2019\",\"11/10/2019\",\"11/17/2019\",\"11/24/2019\",\"12/1/2019\",\"12/8/2019\",\"12/15/2019\",\"12/22/2019\",\"12/29/2019\",\"1/5/2020\",\"1/12/2020\",\"1/19/2020\",\"1/26/2020\",\"2/2/2020\",\"2/9/2020\",\"2/16/2020\",\"2/23/2020\",\"3/1/2020\",\"3/8/2020\",\"3/15/2020\",\"3/22/2020\",\"3/29/2020\",\"4/5/2020\",\"4/12/2020\",\"4/19/2020\",\"4/26/2020\",\"5/3/2020\",\"5/10/2020\",\"5/17/2020\",\"5/24/2020\",\"5/31/2020\",\"6/7/2020\",\"6/14/2020\",\"6/21/2020\",\"6/28/2020\",\"7/5/2020\",\"7/12/2020\",\"7/19/2020\",\"7/26/2020\",\"8/2/2020\",\"8/9/2020\",\"8/16/2020\",\"8/23/2020\",\"8/30/2020\",\"9/6/2020\",\"9/13/2020\",\"9/20/2020\",\"9/27/2020\",\"10/4/2020\",\"10/11/2020\",\"10/18/2020\",\"10/25/2020\",\"11/1/2020\",\"11/8/2020\",\"11/15/2020\",\"11/22/2020\",\"11/29/2020\",\"12/6/2020\",\"12/13/2020\",\"12/20/2020\",\"12/27/2020\",\"1/3/2021\",\"1/10/2021\",\"1/17/2021\",\"1/24/2021\",\"1/31/2021\",\"2/7/2021\",\"2/14/2021\",\"2/21/2021\",\"2/28/2021\",\"3/7/2021\",\"3/14/2021\",\"3/21/2021\",\"3/28/2021\",\"4/4/2021\",\"4/11/2021\",\"4/18/2021\",\"4/25/2021\",\"5/2/2021\",\"5/9/2021\",\"5/16/2021\",\"5/23/2021\",\"5/30/2021\",\"6/6/2021\",\"6/13/2021\",\"6/20/2021\",\"6/27/2021\",\"7/4/2021\",\"7/11/2021\",\"7/18/2021\",\"7/25/2021\",\"8/1/2021\",\"8/8/2021\",\"8/15/2021\",\"8/22/2021\",\"8/29/2021\",\"9/5/2021\",\"9/12/2021\",\"9/19/2021\",\"9/26/2021\",\"10/3/2021\",\"10/10/2021\",\"10/17/2021\",\"10/24/2021\",\"10/31/2021\",\"11/7/2021\",\"11/14/2021\",\"11/21/2021\",\"11/28/2021\",\"12/5/2021\",\"12/12/2021\",\"12/19/2021\",\"12/26/2021\",\"1/2/2022\",\"1/9/2022\",\"1/16/2022\",\"1/23/2022\"],\"title\":\"Week\",\"value\":\"2/5/2017\",\"width\":250},\"id\":\"56747\",\"type\":\"Select\"},{\"attributes\":{\"overlay\":{\"id\":\"56689\"}},\"id\":\"56687\",\"type\":\"BoxZoomTool\"},{\"attributes\":{\"client_comm_id\":\"16ce8dfe444d411bbc8eebd3b6d8eb57\",\"comm_id\":\"3e85d77ecd6244f7889077ac0d9c300d\",\"plot_id\":\"56663\"},\"id\":\"56779\",\"type\":\"panel.models.comm_manager.CommManager\"},{\"attributes\":{\"fill_color\":{\"field\":\"Variable\",\"transform\":{\"id\":\"56697\"}},\"hatch_color\":{\"field\":\"Variable\",\"transform\":{\"id\":\"56697\"}},\"top\":{\"field\":\"value\"},\"width\":{\"value\":0.8},\"x\":{\"field\":\"xoffsets\"}},\"id\":\"56701\",\"type\":\"VBar\"},{\"attributes\":{\"coordinates\":null,\"group\":null,\"text\":\"All food/dishes Tampa Region Searches Per Week\",\"text_color\":\"black\",\"text_font_size\":\"12pt\"},\"id\":\"56669\",\"type\":\"Title\"},{\"attributes\":{\"factors\":[[\"2/5/2017\",\"Salad\"],[\"2/5/2017\",\"Aloo_Gobi\"],[\"2/5/2017\",\"California_Roll\"],[\"2/5/2017\",\"Spicy_Tuna_Roll\"],[\"2/5/2017\",\"Salmon\"],[\"2/5/2017\",\"Ceviche\"],[\"2/5/2017\",\"Supreme_Pizza\"],[\"2/5/2017\",\"Pepperoni_Pizza\"],[\"2/5/2017\",\"Spaghetti_Meatballs\"],[\"2/5/2017\",\"Alfredo_Pasta\"]],\"tags\":[[[\"Week\",\"Week\",null],[\"Variable\",\"Variable\",null]]]},\"id\":\"56665\",\"type\":\"FactorRange\"},{\"attributes\":{\"axis_label\":\"Week, Variable\",\"coordinates\":null,\"formatter\":{\"id\":\"56708\"},\"group\":null,\"major_label_orientation\":0.7853981633974483,\"major_label_policy\":{\"id\":\"56709\"},\"ticker\":{\"id\":\"56678\"}},\"id\":\"56677\",\"type\":\"CategoricalAxis\"},{\"attributes\":{},\"id\":\"56673\",\"type\":\"CategoricalScale\"},{\"attributes\":{\"tools\":[{\"id\":\"56667\"},{\"id\":\"56684\"},{\"id\":\"56685\"},{\"id\":\"56686\"},{\"id\":\"56687\"},{\"id\":\"56688\"}]},\"id\":\"56690\",\"type\":\"Toolbar\"},{\"attributes\":{\"fill_alpha\":{\"value\":0.2},\"fill_color\":{\"field\":\"Variable\",\"transform\":{\"id\":\"56697\"}},\"hatch_alpha\":{\"value\":0.2},\"hatch_color\":{\"field\":\"Variable\",\"transform\":{\"id\":\"56697\"}},\"line_alpha\":{\"value\":0.2},\"top\":{\"field\":\"value\"},\"width\":{\"value\":0.8},\"x\":{\"field\":\"xoffsets\"}},\"id\":\"56703\",\"type\":\"VBar\"},{\"attributes\":{\"axis\":{\"id\":\"56677\"},\"coordinates\":null,\"group\":null,\"ticker\":{\"id\":\"56678\"}},\"id\":\"56679\",\"type\":\"Grid\"},{\"attributes\":{\"coordinates\":null,\"data_source\":{\"id\":\"56698\"},\"glyph\":{\"id\":\"56701\"},\"group\":null,\"hover_glyph\":null,\"muted_glyph\":{\"id\":\"56703\"},\"nonselection_glyph\":{\"id\":\"56702\"},\"selection_glyph\":{\"id\":\"56706\"},\"view\":{\"id\":\"56705\"}},\"id\":\"56704\",\"type\":\"GlyphRenderer\"},{\"attributes\":{\"bottom_units\":\"screen\",\"coordinates\":null,\"fill_alpha\":0.5,\"fill_color\":\"lightgrey\",\"group\":null,\"left_units\":\"screen\",\"level\":\"overlay\",\"line_alpha\":1.0,\"line_color\":\"black\",\"line_dash\":[4,4],\"line_width\":2,\"right_units\":\"screen\",\"syncable\":false,\"top_units\":\"screen\"},\"id\":\"56689\",\"type\":\"BoxAnnotation\"},{\"attributes\":{\"margin\":[5,5,5,5],\"name\":\"HSpacer127356\",\"sizing_mode\":\"stretch_width\"},\"id\":\"56743\",\"type\":\"Spacer\"},{\"attributes\":{},\"id\":\"56675\",\"type\":\"LinearScale\"},{\"attributes\":{},\"id\":\"56708\",\"type\":\"CategoricalTickFormatter\"},{\"attributes\":{\"below\":[{\"id\":\"56677\"}],\"center\":[{\"id\":\"56679\"},{\"id\":\"56683\"}],\"height\":800,\"left\":[{\"id\":\"56680\"}],\"margin\":[5,5,5,5],\"min_border_bottom\":10,\"min_border_left\":10,\"min_border_right\":10,\"min_border_top\":10,\"renderers\":[{\"id\":\"56704\"}],\"sizing_mode\":\"fixed\",\"title\":{\"id\":\"56669\"},\"toolbar\":{\"id\":\"56690\"},\"width\":700,\"x_range\":{\"id\":\"56665\"},\"x_scale\":{\"id\":\"56673\"},\"y_range\":{\"id\":\"56666\"},\"y_scale\":{\"id\":\"56675\"}},\"id\":\"56668\",\"subtype\":\"Figure\",\"type\":\"Plot\"},{\"attributes\":{\"source\":{\"id\":\"56698\"}},\"id\":\"56705\",\"type\":\"CDSView\"},{\"attributes\":{},\"id\":\"56681\",\"type\":\"BasicTicker\"},{\"attributes\":{},\"id\":\"56678\",\"type\":\"CategoricalTicker\"},{\"attributes\":{\"callback\":null,\"renderers\":[{\"id\":\"56704\"}],\"tags\":[\"hv_created\"],\"tooltips\":[[\"Week\",\"@{Week}\"],[\"Variable\",\"@{Variable}\"],[\"value\",\"@{value}\"]]},\"id\":\"56667\",\"type\":\"HoverTool\"},{\"attributes\":{\"axis_label\":\"Searches Per Week\",\"coordinates\":null,\"formatter\":{\"id\":\"56711\"},\"group\":null,\"major_label_policy\":{\"id\":\"56712\"},\"ticker\":{\"id\":\"56681\"}},\"id\":\"56680\",\"type\":\"LinearAxis\"},{\"attributes\":{\"margin\":[5,5,5,5],\"name\":\"VSpacer127353\",\"sizing_mode\":\"stretch_height\"},\"id\":\"56748\",\"type\":\"Spacer\"},{\"attributes\":{},\"id\":\"56699\",\"type\":\"Selection\"},{\"attributes\":{\"end\":80,\"reset_end\":80,\"reset_start\":0,\"tags\":[[[\"value\",\"value\",null]]]},\"id\":\"56666\",\"type\":\"Range1d\"},{\"attributes\":{\"margin\":[5,5,5,5],\"name\":\"VSpacer127352\",\"sizing_mode\":\"stretch_height\"},\"id\":\"56745\",\"type\":\"Spacer\"}],\"root_ids\":[\"56663\",\"56779\"]},\"title\":\"Bokeh Application\",\"version\":\"2.4.2\"}};\n",
       "    var render_items = [{\"docid\":\"b84a02c9-0c66-45f8-9936-24aec7703a83\",\"root_ids\":[\"56663\"],\"roots\":{\"56663\":\"4de2e51e-5674-4e36-bcaf-5fbfe8b5a9b9\"}}];\n",
       "    root.Bokeh.embed.embed_items_notebook(docs_json, render_items);\n",
       "  }\n",
       "  if (root.Bokeh !== undefined && root.Bokeh.Panel !== undefined && ( root['Plotly'] !== undefined)) {\n",
       "    embed_document(root);\n",
       "  } else {\n",
       "    var attempts = 0;\n",
       "    var timer = setInterval(function(root) {\n",
       "      if (root.Bokeh !== undefined && root.Bokeh.Panel !== undefined && (root['Plotly'] !== undefined)) {\n",
       "        clearInterval(timer);\n",
       "        embed_document(root);\n",
       "      } else if (document.readyState == \"complete\") {\n",
       "        attempts++;\n",
       "        if (attempts > 200) {\n",
       "          clearInterval(timer);\n",
       "          console.log(\"Bokeh: ERROR: Unable to run BokehJS code because BokehJS library is missing\");\n",
       "        }\n",
       "      }\n",
       "    }, 25, root)\n",
       "  }\n",
       "})(window);</script>"
      ],
      "text/plain": [
       ":DynamicMap   [Week]\n",
       "   :Bars   [Week,Variable]   (value)"
      ]
     },
     "execution_count": 412,
     "metadata": {
      "application/vnd.holoviews_exec.v0+json": {
       "id": "56663"
      }
     },
     "output_type": "execute_result"
    }
   ],
   "source": [
    "# All Tampa region searches per Week interactive plot with a widget grouped by Week\n",
    "tampa_region_all.hvplot.bar(\n",
    "    width=700,\n",
    "    height=800,\n",
    "    groupby=\"Week\",\n",
    "    x=\"Week\",\n",
    "    ylabel=\"Searches Per Week\", \n",
    "    grid=True, \n",
    "    rot=45,\n",
    "    ylim=(0,80), \n",
    "    title=\"All food/dishes Tampa Region Searches Per Week\", \n",
    ")"
   ]
  },
  {
   "cell_type": "code",
   "execution_count": null,
   "id": "b33592de",
   "metadata": {},
   "outputs": [],
   "source": []
  }
 ],
 "metadata": {
  "kernelspec": {
   "display_name": "Python [conda env:pyvizenv] *",
   "language": "python",
   "name": "conda-env-pyvizenv-py"
  },
  "language_info": {
   "codemirror_mode": {
    "name": "ipython",
    "version": 3
   },
   "file_extension": ".py",
   "mimetype": "text/x-python",
   "name": "python",
   "nbconvert_exporter": "python",
   "pygments_lexer": "ipython3",
   "version": "3.7.11"
  }
 },
 "nbformat": 4,
 "nbformat_minor": 5
}
